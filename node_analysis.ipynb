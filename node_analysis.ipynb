{
 "cells": [
  {
   "cell_type": "code",
   "execution_count": 1,
   "metadata": {},
   "outputs": [],
   "source": [
    "from langchain_community.graphs import Neo4jGraph\n",
    "neo4j_graph = Neo4jGraph(url=\"bolt://localhost:8687\", username=\"neo4j\", password=\"quanghung2004\")"
   ]
  },
  {
   "cell_type": "code",
   "execution_count": 2,
   "metadata": {},
   "outputs": [],
   "source": [
    "from database.ChromaDB import ChromaDB\n",
    "from langchain_community.embeddings.sentence_transformer import (\n",
    "    SentenceTransformerEmbeddings,\n",
    ")"
   ]
  },
  {
   "cell_type": "code",
   "execution_count": 3,
   "metadata": {},
   "outputs": [],
   "source": [
    "model_name = 'BAAI/bge-small-en-v1.5'\n",
    "model = SentenceTransformerEmbeddings(model_name=model_name)\n",
    "directory = 'temp'\n",
    "\n",
    "db_cache_city = ChromaDB(data_path = f'{directory}/city.db', model=model)\n",
    "db_cache_role = ChromaDB(data_path = f'{directory}/role.db', model=model)\n",
    "db_cache_language = ChromaDB(data_path = f'{directory}/language.db', model=model)\n",
    "db_cache_institution = ChromaDB(data_path = f'{directory}/institution.db', model=model)\n",
    "db_cache_education = ChromaDB(data_path = f'{directory}/education.db', model=model)\n",
    "db_cache_major = ChromaDB(data_path = f'{directory}/major.db', model=model)\n",
    "db_cache_skills = ChromaDB(data_path = f'{directory}/skills.db', model=model)\n",
    "db_cache_programming = ChromaDB(data_path = f'{directory}/programming.db', model=model)"
   ]
  },
  {
   "cell_type": "code",
   "execution_count": 4,
   "metadata": {},
   "outputs": [],
   "source": [
    "class UnionFind:\n",
    "    def __init__(self, num_nodes):\n",
    "        self.parent = [i for i in range(num_nodes)]\n",
    "        self.rank = [0 for i in range(num_nodes)]\n",
    "    def find(self, x):\n",
    "        if self.parent[x] != x:\n",
    "            self.parent[x] = self.find(self.parent[x])\n",
    "        return self.parent[x]\n",
    "    def union(self, x, y):\n",
    "        root_x = self.find(x)\n",
    "        root_y = self.find(y)\n",
    "        if root_x != root_y:\n",
    "            if self.rank[root_x] > self.rank[root_y]:\n",
    "                self.parent[root_y] = root_x\n",
    "            else:\n",
    "                self.parent[root_x] = root_y\n",
    "                if self.rank[root_x] == self.rank[root_y]:\n",
    "                    self.rank[root_y] += 1\n",
    "    def add_node(self, x, y):\n",
    "        self.union(x, y)\n",
    "        \n",
    "    def get_clusters(self):\n",
    "        clusters = {}\n",
    "        for i in range(len(self.parent)):\n",
    "            root = self.find(i)\n",
    "            if root not in clusters:\n",
    "                clusters[root] = []\n",
    "            clusters[root].append(i)\n",
    "        return clusters\n",
    "        \n",
    "        "
   ]
  },
  {
   "cell_type": "code",
   "execution_count": 5,
   "metadata": {},
   "outputs": [],
   "source": [
    "cities = neo4j_graph.query(\n",
    "    \"\"\"\n",
    "    MATCH (c:City)\n",
    "    RETURN c.name as name\n",
    "    \"\"\"\n",
    ")\n",
    "cities = [city[\"name\"] for city in cities]"
   ]
  },
  {
   "cell_type": "code",
   "execution_count": 6,
   "metadata": {},
   "outputs": [
    {
     "data": {
      "text/plain": [
       "['ha noi',\n",
       " 'ho chi minh',\n",
       " 'can tho',\n",
       " 'richardson',\n",
       " 'da nang',\n",
       " 'bien hoa',\n",
       " 'quang ninh',\n",
       " 'charlotte',\n",
       " 'thu duc',\n",
       " 'viet nam',\n",
       " 'district 5',\n",
       " 'yên nghĩa']"
      ]
     },
     "execution_count": 6,
     "metadata": {},
     "output_type": "execute_result"
    }
   ],
   "source": [
    "cities"
   ]
  },
  {
   "cell_type": "code",
   "execution_count": 7,
   "metadata": {},
   "outputs": [],
   "source": [
    "languages = neo4j_graph.query(\n",
    "    \"\"\"\n",
    "    MATCH (c:Language)\n",
    "    RETURN c.name as name\n",
    "    \"\"\"\n",
    ")\n",
    "languages = [language[\"name\"] for language in languages]"
   ]
  },
  {
   "cell_type": "code",
   "execution_count": 8,
   "metadata": {},
   "outputs": [],
   "source": [
    "institution = neo4j_graph.query(\n",
    "    \"\"\"\n",
    "    MATCH (c:Institution)\n",
    "    RETURN distinct(c.name) as name\n",
    "    \"\"\"\n",
    ")\n",
    "institution = [ins[\"name\"] for ins in institution]"
   ]
  },
  {
   "cell_type": "code",
   "execution_count": 9,
   "metadata": {},
   "outputs": [
    {
     "data": {
      "text/plain": [
       "115"
      ]
     },
     "execution_count": 9,
     "metadata": {},
     "output_type": "execute_result"
    }
   ],
   "source": [
    "len(institution)"
   ]
  },
  {
   "cell_type": "code",
   "execution_count": 10,
   "metadata": {},
   "outputs": [],
   "source": [
    "skills = neo4j_graph.query(\n",
    "    \"\"\"\n",
    "    MATCH (c:Skill)\n",
    "    RETURN Distinct(c.name) as name\n",
    "    \"\"\"\n",
    ")\n",
    "skills = [skill[\"name\"] for skill in skills]"
   ]
  },
  {
   "cell_type": "code",
   "execution_count": 11,
   "metadata": {},
   "outputs": [
    {
     "data": {
      "text/plain": [
       "543"
      ]
     },
     "execution_count": 11,
     "metadata": {},
     "output_type": "execute_result"
    }
   ],
   "source": [
    "len(skills)"
   ]
  },
  {
   "cell_type": "code",
   "execution_count": 12,
   "metadata": {},
   "outputs": [],
   "source": [
    "education = neo4j_graph.query(\n",
    "    \"\"\"\n",
    "    MATCH (c:Academic)\n",
    "    RETURN c.name as name\n",
    "    \"\"\"\n",
    ")\n",
    "education = [edu[\"name\"] for edu in education]"
   ]
  },
  {
   "cell_type": "code",
   "execution_count": 13,
   "metadata": {},
   "outputs": [],
   "source": [
    "programming = neo4j_graph.query(\n",
    "    \"\"\"\n",
    "    MATCH (p:ProgrammingLanguage)\n",
    "    RETURN p.name as name\n",
    "    \"\"\"\n",
    ")\n",
    "\n",
    "programming = [p[\"name\"] for p in programming]"
   ]
  },
  {
   "cell_type": "code",
   "execution_count": 14,
   "metadata": {},
   "outputs": [
    {
     "data": {
      "text/plain": [
       "166"
      ]
     },
     "execution_count": 14,
     "metadata": {},
     "output_type": "execute_result"
    }
   ],
   "source": [
    "len(programming)"
   ]
  },
  {
   "cell_type": "code",
   "execution_count": 15,
   "metadata": {},
   "outputs": [],
   "source": [
    "roles = neo4j_graph.query(\n",
    "    \"\"\"\n",
    "    MATCH (p:Role)\n",
    "    RETURN p.name as name\n",
    "    \"\"\"\n",
    ")\n",
    "\n",
    "roles = [p[\"name\"] for p in roles]"
   ]
  },
  {
   "cell_type": "code",
   "execution_count": 16,
   "metadata": {},
   "outputs": [
    {
     "data": {
      "text/plain": [
       "293"
      ]
     },
     "execution_count": 16,
     "metadata": {},
     "output_type": "execute_result"
    }
   ],
   "source": [
    "len(roles)"
   ]
  },
  {
   "cell_type": "code",
   "execution_count": 17,
   "metadata": {},
   "outputs": [],
   "source": [
    "majors = neo4j_graph.query(\n",
    "    \"\"\"\n",
    "    MATCH (p:Major)\n",
    "    RETURN p.name as name\n",
    "    \"\"\"\n",
    ")\n",
    "\n",
    "majors = [p[\"name\"] for p in majors]"
   ]
  },
  {
   "cell_type": "code",
   "execution_count": 18,
   "metadata": {},
   "outputs": [],
   "source": [
    "import numpy as np\n",
    "import matplotlib.pyplot as plt\n",
    "import seaborn as sns\n",
    "\n",
    "def analyze_similarity(texts, db_cache, threshold = 0.9):\n",
    "    text_id = dict()\n",
    "    similarity = dict()\n",
    "    i = 0\n",
    "    for text in texts:\n",
    "        text_id[text] = i\n",
    "        i += 1\n",
    "    score = np.zeros((len(texts), len(texts)))\n",
    "    for i in range(len(texts)):\n",
    "        text = texts[i]\n",
    "        result = db_cache.similarity_search_with_relevance_scores(text, len(texts))\n",
    "        for item in result:\n",
    "            score[i , text_id[item[0].page_content]] = item[1]\n",
    "            if i != text_id[item[0].page_content]:\n",
    "                if item[1] > threshold:\n",
    "                    if text not in similarity:\n",
    "                        similarity[text] = []\n",
    "                    similarity[text].append(item[0].page_content)\n",
    "    \n",
    "    # sns.heatmap(score, annot=True, cmap=\"viridis\", cbar=True)\n",
    "    # plt.xticks(np.arange(len(texts)), texts, rotation=90)\n",
    "    # plt.yticks(np.arange(len(texts)), texts, rotation=0)\n",
    "    # plt.show()\n",
    "    return score, similarity\n",
    "    "
   ]
  },
  {
   "cell_type": "code",
   "execution_count": 19,
   "metadata": {},
   "outputs": [],
   "source": [
    "def cluster_changes(role_similar):\n",
    "    role_id = dict()\n",
    "    node_role = dict()\n",
    "    id = 0\n",
    "    items = []\n",
    "    for k, v in role_similar.items():\n",
    "        if k not in role_id:\n",
    "            role_id[k] = id\n",
    "            items.append(k)\n",
    "            id += 1\n",
    "        for item in v:\n",
    "            if item not in role_id:\n",
    "                role_id[item] = id\n",
    "                items.append(item)\n",
    "                id += 1\n",
    "                \n",
    "        node_role[role_id[k]] = [role_id[item] for item in v]\n",
    "        \n",
    "    uf = UnionFind(len(role_id))\n",
    "    for k, v in node_role.items():\n",
    "        for item in v:\n",
    "            uf.add_node(k, item)\n",
    "\n",
    "    cluster = uf.get_clusters()\n",
    "    cluster_text = dict()\n",
    "    for k, v in cluster.items():\n",
    "        cluster_text[items[k]] = [items[item] for item in v]\n",
    "    return cluster_text\n"
   ]
  },
  {
   "cell_type": "code",
   "execution_count": 20,
   "metadata": {},
   "outputs": [],
   "source": [
    "city_score, city_similar = analyze_similarity(cities, db_cache_city, 0.8)"
   ]
  },
  {
   "cell_type": "code",
   "execution_count": 21,
   "metadata": {},
   "outputs": [
    {
     "data": {
      "text/plain": [
       "{}"
      ]
     },
     "execution_count": 21,
     "metadata": {},
     "output_type": "execute_result"
    }
   ],
   "source": [
    "city_change = cluster_changes(city_similar)\n",
    "city_change"
   ]
  },
  {
   "cell_type": "code",
   "execution_count": 22,
   "metadata": {},
   "outputs": [],
   "source": [
    "education_score, education_similarity = analyze_similarity(education, db_cache_education)"
   ]
  },
  {
   "cell_type": "code",
   "execution_count": 23,
   "metadata": {},
   "outputs": [
    {
     "data": {
      "text/plain": [
       "{}"
      ]
     },
     "execution_count": 23,
     "metadata": {},
     "output_type": "execute_result"
    }
   ],
   "source": [
    "education_similarity"
   ]
  },
  {
   "cell_type": "code",
   "execution_count": 28,
   "metadata": {},
   "outputs": [],
   "source": [
    "role_score, role_similar = analyze_similarity(roles, db_cache_role, 0.86)"
   ]
  },
  {
   "cell_type": "code",
   "execution_count": 29,
   "metadata": {},
   "outputs": [
    {
     "data": {
      "text/plain": [
       "{'operations manager': ['operations officer',\n",
       "  'operations manager',\n",
       "  'operations management'],\n",
       " 'backend developer ': ['backend developer',\n",
       "  'backend developer ',\n",
       "  'back end developer',\n",
       "  'back-end developer',\n",
       "  'backend java web developer',\n",
       "  'node.js backend developer',\n",
       "  'back-end development',\n",
       "  'back end web developer',\n",
       "  'back-end programming'],\n",
       " 'full stack developer': ['full-stack developer',\n",
       "  'full stack developer',\n",
       "  'full-stack web developer',\n",
       "  'full stack web developer',\n",
       "  'full-stack java web developer'],\n",
       " 'event hosting & organization': ['event organization',\n",
       "  'event hosting & organization',\n",
       "  'event organizer'],\n",
       " 'content creator': ['content creation', 'content creator'],\n",
       " 'social media manager': ['social media management', 'social media manager'],\n",
       " 'project manager': ['project management',\n",
       "  'project manager',\n",
       "  'project manager leader',\n",
       "  'project leader'],\n",
       " 'content writing': ['content writer', 'content writing'],\n",
       " 'hr manager': ['hr admin manager', 'hr manager'],\n",
       " 'software engineering': ['software engineer', 'software engineering'],\n",
       " 'brand marketing manager': ['marketing manager', 'brand marketing manager'],\n",
       " 'data analyst': ['data engineer', 'data analyst', 'data analyst '],\n",
       " 'business analyst': ['it business analyst',\n",
       "  'business analyst',\n",
       "  'business intelligence analyst'],\n",
       " 'implementation consultant': ['implementation consultant erp',\n",
       "  'implementation consultant'],\n",
       " 'data science': ['data scientist', 'data science'],\n",
       " 'mobile application developer': ['mobile app developer',\n",
       "  'mobile application developer',\n",
       "  'mobile developer'],\n",
       " 'system administrator': ['system admin', 'system administrator'],\n",
       " 'business': ['business ', 'business'],\n",
       " 'entry-level position in software engineering': ['entry-level software engineer',\n",
       "  'entry-level position in software engineering'],\n",
       " 'front end developer': ['frontend developer',\n",
       "  'front end developer',\n",
       "  'front-end developer',\n",
       "  'front-end programming'],\n",
       " 'communication & marketing': ['marketing communication ',\n",
       "  'communication & marketing'],\n",
       " 'market research analyst': ['marketing analyst', 'market research analyst'],\n",
       " ' developer': ['developer', ' developer'],\n",
       " 'c# developer': ['.net developer', 'c# developer'],\n",
       " 'digital marketing ': ['digital marketing', 'digital marketing '],\n",
       " 'java programmer': ['programmer', 'java programmer'],\n",
       " 'php developer': ['php programmer', 'php developer'],\n",
       " 'team leader': ['team lead', 'team leader', 'team leadership'],\n",
       " 'event planning': ['event planner', 'event planning'],\n",
       " 'brand marketing executive': ['marketing executive',\n",
       "  'brand marketing executive'],\n",
       " 'accounting': ['accountant', 'accounting'],\n",
       " 'product manager': ['product management', 'product manager'],\n",
       " 'artificial intelligence engineer': ['ai engineer',\n",
       "  'artificial intelligence engineer',\n",
       "  'ai engineering '],\n",
       " 'production planner': ['production planning', 'production planner'],\n",
       " 'supervisor': ['supervisor roles', 'supervisor'],\n",
       " 'ielts teacher': ['ielts instructor', 'ielts teacher'],\n",
       " 'ui/ux designer': ['ui designer', 'ui/ux designer'],\n",
       " 'audit': ['auditing', 'audit'],\n",
       " 'devops engineer': ['devops', 'devops engineer'],\n",
       " 'account management': ['account manager', 'account management']}"
      ]
     },
     "execution_count": 29,
     "metadata": {},
     "output_type": "execute_result"
    }
   ],
   "source": [
    "role_change = cluster_changes(role_similar)\n",
    "role_change\n",
    "\n"
   ]
  },
  {
   "cell_type": "code",
   "execution_count": null,
   "metadata": {},
   "outputs": [],
   "source": []
  },
  {
   "cell_type": "code",
   "execution_count": 38,
   "metadata": {},
   "outputs": [],
   "source": [
    "programming_score, programming_similar = analyze_similarity(programming, db_cache_programming,0.80)"
   ]
  },
  {
   "cell_type": "code",
   "execution_count": 39,
   "metadata": {},
   "outputs": [],
   "source": [
    "change_programming = cluster_changes(programming_similar)"
   ]
  },
  {
   "cell_type": "code",
   "execution_count": 40,
   "metadata": {},
   "outputs": [
    {
     "data": {
      "text/plain": [
       "{'bootstrap 5.0': ['bootstrap 5', 'bootstrap 5.0', 'bootstrap'],\n",
       " 'angular': ['angular2', 'angular', 'angular 12'],\n",
       " 'php laravel': ['laravel', 'php laravel', 'laravel framework'],\n",
       " 'css3': ['css', 'css3'],\n",
       " 'postgressql': ['postgresql', 'postgressql', 'postgres'],\n",
       " 'apache kafka': ['kafka', 'apache kafka'],\n",
       " 'java spring boot': ['spring boot',\n",
       "  'java spring boot',\n",
       "  'springboot',\n",
       "  'java springboot'],\n",
       " 'sql': ['sql server', 'sql', 'ms sql'],\n",
       " 'asp.net core mvc': ['asp.net core',\n",
       "  'asp.net core mvc',\n",
       "  '.net core',\n",
       "  'asp.net core api',\n",
       "  'asp.net web api',\n",
       "  'asp.net mvc'],\n",
       " 'c#.net': ['c#', 'c#.net', '.net'],\n",
       " 'tailwindcss framework': ['tailwindcss',\n",
       "  'tailwindcss framework',\n",
       "  'tailwind css'],\n",
       " 'ajax jquery': ['jquery', 'ajax jquery', 'ajax'],\n",
       " 'firebase firestore': ['firebase', 'firebase firestore'],\n",
       " 'apache spark': ['pyspark',\n",
       "  'apache pyspark',\n",
       "  'apache hadoop',\n",
       "  'apache spark',\n",
       "  'spark'],\n",
       " 'redux': ['redux toolkit', 'redux', 'redux saga'],\n",
       " 'flutter': ['dart', 'flutter'],\n",
       " 'spring data jpa': ['spring data', 'spring data jpa', 'spring jpa']}"
      ]
     },
     "execution_count": 40,
     "metadata": {},
     "output_type": "execute_result"
    }
   ],
   "source": [
    "change_programming"
   ]
  },
  {
   "cell_type": "code",
   "execution_count": 41,
   "metadata": {},
   "outputs": [],
   "source": [
    "languages_score, languages_similar = analyze_similarity(languages, db_cache_language, 0.9)"
   ]
  },
  {
   "cell_type": "code",
   "execution_count": 42,
   "metadata": {},
   "outputs": [],
   "source": [
    "institution_score, institution_similar = analyze_similarity(institution, db_cache_institution, 0.92)"
   ]
  },
  {
   "cell_type": "code",
   "execution_count": 43,
   "metadata": {},
   "outputs": [
    {
     "data": {
      "text/plain": [
       "{'fpt university ho chi minh city': ['fpt university ho chi minh'],\n",
       " 'hcmc university of technology': ['hcmc university of technology and education'],\n",
       " 'ho chi minh city open university': ['open university ho chi minh city'],\n",
       " 'national economics university': ['national economic university',\n",
       "  'national economics university (neu)'],\n",
       " 'national economic university': ['national economics university'],\n",
       " 'fpt polytechnic': ['fpt polytechnic college'],\n",
       " 'finance academy': ['academy of finance'],\n",
       " 'ho chi minh city university of technology': ['ho chi minh city university of technology and education',\n",
       "  'ho chi minh university of technology'],\n",
       " 'fpt polytechnic college': ['fpt polytechnic', 'polytechnic fpt colleges'],\n",
       " 'university of information technology - vietnam national university': ['university of information technology - vietnam national university ho chi minh city'],\n",
       " 'saigon university': ['the saigon international university'],\n",
       " 'ho chi minh city university of technology and education': ['ho chi minh city university of technology'],\n",
       " 'national economics university (neu)': ['national economics university'],\n",
       " 'fpt university ho chi minh': ['fpt university ho chi minh city'],\n",
       " 'polytechnic fpt colleges': ['fpt polytechnic college'],\n",
       " 'the saigon international university': ['saigon university'],\n",
       " 'university of information technology - vietnam national university ho chi minh city': ['university of information technology - vietnam national university'],\n",
       " 'ho chi minh university of technology': ['ho chi minh city university of technology'],\n",
       " 'academy of finance': ['finance academy'],\n",
       " 'open university ho chi minh city': ['ho chi minh city open university'],\n",
       " 'hcmc university of technology and education': ['hcmc university of technology']}"
      ]
     },
     "execution_count": 43,
     "metadata": {},
     "output_type": "execute_result"
    }
   ],
   "source": [
    "institution_similar"
   ]
  },
  {
   "cell_type": "code",
   "execution_count": 44,
   "metadata": {},
   "outputs": [],
   "source": [
    "institution_similar = {'fpt university ho chi minh city': ['fpt university ho chi minh'],\n",
    " 'ho chi minh city open university': ['open university ho chi minh city'],\n",
    " 'national economics university': ['national economic university',\n",
    "  'national economics university (neu)'],\n",
    " 'national economic university': ['national economics university'],\n",
    " 'fpt polytechnic': ['fpt polytechnic college'],\n",
    " 'finance academy': ['academy of finance'],\n",
    " 'ho chi minh city university of technology': [\n",
    "  'ho chi minh university of technology'],\n",
    " 'fpt polytechnic college': ['fpt polytechnic', 'polytechnic fpt colleges'],\n",
    " 'university of information technology - vietnam national university': ['university of information technology - vietnam national university ho chi minh city'],\n",
    " 'national economics university (neu)': ['national economics university'],\n",
    " 'fpt university ho chi minh': ['fpt university ho chi minh city'],\n",
    " 'polytechnic fpt colleges': ['fpt polytechnic college'],\n",
    " 'university of information technology - vietnam national university ho chi minh city': ['university of information technology - vietnam national university'],\n",
    " 'ho chi minh university of technology': ['ho chi minh city university of technology'],\n",
    " 'academy of finance': ['finance academy'],\n",
    " 'open university ho chi minh city': ['ho chi minh city open university']}"
   ]
  },
  {
   "cell_type": "code",
   "execution_count": 45,
   "metadata": {},
   "outputs": [],
   "source": [
    "change_institution = cluster_changes(institution_similar)"
   ]
  },
  {
   "cell_type": "code",
   "execution_count": 46,
   "metadata": {},
   "outputs": [
    {
     "data": {
      "text/plain": [
       "{'fpt university ho chi minh': ['fpt university ho chi minh city',\n",
       "  'fpt university ho chi minh'],\n",
       " 'open university ho chi minh city': ['ho chi minh city open university',\n",
       "  'open university ho chi minh city'],\n",
       " 'national economic university': ['national economics university',\n",
       "  'national economic university',\n",
       "  'national economics university (neu)'],\n",
       " 'fpt polytechnic college': ['fpt polytechnic',\n",
       "  'fpt polytechnic college',\n",
       "  'polytechnic fpt colleges'],\n",
       " 'academy of finance': ['finance academy', 'academy of finance'],\n",
       " 'ho chi minh university of technology': ['ho chi minh city university of technology',\n",
       "  'ho chi minh university of technology'],\n",
       " 'university of information technology - vietnam national university ho chi minh city': ['university of information technology - vietnam national university',\n",
       "  'university of information technology - vietnam national university ho chi minh city']}"
      ]
     },
     "execution_count": 46,
     "metadata": {},
     "output_type": "execute_result"
    }
   ],
   "source": [
    "change_institution"
   ]
  },
  {
   "cell_type": "code",
   "execution_count": 49,
   "metadata": {},
   "outputs": [],
   "source": [
    "majors_score, majors_similar = analyze_similarity(majors, db_cache_major, 0.83)"
   ]
  },
  {
   "cell_type": "code",
   "execution_count": 50,
   "metadata": {},
   "outputs": [],
   "source": [
    "change_major = cluster_changes(majors_similar)"
   ]
  },
  {
   "cell_type": "code",
   "execution_count": 52,
   "metadata": {},
   "outputs": [
    {
     "data": {
      "text/plain": [
       "{'information and communication technology': ['information technology',\n",
       "  'information and communication technology'],\n",
       " 'business administrative': ['business administration',\n",
       "  'business administrative'],\n",
       " 'computer science and data science': ['computer science',\n",
       "  'computer science and data science'],\n",
       " 'international business - foreign trade': ['international business',\n",
       "  'international business - foreign trade',\n",
       "  'international business administration',\n",
       "  'international business marketing',\n",
       "  'international bussiness'],\n",
       " 'data science in economics and business': ['data science in economic and business',\n",
       "  'data science in economics and business',\n",
       "  'data science and artificial intelligence'],\n",
       " 'business analytics and marketing': ['business analytics',\n",
       "  'business analytics and marketing'],\n",
       " 'computer programming - mobile devices': ['mobile device computer programming',\n",
       "  'computer programming - mobile devices',\n",
       "  'computer programming for mobile devices',\n",
       "  'mobile programming'],\n",
       " 'computer network': ['computer network and communication',\n",
       "  'computer network'],\n",
       " 'finance and banking': ['banking and finance',\n",
       "  'finance and banking',\n",
       "  'finance & banking',\n",
       "  'accounting and finance'],\n",
       " 'e-commerce': ['electronic commerce', 'e-commerce'],\n",
       " 'accountant': ['accounting', 'accountant'],\n",
       " 'programming': ['computer programming', 'programming'],\n",
       " 'mechatronics engineer technology': ['mechatronic engineer technology',\n",
       "  'mechatronics engineer technology']}"
      ]
     },
     "execution_count": 52,
     "metadata": {},
     "output_type": "execute_result"
    }
   ],
   "source": [
    "change_major"
   ]
  },
  {
   "cell_type": "code",
   "execution_count": 53,
   "metadata": {},
   "outputs": [],
   "source": [
    "skills_score, skills_similar = analyze_similarity(skills, db_cache_skills, 0.81)"
   ]
  },
  {
   "cell_type": "code",
   "execution_count": 55,
   "metadata": {},
   "outputs": [],
   "source": [
    "change_skills = cluster_changes(skills_similar)"
   ]
  },
  {
   "cell_type": "code",
   "execution_count": 56,
   "metadata": {},
   "outputs": [
    {
     "data": {
      "text/plain": [
       "{'content writing': ['writing', 'content writing', 'seo content writing'],\n",
       " 'data analysis': ['analysis',\n",
       "  'data analysis',\n",
       "  'statistical analysis',\n",
       "  'financial analysis',\n",
       "  'business analysis',\n",
       "  'system analysis',\n",
       "  'regression analysis',\n",
       "  'data analysis skills',\n",
       "  'data analytics',\n",
       "  'financial statement analysis'],\n",
       " 'teamwork skills': ['teamwork',\n",
       "  'teamwork skills',\n",
       "  'team work',\n",
       "  'teamwork abilities',\n",
       "  'good teamwork'],\n",
       " 'organization': ['work organization', 'organization'],\n",
       " 'task management': ['task coordination',\n",
       "  'task management',\n",
       "  'functional coordination'],\n",
       " 'team leadership': ['team management',\n",
       "  'team leadership',\n",
       "  'automation team management',\n",
       "  'leadership'],\n",
       " 'legal compliance': ['compliance', 'legal compliance'],\n",
       " 'analytical thinking': ['analytical skills', 'analytical thinking'],\n",
       " 'communicating': ['communication',\n",
       "  'communicating',\n",
       "  'effective communication',\n",
       "  'business communication'],\n",
       " 'scripting': ['scriptwriting', 'scripting'],\n",
       " 'video recording': ['video shooting',\n",
       "  'video recording',\n",
       "  'video production',\n",
       "  'videography'],\n",
       " 'agile scrum': ['scrum', 'agile scrum', 'agile'],\n",
       " 'capcut editing': ['video editing',\n",
       "  'video editing with capcut',\n",
       "  'capcut',\n",
       "  'capcut editing'],\n",
       " 'visualization': ['data visualization', 'visualization'],\n",
       " 'ux design': ['ux', 'ux design'],\n",
       " 'ui design': ['ui',\n",
       "  'ui design',\n",
       "  'modern ui development',\n",
       "  'user interface design'],\n",
       " 'sql server': ['sql', 'sql server'],\n",
       " 'recommendation engine': ['recommender systems', 'recommendation engine'],\n",
       " 'cloud services': ['aws',\n",
       "  'aws services',\n",
       "  'cloud computing',\n",
       "  'cloud services'],\n",
       " 'apache kafka': ['kafka', 'apache kafka'],\n",
       " 'apache airflow': ['airflow', 'apache airflow'],\n",
       " 'networking': ['network', 'networking'],\n",
       " 'linux operating system': ['linux', 'linux operating system'],\n",
       " 'microsoft office suite': ['excel)',\n",
       "  'excel',\n",
       "  'microsoft office',\n",
       "  'microsoft office suite',\n",
       "  'ms office',\n",
       "  'microsoft excel',\n",
       "  'microsoft office 365',\n",
       "  'office software',\n",
       "  'microsoft word',\n",
       "  'advanced microsoft excel',\n",
       "  'office applications'],\n",
       " 'website development': ['web development',\n",
       "  'website development',\n",
       "  'web application development'],\n",
       " 'microsoft powerpoint': ['powerpoint', 'microsoft powerpoint', 'powerpoint)'],\n",
       " 'canva design': ['canva', 'canva design', 'image design with canva'],\n",
       " 'market research': ['research market', 'market research'],\n",
       " 'notion)': ['notion', 'notion)'],\n",
       " 'presenting': ['presentation', 'presenting', 'presentation skills'],\n",
       " 'solving skills': ['problem solving', 'solving skills', 'solving'],\n",
       " 'logical & critical thinking': ['critical thinking',\n",
       "  'logical & critical thinking',\n",
       "  'logical thinking'],\n",
       " 'analytical': ['analytic', 'analytical'],\n",
       " 'marketing strategy development': ['marketing strategy',\n",
       "  'marketing strategy development'],\n",
       " 'microservices architecture': ['microservices', 'microservices architecture'],\n",
       " 'photoshop': ['adobe photoshop', 'photoshop'],\n",
       " 'big data processing': ['big data', 'big data processing'],\n",
       " 'processing': ['data processing', 'processing'],\n",
       " 'image design': ['design', 'image design'],\n",
       " 'redux toolkit': ['redux', 'redux toolkit', 'redux saga'],\n",
       " 'react.js': ['reactjs', 'react.js', 'react'],\n",
       " 'adapting': ['adaptability', 'adapting'],\n",
       " 'time management skills': ['time management', 'time management skills'],\n",
       " 'databases': ['database', 'databases'],\n",
       " 'website design': ['web design', 'website design'],\n",
       " 'spss statistics': ['spss', 'spss statistics'],\n",
       " 'rest apis': ['designing restful apis', 'rest apis'],\n",
       " 'mvvm design pattern': ['mvc design pattern', 'mvvm design pattern'],\n",
       " 'google cloud platform': ['google cloud platform)',\n",
       "  'google cloud platform',\n",
       "  'cloud platforms'],\n",
       " 'software development life cycle': ['software development lifecycle',\n",
       "  'software development life cycle'],\n",
       " 'user story)': ['user stories', 'user story)'],\n",
       " 'android development': ['mobile app development',\n",
       "  'android development',\n",
       "  'android programming'],\n",
       " 'power bi': ['microsoft power bi', 'power bi', 'power bi)'],\n",
       " 'campaign planning': ['campaign management', 'campaign planning'],\n",
       " 'node.js': ['nodejs', 'node.js'],\n",
       " 'creativity': ['creative thinking', 'creativity'],\n",
       " 'database management systems': ['database management',\n",
       "  'database management systems'],\n",
       " '.net core': ['asp.net core', '.net core'],\n",
       " 'monitoring': ['monitoring dashboard', 'monitoring'],\n",
       " 'authentication': ['user authentication', 'authentication'],\n",
       " 'contract negotiation': ['negotiating', 'contract negotiation'],\n",
       " 'event organization': ['event planning', 'event organization'],\n",
       " 'responsive design': ['responsive', 'responsive design'],\n",
       " 'express.js': ['express', 'express.js'],\n",
       " 'web servers': ['web server', 'web servers']}"
      ]
     },
     "execution_count": 56,
     "metadata": {},
     "output_type": "execute_result"
    }
   ],
   "source": [
    "change_skills"
   ]
  },
  {
   "cell_type": "code",
   "execution_count": 57,
   "metadata": {},
   "outputs": [],
   "source": [
    "query = \"\"\"\n",
    "        MATCH (a: ProgrammingLanguage {name: $form.node_val1}), (b: ProgrammingLanguage {name: $form.node_val2})\n",
    "\n",
    "            MATCH (other)-[r:PROGRAMMING]->(b)\n",
    "            MERGE (other)-[r2:PROGRAMMING]->(a)\n",
    "            SET r2 = r\n",
    "        \n",
    "        DETACH delete b\n",
    "        return r2.exp\n",
    "        \"\"\"\n",
    "# neo4j_graph.query(query)"
   ]
  },
  {
   "cell_type": "code",
   "execution_count": 92,
   "metadata": {},
   "outputs": [],
   "source": [
    "# form = {\n",
    "#     # \"node_type\": \"Award\",\n",
    "#     \"node_val1\": \"spring boot\",\n",
    "#     \"node_val2\": \"java spring boot\"\n",
    "#     # \"relationship\": \"AWARD\"\n",
    "# }\n",
    "# neo4j_graph.query(query, params={\"form\": form})"
   ]
  },
  {
   "cell_type": "code",
   "execution_count": 58,
   "metadata": {},
   "outputs": [
    {
     "data": {
      "text/plain": [
       "{'fpt university ho chi minh': ['fpt university ho chi minh city',\n",
       "  'fpt university ho chi minh'],\n",
       " 'open university ho chi minh city': ['ho chi minh city open university',\n",
       "  'open university ho chi minh city'],\n",
       " 'national economic university': ['national economics university',\n",
       "  'national economic university',\n",
       "  'national economics university (neu)'],\n",
       " 'fpt polytechnic college': ['fpt polytechnic',\n",
       "  'fpt polytechnic college',\n",
       "  'polytechnic fpt colleges'],\n",
       " 'academy of finance': ['finance academy', 'academy of finance'],\n",
       " 'ho chi minh university of technology': ['ho chi minh city university of technology',\n",
       "  'ho chi minh university of technology'],\n",
       " 'university of information technology - vietnam national university ho chi minh city': ['university of information technology - vietnam national university',\n",
       "  'university of information technology - vietnam national university ho chi minh city']}"
      ]
     },
     "execution_count": 58,
     "metadata": {},
     "output_type": "execute_result"
    }
   ],
   "source": [
    "change_institution"
   ]
  },
  {
   "cell_type": "code",
   "execution_count": 60,
   "metadata": {},
   "outputs": [
    {
     "name": "stdout",
     "output_type": "stream",
     "text": [
      "[]\n",
      "[]\n",
      "[]\n",
      "[]\n",
      "[]\n",
      "[]\n",
      "[]\n",
      "[]\n",
      "[]\n"
     ]
    }
   ],
   "source": [
    "i = 0\n",
    "for keep, changes in change_institution.items():\n",
    "    for change in changes:\n",
    "        \n",
    "        query = \"\"\"\n",
    "        MATCH (a: Institution  {name: $form.node_val1}), (b: Institution  {name: $form.node_val2})\n",
    "\n",
    "            MATCH (other)-[r:STUDY]->(b)\n",
    "            MERGE (other)-[r2:STUDY]->(a)\n",
    "            SET r2 = r\n",
    "            DELETE r\n",
    "        \n",
    "        DETACH delete b\n",
    "        return a\n",
    "        \"\"\"\n",
    "        \n",
    "        if keep != change:\n",
    "            form = {\n",
    "\n",
    "                \"node_val1\": keep,\n",
    "                \"node_val2\": change,\n",
    "\n",
    "            }\n",
    "            # print(keep, change)\n",
    "            result = neo4j_graph.query(query, params={\"form\": form})\n",
    "            print(result)\n",
    "            i+=1"
   ]
  },
  {
   "cell_type": "code",
   "execution_count": 61,
   "metadata": {},
   "outputs": [
    {
     "name": "stdout",
     "output_type": "stream",
     "text": [
      "[{'a.name': 'bootstrap 5.0', 'r2.exp': 1}, {'a.name': 'bootstrap 5.0', 'r2.exp': 1}, {'a.name': 'bootstrap 5.0', 'r2.exp': 1.0}]\n",
      "[{'a.name': 'bootstrap 5.0', 'r2.exp': 0.5}, {'a.name': 'bootstrap 5.0', 'r2.exp': 0.5}, {'a.name': 'bootstrap 5.0', 'r2.exp': 0.75}, {'a.name': 'bootstrap 5.0', 'r2.exp': 2.5}, {'a.name': 'bootstrap 5.0', 'r2.exp': None}, {'a.name': 'bootstrap 5.0', 'r2.exp': 1.0}, {'a.name': 'bootstrap 5.0', 'r2.exp': 1}, {'a.name': 'bootstrap 5.0', 'r2.exp': 1}, {'a.name': 'bootstrap 5.0', 'r2.exp': 1}, {'a.name': 'bootstrap 5.0', 'r2.exp': 0.5}]\n",
      "[{'a.name': 'angular', 'r2.exp': 1.0}]\n",
      "[{'a.name': 'angular', 'r2.exp': 0.5}]\n",
      "[{'a.name': 'php laravel', 'r2.exp': 0.5}, {'a.name': 'php laravel', 'r2.exp': 0.5}, {'a.name': 'php laravel', 'r2.exp': 1}, {'a.name': 'php laravel', 'r2.exp': None}, {'a.name': 'php laravel', 'r2.exp': 0.5}, {'a.name': 'php laravel', 'r2.exp': 1.0}, {'a.name': 'php laravel', 'r2.exp': 1.5}, {'a.name': 'php laravel', 'r2.exp': None}, {'a.name': 'php laravel', 'r2.exp': 0.5}, {'a.name': 'php laravel', 'r2.exp': 1.0}]\n",
      "[{'a.name': 'php laravel', 'r2.exp': 0.5}]\n",
      "[{'a.name': 'css3', 'r2.exp': 0.5}, {'a.name': 'css3', 'r2.exp': 0.5}, {'a.name': 'css3', 'r2.exp': None}, {'a.name': 'css3', 'r2.exp': 0.75}, {'a.name': 'css3', 'r2.exp': None}, {'a.name': 'css3', 'r2.exp': 0.5}, {'a.name': 'css3', 'r2.exp': 0.5}, {'a.name': 'css3', 'r2.exp': 3.0}, {'a.name': 'css3', 'r2.exp': 1}, {'a.name': 'css3', 'r2.exp': 0.5}, {'a.name': 'css3', 'r2.exp': 0.5}, {'a.name': 'css3', 'r2.exp': 0.5}, {'a.name': 'css3', 'r2.exp': None}, {'a.name': 'css3', 'r2.exp': 0.5}, {'a.name': 'css3', 'r2.exp': 0.5}, {'a.name': 'css3', 'r2.exp': 1}, {'a.name': 'css3', 'r2.exp': 2}, {'a.name': 'css3', 'r2.exp': 0.5}, {'a.name': 'css3', 'r2.exp': 2}, {'a.name': 'css3', 'r2.exp': 4}, {'a.name': 'css3', 'r2.exp': 0.5}, {'a.name': 'css3', 'r2.exp': 0.5}, {'a.name': 'css3', 'r2.exp': 0.5}, {'a.name': 'css3', 'r2.exp': 0.5}, {'a.name': 'css3', 'r2.exp': 1.0}, {'a.name': 'css3', 'r2.exp': 1}, {'a.name': 'css3', 'r2.exp': None}, {'a.name': 'css3', 'r2.exp': 1}, {'a.name': 'css3', 'r2.exp': None}, {'a.name': 'css3', 'r2.exp': 1}, {'a.name': 'css3', 'r2.exp': 1}, {'a.name': 'css3', 'r2.exp': 0.5}, {'a.name': 'css3', 'r2.exp': 1.5}, {'a.name': 'css3', 'r2.exp': 0.5}, {'a.name': 'css3', 'r2.exp': None}, {'a.name': 'css3', 'r2.exp': 0}, {'a.name': 'css3', 'r2.exp': 1}, {'a.name': 'css3', 'r2.exp': 1.0}, {'a.name': 'css3', 'r2.exp': 1.0}]\n",
      "[{'a.name': 'postgressql', 'r2.exp': 0.5}, {'a.name': 'postgressql', 'r2.exp': 0.5}, {'a.name': 'postgressql', 'r2.exp': 0.5}, {'a.name': 'postgressql', 'r2.exp': 1.0}, {'a.name': 'postgressql', 'r2.exp': 3}, {'a.name': 'postgressql', 'r2.exp': 1.0}, {'a.name': 'postgressql', 'r2.exp': None}, {'a.name': 'postgressql', 'r2.exp': 2}, {'a.name': 'postgressql', 'r2.exp': 1.0}]\n",
      "[{'a.name': 'postgressql', 'r2.exp': 3.0}, {'a.name': 'postgressql', 'r2.exp': 0.5}]\n",
      "[{'a.name': 'apache kafka', 'r2.exp': None}, {'a.name': 'apache kafka', 'r2.exp': 1}]\n",
      "[{'a.name': 'java spring boot', 'r2.exp': 0.5}, {'a.name': 'java spring boot', 'r2.exp': 0.75}, {'a.name': 'java spring boot', 'r2.exp': 0.5}, {'a.name': 'java spring boot', 'r2.exp': 2}, {'a.name': 'java spring boot', 'r2.exp': 0.5}, {'a.name': 'java spring boot', 'r2.exp': 2}, {'a.name': 'java spring boot', 'r2.exp': 0.5}, {'a.name': 'java spring boot', 'r2.exp': 1}]\n",
      "[{'a.name': 'java spring boot', 'r2.exp': 0.5}]\n",
      "[{'a.name': 'java spring boot', 'r2.exp': 0.5}]\n",
      "[{'a.name': 'sql', 'r2.exp': 1.0}, {'a.name': 'sql', 'r2.exp': 0.5}, {'a.name': 'sql', 'r2.exp': 0.5}, {'a.name': 'sql', 'r2.exp': 2.0}, {'a.name': 'sql', 'r2.exp': 1}, {'a.name': 'sql', 'r2.exp': None}, {'a.name': 'sql', 'r2.exp': 0.5}, {'a.name': 'sql', 'r2.exp': 1}, {'a.name': 'sql', 'r2.exp': 0.5}, {'a.name': 'sql', 'r2.exp': 1}, {'a.name': 'sql', 'r2.exp': 1}, {'a.name': 'sql', 'r2.exp': 1}, {'a.name': 'sql', 'r2.exp': 1.5}, {'a.name': 'sql', 'r2.exp': 0}, {'a.name': 'sql', 'r2.exp': 2}, {'a.name': 'sql', 'r2.exp': 2}]\n",
      "[{'a.name': 'sql', 'r2.exp': 0.5}]\n",
      "[{'a.name': 'asp.net core mvc', 'r2.exp': 0.5}, {'a.name': 'asp.net core mvc', 'r2.exp': 0.5}, {'a.name': 'asp.net core mvc', 'r2.exp': 1.5}]\n",
      "[{'a.name': 'asp.net core mvc', 'r2.exp': 0.5}]\n",
      "[{'a.name': 'asp.net core mvc', 'r2.exp': 1}]\n",
      "[{'a.name': 'asp.net core mvc', 'r2.exp': 0.5}, {'a.name': 'asp.net core mvc', 'r2.exp': None}, {'a.name': 'asp.net core mvc', 'r2.exp': 1}]\n",
      "[{'a.name': 'asp.net core mvc', 'r2.exp': 1.5}, {'a.name': 'asp.net core mvc', 'r2.exp': 1}]\n",
      "[{'a.name': 'c#.net', 'r2.exp': 0.5}, {'a.name': 'c#.net', 'r2.exp': 1.0}, {'a.name': 'c#.net', 'r2.exp': 0.5}, {'a.name': 'c#.net', 'r2.exp': None}, {'a.name': 'c#.net', 'r2.exp': 0}, {'a.name': 'c#.net', 'r2.exp': 1}, {'a.name': 'c#.net', 'r2.exp': None}, {'a.name': 'c#.net', 'r2.exp': 1}, {'a.name': 'c#.net', 'r2.exp': 1}, {'a.name': 'c#.net', 'r2.exp': 2}, {'a.name': 'c#.net', 'r2.exp': 7}, {'a.name': 'c#.net', 'r2.exp': 0.5}, {'a.name': 'c#.net', 'r2.exp': 0.5}, {'a.name': 'c#.net', 'r2.exp': 0.5}, {'a.name': 'c#.net', 'r2.exp': 0.5}, {'a.name': 'c#.net', 'r2.exp': 1}, {'a.name': 'c#.net', 'r2.exp': 1}, {'a.name': 'c#.net', 'r2.exp': 1}, {'a.name': 'c#.net', 'r2.exp': None}, {'a.name': 'c#.net', 'r2.exp': 1}, {'a.name': 'c#.net', 'r2.exp': 1.5}, {'a.name': 'c#.net', 'r2.exp': 2}]\n",
      "[{'a.name': 'c#.net', 'r2.exp': 0.5}, {'a.name': 'c#.net', 'r2.exp': 1}, {'a.name': 'c#.net', 'r2.exp': 1.0}, {'a.name': 'c#.net', 'r2.exp': 1.0}, {'a.name': 'c#.net', 'r2.exp': 0.5}]\n",
      "[{'a.name': 'tailwindcss framework', 'r2.exp': 2}, {'a.name': 'tailwindcss framework', 'r2.exp': 1}, {'a.name': 'tailwindcss framework', 'r2.exp': None}]\n",
      "[{'a.name': 'tailwindcss framework', 'r2.exp': 0.5}]\n",
      "[{'a.name': 'ajax jquery', 'r2.exp': 0.5}, {'a.name': 'ajax jquery', 'r2.exp': 0.5}, {'a.name': 'ajax jquery', 'r2.exp': 1.0}, {'a.name': 'ajax jquery', 'r2.exp': 1}, {'a.name': 'ajax jquery', 'r2.exp': 0.5}]\n",
      "[{'a.name': 'ajax jquery', 'r2.exp': None}]\n",
      "[{'a.name': 'firebase firestore', 'r2.exp': 0.5}, {'a.name': 'firebase firestore', 'r2.exp': 1}, {'a.name': 'firebase firestore', 'r2.exp': 0.5}, {'a.name': 'firebase firestore', 'r2.exp': 0.5}, {'a.name': 'firebase firestore', 'r2.exp': 1}]\n",
      "[{'a.name': 'apache spark', 'r2.exp': 0.5}, {'a.name': 'apache spark', 'r2.exp': None}, {'a.name': 'apache spark', 'r2.exp': 1}]\n",
      "[{'a.name': 'apache spark', 'r2.exp': 1.0}]\n",
      "[{'a.name': 'apache spark', 'r2.exp': 1}]\n",
      "[{'a.name': 'apache spark', 'r2.exp': None}]\n",
      "[{'a.name': 'redux', 'r2.exp': 2}, {'a.name': 'redux', 'r2.exp': 0.75}, {'a.name': 'redux', 'r2.exp': 0.5}, {'a.name': 'redux', 'r2.exp': 1.5}]\n",
      "[{'a.name': 'redux', 'r2.exp': 1}]\n",
      "[{'a.name': 'flutter', 'r2.exp': 0.5}, {'a.name': 'flutter', 'r2.exp': None}, {'a.name': 'flutter', 'r2.exp': 1}, {'a.name': 'flutter', 'r2.exp': 0.5}, {'a.name': 'flutter', 'r2.exp': 1}, {'a.name': 'flutter', 'r2.exp': None}]\n",
      "[{'a.name': 'spring data jpa', 'r2.exp': 1}]\n",
      "[{'a.name': 'spring data jpa', 'r2.exp': 0.5}]\n"
     ]
    }
   ],
   "source": [
    "i = 0\n",
    "for keep, changes in change_programming.items():\n",
    "    for change in changes:\n",
    "        \n",
    "        query = \"\"\"\n",
    "        MATCH (a: ProgrammingLanguage {name: $form.node_val1}), (b: ProgrammingLanguage {name: $form.node_val2})\n",
    "\n",
    "            MATCH (other)-[r:PROGRAMMING]->(b)\n",
    "            MERGE (other)-[r2:PROGRAMMING]->(a)\n",
    "            SET r2 = r\n",
    "            DELETE r\n",
    "        \n",
    "        DETACH delete b\n",
    "        return a.name, r2.exp\n",
    "        \"\"\"\n",
    "\n",
    "            \n",
    "        \n",
    "        if keep != change:\n",
    "            form = {\n",
    "\n",
    "                \"node_val1\": keep,\n",
    "                \"node_val2\": change,\n",
    "\n",
    "            }\n",
    "            result = neo4j_graph.query(query, params={\"form\": form})\n",
    "            print(result)\n",
    "            i+=1"
   ]
  },
  {
   "cell_type": "code",
   "execution_count": 62,
   "metadata": {},
   "outputs": [
    {
     "name": "stdout",
     "output_type": "stream",
     "text": [
      "[{'r2.level': 'bachelor'}, {'r2.level': 'bachelor'}, {'r2.level': 'bachelor'}, {'r2.level': 'bachelor'}, {'r2.level': 'bachelor'}, {'r2.level': 'bachelor'}, {'r2.level': 'undergraduate'}, {'r2.level': 'bachelor'}, {'r2.level': 'bachelor'}, {'r2.level': 'bachelor'}, {'r2.level': 'bachelor'}, {'r2.level': 'undergraduate'}, {'r2.level': 'undergraduate'}, {'r2.level': 'bachelor'}, {'r2.level': 'undergraduate'}, {'r2.level': 'bachelor'}, {'r2.level': 'bachelor'}, {'r2.level': 'bachelor'}, {'r2.level': 'bachelor'}, {'r2.level': 'bachelor'}, {'r2.level': 'undergraduate'}, {'r2.level': 'bachelor'}, {'r2.level': 'bachelor'}, {'r2.level': 'bachelor'}, {'r2.level': 'bachelor'}, {'r2.level': 'bachelor'}, {'r2.level': 'bachelor'}, {'r2.level': 'undergraduate'}, {'r2.level': 'bachelor'}, {'r2.level': 'bachelor'}, {'r2.level': 'bachelor'}]\n",
      "[{'r2.level': 'bachelor'}, {'r2.level': 'bachelor'}, {'r2.level': 'bachelor'}, {'r2.level': 'certificate'}, {'r2.level': 'bachelor'}, {'r2.level': 'bachelor'}, {'r2.level': 'bachelor'}]\n",
      "[{'r2.level': 'bachelor'}, {'r2.level': 'bachelor'}, {'r2.level': 'bachelor'}, {'r2.level': 'bachelor'}, {'r2.level': 'bachelor'}, {'r2.level': 'bachelor'}, {'r2.level': 'bachelor'}, {'r2.level': 'bachelor'}, {'r2.level': 'bachelor'}, {'r2.level': 'bachelor'}, {'r2.level': 'phd'}, {'r2.level': 'undergraduate'}, {'r2.level': 'bachelor'}]\n",
      "[{'r2.level': 'bachelor'}, {'r2.level': 'undergraduate'}, {'r2.level': 'bachelor'}, {'r2.level': 'bachelor'}]\n",
      "[{'r2.level': 'bachelor'}]\n",
      "[{'r2.level': 'bachelor'}]\n",
      "[{'r2.level': 'bachelor'}]\n",
      "[{'r2.level': 'bachelor'}]\n",
      "[{'r2.level': 'bachelor'}]\n",
      "[{'r2.level': 'bachelor'}]\n",
      "[{'r2.level': 'undergraduate'}]\n",
      "[{'r2.level': 'undergraduate'}]\n",
      "[{'r2.level': 'bachelor'}, {'r2.level': 'undergraduate'}]\n",
      "[{'r2.level': 'bachelor'}]\n",
      "[{'r2.level': 'bachelor'}, {'r2.level': 'bachelor'}]\n",
      "[{'r2.level': 'bachelor'}]\n",
      "[{'r2.level': 'bachelor'}]\n",
      "[{'r2.level': 'bachelor'}]\n",
      "[{'r2.level': 'bachelor'}, {'r2.level': 'master'}]\n",
      "[{'r2.level': 'undergraduate'}, {'r2.level': 'undergraduate'}]\n",
      "[{'r2.level': 'bachelor'}]\n"
     ]
    }
   ],
   "source": [
    "i = 0\n",
    "for keep, changes in change_major.items():\n",
    "    for change in changes:\n",
    "        \n",
    "        query = \"\"\"\n",
    "        MATCH (a: Major {name: $form.node_val1}), (b: Major {name: $form.node_val2})\n",
    "\n",
    "            MATCH (other)-[r:MAJOR ]->(b)\n",
    "            MERGE (other)-[r2:MAJOR ]->(a)\n",
    "            SET r2 = r\n",
    "            DELETE r\n",
    "        \n",
    "        DETACH delete b\n",
    "        return r2.level\n",
    "        \"\"\"\n",
    "\n",
    "            \n",
    "        \n",
    "        if keep != change:\n",
    "            form = {\n",
    "\n",
    "                \"node_val1\": keep,\n",
    "                \"node_val2\": change,\n",
    "\n",
    "            }\n",
    "            result = neo4j_graph.query(query, params={\"form\": form})\n",
    "            print(result)\n",
    "            i+=1"
   ]
  },
  {
   "cell_type": "code",
   "execution_count": 63,
   "metadata": {},
   "outputs": [
    {
     "name": "stdout",
     "output_type": "stream",
     "text": [
      "[{'a': {'name': 'content writing'}}, {'a': {'name': 'content writing'}}, {'a': {'name': 'content writing'}}, {'a': {'name': 'content writing'}}]\n",
      "[{'a': {'name': 'content writing'}}]\n",
      "[{'a': {'name': 'data analysis'}}, {'a': {'name': 'data analysis'}}]\n",
      "[{'a': {'name': 'data analysis'}}]\n",
      "[{'a': {'name': 'data analysis'}}]\n",
      "[{'a': {'name': 'data analysis'}}, {'a': {'name': 'data analysis'}}]\n",
      "[{'a': {'name': 'data analysis'}}]\n",
      "[{'a': {'name': 'data analysis'}}]\n",
      "[{'a': {'name': 'data analysis'}}]\n",
      "[{'a': {'name': 'data analysis'}}]\n",
      "[{'a': {'name': 'data analysis'}}, {'a': {'name': 'data analysis'}}]\n",
      "[{'a': {'name': 'teamwork skills'}}, {'a': {'name': 'teamwork skills'}}, {'a': {'name': 'teamwork skills'}}, {'a': {'name': 'teamwork skills'}}, {'a': {'name': 'teamwork skills'}}, {'a': {'name': 'teamwork skills'}}, {'a': {'name': 'teamwork skills'}}, {'a': {'name': 'teamwork skills'}}, {'a': {'name': 'teamwork skills'}}, {'a': {'name': 'teamwork skills'}}, {'a': {'name': 'teamwork skills'}}, {'a': {'name': 'teamwork skills'}}, {'a': {'name': 'teamwork skills'}}, {'a': {'name': 'teamwork skills'}}, {'a': {'name': 'teamwork skills'}}, {'a': {'name': 'teamwork skills'}}, {'a': {'name': 'teamwork skills'}}, {'a': {'name': 'teamwork skills'}}, {'a': {'name': 'teamwork skills'}}, {'a': {'name': 'teamwork skills'}}, {'a': {'name': 'teamwork skills'}}, {'a': {'name': 'teamwork skills'}}, {'a': {'name': 'teamwork skills'}}, {'a': {'name': 'teamwork skills'}}]\n",
      "[{'a': {'name': 'teamwork skills'}}]\n",
      "[{'a': {'name': 'teamwork skills'}}]\n",
      "[{'a': {'name': 'teamwork skills'}}]\n",
      "[{'a': {'name': 'organization'}}]\n",
      "[{'a': {'name': 'task management'}}]\n",
      "[{'a': {'name': 'task management'}}]\n",
      "[{'a': {'name': 'team leadership'}}, {'a': {'name': 'team leadership'}}, {'a': {'name': 'team leadership'}}]\n",
      "[{'a': {'name': 'team leadership'}}]\n",
      "[{'a': {'name': 'team leadership'}}, {'a': {'name': 'team leadership'}}, {'a': {'name': 'team leadership'}}, {'a': {'name': 'team leadership'}}]\n",
      "[{'a': {'name': 'legal compliance'}}, {'a': {'name': 'legal compliance'}}]\n",
      "[{'a': {'name': 'analytical thinking'}}, {'a': {'name': 'analytical thinking'}}]\n",
      "[{'a': {'name': 'communicating'}}, {'a': {'name': 'communicating'}}, {'a': {'name': 'communicating'}}, {'a': {'name': 'communicating'}}, {'a': {'name': 'communicating'}}, {'a': {'name': 'communicating'}}, {'a': {'name': 'communicating'}}, {'a': {'name': 'communicating'}}, {'a': {'name': 'communicating'}}, {'a': {'name': 'communicating'}}, {'a': {'name': 'communicating'}}, {'a': {'name': 'communicating'}}, {'a': {'name': 'communicating'}}, {'a': {'name': 'communicating'}}, {'a': {'name': 'communicating'}}]\n",
      "[{'a': {'name': 'communicating'}}]\n",
      "[{'a': {'name': 'communicating'}}]\n",
      "[{'a': {'name': 'scripting'}}]\n",
      "[{'a': {'name': 'video recording'}}]\n",
      "[{'a': {'name': 'video recording'}}]\n",
      "[{'a': {'name': 'video recording'}}]\n",
      "[{'a': {'name': 'agile scrum'}}, {'a': {'name': 'agile scrum'}}]\n",
      "[{'a': {'name': 'agile scrum'}}, {'a': {'name': 'agile scrum'}}, {'a': {'name': 'agile scrum'}}]\n",
      "[{'a': {'name': 'capcut editing'}}, {'a': {'name': 'capcut editing'}}, {'a': {'name': 'capcut editing'}}]\n",
      "[{'a': {'name': 'capcut editing'}}]\n",
      "[{'a': {'name': 'capcut editing'}}, {'a': {'name': 'capcut editing'}}]\n",
      "[{'a': {'name': 'visualization'}}, {'a': {'name': 'visualization'}}, {'a': {'name': 'visualization'}}, {'a': {'name': 'visualization'}}, {'a': {'name': 'visualization'}}, {'a': {'name': 'visualization'}}, {'a': {'name': 'visualization'}}, {'a': {'name': 'visualization'}}, {'a': {'name': 'visualization'}}]\n",
      "[{'a': {'name': 'ux design'}}, {'a': {'name': 'ux design'}}, {'a': {'name': 'ux design'}}, {'a': {'name': 'ux design'}}]\n",
      "[{'a': {'name': 'ui design'}}, {'a': {'name': 'ui design'}}, {'a': {'name': 'ui design'}}, {'a': {'name': 'ui design'}}, {'a': {'name': 'ui design'}}, {'a': {'name': 'ui design'}}, {'a': {'name': 'ui design'}}, {'a': {'name': 'ui design'}}]\n",
      "[{'a': {'name': 'ui design'}}]\n",
      "[{'a': {'name': 'ui design'}}, {'a': {'name': 'ui design'}}, {'a': {'name': 'ui design'}}, {'a': {'name': 'ui design'}}, {'a': {'name': 'ui design'}}]\n",
      "[{'a': {'name': 'sql server'}}, {'a': {'name': 'sql server'}}, {'a': {'name': 'sql server'}}, {'a': {'name': 'sql server'}}]\n",
      "[{'a': {'name': 'recommendation engine'}}]\n",
      "[{'a': {'name': 'cloud services'}}, {'a': {'name': 'cloud services'}}, {'a': {'name': 'cloud services'}}, {'a': {'name': 'cloud services'}}, {'a': {'name': 'cloud services'}}, {'a': {'name': 'cloud services'}}]\n",
      "[{'a': {'name': 'cloud services'}}]\n",
      "[{'a': {'name': 'cloud services'}}, {'a': {'name': 'cloud services'}}, {'a': {'name': 'cloud services'}}, {'a': {'name': 'cloud services'}}]\n",
      "[{'a': {'name': 'apache kafka'}}, {'a': {'name': 'apache kafka'}}, {'a': {'name': 'apache kafka'}}, {'a': {'name': 'apache kafka'}}]\n",
      "[{'a': {'name': 'apache airflow'}}, {'a': {'name': 'apache airflow'}}]\n",
      "[{'a': {'name': 'networking'}}]\n",
      "[{'a': {'name': 'linux operating system'}}, {'a': {'name': 'linux operating system'}}, {'a': {'name': 'linux operating system'}}, {'a': {'name': 'linux operating system'}}]\n",
      "[{'a': {'name': 'microsoft office suite'}}]\n",
      "[{'a': {'name': 'microsoft office suite'}}, {'a': {'name': 'microsoft office suite'}}, {'a': {'name': 'microsoft office suite'}}, {'a': {'name': 'microsoft office suite'}}, {'a': {'name': 'microsoft office suite'}}, {'a': {'name': 'microsoft office suite'}}, {'a': {'name': 'microsoft office suite'}}]\n",
      "[{'a': {'name': 'microsoft office suite'}}, {'a': {'name': 'microsoft office suite'}}, {'a': {'name': 'microsoft office suite'}}, {'a': {'name': 'microsoft office suite'}}, {'a': {'name': 'microsoft office suite'}}, {'a': {'name': 'microsoft office suite'}}, {'a': {'name': 'microsoft office suite'}}, {'a': {'name': 'microsoft office suite'}}, {'a': {'name': 'microsoft office suite'}}]\n",
      "[{'a': {'name': 'microsoft office suite'}}, {'a': {'name': 'microsoft office suite'}}, {'a': {'name': 'microsoft office suite'}}]\n",
      "[{'a': {'name': 'microsoft office suite'}}, {'a': {'name': 'microsoft office suite'}}]\n",
      "[{'a': {'name': 'microsoft office suite'}}]\n",
      "[{'a': {'name': 'microsoft office suite'}}, {'a': {'name': 'microsoft office suite'}}]\n",
      "[{'a': {'name': 'microsoft office suite'}}]\n",
      "[{'a': {'name': 'microsoft office suite'}}]\n",
      "[{'a': {'name': 'microsoft office suite'}}]\n",
      "[{'a': {'name': 'website development'}}, {'a': {'name': 'website development'}}, {'a': {'name': 'website development'}}, {'a': {'name': 'website development'}}, {'a': {'name': 'website development'}}, {'a': {'name': 'website development'}}, {'a': {'name': 'website development'}}, {'a': {'name': 'website development'}}, {'a': {'name': 'website development'}}, {'a': {'name': 'website development'}}, {'a': {'name': 'website development'}}, {'a': {'name': 'website development'}}, {'a': {'name': 'website development'}}]\n",
      "[{'a': {'name': 'website development'}}]\n",
      "[{'a': {'name': 'microsoft powerpoint'}}, {'a': {'name': 'microsoft powerpoint'}}]\n",
      "[{'a': {'name': 'microsoft powerpoint'}}, {'a': {'name': 'microsoft powerpoint'}}, {'a': {'name': 'microsoft powerpoint'}}]\n",
      "[{'a': {'name': 'canva design'}}, {'a': {'name': 'canva design'}}, {'a': {'name': 'canva design'}}, {'a': {'name': 'canva design'}}, {'a': {'name': 'canva design'}}, {'a': {'name': 'canva design'}}]\n",
      "[{'a': {'name': 'canva design'}}]\n",
      "[{'a': {'name': 'market research'}}]\n",
      "[{'a': {'name': 'notion)'}}]\n",
      "[{'a': {'name': 'presenting'}}, {'a': {'name': 'presenting'}}, {'a': {'name': 'presenting'}}, {'a': {'name': 'presenting'}}, {'a': {'name': 'presenting'}}, {'a': {'name': 'presenting'}}, {'a': {'name': 'presenting'}}, {'a': {'name': 'presenting'}}, {'a': {'name': 'presenting'}}, {'a': {'name': 'presenting'}}]\n",
      "[{'a': {'name': 'presenting'}}]\n",
      "[{'a': {'name': 'solving skills'}}, {'a': {'name': 'solving skills'}}, {'a': {'name': 'solving skills'}}, {'a': {'name': 'solving skills'}}, {'a': {'name': 'solving skills'}}, {'a': {'name': 'solving skills'}}]\n",
      "[{'a': {'name': 'solving skills'}}, {'a': {'name': 'solving skills'}}, {'a': {'name': 'solving skills'}}, {'a': {'name': 'solving skills'}}, {'a': {'name': 'solving skills'}}, {'a': {'name': 'solving skills'}}, {'a': {'name': 'solving skills'}}]\n",
      "[{'a': {'name': 'logical & critical thinking'}}, {'a': {'name': 'logical & critical thinking'}}, {'a': {'name': 'logical & critical thinking'}}, {'a': {'name': 'logical & critical thinking'}}, {'a': {'name': 'logical & critical thinking'}}]\n",
      "[{'a': {'name': 'logical & critical thinking'}}, {'a': {'name': 'logical & critical thinking'}}]\n",
      "[{'a': {'name': 'analytical'}}]\n",
      "[{'a': {'name': 'marketing strategy development'}}]\n",
      "[{'a': {'name': 'microservices architecture'}}, {'a': {'name': 'microservices architecture'}}, {'a': {'name': 'microservices architecture'}}]\n",
      "[{'a': {'name': 'photoshop'}}, {'a': {'name': 'photoshop'}}]\n",
      "[{'a': {'name': 'big data processing'}}]\n",
      "[{'a': {'name': 'processing'}}, {'a': {'name': 'processing'}}]\n",
      "[{'a': {'name': 'image design'}}, {'a': {'name': 'image design'}}]\n",
      "[{'a': {'name': 'redux toolkit'}}, {'a': {'name': 'redux toolkit'}}, {'a': {'name': 'redux toolkit'}}, {'a': {'name': 'redux toolkit'}}]\n",
      "[{'a': {'name': 'redux toolkit'}}]\n",
      "[{'a': {'name': 'react.js'}}, {'a': {'name': 'react.js'}}, {'a': {'name': 'react.js'}}, {'a': {'name': 'react.js'}}, {'a': {'name': 'react.js'}}]\n",
      "[{'a': {'name': 'react.js'}}]\n",
      "[{'a': {'name': 'adapting'}}, {'a': {'name': 'adapting'}}, {'a': {'name': 'adapting'}}]\n",
      "[{'a': {'name': 'time management skills'}}, {'a': {'name': 'time management skills'}}, {'a': {'name': 'time management skills'}}, {'a': {'name': 'time management skills'}}, {'a': {'name': 'time management skills'}}, {'a': {'name': 'time management skills'}}, {'a': {'name': 'time management skills'}}, {'a': {'name': 'time management skills'}}, {'a': {'name': 'time management skills'}}, {'a': {'name': 'time management skills'}}, {'a': {'name': 'time management skills'}}]\n",
      "[{'a': {'name': 'databases'}}]\n",
      "[{'a': {'name': 'website design'}}]\n",
      "[{'a': {'name': 'spss statistics'}}]\n",
      "[{'a': {'name': 'rest apis'}}]\n",
      "[{'a': {'name': 'mvvm design pattern'}}]\n",
      "[{'a': {'name': 'google cloud platform'}}]\n",
      "[{'a': {'name': 'google cloud platform'}}]\n",
      "[{'a': {'name': 'software development life cycle'}}, {'a': {'name': 'software development life cycle'}}]\n",
      "[{'a': {'name': 'user story)'}}]\n",
      "[{'a': {'name': 'android development'}}, {'a': {'name': 'android development'}}]\n",
      "[{'a': {'name': 'android development'}}]\n",
      "[{'a': {'name': 'power bi'}}]\n",
      "[{'a': {'name': 'power bi'}}]\n",
      "[{'a': {'name': 'campaign planning'}}]\n",
      "[{'a': {'name': 'node.js'}}]\n",
      "[{'a': {'name': 'creativity'}}]\n",
      "[{'a': {'name': 'database management systems'}}, {'a': {'name': 'database management systems'}}, {'a': {'name': 'database management systems'}}, {'a': {'name': 'database management systems'}}, {'a': {'name': 'database management systems'}}]\n",
      "[{'a': {'name': '.net core'}}, {'a': {'name': '.net core'}}]\n",
      "[{'a': {'name': 'monitoring'}}]\n",
      "[{'a': {'name': 'authentication'}}, {'a': {'name': 'authentication'}}]\n",
      "[{'a': {'name': 'contract negotiation'}}]\n",
      "[{'a': {'name': 'event organization'}}]\n",
      "[{'a': {'name': 'responsive design'}}]\n",
      "[{'a': {'name': 'express.js'}}]\n",
      "[{'a': {'name': 'web servers'}}]\n"
     ]
    }
   ],
   "source": [
    "i = 0\n",
    "for keep, changes in change_skills.items():\n",
    "    for change in changes:\n",
    "        \n",
    "        query = \"\"\"\n",
    "        MATCH (a: Skill {name: $form.node_val1}), (b: Skill {name: $form.node_val2})\n",
    "\n",
    "            MATCH (other)-[r:SKILL ]->(b)\n",
    "            MERGE (other)-[r2:SKILL ]->(a)\n",
    "            SET r2 = r\n",
    "            DELETE r\n",
    "        \n",
    "        DETACH delete b\n",
    "        return a\n",
    "        \"\"\"\n",
    "\n",
    "            \n",
    "        \n",
    "        if keep != change:\n",
    "            form = {\n",
    "\n",
    "                \"node_val1\": keep,\n",
    "                \"node_val2\": change,\n",
    "\n",
    "            }\n",
    "            result = neo4j_graph.query(query, params={\"form\": form})\n",
    "            print(result)\n",
    "            i+=1"
   ]
  },
  {
   "cell_type": "code",
   "execution_count": 64,
   "metadata": {},
   "outputs": [
    {
     "name": "stdout",
     "output_type": "stream",
     "text": [
      "[{'a': {'name': 'operations manager'}}]\n",
      "[{'a': {'name': 'operations manager'}}]\n",
      "[{'a': {'name': 'backend developer '}}, {'a': {'name': 'backend developer '}}, {'a': {'name': 'backend developer '}}, {'a': {'name': 'backend developer '}}, {'a': {'name': 'backend developer '}}, {'a': {'name': 'backend developer '}}, {'a': {'name': 'backend developer '}}, {'a': {'name': 'backend developer '}}, {'a': {'name': 'backend developer '}}, {'a': {'name': 'backend developer '}}, {'a': {'name': 'backend developer '}}, {'a': {'name': 'backend developer '}}, {'a': {'name': 'backend developer '}}, {'a': {'name': 'backend developer '}}, {'a': {'name': 'backend developer '}}, {'a': {'name': 'backend developer '}}, {'a': {'name': 'backend developer '}}, {'a': {'name': 'backend developer '}}, {'a': {'name': 'backend developer '}}, {'a': {'name': 'backend developer '}}, {'a': {'name': 'backend developer '}}, {'a': {'name': 'backend developer '}}, {'a': {'name': 'backend developer '}}, {'a': {'name': 'backend developer '}}, {'a': {'name': 'backend developer '}}, {'a': {'name': 'backend developer '}}, {'a': {'name': 'backend developer '}}, {'a': {'name': 'backend developer '}}, {'a': {'name': 'backend developer '}}, {'a': {'name': 'backend developer '}}, {'a': {'name': 'backend developer '}}, {'a': {'name': 'backend developer '}}, {'a': {'name': 'backend developer '}}, {'a': {'name': 'backend developer '}}, {'a': {'name': 'backend developer '}}, {'a': {'name': 'backend developer '}}, {'a': {'name': 'backend developer '}}, {'a': {'name': 'backend developer '}}, {'a': {'name': 'backend developer '}}, {'a': {'name': 'backend developer '}}, {'a': {'name': 'backend developer '}}, {'a': {'name': 'backend developer '}}, {'a': {'name': 'backend developer '}}, {'a': {'name': 'backend developer '}}, {'a': {'name': 'backend developer '}}, {'a': {'name': 'backend developer '}}, {'a': {'name': 'backend developer '}}, {'a': {'name': 'backend developer '}}, {'a': {'name': 'backend developer '}}, {'a': {'name': 'backend developer '}}, {'a': {'name': 'backend developer '}}, {'a': {'name': 'backend developer '}}, {'a': {'name': 'backend developer '}}, {'a': {'name': 'backend developer '}}, {'a': {'name': 'backend developer '}}, {'a': {'name': 'backend developer '}}, {'a': {'name': 'backend developer '}}, {'a': {'name': 'backend developer '}}, {'a': {'name': 'backend developer '}}, {'a': {'name': 'backend developer '}}, {'a': {'name': 'backend developer '}}, {'a': {'name': 'backend developer '}}, {'a': {'name': 'backend developer '}}, {'a': {'name': 'backend developer '}}, {'a': {'name': 'backend developer '}}, {'a': {'name': 'backend developer '}}, {'a': {'name': 'backend developer '}}, {'a': {'name': 'backend developer '}}, {'a': {'name': 'backend developer '}}, {'a': {'name': 'backend developer '}}, {'a': {'name': 'backend developer '}}, {'a': {'name': 'backend developer '}}, {'a': {'name': 'backend developer '}}, {'a': {'name': 'backend developer '}}, {'a': {'name': 'backend developer '}}, {'a': {'name': 'backend developer '}}, {'a': {'name': 'backend developer '}}, {'a': {'name': 'backend developer '}}, {'a': {'name': 'backend developer '}}, {'a': {'name': 'backend developer '}}, {'a': {'name': 'backend developer '}}, {'a': {'name': 'backend developer '}}, {'a': {'name': 'backend developer '}}, {'a': {'name': 'backend developer '}}, {'a': {'name': 'backend developer '}}, {'a': {'name': 'backend developer '}}, {'a': {'name': 'backend developer '}}, {'a': {'name': 'backend developer '}}, {'a': {'name': 'backend developer '}}, {'a': {'name': 'backend developer '}}]\n",
      "[{'a': {'name': 'backend developer '}}]\n",
      "[{'a': {'name': 'backend developer '}}, {'a': {'name': 'backend developer '}}, {'a': {'name': 'backend developer '}}, {'a': {'name': 'backend developer '}}, {'a': {'name': 'backend developer '}}, {'a': {'name': 'backend developer '}}, {'a': {'name': 'backend developer '}}, {'a': {'name': 'backend developer '}}, {'a': {'name': 'backend developer '}}, {'a': {'name': 'backend developer '}}, {'a': {'name': 'backend developer '}}, {'a': {'name': 'backend developer '}}, {'a': {'name': 'backend developer '}}, {'a': {'name': 'backend developer '}}, {'a': {'name': 'backend developer '}}, {'a': {'name': 'backend developer '}}, {'a': {'name': 'backend developer '}}, {'a': {'name': 'backend developer '}}, {'a': {'name': 'backend developer '}}, {'a': {'name': 'backend developer '}}, {'a': {'name': 'backend developer '}}, {'a': {'name': 'backend developer '}}, {'a': {'name': 'backend developer '}}, {'a': {'name': 'backend developer '}}, {'a': {'name': 'backend developer '}}, {'a': {'name': 'backend developer '}}, {'a': {'name': 'backend developer '}}, {'a': {'name': 'backend developer '}}, {'a': {'name': 'backend developer '}}, {'a': {'name': 'backend developer '}}, {'a': {'name': 'backend developer '}}, {'a': {'name': 'backend developer '}}, {'a': {'name': 'backend developer '}}, {'a': {'name': 'backend developer '}}, {'a': {'name': 'backend developer '}}, {'a': {'name': 'backend developer '}}, {'a': {'name': 'backend developer '}}, {'a': {'name': 'backend developer '}}, {'a': {'name': 'backend developer '}}, {'a': {'name': 'backend developer '}}, {'a': {'name': 'backend developer '}}, {'a': {'name': 'backend developer '}}, {'a': {'name': 'backend developer '}}, {'a': {'name': 'backend developer '}}, {'a': {'name': 'backend developer '}}, {'a': {'name': 'backend developer '}}, {'a': {'name': 'backend developer '}}, {'a': {'name': 'backend developer '}}, {'a': {'name': 'backend developer '}}, {'a': {'name': 'backend developer '}}, {'a': {'name': 'backend developer '}}, {'a': {'name': 'backend developer '}}, {'a': {'name': 'backend developer '}}, {'a': {'name': 'backend developer '}}, {'a': {'name': 'backend developer '}}, {'a': {'name': 'backend developer '}}, {'a': {'name': 'backend developer '}}, {'a': {'name': 'backend developer '}}, {'a': {'name': 'backend developer '}}, {'a': {'name': 'backend developer '}}, {'a': {'name': 'backend developer '}}, {'a': {'name': 'backend developer '}}, {'a': {'name': 'backend developer '}}, {'a': {'name': 'backend developer '}}, {'a': {'name': 'backend developer '}}, {'a': {'name': 'backend developer '}}, {'a': {'name': 'backend developer '}}, {'a': {'name': 'backend developer '}}, {'a': {'name': 'backend developer '}}, {'a': {'name': 'backend developer '}}, {'a': {'name': 'backend developer '}}, {'a': {'name': 'backend developer '}}, {'a': {'name': 'backend developer '}}, {'a': {'name': 'backend developer '}}, {'a': {'name': 'backend developer '}}, {'a': {'name': 'backend developer '}}, {'a': {'name': 'backend developer '}}, {'a': {'name': 'backend developer '}}, {'a': {'name': 'backend developer '}}, {'a': {'name': 'backend developer '}}, {'a': {'name': 'backend developer '}}, {'a': {'name': 'backend developer '}}, {'a': {'name': 'backend developer '}}, {'a': {'name': 'backend developer '}}, {'a': {'name': 'backend developer '}}, {'a': {'name': 'backend developer '}}, {'a': {'name': 'backend developer '}}, {'a': {'name': 'backend developer '}}, {'a': {'name': 'backend developer '}}, {'a': {'name': 'backend developer '}}, {'a': {'name': 'backend developer '}}, {'a': {'name': 'backend developer '}}, {'a': {'name': 'backend developer '}}, {'a': {'name': 'backend developer '}}, {'a': {'name': 'backend developer '}}, {'a': {'name': 'backend developer '}}, {'a': {'name': 'backend developer '}}, {'a': {'name': 'backend developer '}}, {'a': {'name': 'backend developer '}}, {'a': {'name': 'backend developer '}}, {'a': {'name': 'backend developer '}}, {'a': {'name': 'backend developer '}}, {'a': {'name': 'backend developer '}}, {'a': {'name': 'backend developer '}}, {'a': {'name': 'backend developer '}}, {'a': {'name': 'backend developer '}}, {'a': {'name': 'backend developer '}}, {'a': {'name': 'backend developer '}}, {'a': {'name': 'backend developer '}}, {'a': {'name': 'backend developer '}}]\n",
      "[{'a': {'name': 'backend developer '}}]\n",
      "[{'a': {'name': 'backend developer '}}]\n",
      "[{'a': {'name': 'backend developer '}}]\n",
      "[{'a': {'name': 'backend developer '}}]\n",
      "[{'a': {'name': 'backend developer '}}]\n",
      "[{'a': {'name': 'full stack developer'}}, {'a': {'name': 'full stack developer'}}, {'a': {'name': 'full stack developer'}}, {'a': {'name': 'full stack developer'}}, {'a': {'name': 'full stack developer'}}, {'a': {'name': 'full stack developer'}}, {'a': {'name': 'full stack developer'}}, {'a': {'name': 'full stack developer'}}, {'a': {'name': 'full stack developer'}}, {'a': {'name': 'full stack developer'}}, {'a': {'name': 'full stack developer'}}, {'a': {'name': 'full stack developer'}}, {'a': {'name': 'full stack developer'}}, {'a': {'name': 'full stack developer'}}, {'a': {'name': 'full stack developer'}}, {'a': {'name': 'full stack developer'}}, {'a': {'name': 'full stack developer'}}, {'a': {'name': 'full stack developer'}}, {'a': {'name': 'full stack developer'}}, {'a': {'name': 'full stack developer'}}, {'a': {'name': 'full stack developer'}}, {'a': {'name': 'full stack developer'}}, {'a': {'name': 'full stack developer'}}, {'a': {'name': 'full stack developer'}}, {'a': {'name': 'full stack developer'}}, {'a': {'name': 'full stack developer'}}, {'a': {'name': 'full stack developer'}}, {'a': {'name': 'full stack developer'}}, {'a': {'name': 'full stack developer'}}, {'a': {'name': 'full stack developer'}}, {'a': {'name': 'full stack developer'}}, {'a': {'name': 'full stack developer'}}, {'a': {'name': 'full stack developer'}}, {'a': {'name': 'full stack developer'}}, {'a': {'name': 'full stack developer'}}, {'a': {'name': 'full stack developer'}}, {'a': {'name': 'full stack developer'}}, {'a': {'name': 'full stack developer'}}, {'a': {'name': 'full stack developer'}}, {'a': {'name': 'full stack developer'}}, {'a': {'name': 'full stack developer'}}, {'a': {'name': 'full stack developer'}}, {'a': {'name': 'full stack developer'}}, {'a': {'name': 'full stack developer'}}, {'a': {'name': 'full stack developer'}}, {'a': {'name': 'full stack developer'}}, {'a': {'name': 'full stack developer'}}, {'a': {'name': 'full stack developer'}}]\n",
      "[{'a': {'name': 'full stack developer'}}]\n",
      "[{'a': {'name': 'full stack developer'}}, {'a': {'name': 'full stack developer'}}]\n",
      "[{'a': {'name': 'full stack developer'}}]\n",
      "[{'a': {'name': 'event hosting & organization'}}]\n",
      "[{'a': {'name': 'event hosting & organization'}}, {'a': {'name': 'event hosting & organization'}}]\n",
      "[{'a': {'name': 'content creator'}}]\n",
      "[{'a': {'name': 'social media manager'}}, {'a': {'name': 'social media manager'}}, {'a': {'name': 'social media manager'}}, {'a': {'name': 'social media manager'}}, {'a': {'name': 'social media manager'}}, {'a': {'name': 'social media manager'}}]\n",
      "[{'a': {'name': 'project manager'}}, {'a': {'name': 'project manager'}}, {'a': {'name': 'project manager'}}, {'a': {'name': 'project manager'}}, {'a': {'name': 'project manager'}}, {'a': {'name': 'project manager'}}]\n",
      "[{'a': {'name': 'project manager'}}]\n",
      "[{'a': {'name': 'project manager'}}]\n",
      "[{'a': {'name': 'content writing'}}, {'a': {'name': 'content writing'}}]\n",
      "[{'a': {'name': 'hr manager'}}]\n",
      "[{'a': {'name': 'software engineering'}}, {'a': {'name': 'software engineering'}}, {'a': {'name': 'software engineering'}}, {'a': {'name': 'software engineering'}}, {'a': {'name': 'software engineering'}}, {'a': {'name': 'software engineering'}}, {'a': {'name': 'software engineering'}}, {'a': {'name': 'software engineering'}}, {'a': {'name': 'software engineering'}}, {'a': {'name': 'software engineering'}}, {'a': {'name': 'software engineering'}}, {'a': {'name': 'software engineering'}}, {'a': {'name': 'software engineering'}}, {'a': {'name': 'software engineering'}}, {'a': {'name': 'software engineering'}}, {'a': {'name': 'software engineering'}}, {'a': {'name': 'software engineering'}}, {'a': {'name': 'software engineering'}}, {'a': {'name': 'software engineering'}}, {'a': {'name': 'software engineering'}}, {'a': {'name': 'software engineering'}}, {'a': {'name': 'software engineering'}}, {'a': {'name': 'software engineering'}}, {'a': {'name': 'software engineering'}}, {'a': {'name': 'software engineering'}}, {'a': {'name': 'software engineering'}}, {'a': {'name': 'software engineering'}}, {'a': {'name': 'software engineering'}}, {'a': {'name': 'software engineering'}}, {'a': {'name': 'software engineering'}}, {'a': {'name': 'software engineering'}}, {'a': {'name': 'software engineering'}}, {'a': {'name': 'software engineering'}}, {'a': {'name': 'software engineering'}}, {'a': {'name': 'software engineering'}}, {'a': {'name': 'software engineering'}}, {'a': {'name': 'software engineering'}}, {'a': {'name': 'software engineering'}}, {'a': {'name': 'software engineering'}}, {'a': {'name': 'software engineering'}}, {'a': {'name': 'software engineering'}}, {'a': {'name': 'software engineering'}}, {'a': {'name': 'software engineering'}}, {'a': {'name': 'software engineering'}}, {'a': {'name': 'software engineering'}}, {'a': {'name': 'software engineering'}}, {'a': {'name': 'software engineering'}}, {'a': {'name': 'software engineering'}}, {'a': {'name': 'software engineering'}}, {'a': {'name': 'software engineering'}}, {'a': {'name': 'software engineering'}}, {'a': {'name': 'software engineering'}}, {'a': {'name': 'software engineering'}}, {'a': {'name': 'software engineering'}}, {'a': {'name': 'software engineering'}}, {'a': {'name': 'software engineering'}}, {'a': {'name': 'software engineering'}}, {'a': {'name': 'software engineering'}}, {'a': {'name': 'software engineering'}}, {'a': {'name': 'software engineering'}}, {'a': {'name': 'software engineering'}}, {'a': {'name': 'software engineering'}}, {'a': {'name': 'software engineering'}}, {'a': {'name': 'software engineering'}}, {'a': {'name': 'software engineering'}}, {'a': {'name': 'software engineering'}}, {'a': {'name': 'software engineering'}}, {'a': {'name': 'software engineering'}}, {'a': {'name': 'software engineering'}}, {'a': {'name': 'software engineering'}}, {'a': {'name': 'software engineering'}}, {'a': {'name': 'software engineering'}}, {'a': {'name': 'software engineering'}}, {'a': {'name': 'software engineering'}}, {'a': {'name': 'software engineering'}}, {'a': {'name': 'software engineering'}}, {'a': {'name': 'software engineering'}}, {'a': {'name': 'software engineering'}}, {'a': {'name': 'software engineering'}}, {'a': {'name': 'software engineering'}}, {'a': {'name': 'software engineering'}}, {'a': {'name': 'software engineering'}}, {'a': {'name': 'software engineering'}}, {'a': {'name': 'software engineering'}}, {'a': {'name': 'software engineering'}}, {'a': {'name': 'software engineering'}}, {'a': {'name': 'software engineering'}}, {'a': {'name': 'software engineering'}}, {'a': {'name': 'software engineering'}}, {'a': {'name': 'software engineering'}}, {'a': {'name': 'software engineering'}}, {'a': {'name': 'software engineering'}}, {'a': {'name': 'software engineering'}}, {'a': {'name': 'software engineering'}}, {'a': {'name': 'software engineering'}}, {'a': {'name': 'software engineering'}}, {'a': {'name': 'software engineering'}}, {'a': {'name': 'software engineering'}}, {'a': {'name': 'software engineering'}}, {'a': {'name': 'software engineering'}}, {'a': {'name': 'software engineering'}}, {'a': {'name': 'software engineering'}}, {'a': {'name': 'software engineering'}}, {'a': {'name': 'software engineering'}}, {'a': {'name': 'software engineering'}}, {'a': {'name': 'software engineering'}}, {'a': {'name': 'software engineering'}}, {'a': {'name': 'software engineering'}}, {'a': {'name': 'software engineering'}}, {'a': {'name': 'software engineering'}}, {'a': {'name': 'software engineering'}}, {'a': {'name': 'software engineering'}}, {'a': {'name': 'software engineering'}}, {'a': {'name': 'software engineering'}}, {'a': {'name': 'software engineering'}}, {'a': {'name': 'software engineering'}}, {'a': {'name': 'software engineering'}}, {'a': {'name': 'software engineering'}}, {'a': {'name': 'software engineering'}}, {'a': {'name': 'software engineering'}}, {'a': {'name': 'software engineering'}}, {'a': {'name': 'software engineering'}}, {'a': {'name': 'software engineering'}}, {'a': {'name': 'software engineering'}}, {'a': {'name': 'software engineering'}}, {'a': {'name': 'software engineering'}}, {'a': {'name': 'software engineering'}}, {'a': {'name': 'software engineering'}}, {'a': {'name': 'software engineering'}}, {'a': {'name': 'software engineering'}}, {'a': {'name': 'software engineering'}}, {'a': {'name': 'software engineering'}}, {'a': {'name': 'software engineering'}}, {'a': {'name': 'software engineering'}}, {'a': {'name': 'software engineering'}}, {'a': {'name': 'software engineering'}}, {'a': {'name': 'software engineering'}}, {'a': {'name': 'software engineering'}}, {'a': {'name': 'software engineering'}}, {'a': {'name': 'software engineering'}}, {'a': {'name': 'software engineering'}}, {'a': {'name': 'software engineering'}}, {'a': {'name': 'software engineering'}}, {'a': {'name': 'software engineering'}}, {'a': {'name': 'software engineering'}}, {'a': {'name': 'software engineering'}}, {'a': {'name': 'software engineering'}}, {'a': {'name': 'software engineering'}}, {'a': {'name': 'software engineering'}}, {'a': {'name': 'software engineering'}}, {'a': {'name': 'software engineering'}}, {'a': {'name': 'software engineering'}}, {'a': {'name': 'software engineering'}}, {'a': {'name': 'software engineering'}}, {'a': {'name': 'software engineering'}}, {'a': {'name': 'software engineering'}}, {'a': {'name': 'software engineering'}}, {'a': {'name': 'software engineering'}}, {'a': {'name': 'software engineering'}}, {'a': {'name': 'software engineering'}}, {'a': {'name': 'software engineering'}}, {'a': {'name': 'software engineering'}}, {'a': {'name': 'software engineering'}}, {'a': {'name': 'software engineering'}}, {'a': {'name': 'software engineering'}}, {'a': {'name': 'software engineering'}}, {'a': {'name': 'software engineering'}}, {'a': {'name': 'software engineering'}}, {'a': {'name': 'software engineering'}}, {'a': {'name': 'software engineering'}}, {'a': {'name': 'software engineering'}}, {'a': {'name': 'software engineering'}}, {'a': {'name': 'software engineering'}}, {'a': {'name': 'software engineering'}}, {'a': {'name': 'software engineering'}}, {'a': {'name': 'software engineering'}}, {'a': {'name': 'software engineering'}}, {'a': {'name': 'software engineering'}}, {'a': {'name': 'software engineering'}}, {'a': {'name': 'software engineering'}}, {'a': {'name': 'software engineering'}}, {'a': {'name': 'software engineering'}}, {'a': {'name': 'software engineering'}}, {'a': {'name': 'software engineering'}}, {'a': {'name': 'software engineering'}}, {'a': {'name': 'software engineering'}}, {'a': {'name': 'software engineering'}}, {'a': {'name': 'software engineering'}}, {'a': {'name': 'software engineering'}}, {'a': {'name': 'software engineering'}}, {'a': {'name': 'software engineering'}}, {'a': {'name': 'software engineering'}}, {'a': {'name': 'software engineering'}}, {'a': {'name': 'software engineering'}}, {'a': {'name': 'software engineering'}}, {'a': {'name': 'software engineering'}}, {'a': {'name': 'software engineering'}}, {'a': {'name': 'software engineering'}}, {'a': {'name': 'software engineering'}}, {'a': {'name': 'software engineering'}}, {'a': {'name': 'software engineering'}}, {'a': {'name': 'software engineering'}}, {'a': {'name': 'software engineering'}}, {'a': {'name': 'software engineering'}}, {'a': {'name': 'software engineering'}}, {'a': {'name': 'software engineering'}}, {'a': {'name': 'software engineering'}}, {'a': {'name': 'software engineering'}}, {'a': {'name': 'software engineering'}}, {'a': {'name': 'software engineering'}}, {'a': {'name': 'software engineering'}}, {'a': {'name': 'software engineering'}}, {'a': {'name': 'software engineering'}}, {'a': {'name': 'software engineering'}}, {'a': {'name': 'software engineering'}}, {'a': {'name': 'software engineering'}}, {'a': {'name': 'software engineering'}}, {'a': {'name': 'software engineering'}}, {'a': {'name': 'software engineering'}}, {'a': {'name': 'software engineering'}}, {'a': {'name': 'software engineering'}}, {'a': {'name': 'software engineering'}}, {'a': {'name': 'software engineering'}}, {'a': {'name': 'software engineering'}}, {'a': {'name': 'software engineering'}}, {'a': {'name': 'software engineering'}}, {'a': {'name': 'software engineering'}}, {'a': {'name': 'software engineering'}}, {'a': {'name': 'software engineering'}}, {'a': {'name': 'software engineering'}}, {'a': {'name': 'software engineering'}}, {'a': {'name': 'software engineering'}}, {'a': {'name': 'software engineering'}}, {'a': {'name': 'software engineering'}}, {'a': {'name': 'software engineering'}}, {'a': {'name': 'software engineering'}}, {'a': {'name': 'software engineering'}}, {'a': {'name': 'software engineering'}}, {'a': {'name': 'software engineering'}}, {'a': {'name': 'software engineering'}}, {'a': {'name': 'software engineering'}}, {'a': {'name': 'software engineering'}}, {'a': {'name': 'software engineering'}}, {'a': {'name': 'software engineering'}}, {'a': {'name': 'software engineering'}}, {'a': {'name': 'software engineering'}}, {'a': {'name': 'software engineering'}}, {'a': {'name': 'software engineering'}}, {'a': {'name': 'software engineering'}}, {'a': {'name': 'software engineering'}}, {'a': {'name': 'software engineering'}}, {'a': {'name': 'software engineering'}}, {'a': {'name': 'software engineering'}}, {'a': {'name': 'software engineering'}}, {'a': {'name': 'software engineering'}}, {'a': {'name': 'software engineering'}}, {'a': {'name': 'software engineering'}}, {'a': {'name': 'software engineering'}}, {'a': {'name': 'software engineering'}}, {'a': {'name': 'software engineering'}}, {'a': {'name': 'software engineering'}}, {'a': {'name': 'software engineering'}}, {'a': {'name': 'software engineering'}}, {'a': {'name': 'software engineering'}}, {'a': {'name': 'software engineering'}}, {'a': {'name': 'software engineering'}}, {'a': {'name': 'software engineering'}}, {'a': {'name': 'software engineering'}}, {'a': {'name': 'software engineering'}}, {'a': {'name': 'software engineering'}}, {'a': {'name': 'software engineering'}}, {'a': {'name': 'software engineering'}}, {'a': {'name': 'software engineering'}}, {'a': {'name': 'software engineering'}}, {'a': {'name': 'software engineering'}}, {'a': {'name': 'software engineering'}}, {'a': {'name': 'software engineering'}}, {'a': {'name': 'software engineering'}}, {'a': {'name': 'software engineering'}}, {'a': {'name': 'software engineering'}}, {'a': {'name': 'software engineering'}}, {'a': {'name': 'software engineering'}}, {'a': {'name': 'software engineering'}}, {'a': {'name': 'software engineering'}}, {'a': {'name': 'software engineering'}}, {'a': {'name': 'software engineering'}}, {'a': {'name': 'software engineering'}}, {'a': {'name': 'software engineering'}}, {'a': {'name': 'software engineering'}}, {'a': {'name': 'software engineering'}}, {'a': {'name': 'software engineering'}}, {'a': {'name': 'software engineering'}}, {'a': {'name': 'software engineering'}}, {'a': {'name': 'software engineering'}}, {'a': {'name': 'software engineering'}}, {'a': {'name': 'software engineering'}}, {'a': {'name': 'software engineering'}}, {'a': {'name': 'software engineering'}}, {'a': {'name': 'software engineering'}}, {'a': {'name': 'software engineering'}}, {'a': {'name': 'software engineering'}}, {'a': {'name': 'software engineering'}}, {'a': {'name': 'software engineering'}}, {'a': {'name': 'software engineering'}}, {'a': {'name': 'software engineering'}}, {'a': {'name': 'software engineering'}}, {'a': {'name': 'software engineering'}}, {'a': {'name': 'software engineering'}}, {'a': {'name': 'software engineering'}}, {'a': {'name': 'software engineering'}}, {'a': {'name': 'software engineering'}}, {'a': {'name': 'software engineering'}}, {'a': {'name': 'software engineering'}}, {'a': {'name': 'software engineering'}}, {'a': {'name': 'software engineering'}}, {'a': {'name': 'software engineering'}}, {'a': {'name': 'software engineering'}}, {'a': {'name': 'software engineering'}}, {'a': {'name': 'software engineering'}}, {'a': {'name': 'software engineering'}}, {'a': {'name': 'software engineering'}}, {'a': {'name': 'software engineering'}}]\n",
      "[{'a': {'name': 'brand marketing manager'}}, {'a': {'name': 'brand marketing manager'}}, {'a': {'name': 'brand marketing manager'}}, {'a': {'name': 'brand marketing manager'}}, {'a': {'name': 'brand marketing manager'}}, {'a': {'name': 'brand marketing manager'}}]\n",
      "[{'a': {'name': 'data analyst'}}, {'a': {'name': 'data analyst'}}, {'a': {'name': 'data analyst'}}, {'a': {'name': 'data analyst'}}, {'a': {'name': 'data analyst'}}, {'a': {'name': 'data analyst'}}, {'a': {'name': 'data analyst'}}, {'a': {'name': 'data analyst'}}, {'a': {'name': 'data analyst'}}, {'a': {'name': 'data analyst'}}, {'a': {'name': 'data analyst'}}, {'a': {'name': 'data analyst'}}, {'a': {'name': 'data analyst'}}, {'a': {'name': 'data analyst'}}, {'a': {'name': 'data analyst'}}, {'a': {'name': 'data analyst'}}, {'a': {'name': 'data analyst'}}, {'a': {'name': 'data analyst'}}, {'a': {'name': 'data analyst'}}, {'a': {'name': 'data analyst'}}, {'a': {'name': 'data analyst'}}, {'a': {'name': 'data analyst'}}, {'a': {'name': 'data analyst'}}, {'a': {'name': 'data analyst'}}, {'a': {'name': 'data analyst'}}, {'a': {'name': 'data analyst'}}, {'a': {'name': 'data analyst'}}, {'a': {'name': 'data analyst'}}, {'a': {'name': 'data analyst'}}, {'a': {'name': 'data analyst'}}, {'a': {'name': 'data analyst'}}, {'a': {'name': 'data analyst'}}, {'a': {'name': 'data analyst'}}, {'a': {'name': 'data analyst'}}, {'a': {'name': 'data analyst'}}, {'a': {'name': 'data analyst'}}, {'a': {'name': 'data analyst'}}, {'a': {'name': 'data analyst'}}, {'a': {'name': 'data analyst'}}, {'a': {'name': 'data analyst'}}, {'a': {'name': 'data analyst'}}, {'a': {'name': 'data analyst'}}, {'a': {'name': 'data analyst'}}, {'a': {'name': 'data analyst'}}, {'a': {'name': 'data analyst'}}, {'a': {'name': 'data analyst'}}, {'a': {'name': 'data analyst'}}, {'a': {'name': 'data analyst'}}, {'a': {'name': 'data analyst'}}, {'a': {'name': 'data analyst'}}, {'a': {'name': 'data analyst'}}, {'a': {'name': 'data analyst'}}, {'a': {'name': 'data analyst'}}, {'a': {'name': 'data analyst'}}, {'a': {'name': 'data analyst'}}, {'a': {'name': 'data analyst'}}, {'a': {'name': 'data analyst'}}, {'a': {'name': 'data analyst'}}, {'a': {'name': 'data analyst'}}, {'a': {'name': 'data analyst'}}, {'a': {'name': 'data analyst'}}, {'a': {'name': 'data analyst'}}, {'a': {'name': 'data analyst'}}, {'a': {'name': 'data analyst'}}, {'a': {'name': 'data analyst'}}, {'a': {'name': 'data analyst'}}, {'a': {'name': 'data analyst'}}, {'a': {'name': 'data analyst'}}, {'a': {'name': 'data analyst'}}, {'a': {'name': 'data analyst'}}, {'a': {'name': 'data analyst'}}, {'a': {'name': 'data analyst'}}, {'a': {'name': 'data analyst'}}, {'a': {'name': 'data analyst'}}, {'a': {'name': 'data analyst'}}, {'a': {'name': 'data analyst'}}, {'a': {'name': 'data analyst'}}, {'a': {'name': 'data analyst'}}, {'a': {'name': 'data analyst'}}, {'a': {'name': 'data analyst'}}, {'a': {'name': 'data analyst'}}, {'a': {'name': 'data analyst'}}, {'a': {'name': 'data analyst'}}, {'a': {'name': 'data analyst'}}, {'a': {'name': 'data analyst'}}, {'a': {'name': 'data analyst'}}, {'a': {'name': 'data analyst'}}, {'a': {'name': 'data analyst'}}, {'a': {'name': 'data analyst'}}, {'a': {'name': 'data analyst'}}, {'a': {'name': 'data analyst'}}, {'a': {'name': 'data analyst'}}, {'a': {'name': 'data analyst'}}, {'a': {'name': 'data analyst'}}, {'a': {'name': 'data analyst'}}, {'a': {'name': 'data analyst'}}, {'a': {'name': 'data analyst'}}, {'a': {'name': 'data analyst'}}, {'a': {'name': 'data analyst'}}, {'a': {'name': 'data analyst'}}, {'a': {'name': 'data analyst'}}, {'a': {'name': 'data analyst'}}, {'a': {'name': 'data analyst'}}, {'a': {'name': 'data analyst'}}, {'a': {'name': 'data analyst'}}, {'a': {'name': 'data analyst'}}, {'a': {'name': 'data analyst'}}, {'a': {'name': 'data analyst'}}, {'a': {'name': 'data analyst'}}, {'a': {'name': 'data analyst'}}, {'a': {'name': 'data analyst'}}, {'a': {'name': 'data analyst'}}, {'a': {'name': 'data analyst'}}, {'a': {'name': 'data analyst'}}, {'a': {'name': 'data analyst'}}, {'a': {'name': 'data analyst'}}, {'a': {'name': 'data analyst'}}, {'a': {'name': 'data analyst'}}, {'a': {'name': 'data analyst'}}, {'a': {'name': 'data analyst'}}, {'a': {'name': 'data analyst'}}, {'a': {'name': 'data analyst'}}, {'a': {'name': 'data analyst'}}, {'a': {'name': 'data analyst'}}, {'a': {'name': 'data analyst'}}, {'a': {'name': 'data analyst'}}, {'a': {'name': 'data analyst'}}, {'a': {'name': 'data analyst'}}, {'a': {'name': 'data analyst'}}, {'a': {'name': 'data analyst'}}, {'a': {'name': 'data analyst'}}, {'a': {'name': 'data analyst'}}, {'a': {'name': 'data analyst'}}, {'a': {'name': 'data analyst'}}, {'a': {'name': 'data analyst'}}, {'a': {'name': 'data analyst'}}, {'a': {'name': 'data analyst'}}, {'a': {'name': 'data analyst'}}, {'a': {'name': 'data analyst'}}, {'a': {'name': 'data analyst'}}, {'a': {'name': 'data analyst'}}, {'a': {'name': 'data analyst'}}, {'a': {'name': 'data analyst'}}, {'a': {'name': 'data analyst'}}, {'a': {'name': 'data analyst'}}, {'a': {'name': 'data analyst'}}, {'a': {'name': 'data analyst'}}, {'a': {'name': 'data analyst'}}, {'a': {'name': 'data analyst'}}, {'a': {'name': 'data analyst'}}, {'a': {'name': 'data analyst'}}, {'a': {'name': 'data analyst'}}, {'a': {'name': 'data analyst'}}, {'a': {'name': 'data analyst'}}]\n",
      "[{'a': {'name': 'data analyst'}}]\n",
      "[{'a': {'name': 'business analyst'}}]\n",
      "[{'a': {'name': 'business analyst'}}, {'a': {'name': 'business analyst'}}]\n",
      "[{'a': {'name': 'implementation consultant'}}]\n",
      "[{'a': {'name': 'data science'}}, {'a': {'name': 'data science'}}, {'a': {'name': 'data science'}}, {'a': {'name': 'data science'}}, {'a': {'name': 'data science'}}, {'a': {'name': 'data science'}}, {'a': {'name': 'data science'}}, {'a': {'name': 'data science'}}, {'a': {'name': 'data science'}}, {'a': {'name': 'data science'}}, {'a': {'name': 'data science'}}, {'a': {'name': 'data science'}}, {'a': {'name': 'data science'}}, {'a': {'name': 'data science'}}, {'a': {'name': 'data science'}}, {'a': {'name': 'data science'}}, {'a': {'name': 'data science'}}, {'a': {'name': 'data science'}}, {'a': {'name': 'data science'}}, {'a': {'name': 'data science'}}, {'a': {'name': 'data science'}}, {'a': {'name': 'data science'}}, {'a': {'name': 'data science'}}, {'a': {'name': 'data science'}}, {'a': {'name': 'data science'}}, {'a': {'name': 'data science'}}, {'a': {'name': 'data science'}}, {'a': {'name': 'data science'}}, {'a': {'name': 'data science'}}, {'a': {'name': 'data science'}}, {'a': {'name': 'data science'}}, {'a': {'name': 'data science'}}, {'a': {'name': 'data science'}}, {'a': {'name': 'data science'}}, {'a': {'name': 'data science'}}, {'a': {'name': 'data science'}}, {'a': {'name': 'data science'}}, {'a': {'name': 'data science'}}, {'a': {'name': 'data science'}}, {'a': {'name': 'data science'}}, {'a': {'name': 'data science'}}, {'a': {'name': 'data science'}}, {'a': {'name': 'data science'}}, {'a': {'name': 'data science'}}, {'a': {'name': 'data science'}}, {'a': {'name': 'data science'}}, {'a': {'name': 'data science'}}, {'a': {'name': 'data science'}}, {'a': {'name': 'data science'}}, {'a': {'name': 'data science'}}, {'a': {'name': 'data science'}}, {'a': {'name': 'data science'}}, {'a': {'name': 'data science'}}, {'a': {'name': 'data science'}}, {'a': {'name': 'data science'}}, {'a': {'name': 'data science'}}, {'a': {'name': 'data science'}}, {'a': {'name': 'data science'}}, {'a': {'name': 'data science'}}, {'a': {'name': 'data science'}}, {'a': {'name': 'data science'}}, {'a': {'name': 'data science'}}, {'a': {'name': 'data science'}}, {'a': {'name': 'data science'}}, {'a': {'name': 'data science'}}, {'a': {'name': 'data science'}}, {'a': {'name': 'data science'}}, {'a': {'name': 'data science'}}, {'a': {'name': 'data science'}}, {'a': {'name': 'data science'}}, {'a': {'name': 'data science'}}, {'a': {'name': 'data science'}}, {'a': {'name': 'data science'}}, {'a': {'name': 'data science'}}, {'a': {'name': 'data science'}}, {'a': {'name': 'data science'}}, {'a': {'name': 'data science'}}, {'a': {'name': 'data science'}}, {'a': {'name': 'data science'}}, {'a': {'name': 'data science'}}, {'a': {'name': 'data science'}}, {'a': {'name': 'data science'}}, {'a': {'name': 'data science'}}, {'a': {'name': 'data science'}}, {'a': {'name': 'data science'}}, {'a': {'name': 'data science'}}, {'a': {'name': 'data science'}}, {'a': {'name': 'data science'}}, {'a': {'name': 'data science'}}, {'a': {'name': 'data science'}}, {'a': {'name': 'data science'}}, {'a': {'name': 'data science'}}, {'a': {'name': 'data science'}}, {'a': {'name': 'data science'}}, {'a': {'name': 'data science'}}, {'a': {'name': 'data science'}}, {'a': {'name': 'data science'}}, {'a': {'name': 'data science'}}, {'a': {'name': 'data science'}}, {'a': {'name': 'data science'}}, {'a': {'name': 'data science'}}, {'a': {'name': 'data science'}}, {'a': {'name': 'data science'}}, {'a': {'name': 'data science'}}, {'a': {'name': 'data science'}}, {'a': {'name': 'data science'}}, {'a': {'name': 'data science'}}, {'a': {'name': 'data science'}}, {'a': {'name': 'data science'}}, {'a': {'name': 'data science'}}, {'a': {'name': 'data science'}}, {'a': {'name': 'data science'}}, {'a': {'name': 'data science'}}, {'a': {'name': 'data science'}}, {'a': {'name': 'data science'}}, {'a': {'name': 'data science'}}, {'a': {'name': 'data science'}}, {'a': {'name': 'data science'}}, {'a': {'name': 'data science'}}, {'a': {'name': 'data science'}}, {'a': {'name': 'data science'}}, {'a': {'name': 'data science'}}, {'a': {'name': 'data science'}}, {'a': {'name': 'data science'}}, {'a': {'name': 'data science'}}, {'a': {'name': 'data science'}}, {'a': {'name': 'data science'}}, {'a': {'name': 'data science'}}, {'a': {'name': 'data science'}}, {'a': {'name': 'data science'}}, {'a': {'name': 'data science'}}, {'a': {'name': 'data science'}}, {'a': {'name': 'data science'}}, {'a': {'name': 'data science'}}, {'a': {'name': 'data science'}}, {'a': {'name': 'data science'}}, {'a': {'name': 'data science'}}, {'a': {'name': 'data science'}}, {'a': {'name': 'data science'}}, {'a': {'name': 'data science'}}, {'a': {'name': 'data science'}}, {'a': {'name': 'data science'}}, {'a': {'name': 'data science'}}, {'a': {'name': 'data science'}}, {'a': {'name': 'data science'}}, {'a': {'name': 'data science'}}, {'a': {'name': 'data science'}}, {'a': {'name': 'data science'}}, {'a': {'name': 'data science'}}, {'a': {'name': 'data science'}}, {'a': {'name': 'data science'}}, {'a': {'name': 'data science'}}, {'a': {'name': 'data science'}}, {'a': {'name': 'data science'}}, {'a': {'name': 'data science'}}, {'a': {'name': 'data science'}}, {'a': {'name': 'data science'}}, {'a': {'name': 'data science'}}, {'a': {'name': 'data science'}}, {'a': {'name': 'data science'}}, {'a': {'name': 'data science'}}, {'a': {'name': 'data science'}}, {'a': {'name': 'data science'}}, {'a': {'name': 'data science'}}, {'a': {'name': 'data science'}}, {'a': {'name': 'data science'}}, {'a': {'name': 'data science'}}, {'a': {'name': 'data science'}}, {'a': {'name': 'data science'}}, {'a': {'name': 'data science'}}, {'a': {'name': 'data science'}}, {'a': {'name': 'data science'}}, {'a': {'name': 'data science'}}, {'a': {'name': 'data science'}}, {'a': {'name': 'data science'}}, {'a': {'name': 'data science'}}, {'a': {'name': 'data science'}}, {'a': {'name': 'data science'}}, {'a': {'name': 'data science'}}, {'a': {'name': 'data science'}}, {'a': {'name': 'data science'}}, {'a': {'name': 'data science'}}, {'a': {'name': 'data science'}}, {'a': {'name': 'data science'}}, {'a': {'name': 'data science'}}, {'a': {'name': 'data science'}}, {'a': {'name': 'data science'}}, {'a': {'name': 'data science'}}, {'a': {'name': 'data science'}}, {'a': {'name': 'data science'}}, {'a': {'name': 'data science'}}, {'a': {'name': 'data science'}}, {'a': {'name': 'data science'}}, {'a': {'name': 'data science'}}, {'a': {'name': 'data science'}}, {'a': {'name': 'data science'}}, {'a': {'name': 'data science'}}, {'a': {'name': 'data science'}}, {'a': {'name': 'data science'}}, {'a': {'name': 'data science'}}, {'a': {'name': 'data science'}}, {'a': {'name': 'data science'}}, {'a': {'name': 'data science'}}, {'a': {'name': 'data science'}}, {'a': {'name': 'data science'}}, {'a': {'name': 'data science'}}, {'a': {'name': 'data science'}}, {'a': {'name': 'data science'}}, {'a': {'name': 'data science'}}, {'a': {'name': 'data science'}}, {'a': {'name': 'data science'}}, {'a': {'name': 'data science'}}, {'a': {'name': 'data science'}}, {'a': {'name': 'data science'}}, {'a': {'name': 'data science'}}, {'a': {'name': 'data science'}}, {'a': {'name': 'data science'}}, {'a': {'name': 'data science'}}, {'a': {'name': 'data science'}}, {'a': {'name': 'data science'}}, {'a': {'name': 'data science'}}]\n",
      "[{'a': {'name': 'mobile application developer'}}, {'a': {'name': 'mobile application developer'}}, {'a': {'name': 'mobile application developer'}}, {'a': {'name': 'mobile application developer'}}, {'a': {'name': 'mobile application developer'}}, {'a': {'name': 'mobile application developer'}}, {'a': {'name': 'mobile application developer'}}, {'a': {'name': 'mobile application developer'}}, {'a': {'name': 'mobile application developer'}}, {'a': {'name': 'mobile application developer'}}, {'a': {'name': 'mobile application developer'}}, {'a': {'name': 'mobile application developer'}}, {'a': {'name': 'mobile application developer'}}, {'a': {'name': 'mobile application developer'}}, {'a': {'name': 'mobile application developer'}}, {'a': {'name': 'mobile application developer'}}, {'a': {'name': 'mobile application developer'}}, {'a': {'name': 'mobile application developer'}}]\n",
      "[{'a': {'name': 'mobile application developer'}}, {'a': {'name': 'mobile application developer'}}]\n",
      "[{'a': {'name': 'system administrator'}}]\n",
      "[{'a': {'name': 'business'}}]\n",
      "[{'a': {'name': 'entry-level position in software engineering'}}]\n",
      "[{'a': {'name': 'front end developer'}}, {'a': {'name': 'front end developer'}}, {'a': {'name': 'front end developer'}}, {'a': {'name': 'front end developer'}}, {'a': {'name': 'front end developer'}}, {'a': {'name': 'front end developer'}}, {'a': {'name': 'front end developer'}}, {'a': {'name': 'front end developer'}}, {'a': {'name': 'front end developer'}}, {'a': {'name': 'front end developer'}}, {'a': {'name': 'front end developer'}}, {'a': {'name': 'front end developer'}}, {'a': {'name': 'front end developer'}}, {'a': {'name': 'front end developer'}}, {'a': {'name': 'front end developer'}}, {'a': {'name': 'front end developer'}}, {'a': {'name': 'front end developer'}}, {'a': {'name': 'front end developer'}}, {'a': {'name': 'front end developer'}}, {'a': {'name': 'front end developer'}}, {'a': {'name': 'front end developer'}}, {'a': {'name': 'front end developer'}}, {'a': {'name': 'front end developer'}}, {'a': {'name': 'front end developer'}}, {'a': {'name': 'front end developer'}}, {'a': {'name': 'front end developer'}}, {'a': {'name': 'front end developer'}}, {'a': {'name': 'front end developer'}}, {'a': {'name': 'front end developer'}}, {'a': {'name': 'front end developer'}}, {'a': {'name': 'front end developer'}}, {'a': {'name': 'front end developer'}}, {'a': {'name': 'front end developer'}}, {'a': {'name': 'front end developer'}}, {'a': {'name': 'front end developer'}}, {'a': {'name': 'front end developer'}}, {'a': {'name': 'front end developer'}}, {'a': {'name': 'front end developer'}}, {'a': {'name': 'front end developer'}}, {'a': {'name': 'front end developer'}}, {'a': {'name': 'front end developer'}}, {'a': {'name': 'front end developer'}}, {'a': {'name': 'front end developer'}}, {'a': {'name': 'front end developer'}}, {'a': {'name': 'front end developer'}}, {'a': {'name': 'front end developer'}}, {'a': {'name': 'front end developer'}}, {'a': {'name': 'front end developer'}}, {'a': {'name': 'front end developer'}}]\n",
      "[{'a': {'name': 'front end developer'}}, {'a': {'name': 'front end developer'}}, {'a': {'name': 'front end developer'}}, {'a': {'name': 'front end developer'}}, {'a': {'name': 'front end developer'}}, {'a': {'name': 'front end developer'}}, {'a': {'name': 'front end developer'}}, {'a': {'name': 'front end developer'}}, {'a': {'name': 'front end developer'}}, {'a': {'name': 'front end developer'}}, {'a': {'name': 'front end developer'}}, {'a': {'name': 'front end developer'}}, {'a': {'name': 'front end developer'}}, {'a': {'name': 'front end developer'}}, {'a': {'name': 'front end developer'}}, {'a': {'name': 'front end developer'}}, {'a': {'name': 'front end developer'}}, {'a': {'name': 'front end developer'}}, {'a': {'name': 'front end developer'}}, {'a': {'name': 'front end developer'}}, {'a': {'name': 'front end developer'}}, {'a': {'name': 'front end developer'}}, {'a': {'name': 'front end developer'}}, {'a': {'name': 'front end developer'}}, {'a': {'name': 'front end developer'}}]\n",
      "[{'a': {'name': 'front end developer'}}]\n",
      "[{'a': {'name': 'communication & marketing'}}]\n",
      "[{'a': {'name': 'market research analyst'}}, {'a': {'name': 'market research analyst'}}, {'a': {'name': 'market research analyst'}}, {'a': {'name': 'market research analyst'}}]\n",
      "[{'a': {'name': ' developer'}}, {'a': {'name': ' developer'}}, {'a': {'name': ' developer'}}, {'a': {'name': ' developer'}}, {'a': {'name': ' developer'}}, {'a': {'name': ' developer'}}, {'a': {'name': ' developer'}}, {'a': {'name': ' developer'}}, {'a': {'name': ' developer'}}, {'a': {'name': ' developer'}}, {'a': {'name': ' developer'}}, {'a': {'name': ' developer'}}, {'a': {'name': ' developer'}}, {'a': {'name': ' developer'}}, {'a': {'name': ' developer'}}, {'a': {'name': ' developer'}}, {'a': {'name': ' developer'}}, {'a': {'name': ' developer'}}, {'a': {'name': ' developer'}}, {'a': {'name': ' developer'}}, {'a': {'name': ' developer'}}, {'a': {'name': ' developer'}}]\n",
      "[{'a': {'name': 'c# developer'}}, {'a': {'name': 'c# developer'}}]\n",
      "[{'a': {'name': 'digital marketing '}}, {'a': {'name': 'digital marketing '}}, {'a': {'name': 'digital marketing '}}, {'a': {'name': 'digital marketing '}}, {'a': {'name': 'digital marketing '}}, {'a': {'name': 'digital marketing '}}, {'a': {'name': 'digital marketing '}}, {'a': {'name': 'digital marketing '}}, {'a': {'name': 'digital marketing '}}]\n",
      "[{'a': {'name': 'java programmer'}}]\n",
      "[{'a': {'name': 'php developer'}}, {'a': {'name': 'php developer'}}]\n",
      "[{'a': {'name': 'team leader'}}]\n",
      "[{'a': {'name': 'team leader'}}]\n",
      "[{'a': {'name': 'event planning'}}, {'a': {'name': 'event planning'}}, {'a': {'name': 'event planning'}}, {'a': {'name': 'event planning'}}]\n",
      "[{'a': {'name': 'brand marketing executive'}}, {'a': {'name': 'brand marketing executive'}}, {'a': {'name': 'brand marketing executive'}}, {'a': {'name': 'brand marketing executive'}}, {'a': {'name': 'brand marketing executive'}}, {'a': {'name': 'brand marketing executive'}}]\n",
      "[{'a': {'name': 'accounting'}}, {'a': {'name': 'accounting'}}, {'a': {'name': 'accounting'}}, {'a': {'name': 'accounting'}}, {'a': {'name': 'accounting'}}, {'a': {'name': 'accounting'}}]\n",
      "[{'a': {'name': 'product manager'}}]\n",
      "[{'a': {'name': 'artificial intelligence engineer'}}]\n",
      "[{'a': {'name': 'artificial intelligence engineer'}}]\n",
      "[{'a': {'name': 'production planner'}}]\n",
      "[{'a': {'name': 'supervisor'}}]\n",
      "[{'a': {'name': 'ielts teacher'}}]\n",
      "[{'a': {'name': 'ui/ux designer'}}]\n",
      "[{'a': {'name': 'audit'}}]\n",
      "[{'a': {'name': 'devops engineer'}}]\n",
      "[{'a': {'name': 'account management'}}]\n"
     ]
    }
   ],
   "source": [
    "i = 0\n",
    "for keep, changes in role_change.items():\n",
    "    for change in changes:\n",
    "        \n",
    "        query = \"\"\"\n",
    "        MATCH (a: Role {name: $form.node_val1}), (b: Role {name: $form.node_val2})\n",
    "        With a,b\n",
    "            OPTIONAL MATCH (other)-[r:ROLE]->(b)\n",
    "            FOREACH (r in CASE WHEN other IS NULL THEN [] ELSE [r] END |\n",
    "                MERGE (other)-[r2:ROLE]->(a)\n",
    "                SET r2 = r\n",
    "                DELETE r\n",
    "            )\n",
    "            \n",
    "        \n",
    "        With a,b\n",
    "            OPTIONAL MATCH (other2)-[r3:SUITABLE]->(b)\n",
    "            FOREACH (r3 in CASE WHEN other2 IS NULL THEN [] ELSE [r3] END |\n",
    "                MERGE (other2)-[r4:SUITABLE]->(a)\n",
    "                SET r4 = r3\n",
    "                DELETE r3\n",
    "            )\n",
    "        \n",
    "        DETACH delete b\n",
    "        return a\n",
    "        \"\"\"\n",
    "\n",
    "\n",
    "        if keep != change:\n",
    "            form = {\n",
    "\n",
    "                \"node_val1\": keep,\n",
    "                \"node_val2\": change,\n",
    "\n",
    "            }\n",
    "            result = neo4j_graph.query(query, params={\"form\": form})\n",
    "            print(result)\n",
    "            i+=1"
   ]
  },
  {
   "cell_type": "code",
   "execution_count": null,
   "metadata": {},
   "outputs": [],
   "source": []
  },
  {
   "cell_type": "code",
   "execution_count": 65,
   "metadata": {},
   "outputs": [
    {
     "data": {
      "text/plain": [
       "['national economics university',\n",
       " 'national economic university',\n",
       " 'national economics university (neu)']"
      ]
     },
     "execution_count": 65,
     "metadata": {},
     "output_type": "execute_result"
    }
   ],
   "source": [
    "['national economics university',\n",
    "  'national economic university',\n",
    "  'national economics university (neu)']"
   ]
  },
  {
   "cell_type": "code",
   "execution_count": 66,
   "metadata": {},
   "outputs": [
    {
     "data": {
      "text/plain": [
       "[{'id(n)': 1067},\n",
       " {'id(n)': 972},\n",
       " {'id(n)': 1670},\n",
       " {'id(n)': 1220},\n",
       " {'id(n)': 748},\n",
       " {'id(n)': 1425},\n",
       " {'id(n)': 730},\n",
       " {'id(n)': 1525},\n",
       " {'id(n)': 1786},\n",
       " {'id(n)': 679},\n",
       " {'id(n)': 1739},\n",
       " {'id(n)': 1388},\n",
       " {'id(n)': 1319},\n",
       " {'id(n)': 637},\n",
       " {'id(n)': 1936},\n",
       " {'id(n)': 1437},\n",
       " {'id(n)': 1542},\n",
       " {'id(n)': 919},\n",
       " {'id(n)': 1104},\n",
       " {'id(n)': 1640},\n",
       " {'id(n)': 1939},\n",
       " {'id(n)': 269},\n",
       " {'id(n)': 996},\n",
       " {'id(n)': 282}]"
      ]
     },
     "execution_count": 66,
     "metadata": {},
     "output_type": "execute_result"
    }
   ],
   "source": [
    "query = \"\"\"\n",
    "MATCH (n:Application )-[r:STUDY]-> (a:Institution  {name: \"national economic university\"})\n",
    "return id(n)\n",
    "\"\"\"\n",
    "neo4j_graph.query(query)"
   ]
  },
  {
   "cell_type": "code",
   "execution_count": 67,
   "metadata": {},
   "outputs": [
    {
     "data": {
      "text/plain": [
       "[]"
      ]
     },
     "execution_count": 67,
     "metadata": {},
     "output_type": "execute_result"
    }
   ],
   "source": [
    "query = \"\"\"\n",
    "MATCH (n:Application)-[r:PROGRAMMING]-> (a:ProgrammingLanguage {name: \"spring boot\"})\n",
    "return id(n), r.exp\n",
    "\"\"\"\n",
    "neo4j_graph.query(query)"
   ]
  },
  {
   "cell_type": "code",
   "execution_count": 68,
   "metadata": {},
   "outputs": [
    {
     "data": {
      "text/plain": [
       "[{'id(n)': 1753, 'r.exp': 0.5},\n",
       " {'id(n)': 549, 'r.exp': 0.5},\n",
       " {'id(n)': 114, 'r.exp': 1},\n",
       " {'id(n)': 1200, 'r.exp': 2},\n",
       " {'id(n)': 1956, 'r.exp': 0.5},\n",
       " {'id(n)': 1675, 'r.exp': 2},\n",
       " {'id(n)': 1846, 'r.exp': 0.75},\n",
       " {'id(n)': 1837, 'r.exp': 0.5},\n",
       " {'id(n)': 1017, 'r.exp': 0.5},\n",
       " {'id(n)': 1398, 'r.exp': 0.5},\n",
       " {'id(n)': 946, 'r.exp': 1},\n",
       " {'id(n)': 570, 'r.exp': 1.5}]"
      ]
     },
     "execution_count": 68,
     "metadata": {},
     "output_type": "execute_result"
    }
   ],
   "source": [
    "query = \"\"\"\n",
    "MATCH  (n:Application)-[r:PROGRAMMING]->(a:ProgrammingLanguage {name: \"java spring boot\"})\n",
    "return id(n), r.exp\n",
    "\n",
    "\"\"\"\n",
    "neo4j_graph.query(query)"
   ]
  },
  {
   "cell_type": "code",
   "execution_count": null,
   "metadata": {},
   "outputs": [],
   "source": []
  },
  {
   "cell_type": "code",
   "execution_count": 100,
   "metadata": {},
   "outputs": [],
   "source": [
    "certifications = neo4j_graph.query(\n",
    "    \"\"\"\n",
    "    MATCH (p:Certification)\n",
    "    RETURN p.name as name\n",
    "    \"\"\"\n",
    ")\n",
    "\n",
    "certifications = [p[\"name\"] for p in certifications]\n",
    "\n",
    "awards = neo4j_graph.query(\n",
    "    \"\"\"\n",
    "    MATCH (p:Award)\n",
    "    RETURN p.name as name\n",
    "    \"\"\"\n",
    ")\n",
    "\n",
    "awards = [p[\"name\"] for p in awards]"
   ]
  },
  {
   "cell_type": "code",
   "execution_count": 101,
   "metadata": {},
   "outputs": [
    {
     "data": {
      "text/plain": [
       "['First prize for scientific research at the city level with the topic \"Building a business model for a youth-oriented enterprise\"',\n",
       " 'Problem Solving Skills (PACE Institute of Management)',\n",
       " 'Management for Middle Managers',\n",
       " '3Ps - Deployment techniques & salary system construction (Personal course)',\n",
       " 'HUST EXCELLENT STUDENT 20221',\n",
       " 'FPT Entrepreneurial Hackathon 2022 - Most Promising Group',\n",
       " 'President of VSB - Vietsoc Brighton (Vietnamese Student Association in Brighton, UK)',\n",
       " 'Leader of the Media Team at Sonder x Masterdating',\n",
       " 'DataCamp | SQL Server Developer',\n",
       " 'DataCamp | SQL Server for Database Administrators',\n",
       " 'Microsoft | Microsoft Azure Data Engineer Associate (DP-203)',\n",
       " 'DeepLearning.AI | Natural Language Processing in TensorFlow',\n",
       " 'CFA Institute | Data Science for Investment Professionals',\n",
       " 'HackerRank SQL, Python (Basic) Certificate',\n",
       " 'HackerRank Problem Solving (Intermediate) Certificate',\n",
       " 'Coursera Google Data Analytics Certificate',\n",
       " 'Coursera IBM Data Analyst Certificate',\n",
       " 'Coursera IBM Data Science Certificate',\n",
       " '2022 HackerRank Problem Solving (Basic)',\n",
       " '2022 HackerRank Python (Basic)',\n",
       " '2022 HackerRank SQL (Intermediate)',\n",
       " 'IELTS 6.5 (2022)',\n",
       " 'Microsoft Office Specialist (MOS) in Word (975 score) and Excel (880 score) (2016)',\n",
       " 'First-class Graduation Honor, Class of 2016',\n",
       " 'Stipendium Hungaricum Full Scholarship from the Government of Hungary',\n",
       " \"First position at National Conference of Students' Scientific Association, April 2015\",\n",
       " 'Morgan Stanley Scholarship 2015',\n",
       " '1st place at Hungarian ACM Programming Contest, October 2015',\n",
       " '2 DePuy Synthes Awards for excellent performance & support',\n",
       " 'Value creation & cost saving over $400,000 USD, approved & completed as a 6 Sigma project by DePuy Synthes',\n",
       " 'HCL award for having Exceptional performance in financial year 2023~2024',\n",
       " 'Completed Marketing Foundation course of Tomorrow Marketer Academy',\n",
       " 'Completed Content Marketing course of Hubspot Academy',\n",
       " 'IELTS Certification',\n",
       " 'Achieved the final score of 35% MRR, 53% Recall@5 and 64% Recall@10, results in rank 7th of the 7th AI City Challenge',\n",
       " 'Won the Impactful Social Business Idea Award',\n",
       " 'Attended as Finalist of Social Business Creation 2022',\n",
       " '2nd Place, Classification of plants of-Southeast Asia-ISODS Competitive Online (2022)',\n",
       " '100% tuition fee scholarship to study abroad in 2019',\n",
       " '30% tuition fee talent university scholarship',\n",
       " 'Completed Chinese language courses (HSK 5) and Marketing courses',\n",
       " 'TOEIC score of 700+',\n",
       " 'Top Four Finalists at Hack DFW PepsiCo-Sponsored Competition',\n",
       " 'Winners of the ASA DataFest 2022 at Southern Methodist University',\n",
       " '3rd-Placed room finalist at UTD Sales Program Rookie Preview',\n",
       " 'TOEIC Listening & Reading Certificate - 845 points',\n",
       " 'The Fundamentals of Digital Marketing by Google',\n",
       " 'Ranked among the top 260/470 teams in the ICPC Asia Regionals in December 2022',\n",
       " 'Third prize in the Vietnam Student Informatics Olympiad - Open source competition in December 2023',\n",
       " 'Champion of the 24h Programming Contest at Ho Chi Minh City Open University in April 2023',\n",
       " 'TOEIC 755',\n",
       " 'VSTEP B2',\n",
       " 'AWS (unspecified)',\n",
       " 'Top 50 Digital Business Contest organized by VECOM',\n",
       " \"TOP 3 AISC'21 organized by UIT\",\n",
       " 'New Student Scholarship',\n",
       " 'Research article on the Foreign Trade University e-magazine 2024',\n",
       " 'Top 32 in FBF Financial Research Challenge 2023',\n",
       " 'Champion of The Banker competition 2022',\n",
       " 'Scholarship for students with good results (2021-2022)',\n",
       " 'Achieved the title of \"5 best student at school level\" - 2023',\n",
       " 'First Prize at VYPI for AI application in public policy implementation, received a certificate from the US embassy - 2023',\n",
       " 'Second prize in the Informatics Olympiad of the National Economics University - 2023',\n",
       " 'Second prize at the deFrontier competition (technology application in banking industry) - 2023',\n",
       " 'Second Prize at the Contest \"Digitizing without digitizing\" (participated in writing an article about GPT chat application) - 2023',\n",
       " 'English Topnotch 2.2 at FPT Polytechnic College (Equivalent to IELTS 4.5)',\n",
       " 'TOEIC certificate with score 720',\n",
       " '2023 BGSW Vietnam Embedded Academy',\n",
       " 'TOEIC 605',\n",
       " 'Grew the YouTube channel to over 490k subscribers within 6 months',\n",
       " 'Repositioned the Clay Mixer brand from an animated film to a healthy entertainment brand for children',\n",
       " 'Led the team to achieve the communication campaign KPIs',\n",
       " 'Grew the Facebook page following by 400% within 3 weeks, with a 130-150% increase in post reach and a 20% increase in customer inquiries through social media',\n",
       " 'Achieved a 3% CTR across the campaign and a 60% conversion rate to customers',\n",
       " 'Grew the Facebook page organic reach by 150-200% within the first 2 weeks',\n",
       " 'Achieved a 20-30% open rate for email marketing, with a 15-18% click-through and conversion rate',\n",
       " \"First Prize in 'MASKNISM' Writing Contest organized by NEU Broadcasting Club\",\n",
       " '3 years awarded with Student Excellence Certificate from Thái Bình Specialized High School (2020-2023)',\n",
       " 'IELTS 7.0 on 18/3/2023',\n",
       " 'First prize at HAUI English Debate Contest 2023',\n",
       " 'Cambridge English B2',\n",
       " 'IELTS 7.0',\n",
       " 'Certifications in Risk Management and Internal Control Professional (Based on the COSO Global Standard) - 05/2024, FMIT Institute & ICI',\n",
       " 'Pursuing certification as a Certified Internal Auditor (CIA)',\n",
       " 'ACCOUNTING & AUDITING FACILITY workshop certificate',\n",
       " 'Google Data Analytics Professional Certificate',\n",
       " 'Intermediate Python Data Analytics Certificate (DataCamp) 2022',\n",
       " '01/2021 Scholarship for semester 2021 at Hanoi University of Industry',\n",
       " '06/2021 Encouragement award for scientific research',\n",
       " '06/2023 Second prize in scientific research',\n",
       " 'HSK 4 issued by National Commission of Chinese Proficiency Test in 2023',\n",
       " 'TOEIC 910 (Listening and Reading) issued by IIG Vietnam in 2021',\n",
       " 'IELTS 6.5 issued by British Council in 2018',\n",
       " 'Software Development Lifecycle Coursera Certificate',\n",
       " 'Agile Software Development Certificate',\n",
       " 'Project Management Principles and Practices Certificate',\n",
       " 'Academic English: Writing Certificate',\n",
       " 'User Experience Research and Design Specialization',\n",
       " 'OLP (Attended and won the Consolation prize in 2022 and 3rd prize in 2023 in the IT Specialist Division)',\n",
       " \"Top 4 in the NEU IT CLUB's Algorithm entrance test as a member of the Academic department\",\n",
       " '2 Award A for KQM Research Topic 2023-2022',\n",
       " '2 Award C Young Researcher 2023',\n",
       " '5 Good Student Award UEH 2023',\n",
       " 'Top 150 outstanding students of the semester I from 12/05/2022-29/09/2022',\n",
       " 'Top 150 outstanding students of the semester III from 12/12/2022-28/04/2023',\n",
       " 'Top 150 outstanding students of the semester IV from 10/05/2022-28/09/2023',\n",
       " 'IELTS 7.0 (in 2019)',\n",
       " 'TOEIC 965 (in 2020)',\n",
       " 'VietinBank Scholarship in 2022',\n",
       " 'Certificate of Excellence in Union and Youth Movement Activities from National Economics University for the 2022-2023 term',\n",
       " 'Excellent scholarship 2/2 semesters',\n",
       " 'Second prize in the National Student Olympiads in Informatics (non-specialized category)',\n",
       " 'Third prize in ICPC Regional (non-specialized category)',\n",
       " 'IELTS 7.0 (2021)',\n",
       " 'TOEIC (L&R) 825/990',\n",
       " '2019 Encouragement Prize for excellent provincial student in Grade 11 Informatics',\n",
       " '2020 Encouragement Prize for excellent provincial student in Grade 12 Informatics',\n",
       " 'IELTS Band 6.5 (C1 Advanced English level)',\n",
       " 'KAWAI Business Start-up Ambassador (March 2023)',\n",
       " 'Ambassador and Collaborator for \"How to Smart study Project\" and \"Campus Smart Study Method & Thinking tools Seminar\" by VTV and KOKUYO VIETNAM TRADING CO.,LTD. (2017-2018)',\n",
       " \"Silver team medal at NEU's traditional Basketball Tournament (2020)\",\n",
       " 'First Place at SOL Student Fashion Tour 2022 Fashion Show 01: The First Sun: Aurora (August 2022)',\n",
       " 'Microsoft Office Specialist (MOS) Certificate',\n",
       " 'International English certificate: IELTS 6.5',\n",
       " 'Google Data Analytics',\n",
       " 'Google Digital Marketing & E-commerce',\n",
       " 'Hackerrank SQL (Advanced)',\n",
       " 'Outstanding Internship at Vietnam Museum of Ethnology',\n",
       " 'IELTS Result 2023 7.5 Overall (8.0 Speaking, 7.0 Writing)',\n",
       " '\"Danh hiệu Sinh viên Năm tốt 2016\" (awarded to students with good performance in academics and social activities)',\n",
       " 'Top 5 graduated student in 2014 at FPT University',\n",
       " 'Capstone Project with the highest score in that semester at FPT University',\n",
       " 'Outstanding student - Summer 2019, FPT University',\n",
       " 'Outstanding student - Summer 2020, FPT University',\n",
       " 'AWS Academy Cloud Foundations (Issued Dec 2023)',\n",
       " 'College Certificate in Information Technology, May 2021',\n",
       " 'Front-End Certificate at IViettech Center, March 2022',\n",
       " 'FullStack Certificate at CodeGym Danang Center, August 2023',\n",
       " 'The first prize of HackYouth 2023: Real Impacts, Real Doers in FinTech Challenge 2023',\n",
       " 'Paper: Digital forensic analysis Dropbox application on Windows 10 devices 2022',\n",
       " 'The third prize of Cisco Packet Tracer Competition 2021',\n",
       " 'Consolation prize of Student Research powered by MOET 2020',\n",
       " 'Consolation prize of ASEAN Information Security powered by VNISA 2019',\n",
       " 'National Economics University Scholarship',\n",
       " 'Academic Encouragement Scholarship (2021, 2023)',\n",
       " 'Quickbooks Online Certification (Certification from Quickbooks offering extensive knowledge in online accounting services)',\n",
       " 'CPA Certification (License from American Institute of Certified Public Accountants establishing expertise in financial controller roles)',\n",
       " \"Top 8 HR of 'Doanh Nhan Tap Su' Competition (2020)\",\n",
       " 'VNHR Gen Z Leader Program graduate (2020)',\n",
       " 'Top 5 Team at Ho Chi Minh City AI-City 2021 - Vietnamese Scene Text challenge for Accuracy',\n",
       " 'Bronze and Silver Medals in Informatics at 21st and 22nd Olympic 30/4',\n",
       " '3rd place in the Wecode competition',\n",
       " '1st prize in Sun Group Cultural Exploration Contest 2022',\n",
       " 'TOEIC Certificate 780',\n",
       " 'Codecedemy.com DATA SCIENCE FOUNDATIONS SKILL PATH',\n",
       " 'Codecedemy.com BI DASHBOARDS WITH POWER BI COURSE',\n",
       " 'Codecedemy.com BIG DATA WITH PYSPARK',\n",
       " 'First prize in the National Mathematical Olympiad 2024',\n",
       " 'Student of 5 merits 2023 at City-level',\n",
       " 'Vingroup Companion Scholarship 2023',\n",
       " 'TOP 10 Techwiz Global 4.0 competition on 12/8/2023',\n",
       " 'Java-Core certificate from ACTVN (2021)',\n",
       " 'ACCA (Ongoing, completed 10/13 papers)',\n",
       " 'IELTS 6.5 (2021)',\n",
       " 'Conducted a school-level scientific research project in 2023 with the topic: \"AlBank: AN ARTIFICIAL INTELLIGENCE APPLICATION BASED ON MACHINE LEARNING APPROACH TO SERVE BUSINESS AND MANAGEMENT ACTIVITIES FOR THE BANKS IN THE CONTEXT OF DIGITAL TRANSFORMATION.\"',\n",
       " 'First prize at City Level of Scientific Research Competition (ISEF) 2019',\n",
       " 'First prize in the district-Level chemistry excellent students contest and Consolation Prize at the city level 2019',\n",
       " 'Third Prize in National Scientific Research Competition (ISEF) 2019',\n",
       " 'Third Prize in City-Level IJSO Competition (Physic, Biology, Chemistry) 2019',\n",
       " 'Third prize in math and second prize in chemistry for excellent students at school level 2019',\n",
       " 'Basic certificate of Informatics',\n",
       " 'English IELTS 6.0',\n",
       " 'Spanish A1',\n",
       " 'Second Prize - Samsung\\'s \"AI-Powered Mobile Apps\" track, SOICT Hackathon 2023',\n",
       " 'Runner-up team, Swin Hackathon 2023',\n",
       " 'Winner team of Cloud Track, JunctionX Hanoi 2023 Hackathon',\n",
       " 'Winner team of \"Sustainability\" challenge, HackYouth 2023 Hackathon',\n",
       " '6/7 semesters achieved the title of Good and Excellent student',\n",
       " 'Excellent',\n",
       " '3 times won academic promotion scholarships',\n",
       " 'Encouraged Learning Scholarship (Excellent) (2022)',\n",
       " 'International Computer Driving Licence (ICDL) - 1670/1800',\n",
       " 'International English Language Testing System (IELTS) - 6.5 Overall',\n",
       " 'Copywritting certificate from Phùng Thái Học (Ktcity)',\n",
       " 'Digital Body Language certificate from Linkedln',\n",
       " 'TOEIC: Listening & Reading 835, Speaking & Writing 320',\n",
       " 'Advanced Skills for Business Analyst and Product Owner by True Skill Center',\n",
       " 'SQL (Intermediate) by HackerRank',\n",
       " 'Foundations of User Experience (UX) Design by Google',\n",
       " 'Corporate Secretary Master Program - CSMP, VIOD (12/2023)',\n",
       " 'Second prize , School name Informatics Competition for High School Students',\n",
       " 'First place , School name Devfest City name 2023',\n",
       " 'Honors Scholarship: 5/8 sems',\n",
       " 'Ranked Excellent',\n",
       " 'University Scientific Research Program',\n",
       " '2 excellent scholarships',\n",
       " 'IELTS: 7.0',\n",
       " 'Increased fanpage followers from 5,000 to ~16,000 within 6 months',\n",
       " 'Increased Tiktok followers from 1,000 to ~3,000 within 4 months',\n",
       " 'Drove Tet 2021 sale uplift to 110% in comparison to previous year',\n",
       " 'Expanded distribution channels on Shopee, Lazada, Facebook, increased sales for the company',\n",
       " 'IELTS 8.5 Issued December 2021',\n",
       " \"In 2021, nominated for 'Outstanding Employee of the Year 2021'\",\n",
       " \"In 2022, received 'Outstanding Employee of the Year 2022' award\",\n",
       " 'Top Excellent Salesperson at The Gioi Di Dong (Mobile World) - Awarded a trip to Thailand. Personal breakthrough revenue of 500,000,000 VND.',\n",
       " 'Honored as Top 10% Excellent Operation Manager of The Gioi Di Dong (Mobile World) - Dien May Xanh (Electronics World) Group. Breakthrough revenue of 12,000,000,000 VND in 3 months.',\n",
       " 'Top 10% Financial Consulting Employee with Excellent Sales Performance. Consulting revenue from 25,000 USD.',\n",
       " 'Third prize in student scientific research contest',\n",
       " 'Forth consecutive school scholarship for outstanding results',\n",
       " 'Achieved A+ in Data Structure and Algorithm, Machine Learning and Data Preparation and Visualization courses',\n",
       " '4 scholarships for 3 years of university',\n",
       " '1st place in \"IT follows you\" Phuong Dong University',\n",
       " 'IELTS 7.5',\n",
       " 'HSK 5',\n",
       " 'SAT 1460',\n",
       " 'Ielts 5.5 overall (6.0 Speaking & Writing) by IDP Education (3/2021)',\n",
       " 'Unica issued certificates in 9/2020: SEO Content Marketing, Photoshop, Facebook Marketing',\n",
       " 'Member of the National team in the first round of Literature',\n",
       " 'IELTS Academic Certification 5.5',\n",
       " 'TOEIC score 625',\n",
       " 'Third Prize in School-level Olympic Programming Contest (2021)',\n",
       " 'Consolation Prize in School-level Olympic Programming Contest (2022)',\n",
       " 'Second Prize in Japanese dubbing contest (2022)',\n",
       " 'First Prize for scientific research on automatic table tennis shooting system in 2021',\n",
       " 'Achieved the highest SLA globally (2023 - AMARIS Project: LSEG)',\n",
       " 'Best Customer Service Award (2018 - Merap Group)',\n",
       " 'Developed a solution to assist the Receivable Accounting Department in reducing debt tracking time by 90% (2014 - Mesa Group)',\n",
       " 'Luong Van Can Fund Scholarships (2019 - 2023)',\n",
       " 'SQL Essential Training',\n",
       " 'Data Engineering Foundation',\n",
       " 'Data Visualization for Data Analysis',\n",
       " 'AWS: Storage and Data Management',\n",
       " 'AWS Academy Data Engineering',\n",
       " \"NEU's scholarship to encourage study for the 1st semester 2021-2022\",\n",
       " '3rd prize in \"KLE Aspiration Scholarship\" program',\n",
       " 'F3, F6 and CFAB Assurance',\n",
       " 'B2 Aptis',\n",
       " 'ISTQB® Certified Tester Foundation Level (2024)',\n",
       " '2020: Effective team management skills by HRD Academy',\n",
       " '2021: Customer Mindset by Thien An Training Company',\n",
       " '2021: Presentation / Public Speaking by HRD Academy',\n",
       " 'Achieved operating targets within 4 months',\n",
       " 'AR/FR and Q-Rate above 97% KPI',\n",
       " 'Violation above 120% KPI',\n",
       " 'Handled above 35 shippers (B2B & B2C)',\n",
       " 'Resolved over 90% issues like lost/damaged',\n",
       " 'TOEIC: 550',\n",
       " 'DESIGN THOUGHT OPEN INNOVATION, Champion, 09/09/2023',\n",
       " 'VI BAN XUNG DANG, First prize, 10/07/2023',\n",
       " 'SINH VIEN VOI Y TUONG SANG TAO 2022, Top 40, 18/09/2022',\n",
       " 'Excellent student in: Summer 2021, Spring 2022, Fall 2022, Summer 2023',\n",
       " 'Excellent student in English learning phase']"
      ]
     },
     "execution_count": 101,
     "metadata": {},
     "output_type": "execute_result"
    }
   ],
   "source": [
    "awards"
   ]
  },
  {
   "cell_type": "code",
   "execution_count": 102,
   "metadata": {},
   "outputs": [],
   "source": [
    "db_cache_certifications = ChromaDB(data_path = f'{directory}/certifications.db', model=model)\n",
    "db_cache_awards = ChromaDB(data_path = f'{directory}/awards.db', model=model)"
   ]
  },
  {
   "cell_type": "code",
   "execution_count": 103,
   "metadata": {},
   "outputs": [
    {
     "name": "stdout",
     "output_type": "stream",
     "text": [
      "Node properties:\n",
      "Application {name: STRING, phone: STRING, email: STRING, summary: STRING, work_summary: STRING, education_summary: STRING, project_summary: STRING, file: STRING, birth: INTEGER, address: STRING}\n",
      "Language {name: STRING}\n",
      "Institution {name: STRING}\n",
      "Academic {name: STRING}\n",
      "Major {name: STRING}\n",
      "Role {name: STRING}\n",
      "Award {name: STRING}\n",
      "Company {name: STRING}\n",
      "Skill {name: STRING}\n",
      "ProgrammingLanguage {name: STRING}\n",
      "Certification {name: STRING}\n",
      "City {name: STRING}\n",
      "Relationship properties:\n",
      "ACADEMIC {GPA: FLOAT, is_GPA: BOOLEAN}\n",
      "MAJOR {level: STRING}\n",
      "WORK {duration: FLOAT}\n",
      "ROLE {exp: FLOAT}\n",
      "PROGRAMMING {exp: FLOAT}\n",
      "The relationships:\n",
      "(:Application)-[:SKILL]->(:Skill)\n",
      "(:Application)-[:LIVE_IN]->(:City)\n",
      "(:Application)-[:SPEAK]->(:Language)\n",
      "(:Application)-[:STUDY]->(:Institution)\n",
      "(:Application)-[:ACADEMIC]->(:Academic)\n",
      "(:Application)-[:MAJOR]->(:Major)\n",
      "(:Application)-[:SUITABLE]->(:Role)\n",
      "(:Application)-[:WORK]->(:Company)\n",
      "(:Application)-[:ROLE]->(:Role)\n",
      "(:Application)-[:PROGRAMMING]->(:ProgrammingLanguage)\n",
      "(:Application)-[:CERTIFICATION]->(:Certification)\n",
      "(:Application)-[:AWARD]->(:Award)\n"
     ]
    }
   ],
   "source": [
    "neo4j_graph.refresh_schema()\n",
    "print(neo4j_graph.schema)"
   ]
  },
  {
   "cell_type": "code",
   "execution_count": 104,
   "metadata": {},
   "outputs": [],
   "source": [
    "# db_cache_certifications.add_texts(certifications)\n",
    "# db_cache_awards.add_texts(awards)"
   ]
  },
  {
   "cell_type": "code",
   "execution_count": null,
   "metadata": {},
   "outputs": [],
   "source": []
  },
  {
   "cell_type": "code",
   "execution_count": 105,
   "metadata": {},
   "outputs": [],
   "source": [
    "awards_score, awards_similar = analyze_similarity(awards, db_cache_awards, 0.9)"
   ]
  },
  {
   "cell_type": "code",
   "execution_count": 106,
   "metadata": {},
   "outputs": [
    {
     "data": {
      "text/plain": [
       "{}"
      ]
     },
     "execution_count": 106,
     "metadata": {},
     "output_type": "execute_result"
    }
   ],
   "source": [
    "awards_similar"
   ]
  },
  {
   "cell_type": "code",
   "execution_count": 107,
   "metadata": {},
   "outputs": [],
   "source": [
    "certifications_score, certifications_similar = analyze_similarity(certifications, db_cache_certifications, 0.9)"
   ]
  },
  {
   "cell_type": "code",
   "execution_count": 108,
   "metadata": {},
   "outputs": [
    {
     "data": {
      "text/plain": [
       "{}"
      ]
     },
     "execution_count": 108,
     "metadata": {},
     "output_type": "execute_result"
    }
   ],
   "source": [
    "certifications_similar"
   ]
  },
  {
   "cell_type": "code",
   "execution_count": null,
   "metadata": {},
   "outputs": [],
   "source": []
  }
 ],
 "metadata": {
  "kernelspec": {
   "display_name": "base",
   "language": "python",
   "name": "python3"
  },
  "language_info": {
   "codemirror_mode": {
    "name": "ipython",
    "version": 3
   },
   "file_extension": ".py",
   "mimetype": "text/x-python",
   "name": "python",
   "nbconvert_exporter": "python",
   "pygments_lexer": "ipython3",
   "version": "3.1.-1"
  }
 },
 "nbformat": 4,
 "nbformat_minor": 2
}
