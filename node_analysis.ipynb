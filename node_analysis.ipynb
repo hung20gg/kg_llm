{
 "cells": [
  {
   "cell_type": "code",
   "execution_count": null,
   "metadata": {},
   "outputs": [],
   "source": [
    "from langchain_community.graphs import Neo4jGraph\n",
    "import os\n",
    "import dotenv\n",
    "dotenv.load_dotenv()\n",
    "\n",
    "neo4j_graph = Neo4jGraph(url=os.getenv('NEO4J_URI'), username=os.getenv('NEO4J_NAME'), password=os.getenv('NEO4J_PASSWORD'))"
   ]
  },
  {
   "cell_type": "code",
   "execution_count": null,
   "metadata": {},
   "outputs": [],
   "source": [
    "from database.ChromaDB import ChromaDB\n",
    "from langchain_community.embeddings.sentence_transformer import (\n",
    "    SentenceTransformerEmbeddings,\n",
    ")"
   ]
  },
  {
   "cell_type": "code",
   "execution_count": null,
   "metadata": {},
   "outputs": [],
   "source": [
    "model_name = 'BAAI/bge-small-en-v1.5'\n",
    "model = SentenceTransformerEmbeddings(model_name=model_name)\n",
    "directory = 'temp'\n",
    "\n",
    "db_cache_city = ChromaDB(data_path = f'{directory}/city.db', model=model)\n",
    "db_cache_role = ChromaDB(data_path = f'{directory}/role.db', model=model)\n",
    "db_cache_language = ChromaDB(data_path = f'{directory}/language.db', model=model)\n",
    "db_cache_institution = ChromaDB(data_path = f'{directory}/institution.db', model=model)\n",
    "db_cache_education = ChromaDB(data_path = f'{directory}/education.db', model=model)\n",
    "db_cache_major = ChromaDB(data_path = f'{directory}/major.db', model=model)\n",
    "db_cache_skills = ChromaDB(data_path = f'{directory}/skills.db', model=model)\n",
    "db_cache_programming = ChromaDB(data_path = f'{directory}/programming.db', model=model)"
   ]
  },
  {
   "cell_type": "code",
   "execution_count": null,
   "metadata": {},
   "outputs": [],
   "source": [
    "class UnionFind:\n",
    "    def __init__(self, num_nodes):\n",
    "        self.parent = [i for i in range(num_nodes)]\n",
    "        self.rank = [0 for i in range(num_nodes)]\n",
    "    def find(self, x):\n",
    "        if self.parent[x] != x:\n",
    "            self.parent[x] = self.find(self.parent[x])\n",
    "        return self.parent[x]\n",
    "    def union(self, x, y):\n",
    "        root_x = self.find(x)\n",
    "        root_y = self.find(y)\n",
    "        if root_x != root_y:\n",
    "            if self.rank[root_x] > self.rank[root_y]:\n",
    "                self.parent[root_y] = root_x\n",
    "            else:\n",
    "                self.parent[root_x] = root_y\n",
    "                if self.rank[root_x] == self.rank[root_y]:\n",
    "                    self.rank[root_y] += 1\n",
    "    def add_node(self, x, y):\n",
    "        self.union(x, y)\n",
    "        \n",
    "    def get_clusters(self):\n",
    "        clusters = {}\n",
    "        for i in range(len(self.parent)):\n",
    "            root = self.find(i)\n",
    "            if root not in clusters:\n",
    "                clusters[root] = []\n",
    "            clusters[root].append(i)\n",
    "        return clusters\n",
    "        \n",
    "        "
   ]
  },
  {
   "cell_type": "code",
   "execution_count": null,
   "metadata": {},
   "outputs": [],
   "source": [
    "cities = neo4j_graph.query(\n",
    "    \"\"\"\n",
    "    MATCH (c:City)\n",
    "    RETURN c.name as name\n",
    "    \"\"\"\n",
    ")\n",
    "cities = [city[\"name\"] for city in cities]"
   ]
  },
  {
   "cell_type": "code",
   "execution_count": null,
   "metadata": {},
   "outputs": [],
   "source": [
    "cities"
   ]
  },
  {
   "cell_type": "code",
   "execution_count": null,
   "metadata": {},
   "outputs": [],
   "source": [
    "languages = neo4j_graph.query(\n",
    "    \"\"\"\n",
    "    MATCH (c:Language)\n",
    "    RETURN c.name as name\n",
    "    \"\"\"\n",
    ")\n",
    "languages = [language[\"name\"] for language in languages]"
   ]
  },
  {
   "cell_type": "code",
   "execution_count": null,
   "metadata": {},
   "outputs": [],
   "source": [
    "institution = neo4j_graph.query(\n",
    "    \"\"\"\n",
    "    MATCH (c:Institution)\n",
    "    RETURN distinct(c.name) as name\n",
    "    \"\"\"\n",
    ")\n",
    "institution = [ins[\"name\"] for ins in institution]"
   ]
  },
  {
   "cell_type": "code",
   "execution_count": null,
   "metadata": {},
   "outputs": [],
   "source": [
    "len(institution)"
   ]
  },
  {
   "cell_type": "code",
   "execution_count": null,
   "metadata": {},
   "outputs": [],
   "source": [
    "skills = neo4j_graph.query(\n",
    "    \"\"\"\n",
    "    MATCH (c:Skill)\n",
    "    RETURN Distinct(c.name) as name\n",
    "    \"\"\"\n",
    ")\n",
    "skills = [skill[\"name\"] for skill in skills]"
   ]
  },
  {
   "cell_type": "code",
   "execution_count": null,
   "metadata": {},
   "outputs": [],
   "source": [
    "len(skills)"
   ]
  },
  {
   "cell_type": "code",
   "execution_count": null,
   "metadata": {},
   "outputs": [],
   "source": [
    "education = neo4j_graph.query(\n",
    "    \"\"\"\n",
    "    MATCH (c:Academic)\n",
    "    RETURN c.name as name\n",
    "    \"\"\"\n",
    ")\n",
    "education = [edu[\"name\"] for edu in education]"
   ]
  },
  {
   "cell_type": "code",
   "execution_count": null,
   "metadata": {},
   "outputs": [],
   "source": [
    "programming = neo4j_graph.query(\n",
    "    \"\"\"\n",
    "    MATCH (p:ProgrammingLanguage)\n",
    "    RETURN p.name as name\n",
    "    \"\"\"\n",
    ")\n",
    "\n",
    "programming = [p[\"name\"] for p in programming]"
   ]
  },
  {
   "cell_type": "code",
   "execution_count": null,
   "metadata": {},
   "outputs": [],
   "source": [
    "len(programming)"
   ]
  },
  {
   "cell_type": "code",
   "execution_count": null,
   "metadata": {},
   "outputs": [],
   "source": [
    "roles = neo4j_graph.query(\n",
    "    \"\"\"\n",
    "    MATCH (p:Role)\n",
    "    RETURN p.name as name\n",
    "    \"\"\"\n",
    ")\n",
    "\n",
    "roles = [p[\"name\"] for p in roles]"
   ]
  },
  {
   "cell_type": "code",
   "execution_count": null,
   "metadata": {},
   "outputs": [],
   "source": [
    "len(roles)"
   ]
  },
  {
   "cell_type": "code",
   "execution_count": null,
   "metadata": {},
   "outputs": [],
   "source": [
    "majors = neo4j_graph.query(\n",
    "    \"\"\"\n",
    "    MATCH (p:Major)\n",
    "    RETURN p.name as name\n",
    "    \"\"\"\n",
    ")\n",
    "\n",
    "majors = [p[\"name\"] for p in majors]"
   ]
  },
  {
   "cell_type": "code",
   "execution_count": null,
   "metadata": {},
   "outputs": [],
   "source": [
    "import numpy as np\n",
    "import matplotlib.pyplot as plt\n",
    "import seaborn as sns\n",
    "\n",
    "def analyze_similarity(texts, db_cache, threshold = 0.9):\n",
    "    text_id = dict()\n",
    "    similarity = dict()\n",
    "    i = 0\n",
    "    for text in texts:\n",
    "        text_id[text] = i\n",
    "        i += 1\n",
    "    score = np.zeros((len(texts), len(texts)))\n",
    "    for i in range(len(texts)):\n",
    "        text = texts[i]\n",
    "        result = db_cache.similarity_search_with_relevance_scores(text, len(texts))\n",
    "        for item in result:\n",
    "            score[i , text_id[item[0].page_content]] = item[1]\n",
    "            if i != text_id[item[0].page_content]:\n",
    "                if item[1] > threshold:\n",
    "                    if text not in similarity:\n",
    "                        similarity[text] = []\n",
    "                    similarity[text].append(item[0].page_content)\n",
    "    \n",
    "    # sns.heatmap(score, annot=True, cmap=\"viridis\", cbar=True)\n",
    "    # plt.xticks(np.arange(len(texts)), texts, rotation=90)\n",
    "    # plt.yticks(np.arange(len(texts)), texts, rotation=0)\n",
    "    # plt.show()\n",
    "    return score, similarity\n",
    "    "
   ]
  },
  {
   "cell_type": "code",
   "execution_count": null,
   "metadata": {},
   "outputs": [],
   "source": [
    "def cluster_changes(role_similar):\n",
    "    role_id = dict()\n",
    "    node_role = dict()\n",
    "    id = 0\n",
    "    items = []\n",
    "    for k, v in role_similar.items():\n",
    "        if k not in role_id:\n",
    "            role_id[k] = id\n",
    "            items.append(k)\n",
    "            id += 1\n",
    "        for item in v:\n",
    "            if item not in role_id:\n",
    "                role_id[item] = id\n",
    "                items.append(item)\n",
    "                id += 1\n",
    "                \n",
    "        node_role[role_id[k]] = [role_id[item] for item in v]\n",
    "        \n",
    "    uf = UnionFind(len(role_id))\n",
    "    for k, v in node_role.items():\n",
    "        for item in v:\n",
    "            uf.add_node(k, item)\n",
    "\n",
    "    cluster = uf.get_clusters()\n",
    "    cluster_text = dict()\n",
    "    for k, v in cluster.items():\n",
    "        cluster_text[items[k]] = [items[item] for item in v]\n",
    "    return cluster_text\n"
   ]
  },
  {
   "cell_type": "code",
   "execution_count": null,
   "metadata": {},
   "outputs": [],
   "source": [
    "city_score, city_similar = analyze_similarity(cities, db_cache_city, 0.8)"
   ]
  },
  {
   "cell_type": "code",
   "execution_count": null,
   "metadata": {},
   "outputs": [],
   "source": [
    "city_change = cluster_changes(city_similar)\n",
    "city_change"
   ]
  },
  {
   "cell_type": "code",
   "execution_count": null,
   "metadata": {},
   "outputs": [],
   "source": [
    "education_score, education_similarity = analyze_similarity(education, db_cache_education)"
   ]
  },
  {
   "cell_type": "code",
   "execution_count": null,
   "metadata": {},
   "outputs": [],
   "source": [
    "education_similarity"
   ]
  },
  {
   "cell_type": "code",
   "execution_count": null,
   "metadata": {},
   "outputs": [],
   "source": [
    "role_score, role_similar = analyze_similarity(roles, db_cache_role, 0.86)"
   ]
  },
  {
   "cell_type": "code",
   "execution_count": null,
   "metadata": {},
   "outputs": [],
   "source": [
    "role_change = cluster_changes(role_similar)\n",
    "role_change\n",
    "\n"
   ]
  },
  {
   "cell_type": "code",
   "execution_count": null,
   "metadata": {},
   "outputs": [],
   "source": []
  },
  {
   "cell_type": "code",
   "execution_count": null,
   "metadata": {},
   "outputs": [],
   "source": [
    "programming_score, programming_similar = analyze_similarity(programming, db_cache_programming,0.80)"
   ]
  },
  {
   "cell_type": "code",
   "execution_count": null,
   "metadata": {},
   "outputs": [],
   "source": [
    "change_programming = cluster_changes(programming_similar)"
   ]
  },
  {
   "cell_type": "code",
   "execution_count": null,
   "metadata": {},
   "outputs": [],
   "source": [
    "change_programming"
   ]
  },
  {
   "cell_type": "code",
   "execution_count": null,
   "metadata": {},
   "outputs": [],
   "source": [
    "languages_score, languages_similar = analyze_similarity(languages, db_cache_language, 0.9)"
   ]
  },
  {
   "cell_type": "code",
   "execution_count": null,
   "metadata": {},
   "outputs": [],
   "source": [
    "institution_score, institution_similar = analyze_similarity(institution, db_cache_institution, 0.92)"
   ]
  },
  {
   "cell_type": "code",
   "execution_count": null,
   "metadata": {},
   "outputs": [],
   "source": [
    "institution_similar"
   ]
  },
  {
   "cell_type": "code",
   "execution_count": null,
   "metadata": {},
   "outputs": [],
   "source": [
    "institution_similar = {'fpt university ho chi minh city': ['fpt university ho chi minh'],\n",
    " 'ho chi minh city open university': ['open university ho chi minh city'],\n",
    " 'national economics university': ['national economic university',\n",
    "  'national economics university (neu)'],\n",
    " 'national economic university': ['national economics university'],\n",
    " 'fpt polytechnic': ['fpt polytechnic college'],\n",
    " 'finance academy': ['academy of finance'],\n",
    " 'ho chi minh city university of technology': [\n",
    "  'ho chi minh university of technology'],\n",
    " 'fpt polytechnic college': ['fpt polytechnic', 'polytechnic fpt colleges'],\n",
    " 'university of information technology - vietnam national university': ['university of information technology - vietnam national university ho chi minh city'],\n",
    " 'national economics university (neu)': ['national economics university'],\n",
    " 'fpt university ho chi minh': ['fpt university ho chi minh city'],\n",
    " 'polytechnic fpt colleges': ['fpt polytechnic college'],\n",
    " 'university of information technology - vietnam national university ho chi minh city': ['university of information technology - vietnam national university'],\n",
    " 'ho chi minh university of technology': ['ho chi minh city university of technology'],\n",
    " 'academy of finance': ['finance academy'],\n",
    " 'open university ho chi minh city': ['ho chi minh city open university']}"
   ]
  },
  {
   "cell_type": "code",
   "execution_count": null,
   "metadata": {},
   "outputs": [],
   "source": [
    "change_institution = cluster_changes(institution_similar)"
   ]
  },
  {
   "cell_type": "code",
   "execution_count": null,
   "metadata": {},
   "outputs": [],
   "source": [
    "change_institution"
   ]
  },
  {
   "cell_type": "code",
   "execution_count": null,
   "metadata": {},
   "outputs": [],
   "source": [
    "majors_score, majors_similar = analyze_similarity(majors, db_cache_major, 0.83)"
   ]
  },
  {
   "cell_type": "code",
   "execution_count": null,
   "metadata": {},
   "outputs": [],
   "source": [
    "change_major = cluster_changes(majors_similar)"
   ]
  },
  {
   "cell_type": "code",
   "execution_count": null,
   "metadata": {},
   "outputs": [],
   "source": [
    "change_major"
   ]
  },
  {
   "cell_type": "code",
   "execution_count": null,
   "metadata": {},
   "outputs": [],
   "source": [
    "skills_score, skills_similar = analyze_similarity(skills, db_cache_skills, 0.81)"
   ]
  },
  {
   "cell_type": "code",
   "execution_count": null,
   "metadata": {},
   "outputs": [],
   "source": [
    "change_skills = cluster_changes(skills_similar)"
   ]
  },
  {
   "cell_type": "code",
   "execution_count": null,
   "metadata": {},
   "outputs": [],
   "source": [
    "change_skills"
   ]
  },
  {
   "cell_type": "code",
   "execution_count": null,
   "metadata": {},
   "outputs": [],
   "source": [
    "query = \"\"\"\n",
    "        MATCH (a: ProgrammingLanguage {name: $form.node_val1}), (b: ProgrammingLanguage {name: $form.node_val2})\n",
    "\n",
    "            MATCH (other)-[r:PROGRAMMING]->(b)\n",
    "            MERGE (other)-[r2:PROGRAMMING]->(a)\n",
    "            SET r2 = r\n",
    "        \n",
    "        DETACH delete b\n",
    "        return r2.exp\n",
    "        \"\"\"\n",
    "# neo4j_graph.query(query)"
   ]
  },
  {
   "cell_type": "code",
   "execution_count": null,
   "metadata": {},
   "outputs": [],
   "source": [
    "# form = {\n",
    "#     # \"node_type\": \"Award\",\n",
    "#     \"node_val1\": \"spring boot\",\n",
    "#     \"node_val2\": \"java spring boot\"\n",
    "#     # \"relationship\": \"AWARD\"\n",
    "# }\n",
    "# neo4j_graph.query(query, params={\"form\": form})"
   ]
  },
  {
   "cell_type": "code",
   "execution_count": null,
   "metadata": {},
   "outputs": [],
   "source": [
    "change_institution"
   ]
  },
  {
   "cell_type": "code",
   "execution_count": null,
   "metadata": {},
   "outputs": [],
   "source": [
    "i = 0\n",
    "for keep, changes in change_institution.items():\n",
    "    for change in changes:\n",
    "        \n",
    "        query = \"\"\"\n",
    "        MATCH (a: Institution  {name: $form.node_val1}), (b: Institution  {name: $form.node_val2})\n",
    "\n",
    "            MATCH (other)-[r:STUDY]->(b)\n",
    "            MERGE (other)-[r2:STUDY]->(a)\n",
    "            SET r2 = r\n",
    "            DELETE r\n",
    "        \n",
    "        DETACH delete b\n",
    "        return a\n",
    "        \"\"\"\n",
    "        \n",
    "        if keep != change:\n",
    "            form = {\n",
    "\n",
    "                \"node_val1\": keep,\n",
    "                \"node_val2\": change,\n",
    "\n",
    "            }\n",
    "            # print(keep, change)\n",
    "            result = neo4j_graph.query(query, params={\"form\": form})\n",
    "            print(result)\n",
    "            i+=1"
   ]
  },
  {
   "cell_type": "code",
   "execution_count": null,
   "metadata": {},
   "outputs": [],
   "source": [
    "i = 0\n",
    "for keep, changes in change_programming.items():\n",
    "    for change in changes:\n",
    "        \n",
    "        query = \"\"\"\n",
    "        MATCH (a: ProgrammingLanguage {name: $form.node_val1}), (b: ProgrammingLanguage {name: $form.node_val2})\n",
    "\n",
    "            MATCH (other)-[r:PROGRAMMING]->(b)\n",
    "            MERGE (other)-[r2:PROGRAMMING]->(a)\n",
    "            SET r2 = r\n",
    "            DELETE r\n",
    "        \n",
    "        DETACH delete b\n",
    "        return a.name, r2.exp\n",
    "        \"\"\"\n",
    "\n",
    "            \n",
    "        \n",
    "        if keep != change:\n",
    "            form = {\n",
    "\n",
    "                \"node_val1\": keep,\n",
    "                \"node_val2\": change,\n",
    "\n",
    "            }\n",
    "            result = neo4j_graph.query(query, params={\"form\": form})\n",
    "            print(result)\n",
    "            i+=1"
   ]
  },
  {
   "cell_type": "code",
   "execution_count": null,
   "metadata": {},
   "outputs": [],
   "source": [
    "i = 0\n",
    "for keep, changes in change_major.items():\n",
    "    for change in changes:\n",
    "        \n",
    "        query = \"\"\"\n",
    "        MATCH (a: Major {name: $form.node_val1}), (b: Major {name: $form.node_val2})\n",
    "\n",
    "            MATCH (other)-[r:MAJOR ]->(b)\n",
    "            MERGE (other)-[r2:MAJOR ]->(a)\n",
    "            SET r2 = r\n",
    "            DELETE r\n",
    "        \n",
    "        DETACH delete b\n",
    "        return r2.level\n",
    "        \"\"\"\n",
    "\n",
    "            \n",
    "        \n",
    "        if keep != change:\n",
    "            form = {\n",
    "\n",
    "                \"node_val1\": keep,\n",
    "                \"node_val2\": change,\n",
    "\n",
    "            }\n",
    "            result = neo4j_graph.query(query, params={\"form\": form})\n",
    "            print(result)\n",
    "            i+=1"
   ]
  },
  {
   "cell_type": "code",
   "execution_count": null,
   "metadata": {},
   "outputs": [],
   "source": [
    "i = 0\n",
    "for keep, changes in change_skills.items():\n",
    "    for change in changes:\n",
    "        \n",
    "        query = \"\"\"\n",
    "        MATCH (a: Skill {name: $form.node_val1}), (b: Skill {name: $form.node_val2})\n",
    "\n",
    "            MATCH (other)-[r:SKILL ]->(b)\n",
    "            MERGE (other)-[r2:SKILL ]->(a)\n",
    "            SET r2 = r\n",
    "            DELETE r\n",
    "        \n",
    "        DETACH delete b\n",
    "        return a\n",
    "        \"\"\"\n",
    "\n",
    "            \n",
    "        \n",
    "        if keep != change:\n",
    "            form = {\n",
    "\n",
    "                \"node_val1\": keep,\n",
    "                \"node_val2\": change,\n",
    "\n",
    "            }\n",
    "            result = neo4j_graph.query(query, params={\"form\": form})\n",
    "            print(result)\n",
    "            i+=1"
   ]
  },
  {
   "cell_type": "code",
   "execution_count": null,
   "metadata": {},
   "outputs": [],
   "source": [
    "i = 0\n",
    "for keep, changes in role_change.items():\n",
    "    for change in changes:\n",
    "        \n",
    "        query = \"\"\"\n",
    "        MATCH (a: Role {name: $form.node_val1}), (b: Role {name: $form.node_val2})\n",
    "        With a,b\n",
    "            OPTIONAL MATCH (other)-[r:ROLE]->(b)\n",
    "            FOREACH (r in CASE WHEN other IS NULL THEN [] ELSE [r] END |\n",
    "                MERGE (other)-[r2:ROLE]->(a)\n",
    "                SET r2 = r\n",
    "                DELETE r\n",
    "            )\n",
    "            \n",
    "        \n",
    "        With a,b\n",
    "            OPTIONAL MATCH (other2)-[r3:SUITABLE]->(b)\n",
    "            FOREACH (r3 in CASE WHEN other2 IS NULL THEN [] ELSE [r3] END |\n",
    "                MERGE (other2)-[r4:SUITABLE]->(a)\n",
    "                SET r4 = r3\n",
    "                DELETE r3\n",
    "            )\n",
    "        \n",
    "        DETACH delete b\n",
    "        return a\n",
    "        \"\"\"\n",
    "\n",
    "\n",
    "        if keep != change:\n",
    "            form = {\n",
    "\n",
    "                \"node_val1\": keep,\n",
    "                \"node_val2\": change,\n",
    "\n",
    "            }\n",
    "            result = neo4j_graph.query(query, params={\"form\": form})\n",
    "            print(result)\n",
    "            i+=1"
   ]
  },
  {
   "cell_type": "code",
   "execution_count": null,
   "metadata": {},
   "outputs": [],
   "source": []
  },
  {
   "cell_type": "code",
   "execution_count": null,
   "metadata": {},
   "outputs": [],
   "source": [
    "['national economics university',\n",
    "  'national economic university',\n",
    "  'national economics university (neu)']"
   ]
  },
  {
   "cell_type": "code",
   "execution_count": null,
   "metadata": {},
   "outputs": [],
   "source": [
    "query = \"\"\"\n",
    "MATCH (n:Application )-[r:STUDY]-> (a:Institution  {name: \"national economic university\"})\n",
    "return id(n)\n",
    "\"\"\"\n",
    "neo4j_graph.query(query)"
   ]
  },
  {
   "cell_type": "code",
   "execution_count": null,
   "metadata": {},
   "outputs": [],
   "source": [
    "query = \"\"\"\n",
    "MATCH (n:Application)-[r:PROGRAMMING]-> (a:ProgrammingLanguage {name: \"spring boot\"})\n",
    "return id(n), r.exp\n",
    "\"\"\"\n",
    "neo4j_graph.query(query)"
   ]
  },
  {
   "cell_type": "code",
   "execution_count": null,
   "metadata": {},
   "outputs": [],
   "source": [
    "query = \"\"\"\n",
    "MATCH  (n:Application)-[r:PROGRAMMING]->(a:ProgrammingLanguage {name: \"java spring boot\"})\n",
    "return id(n), r.exp\n",
    "\n",
    "\"\"\"\n",
    "neo4j_graph.query(query)"
   ]
  },
  {
   "cell_type": "code",
   "execution_count": null,
   "metadata": {},
   "outputs": [],
   "source": []
  },
  {
   "cell_type": "code",
   "execution_count": null,
   "metadata": {},
   "outputs": [],
   "source": [
    "certifications = neo4j_graph.query(\n",
    "    \"\"\"\n",
    "    MATCH (p:Certification)\n",
    "    RETURN p.name as name\n",
    "    \"\"\"\n",
    ")\n",
    "\n",
    "certifications = [p[\"name\"] for p in certifications]\n",
    "\n",
    "awards = neo4j_graph.query(\n",
    "    \"\"\"\n",
    "    MATCH (p:Award)\n",
    "    RETURN p.name as name\n",
    "    \"\"\"\n",
    ")\n",
    "\n",
    "awards = [p[\"name\"] for p in awards]"
   ]
  },
  {
   "cell_type": "code",
   "execution_count": null,
   "metadata": {},
   "outputs": [],
   "source": [
    "awards"
   ]
  },
  {
   "cell_type": "code",
   "execution_count": null,
   "metadata": {},
   "outputs": [],
   "source": [
    "db_cache_certifications = ChromaDB(data_path = f'{directory}/certifications.db', model=model)\n",
    "db_cache_awards = ChromaDB(data_path = f'{directory}/awards.db', model=model)"
   ]
  },
  {
   "cell_type": "code",
   "execution_count": null,
   "metadata": {},
   "outputs": [],
   "source": [
    "neo4j_graph.refresh_schema()\n",
    "print(neo4j_graph.schema)"
   ]
  },
  {
   "cell_type": "code",
   "execution_count": null,
   "metadata": {},
   "outputs": [],
   "source": [
    "# db_cache_certifications.add_texts(certifications)\n",
    "# db_cache_awards.add_texts(awards)"
   ]
  },
  {
   "cell_type": "code",
   "execution_count": null,
   "metadata": {},
   "outputs": [],
   "source": []
  },
  {
   "cell_type": "code",
   "execution_count": null,
   "metadata": {},
   "outputs": [],
   "source": [
    "awards_score, awards_similar = analyze_similarity(awards, db_cache_awards, 0.9)"
   ]
  },
  {
   "cell_type": "code",
   "execution_count": null,
   "metadata": {},
   "outputs": [],
   "source": [
    "awards_similar"
   ]
  },
  {
   "cell_type": "code",
   "execution_count": null,
   "metadata": {},
   "outputs": [],
   "source": [
    "certifications_score, certifications_similar = analyze_similarity(certifications, db_cache_certifications, 0.9)"
   ]
  },
  {
   "cell_type": "code",
   "execution_count": null,
   "metadata": {},
   "outputs": [],
   "source": [
    "certifications_similar"
   ]
  },
  {
   "cell_type": "code",
   "execution_count": null,
   "metadata": {},
   "outputs": [],
   "source": []
  }
 ],
 "metadata": {
  "kernelspec": {
   "display_name": "base",
   "language": "python",
   "name": "python3"
  },
  "language_info": {
   "codemirror_mode": {
    "name": "ipython",
    "version": 3
   },
   "file_extension": ".py",
   "mimetype": "text/x-python",
   "name": "python",
   "nbconvert_exporter": "python",
   "pygments_lexer": "ipython3",
   "version": "3.1.-1"
  }
 },
 "nbformat": 4,
 "nbformat_minor": 2
}
