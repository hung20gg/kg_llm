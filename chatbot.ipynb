{
 "cells": [
  {
   "cell_type": "code",
   "execution_count": 1,
   "metadata": {},
   "outputs": [
    {
     "name": "stderr",
     "output_type": "stream",
     "text": [
      "2024-06-15 15:21:53.383144: E external/local_xla/xla/stream_executor/cuda/cuda_dnn.cc:9261] Unable to register cuDNN factory: Attempting to register factory for plugin cuDNN when one has already been registered\n",
      "2024-06-15 15:21:53.383184: E external/local_xla/xla/stream_executor/cuda/cuda_fft.cc:607] Unable to register cuFFT factory: Attempting to register factory for plugin cuFFT when one has already been registered\n",
      "2024-06-15 15:21:53.435224: E external/local_xla/xla/stream_executor/cuda/cuda_blas.cc:1515] Unable to register cuBLAS factory: Attempting to register factory for plugin cuBLAS when one has already been registered\n",
      "2024-06-15 15:21:54.460478: W tensorflow/compiler/tf2tensorrt/utils/py_utils.cc:38] TF-TRT Warning: Could not find TensorRT\n"
     ]
    }
   ],
   "source": [
    "from database.GraphDB import KnowledgeGraphDB\n",
    "from retrieval.retrieval_hub import RetrievalHub\n",
    "from query_and_ranking.query import Query\n",
    "from query_and_ranking.rerank import Reranker\n",
    "from agentic import Agent"
   ]
  },
  {
   "cell_type": "code",
   "execution_count": 2,
   "metadata": {},
   "outputs": [],
   "source": [
    "import os\n",
    "from dotenv import load_dotenv\n",
    "load_dotenv()\n",
    "\n",
    "neo4j_uri = os.getenv('NEO4J_URI')\n",
    "neo4j_user = os.getenv('NEO4J_USER')\n",
    "neo4j_password = os.getenv('NEO4J_PASSWORD')"
   ]
  },
  {
   "cell_type": "code",
   "execution_count": 3,
   "metadata": {},
   "outputs": [],
   "source": [
    "kg = KnowledgeGraphDB(uri=neo4j_uri, user=neo4j_user, password=neo4j_password)\n",
    "retrieval_hub = RetrievalHub(kg)\n",
    "reranker = Reranker()\n",
    "cv_query = Query(kg, retrieval_hub)"
   ]
  },
  {
   "cell_type": "code",
   "execution_count": 4,
   "metadata": {},
   "outputs": [
    {
     "name": "stderr",
     "output_type": "stream",
     "text": [
      "Special tokens have been added in the vocabulary, make sure the associated word embeddings are fine-tuned or trained.\n"
     ]
    },
    {
     "data": {
      "application/vnd.jupyter.widget-view+json": {
       "model_id": "e5c78af3c5624e5a9f89490450025906",
       "version_major": 2,
       "version_minor": 0
      },
      "text/plain": [
       "config.json:   0%|          | 0.00/931 [00:00<?, ?B/s]"
      ]
     },
     "metadata": {},
     "output_type": "display_data"
    },
    {
     "name": "stderr",
     "output_type": "stream",
     "text": [
      "A new version of the following files was downloaded from https://huggingface.co/microsoft/Phi-3-mini-4k-instruct:\n",
      "- configuration_phi3.py\n",
      ". Make sure to double-check they do not contain any added malicious code. To avoid downloading new versions of the code file, you can pin a revision.\n",
      "A new version of the following files was downloaded from https://huggingface.co/microsoft/Phi-3-mini-4k-instruct:\n",
      "- modeling_phi3.py\n",
      ". Make sure to double-check they do not contain any added malicious code. To avoid downloading new versions of the code file, you can pin a revision.\n"
     ]
    },
    {
     "data": {
      "application/vnd.jupyter.widget-view+json": {
       "model_id": "7574c0b22e554988aa393c1fc4b82cce",
       "version_major": 2,
       "version_minor": 0
      },
      "text/plain": [
       "Downloading shards:   0%|          | 0/2 [00:00<?, ?it/s]"
      ]
     },
     "metadata": {},
     "output_type": "display_data"
    },
    {
     "data": {
      "application/vnd.jupyter.widget-view+json": {
       "model_id": "ff928c6a0d064e36b551eea6204ea708",
       "version_major": 2,
       "version_minor": 0
      },
      "text/plain": [
       "Loading checkpoint shards:   0%|          | 0/2 [00:00<?, ?it/s]"
      ]
     },
     "metadata": {},
     "output_type": "display_data"
    }
   ],
   "source": [
    "chat_agent = Agent(kg, retrieval_hub, reranker, cv_query)"
   ]
  },
  {
   "cell_type": "markdown",
   "metadata": {},
   "source": []
  },
  {
   "cell_type": "code",
   "execution_count": 5,
   "metadata": {},
   "outputs": [],
   "source": [
    "import gradio as gr\n",
    "from processing_data.read_pdf import *\n",
    "\n",
    "def chat(input_text, history):\n",
    "    response = chat_agent.chat(input_text)\n",
    "    \n",
    "    # For now\n",
    "    text = response['text']\n",
    "    if 'files' in response:\n",
    "        text += '\\n\\n' + '\\n'.join(response['files'])\n",
    "    print(text)\n",
    "    history.append((input_text, text))\n",
    "    return text\n",
    "\n",
    "def chat_multi(message, history):\n",
    "    num_files = len(message[\"files\"])\n",
    "    if num_files >0:\n",
    "        yield \"Processing {} files...\".format(num_files)\n",
    "        data  = process_pdf_batch(message[\"files\"], is_save=False)\n",
    "        text = '\\n\\n'.join(data)\n",
    "        input_text = message[\"text\"]+ '\\n\\n' + text\n",
    "    else:\n",
    "        input_text = message[\"text\"]\n",
    "    response = chat_agent.chat(input_text)\n",
    "    \n",
    "    # For now\n",
    "    text = response['text']\n",
    "    if 'files' in response:\n",
    "        text += '\\n\\n' + '\\n'.join(response['files'])\n",
    "    history.append((input_text, text))\n",
    "    return text, history"
   ]
  },
  {
   "cell_type": "code",
   "execution_count": 6,
   "metadata": {},
   "outputs": [
    {
     "name": "stdout",
     "output_type": "stream",
     "text": [
      "Using cache from '/home/quanghung20gg/Documents/hung20gg/cv_rank/gradio_cached_examples/15' directory. If method or examples have changed since last caching, delete this folder to clear cache.\n",
      "\n",
      "Running on local URL:  http://127.0.0.1:7860\n",
      "\n",
      "To create a public link, set `share=True` in `launch()`.\n"
     ]
    },
    {
     "data": {
      "text/html": [
       "<div><iframe src=\"http://127.0.0.1:7860/\" width=\"100%\" height=\"500\" allow=\"autoplay; camera; microphone; clipboard-read; clipboard-write;\" frameborder=\"0\" allowfullscreen></iframe></div>"
      ],
      "text/plain": [
       "<IPython.core.display.HTML object>"
      ]
     },
     "metadata": {},
     "output_type": "display_data"
    },
    {
     "data": {
      "text/plain": []
     },
     "execution_count": 6,
     "metadata": {},
     "output_type": "execute_result"
    }
   ],
   "source": [
    "# with gr.Blocks() as demo:\n",
    "#     chatbot = gr.Chatbot(height=300)\n",
    "#     msg  = gr.Textbox(lines=2, label=\"Prompt\", placeholder=\"Type here\")\n",
    "#     btn = gr.Button(\"Submit\")\n",
    "#     clear = gr.ClearButton(components=[msg, chatbot], value=\"Clear\")\n",
    "    \n",
    "#     btn.click(chat, inputs=[msg, chatbot], outputs=[msg, chatbot])\n",
    "#     msg.submit(chat, inputs=[msg, chatbot], outputs=[msg, chatbot])\n",
    "# demo.launch()\n",
    "\n",
    "gr.ChatInterface(\n",
    "    chat,\n",
    "    chatbot=gr.Chatbot(height=300),\n",
    "    textbox=gr.Textbox(placeholder=\"Give me a question to query the CV\", container=False, scale=7),\n",
    "    title=\"CV Query Chatbot\",\n",
    "    description=\"A LLMs with Knowledge Graph Chatbot to query the CVs\",\n",
    "    theme=\"soft\",\n",
    "    examples=[\"MBBank is looking for 25 candidates who are currently studying or graduated in National Economics University. Can you find all of them?\",\"\"\"Viettel Digital Talent want 6 young students or fresh graduated, having enthusiastic passion on Data Science and AI\n",
    "Requirements:\n",
    "\n",
    "- Candidate must located in HaNoi\n",
    "- Proficiency in Python\n",
    "- Having projects related to DS/AI is a plus\"\"\"],\n",
    "    cache_examples=True,\n",
    "    retry_btn=None,\n",
    "    undo_btn=\"Delete Previous\",\n",
    "    clear_btn=\"Clear\",\n",
    ").launch()"
   ]
  },
  {
   "cell_type": "code",
   "execution_count": 4,
   "metadata": {},
   "outputs": [
    {
     "data": {
      "text/plain": [
       "{'text': \"Hello, I'm doing well, thank you for asking. I am an HR assistant and I'm here to provide you with high-quality and precise responses to your queries. Please feel free to ask me anything, and if I'm unsure about anything, I'll be sure to ask for clarification. If I don't have the answer, I'll let you know.\"}"
      ]
     },
     "execution_count": 4,
     "metadata": {},
     "output_type": "execute_result"
    }
   ],
   "source": [
    "chat_agent.chat(\"Hi how are you?\")"
   ]
  },
  {
   "cell_type": "code",
   "execution_count": 7,
   "metadata": {},
   "outputs": [],
   "source": [
    "prompt =\"\"\"\n",
    "Viettel Digital Talent want 6 young students or fresh graduated, having enthusiastic passion on Data Science and AI \n",
    "Requirements:\n",
    "- Candidate must located in HaNoi\n",
    "- Proficiency in Python \n",
    "- Having projects related to DS/AI is a plus\n",
    "\"\"\""
   ]
  },
  {
   "cell_type": "code",
   "execution_count": 5,
   "metadata": {},
   "outputs": [
    {
     "name": "stderr",
     "output_type": "stream",
     "text": [
      "You are not running the flash-attention implementation, expect numerical differences.\n"
     ]
    },
    {
     "data": {
      "text/plain": [
       "True"
      ]
     },
     "execution_count": 5,
     "metadata": {},
     "output_type": "execute_result"
    }
   ],
   "source": [
    "chat_agent.routing_response(prompt)"
   ]
  },
  {
   "cell_type": "code",
   "execution_count": 9,
   "metadata": {},
   "outputs": [
    {
     "data": {
      "text/plain": [
       "True"
      ]
     },
     "execution_count": 9,
     "metadata": {},
     "output_type": "execute_result"
    }
   ],
   "source": [
    "neu = \"\"\" \n",
    "MBBank wants 25 candidates who are currently studying or graduated in National Economics University.\n",
    "\"\"\"\n",
    "chat_agent.routing_response(neu)"
   ]
  },
  {
   "cell_type": "code",
   "execution_count": 10,
   "metadata": {},
   "outputs": [
    {
     "name": "stdout",
     "output_type": "stream",
     "text": [
      "Extracting Job Description\n"
     ]
    },
    {
     "name": "stdout",
     "output_type": "stream",
     "text": [
      "End LLM\n",
      "New Query:  {'institutionList': ['national economics university (neu)'], 'majorList': ['finance', 'mathematical economics', 'commerce', 'public finance', 'finance and banking', 'socio-economic statistics', 'information technology and digital transformation in economics', 'economics and biology'], 'eduList': ['master', 'undergraduate', 'bachelor', 'diploma', 'certificate', 'phd']}\n",
      "Extended Num Application:  30\n",
      "Not enough application\n",
      "New Query:  {'institutionList': ['university of economics', 'national economics university (neu)']}\n",
      "[1214, 1274, 1690, 424, 463, 8, 1941, 2013, 495, 324, 227, 1783, 310, 561, 732, 406, 606, 280, 738, 124, 1761, 1993, 2109, 1722, 1291]\n",
      "Num CV ok:  25\n",
      "Rerank\n",
      "[1214, 124, 1274, 1291, 1690, 1722, 1761, 1783, 1941, 1993, 2013, 2109, 227, 280, 310, 324, 406, 424, 463, 495, 561, 606, 732, 738, 8]\n",
      "Time: 4.814815044403076\n"
     ]
    },
    {
     "data": {
      "text/plain": [
       "{'text': 'Understood. Here is the normalized job description based on the given text:\\n\\nNumber of applications required: Specific number (25)\\nLocation: Not mentioned\\nAcademic level: Undergraduate or graduate\\nInstitution: National Economics University\\nGPA: Not mentioned\\nSpeaking language: Not mentioned\\n\\nRoles: Not mentioned\\nSkills: Not mentioned\\nProgramming languages and tech stacks: Not mentioned\\nExperience level: Not mentioned\\n\\nOther requirements: Currently studying or graduated from National Economics University\\n\\nBenefits: Not mentioned\\n\\nSuitable roles: Not mentioned (as the actual role is not specified in the text)',\n",
       " 'id': [1214,\n",
       "  124,\n",
       "  1274,\n",
       "  1291,\n",
       "  1690,\n",
       "  1722,\n",
       "  1761,\n",
       "  1783,\n",
       "  1941,\n",
       "  1993,\n",
       "  2013,\n",
       "  2109,\n",
       "  227,\n",
       "  280,\n",
       "  310,\n",
       "  324,\n",
       "  406,\n",
       "  424,\n",
       "  463,\n",
       "  495,\n",
       "  561,\n",
       "  606,\n",
       "  732,\n",
       "  738,\n",
       "  8],\n",
       " 'files': ['data/raw/data/clean4.0/CV_SonBao_DS.pdf',\n",
       "  'data/raw/data/clean4.0/CV_ Hoàng Phương Thảo - Thảo Hoàng.pdf',\n",
       "  'data/raw/data/clean4.0/CV thương mại điện tử - Nguyễn Mai Phương - Nguyen Mai Phuong.pdf',\n",
       "  'data/raw/data/clean4.0/Thiều Ngọc Mai _CV.pdf',\n",
       "  'data/raw/data/clean4.0/Ho Thi Minh Ngan_CV.pdf',\n",
       "  'data/raw/data/clean4.0/Le-Thi-Hai-Yen-250324.201747 - Yến Lê.pdf',\n",
       "  'data/raw/data/clean4.0/CV_PHẠM-VIỆT-HƯNG_-NHÂN-VIÊN-CONTENT-WRITER - Hưng Phạm Việt.pdf',\n",
       "  'data/raw/data/clean4.0/CV  Phạm Thị Loan - CV2-TopCV.vn - Loan Phạm Thị.pdf',\n",
       "  'data/raw/data/clean4.0/BuiQuocAnh_Resume.pdf',\n",
       "  'data/raw/data/clean4.0/CV Thiên Khôi - Duyên Nguyễn.pdf',\n",
       "  'data/raw/data/clean4.0/CV_Nguyen_Quang_Hung_DataScientist (4).pdf',\n",
       "  'data/raw/data/clean4.0/CV - Nguyen Minh Quang. - Quang Nguyen Minh.pdf',\n",
       "  'data/raw/data/clean4.0/HOANG PHUC DUY - CV.pdf',\n",
       "  'data/raw/data/clean4.0/CV ca nhan_Nguyen Cam Ly.pdf',\n",
       "  'data/raw/data/clean4.0/Tran Viet Hoang_CV.pdf',\n",
       "  'data/raw/data/clean4.0/NguyenDucThuan_CV.pdf',\n",
       "  'data/raw/data/clean4.0/NodeFlair_Resume_BackendNodejs.pdf',\n",
       "  'data/raw/data/clean4.0/CV_TRẦN THỊ HẢI YẾN - Hải Yến Trần.pdf',\n",
       "  'data/raw/data/clean4.0/cncnmai.pdf',\n",
       "  'data/raw/data/clean4.0/latest_cv.pdf',\n",
       "  'data/raw/data/clean4.0/CV_Light_Theme.pdf',\n",
       "  'data/raw/data/clean4.0/Cream Black Vintage Typographic Social Media Manager Minimalist Resume.pdf',\n",
       "  'data/raw/data/clean4.0/Phuong_Anh_Trinh_CV_CinnamonAI.pdf',\n",
       "  'data/raw/data/clean4.0/CV_Vũ Thu Hiền.pdf',\n",
       "  'data/raw/data/clean4.0/CV-Le Nhat Linh.pdf'],\n",
       " 'time': 4.814815044403076}"
      ]
     },
     "execution_count": 10,
     "metadata": {},
     "output_type": "execute_result"
    }
   ],
   "source": [
    "chat_agent.get_cv_from_jd(neu,llm_ranking=True)"
   ]
  },
  {
   "cell_type": "code",
   "execution_count": 13,
   "metadata": {},
   "outputs": [
    {
     "data": {
      "text/plain": [
       "[{'m': {'name': ' web developer'}, 'r.exp': 2.5, 'type(r)': 'ROLE'},\n",
       " {'m': {'name': 'back-end developer'}, 'r.exp': 2.5, 'type(r)': 'ROLE'},\n",
       " {'m': {'name': 'back-end developer'}, 'r.exp': None, 'type(r)': 'SUITABLE'},\n",
       " {'m': {'name': 'software engineer'}, 'r.exp': 2.5, 'type(r)': 'ROLE'},\n",
       " {'m': {'name': 'software engineer'}, 'r.exp': None, 'type(r)': 'SUITABLE'},\n",
       " {'m': {'name': 'full stack developer'}, 'r.exp': None, 'type(r)': 'SUITABLE'},\n",
       " {'m': {'name': 'java developer'}, 'r.exp': None, 'type(r)': 'SUITABLE'}]"
      ]
     },
     "execution_count": 13,
     "metadata": {},
     "output_type": "execute_result"
    }
   ],
   "source": [
    "kg.query(\"Match (n:Application)-[r]->(m:Role) where id(n) = 1579 return  m, r.exp, type(r)\")"
   ]
  },
  {
   "cell_type": "code",
   "execution_count": 8,
   "metadata": {},
   "outputs": [],
   "source": [
    "rank_prompt = \"\"\"\n",
    "Can you rank them \n",
    "\"\"\"\n"
   ]
  },
  {
   "cell_type": "code",
   "execution_count": 9,
   "metadata": {},
   "outputs": [
    {
     "data": {
      "text/plain": [
       "[(Document(page_content='marketing manager'), 0.9999999999999063),\n",
       " (Document(page_content='marketing staff'), 0.7674812526354313),\n",
       " (Document(page_content='marketing team leader'), 0.7667723637169023),\n",
       " (Document(page_content='marketing assistant'), 0.7459399351412406),\n",
       " (Document(page_content='sales manager'), 0.7358898083795753)]"
      ]
     },
     "execution_count": 9,
     "metadata": {},
     "output_type": "execute_result"
    }
   ],
   "source": [
    "retrieval_hub.cache.db_cache_role.similarity_search_with_relevance_scores(\"Marketing Manager\", 5)"
   ]
  },
  {
   "cell_type": "code",
   "execution_count": 12,
   "metadata": {},
   "outputs": [
    {
     "data": {
      "text/plain": [
       "0.735"
      ]
     },
     "execution_count": 12,
     "metadata": {},
     "output_type": "execute_result"
    }
   ],
   "source": [
    "0.7*1.05\n"
   ]
  },
  {
   "cell_type": "code",
   "execution_count": 5,
   "metadata": {},
   "outputs": [
    {
     "name": "stdout",
     "output_type": "stream",
     "text": [
      "Languages:\n",
      "- English\n",
      "Majors:\n",
      "- bachelor, data science, national economic university, (GPA: 3.88)\n",
      "Work:\n",
      "- neu itlab (1 years)\n",
      "- viettel digital talent (0.25 years)\n",
      "Roles:\n",
      "- research assistant (1 years)\n",
      "- machine learning engineer (0.5 years)\n",
      "- artificial intelligence engineer (0.5 years)\n",
      "- data scientist (0.5 years)\n",
      "Skills:\n",
      "- knowledge graphs\n",
      "- large language models\n",
      "- natural language processing\n",
      "- web technology\n",
      "- data mining\n",
      "- machine learning\n",
      "- deep learning\n",
      "- computer vision\n",
      "Programming languages:\n",
      "- python (1.5 years)\n",
      "- c++ (1.5 years)\n",
      "- javascript (1 years)\n",
      "- sql (1 years)\n",
      "- tensorflow (1 years)\n",
      "- pytorch (1 years)\n",
      "- transformers (0.5 years)\n",
      "- diffusers (0.5 years)\n",
      "Cities:\n",
      "- ha noi\n",
      "Certifications:\n",
      "- IELTS 7.0 (2021)\n",
      "Awards:\n",
      "- IELTS 7.0 (2021)\n",
      "- Third prize in ICPC Regional (non-specialized category)\n",
      "- Second prize in the National Student Olympiads in Informatics (non-specialized category)\n",
      "- Excellent scholarship 2/2 semesters\n",
      "\n"
     ]
    }
   ],
   "source": [
    "from database.utils.GraphDB_tools import graph_to_text\n",
    "hung = graph_to_text(kg.kg, 995)\n",
    "print(hung)"
   ]
  },
  {
   "cell_type": "code",
   "execution_count": 9,
   "metadata": {},
   "outputs": [
    {
     "data": {
      "text/plain": [
       "True"
      ]
     },
     "execution_count": 9,
     "metadata": {},
     "output_type": "execute_result"
    }
   ],
   "source": [
    "chat_agent.routing_ranking_response(rank_prompt)"
   ]
  },
  {
   "cell_type": "code",
   "execution_count": 10,
   "metadata": {},
   "outputs": [
    {
     "name": "stdout",
     "output_type": "stream",
     "text": [
      "Based on the provided job description and the candidate CVs, I have ranked them according to the mentioned criteria. Here's the ranking along with the rationale:\n",
      "\n",
      "```json\n",
      "[\n",
      "    {\n",
      "        \"id\": 1007,\n",
      "        \"rank\": 1,\n",
      "        \"rationale\": \"This candidate fits the job description perfectly. They have a bachelor's degree in data science, relevant skills like machine learning, deep learning, natural language processing, and proficiency in Python. Additionally, they have experience as a research assistant, machine learning engineer, AI engineer, and data scientist. Their certifications, awards, and academic achievements further strengthen their candidacy.\"\n",
      "    },\n",
      "    {\n",
      "        \"id\": 1476,\n",
      "        \"rank\": 2,\n",
      "        \"rationale\": \"This candidate has a bachelor's degree in data science and AI, relevant skills like AWS, ReactJS, Flutter, and proficiency in multiple programming languages including Python, Java, and PyTorch. Their experience in software engineering, AI, and data science, as well as their impressive hackathon achievements, make them a strong contender.\"\n",
      "    },\n",
      "    {\n",
      "        \"id\": 1747,\n",
      "        \"rank\": 3,\n",
      "        \"rationale\": \"This candidate has a bachelor's degree in data science, relevant skills in data analysis, machine learning, web crawling, and API development, and proficiency in Python, PyTorch, SQL, and AWS. Their experience as a software engineer, machine learning engineer, and data scientist, along with certifications and academic achievements, make them a good fit.\"\n",
      "    },\n",
      "    {\n",
      "        \"id\": 652,\n",
      "        \"rank\": 4,\n",
      "        \"rationale\": \"This candidate has an undergraduate degree in information technology, relevant skills in statistical analysis, database structures, visualization, and deploying models, and proficiency in Python and SQL. Their experience as a data analyst and data scientist, along with certifications and awards, make them a suitable candidate.\"\n",
      "    },\n",
      "    {\n",
      "        \"id\": 421,\n",
      "        \"rank\": 5,\n",
      "        \"rationale\": \"This candidate has a bachelor's degree in computer science and data science, relevant skills in data analysis, machine learning, deep learning, computer vision, and natural language processing, and proficiency in Python, SQL, and C++. Their experience as a research engineer and data analyst, along with certifications and an award, make them a viable candidate.\"\n",
      "    },\n",
      "    {\n",
      "        \"id\": 446,\n",
      "        \"rank\": 6,\n",
      "        \"rationale\": \"This candidate has a bachelor's degree in computer science, relevant skills in computer vision, natural language processing, machine learning, and deep learning, and proficiency in Python and SQL. While they lack specific work experience mentioned in their CV, their skills align with the job requirements.\"\n",
      "    },\n",
      "    {\n",
      "        \"id\": 1944,\n",
      "        \"rank\": 7,\n",
      "        \"rationale\": \"This candidate has a bachelor's degree in data science in economics and business, relevant skills in problem-solving, teamwork, and analytical thinking, and proficiency in Python, SQL, and C++. However, their work experience is limited to a data processor role, which may not be as relevant as other candidates.\"\n",
      "    },\n",
      "    {\n",
      "        \"id\": 1738,\n",
      "        \"rank\": 8,\n",
      "        \"rationale\": \"This candidate has a bachelor's degree in data science, relevant skills in machine learning, data analysis, model evaluation, and research, and proficiency in Python, R, Java, JavaScript, TensorFlow, Keras, and Scikit-learn. However, their work experience is limited to an AI engineering role for 0.5 years.\"\n",
      "    },\n",
      "    {\n",
      "        \"id\": 1133,\n",
      "        \"rank\": 9,\n",
      "        \"rationale\": \"This candidate has a bachelor's degree in computer engineering, relevant skills in ETL, ELT, data pipelines, data modeling, data visualization, and Google Cloud Platform, and proficiency in Python, SQL, and PySpark. However, their work experience as a data engineer is not mentioned.\"\n",
      "    },\n",
      "    {\n",
      "        \"id\": 315,\n",
      "        \"rank\": 10,\n",
      "        \"rationale\": \"This candidate has an undergraduate degree in computer science, relevant skills in data mining, and proficiency in Python, Java, Git, and SQL Server. However, their work experience is not mentioned, and their skills may not be as relevant as other candidates.\"\n",
      "    }\n",
      "]\n",
      "```\n",
      "\n",
      "The ranking is based on the following criteria:\n",
      "\n",
      "1. Current location: Since the job is in Hanoi, candidates located in Hanoi are ranked higher.\n",
      "2. Work experience: Candidates with more relevant work experience, such as data scientist, machine learning engineer, AI engineer, and software engineer roles, are ranked higher.\n",
      "3. Skills and tech stacks: Candidates with relevant skills like machine learning, deep learning, natural language processing, data analysis, and proficiency in Python are ranked higher.\n",
      "4. Education: Candidates with a bachelor's degree in data science, computer science, or related fields are ranked higher.\n",
      "5. Certifications, achievements, and awards: Candidates with relevant certifications, achievements, and awards are ranked higher.\n",
      "\n",
      "Additionally, factors like the level of experience (not overqualified or underqualified), academic achievements (GPA, scholarships), and relevant projects or hackathon participation were also considered in the ranking.\n",
      "Time: 34.417078256607056\n"
     ]
    },
    {
     "data": {
      "text/plain": [
       "{'text': 'Based on the provided job description and the candidate CVs, I have ranked them according to the mentioned criteria. Here\\'s the ranking along with the rationale:\\n\\n```json\\n[\\n    {\\n        \"id\": 1007,\\n        \"rank\": 1,\\n        \"rationale\": \"This candidate fits the job description perfectly. They have a bachelor\\'s degree in data science, relevant skills like machine learning, deep learning, natural language processing, and proficiency in Python. Additionally, they have experience as a research assistant, machine learning engineer, AI engineer, and data scientist. Their certifications, awards, and academic achievements further strengthen their candidacy.\"\\n    },\\n    {\\n        \"id\": 1476,\\n        \"rank\": 2,\\n        \"rationale\": \"This candidate has a bachelor\\'s degree in data science and AI, relevant skills like AWS, ReactJS, Flutter, and proficiency in multiple programming languages including Python, Java, and PyTorch. Their experience in software engineering, AI, and data science, as well as their impressive hackathon achievements, make them a strong contender.\"\\n    },\\n    {\\n        \"id\": 1747,\\n        \"rank\": 3,\\n        \"rationale\": \"This candidate has a bachelor\\'s degree in data science, relevant skills in data analysis, machine learning, web crawling, and API development, and proficiency in Python, PyTorch, SQL, and AWS. Their experience as a software engineer, machine learning engineer, and data scientist, along with certifications and academic achievements, make them a good fit.\"\\n    },\\n    {\\n        \"id\": 652,\\n        \"rank\": 4,\\n        \"rationale\": \"This candidate has an undergraduate degree in information technology, relevant skills in statistical analysis, database structures, visualization, and deploying models, and proficiency in Python and SQL. Their experience as a data analyst and data scientist, along with certifications and awards, make them a suitable candidate.\"\\n    },\\n    {\\n        \"id\": 421,\\n        \"rank\": 5,\\n        \"rationale\": \"This candidate has a bachelor\\'s degree in computer science and data science, relevant skills in data analysis, machine learning, deep learning, computer vision, and natural language processing, and proficiency in Python, SQL, and C++. Their experience as a research engineer and data analyst, along with certifications and an award, make them a viable candidate.\"\\n    },\\n    {\\n        \"id\": 446,\\n        \"rank\": 6,\\n        \"rationale\": \"This candidate has a bachelor\\'s degree in computer science, relevant skills in computer vision, natural language processing, machine learning, and deep learning, and proficiency in Python and SQL. While they lack specific work experience mentioned in their CV, their skills align with the job requirements.\"\\n    },\\n    {\\n        \"id\": 1944,\\n        \"rank\": 7,\\n        \"rationale\": \"This candidate has a bachelor\\'s degree in data science in economics and business, relevant skills in problem-solving, teamwork, and analytical thinking, and proficiency in Python, SQL, and C++. However, their work experience is limited to a data processor role, which may not be as relevant as other candidates.\"\\n    },\\n    {\\n        \"id\": 1738,\\n        \"rank\": 8,\\n        \"rationale\": \"This candidate has a bachelor\\'s degree in data science, relevant skills in machine learning, data analysis, model evaluation, and research, and proficiency in Python, R, Java, JavaScript, TensorFlow, Keras, and Scikit-learn. However, their work experience is limited to an AI engineering role for 0.5 years.\"\\n    },\\n    {\\n        \"id\": 1133,\\n        \"rank\": 9,\\n        \"rationale\": \"This candidate has a bachelor\\'s degree in computer engineering, relevant skills in ETL, ELT, data pipelines, data modeling, data visualization, and Google Cloud Platform, and proficiency in Python, SQL, and PySpark. However, their work experience as a data engineer is not mentioned.\"\\n    },\\n    {\\n        \"id\": 315,\\n        \"rank\": 10,\\n        \"rationale\": \"This candidate has an undergraduate degree in computer science, relevant skills in data mining, and proficiency in Python, Java, Git, and SQL Server. However, their work experience is not mentioned, and their skills may not be as relevant as other candidates.\"\\n    }\\n]\\n```\\n\\nThe ranking is based on the following criteria:\\n\\n1. Current location: Since the job is in Hanoi, candidates located in Hanoi are ranked higher.\\n2. Work experience: Candidates with more relevant work experience, such as data scientist, machine learning engineer, AI engineer, and software engineer roles, are ranked higher.\\n3. Skills and tech stacks: Candidates with relevant skills like machine learning, deep learning, natural language processing, data analysis, and proficiency in Python are ranked higher.\\n4. Education: Candidates with a bachelor\\'s degree in data science, computer science, or related fields are ranked higher.\\n5. Certifications, achievements, and awards: Candidates with relevant certifications, achievements, and awards are ranked higher.\\n\\nAdditionally, factors like the level of experience (not overqualified or underqualified), academic achievements (GPA, scholarships), and relevant projects or hackathon participation were also considered in the ranking.',\n",
       " 'files': ['data/raw/data/clean2.2/CV_Nguyen_Quang_Hung_DataScientist (4).pdf',\n",
       "  'data/raw/data/clean2.2/PhamTienSon_Resume.pdf',\n",
       "  'data/raw/data/clean2.2/CV_Light_Theme.pdf',\n",
       "  'data/raw/data/clean2.2/Ho Thi Minh Ngan_CV.pdf',\n",
       "  'data/raw/data/clean2.2/Vong Vinh Phu - Data.pdf',\n",
       "  'data/raw/data/clean2.2/CV_HuynhAnhKiet_DataScientist.pdf',\n",
       "  'data/raw/data/clean2.2/Phuong_Anh_Trinh_CV_CinnamonAI.pdf',\n",
       "  'data/raw/data/clean2.2/NguyenTriDan_AI Engineering Intern_CV.pdf',\n",
       "  'data/raw/data/clean2.2/Nghia_TTS.pdf',\n",
       "  'data/raw/data/clean2.2/CV PHẠM THẾ HƯNG.pdf'],\n",
       " 'time': 34.417078256607056}"
      ]
     },
     "execution_count": 10,
     "metadata": {},
     "output_type": "execute_result"
    }
   ],
   "source": [
    "chat_agent.chat(rank_prompt)"
   ]
  },
  {
   "cell_type": "code",
   "execution_count": 19,
   "metadata": {},
   "outputs": [
    {
     "data": {
      "text/plain": [
       "'Certainly, here are the details for the candidate with ID 1944:\\n\\n**ID: 1944**\\n\\n**Summary:**\\nA highly skilled and experienced data scientist with a strong background in machine learning, deep learning, and natural language processing. Possesses in-depth knowledge in building and deploying large-scale AI systems, with a focus on knowledge graphs, language models, and deep neural networks. Passionate about leveraging cutting-edge AI technologies to drive impactful solutions.\\n\\n**Education:**\\n- Bachelor\\'s degree in Computer Science, Hanoi University of Science and Technology\\n- GPA: 3.92/4.0\\n- Awarded \"Excellent Student Scholarship\" for outstanding academic performance\\n\\n**Work Experience:**\\n- Data Scientist, VinAI Research (2 years)\\n  - Developed large-scale knowledge graph systems for text understanding\\n  - Designed and implemented deep learning models for natural language processing\\n  - Optimized and deployed models on cloud-based infrastructures\\n- Machine Learning Intern, Google AI Research (6 months)\\n  - Contributed to research on few-shot learning and meta-learning\\n  - Developed prototypes for language model fine-tuning and generation\\n\\n**Skills:**\\n- Proficient in Python, TensorFlow, PyTorch, scikit-learn, Pandas, NumPy\\n- Expertise in deep learning, natural language processing, and computer vision\\n- Strong background in algorithm design, optimization, and deployment\\n- Familiar with cloud computing, AWS, and MLOps\\n\\n**Achievements:**\\n- 1st place, VinAI AI Competition for Knowledge Graph Construction\\n- Recipient of Vietnam National Mathematics Olympiad Bronze Medal\\n- Published research papers in top-tier AI/ML conferences (AAAI, NeurIPS)\\n\\nThis candidate\\'s profile aligns exceptionally well with the job requirements. They possess a strong academic background, relevant work experience in data science and AI, and impressive achievements in the field. Their technical skills, knowledge, and passion for data science and AI make them a highly desirable candidate for the Viettel Digital Talent program.'"
      ]
     },
     "execution_count": 19,
     "metadata": {},
     "output_type": "execute_result"
    }
   ],
   "source": [
    "chat_agent.chat(\"Can you show me the candidates id 1944\")"
   ]
  },
  {
   "cell_type": "code",
   "execution_count": 11,
   "metadata": {},
   "outputs": [
    {
     "data": {
      "text/plain": [
       "\"Certainly, let me summarize our conversation:\\n\\nYou asked me to provide helpful responses as an HR assistant for a recruitment process happening in May 2024. Viettel is looking to hire 5 fresher software engineers in Hanoi, Vietnam. The requirements are:\\n\\n- Undergraduate or Bachelor's degree in Computer Science or a related field\\n- At least 6 months of experience with Python, Java, C++, or NodeJS\\n\\nYou provided me with 5 candidate CVs that matched the job description, and asked me to rank them based on the given information.\\n\\nI reviewed the candidate profiles and provided a ranked list with explanations:\\n\\n1. ID: 1476 - Ranked 1st due to the strong technical skills, relevant work experience, impressive academic achievements, and awards/hackathon wins.\\n\\n2. ID: 1747 - Ranked 2nd with a good educational background, relevant work experience, and well-aligned technical skills.\\n\\n3. ID: 999 - Ranked 3rd with a decent educational background, substantial work experience, and some relevant technical skills.\\n\\n4. ID: 754 - Ranked 4th with a relevant educational background and some work experience, but lacking in certain technical skills.\\n\\n5. ID: 131 - Ranked 5th as the candidate is from Ho Chi Minh City, which does not match the job location requirement in Hanoi.\\n\\nYou then asked me to provide more details on the candidate with ID 131, which I summarized, noting their educational background, work experience, and technical skills.\\n\\nFinally, you asked me to summarize our entire conversation, which is what I have done here.\\n\\nPlease let me know if I have missed or misunderstood anything in the summary.\""
      ]
     },
     "execution_count": 11,
     "metadata": {},
     "output_type": "execute_result"
    }
   ],
   "source": [
    "chat_agent.chat(\"Can you summarize our conversation?\")"
   ]
  },
  {
   "cell_type": "code",
   "execution_count": 12,
   "metadata": {},
   "outputs": [
    {
     "name": "stdout",
     "output_type": "stream",
     "text": [
      "Certainly, let me summarize our conversation:\n",
      "\n",
      "You asked me to provide helpful responses as an HR assistant for a recruitment process happening in May 2024. Viettel is looking to hire 5 fresher software engineers in Hanoi, Vietnam. The requirements are:\n",
      "\n",
      "- Undergraduate or Bachelor's degree in Computer Science or a related field\n",
      "- At least 6 months of experience with Python, Java, C++, or NodeJS\n",
      "\n",
      "You provided me with 5 candidate CVs that matched the job description, and asked me to rank them based on the given information.\n",
      "\n",
      "I reviewed the candidate profiles and provided a ranked list with explanations:\n",
      "\n",
      "1. ID: 1476 - Ranked 1st due to the strong technical skills, relevant work experience, impressive academic achievements, and awards/hackathon wins.\n",
      "\n",
      "2. ID: 1747 - Ranked 2nd with a good educational background, relevant work experience, and well-aligned technical skills.\n",
      "\n",
      "3. ID: 999 - Ranked 3rd with a decent educational background, substantial work experience, and some relevant technical skills.\n",
      "\n",
      "4. ID: 754 - Ranked 4th with a relevant educational background and some work experience, but lacking in certain technical skills.\n",
      "\n",
      "5. ID: 131 - Ranked 5th as the candidate is from Ho Chi Minh City, which does not match the job location requirement in Hanoi.\n",
      "\n",
      "You then asked me to provide more details on the candidate with ID 131, which I summarized, noting their educational background, work experience, and technical skills.\n",
      "\n",
      "Finally, you asked me to summarize our entire conversation, which is what I have done here.\n",
      "\n",
      "Please let me know if I have missed or misunderstood anything in the summary.\n"
     ]
    }
   ],
   "source": [
    "s = \"Certainly, let me summarize our conversation:\\n\\nYou asked me to provide helpful responses as an HR assistant for a recruitment process happening in May 2024. Viettel is looking to hire 5 fresher software engineers in Hanoi, Vietnam. The requirements are:\\n\\n- Undergraduate or Bachelor's degree in Computer Science or a related field\\n- At least 6 months of experience with Python, Java, C++, or NodeJS\\n\\nYou provided me with 5 candidate CVs that matched the job description, and asked me to rank them based on the given information.\\n\\nI reviewed the candidate profiles and provided a ranked list with explanations:\\n\\n1. ID: 1476 - Ranked 1st due to the strong technical skills, relevant work experience, impressive academic achievements, and awards/hackathon wins.\\n\\n2. ID: 1747 - Ranked 2nd with a good educational background, relevant work experience, and well-aligned technical skills.\\n\\n3. ID: 999 - Ranked 3rd with a decent educational background, substantial work experience, and some relevant technical skills.\\n\\n4. ID: 754 - Ranked 4th with a relevant educational background and some work experience, but lacking in certain technical skills.\\n\\n5. ID: 131 - Ranked 5th as the candidate is from Ho Chi Minh City, which does not match the job location requirement in Hanoi.\\n\\nYou then asked me to provide more details on the candidate with ID 131, which I summarized, noting their educational background, work experience, and technical skills.\\n\\nFinally, you asked me to summarize our entire conversation, which is what I have done here.\\n\\nPlease let me know if I have missed or misunderstood anything in the summary.\"\n",
    "print(s)"
   ]
  }
 ],
 "metadata": {
  "kernelspec": {
   "display_name": "base",
   "language": "python",
   "name": "python3"
  },
  "language_info": {
   "codemirror_mode": {
    "name": "ipython",
    "version": 3
   },
   "file_extension": ".py",
   "mimetype": "text/x-python",
   "name": "python",
   "nbconvert_exporter": "python",
   "pygments_lexer": "ipython3",
   "version": "3.11.5"
  }
 },
 "nbformat": 4,
 "nbformat_minor": 2
}
