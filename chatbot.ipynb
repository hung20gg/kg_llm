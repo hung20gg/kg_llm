{
 "cells": [
  {
   "cell_type": "code",
   "execution_count": 1,
   "metadata": {},
   "outputs": [
    {
     "name": "stderr",
     "output_type": "stream",
     "text": [
      "2024-06-08 22:38:24.880237: E external/local_xla/xla/stream_executor/cuda/cuda_dnn.cc:9261] Unable to register cuDNN factory: Attempting to register factory for plugin cuDNN when one has already been registered\n",
      "2024-06-08 22:38:24.880265: E external/local_xla/xla/stream_executor/cuda/cuda_fft.cc:607] Unable to register cuFFT factory: Attempting to register factory for plugin cuFFT when one has already been registered\n",
      "2024-06-08 22:38:24.880889: E external/local_xla/xla/stream_executor/cuda/cuda_blas.cc:1515] Unable to register cuBLAS factory: Attempting to register factory for plugin cuBLAS when one has already been registered\n",
      "2024-06-08 22:38:25.464839: W tensorflow/compiler/tf2tensorrt/utils/py_utils.cc:38] TF-TRT Warning: Could not find TensorRT\n"
     ]
    }
   ],
   "source": [
    "from database.GraphDB import KnowledgeGraphDB\n",
    "from retrieval.retrieval_hub import RetrivalHub\n",
    "from query_and_ranking.query import Query\n",
    "from query_and_ranking.rerank import Reranker\n",
    "from agentic import Agent"
   ]
  },
  {
   "cell_type": "code",
   "execution_count": 2,
   "metadata": {},
   "outputs": [],
   "source": [
    "kg = KnowledgeGraphDB(uri=\"bolt://localhost:8687\", user=\"neo4j\", password=\"quanghung2004\")\n",
    "retrieval_hub = RetrivalHub(kg)\n",
    "reranker = Reranker()\n",
    "cv_query = Query(kg, retrieval_hub)"
   ]
  },
  {
   "cell_type": "code",
   "execution_count": 3,
   "metadata": {},
   "outputs": [
    {
     "name": "stderr",
     "output_type": "stream",
     "text": [
      "Special tokens have been added in the vocabulary, make sure the associated word embeddings are fine-tuned or trained.\n"
     ]
    },
    {
     "data": {
      "application/vnd.jupyter.widget-view+json": {
       "model_id": "a8f7696685344da2a9f9795e475ac7d4",
       "version_major": 2,
       "version_minor": 0
      },
      "text/plain": [
       "Loading checkpoint shards:   0%|          | 0/2 [00:00<?, ?it/s]"
      ]
     },
     "metadata": {},
     "output_type": "display_data"
    }
   ],
   "source": [
    "chat_agent = Agent(kg, retrieval_hub, reranker, cv_query)"
   ]
  },
  {
   "cell_type": "markdown",
   "metadata": {},
   "source": []
  },
  {
   "cell_type": "code",
   "execution_count": 4,
   "metadata": {},
   "outputs": [],
   "source": [
    "import gradio as gr\n",
    "from processing_data.read_pdf import *\n",
    "\n",
    "def chat(input_text, history):\n",
    "    response = chat_agent.chat(input_text)\n",
    "    \n",
    "    # For now\n",
    "    text = response['text']\n",
    "    if 'files' in response:\n",
    "        text += '\\n\\n' + '\\n'.join(response['files'])\n",
    "    print(text)\n",
    "    history.append((input_text, text))\n",
    "    return text\n",
    "\n",
    "def chat_multi(message, history):\n",
    "    num_files = len(message[\"files\"])\n",
    "    if num_files >0:\n",
    "        yield \"Processing {} files...\".format(num_files)\n",
    "        data  = process_pdf_batch(message[\"files\"], is_save=False)\n",
    "        text = '\\n\\n'.join(data)\n",
    "        input_text = message[\"text\"]+ '\\n\\n' + text\n",
    "    else:\n",
    "        input_text = message[\"text\"]\n",
    "    response = chat_agent.chat(input_text)\n",
    "    \n",
    "    # For now\n",
    "    text = response['text']\n",
    "    if 'files' in response:\n",
    "        text += '\\n\\n' + '\\n'.join(response['files'])\n",
    "    history.append((input_text, text))\n",
    "    return text, history"
   ]
  },
  {
   "cell_type": "code",
   "execution_count": 5,
   "metadata": {},
   "outputs": [
    {
     "name": "stderr",
     "output_type": "stream",
     "text": [
      "You are not running the flash-attention implementation, expect numerical differences.\n"
     ]
    },
    {
     "name": "stdout",
     "output_type": "stream",
     "text": [
      "Caching examples at: '/home/quanghung20gg/Documents/hung20gg/cv_rank/gradio_cached_examples/15'\n",
      "Caching example 1/2\n",
      "Extracting Job Description\n",
      "\n",
      "\n",
      "Here are the extracted requirements:\n",
      "\n",
      "**Number of applications:** Specific number (25)\n",
      "\n",
      "**Location:** Not mentioned\n",
      "**Academic level:** Undergraduate/Graduate\n",
      "**Institution:** National Economics University\n",
      "**GPA:** Not mentioned\n",
      "**Speaking language:** Not mentioned\n",
      "\n",
      "**Roles, skills, programming languages, and tech stacks:** Not mentioned\n",
      "**Experience level:** Not mentioned\n",
      "\n",
      "**Other requirements:** Currently studying or graduated\n",
      "\n",
      "**Benefits:** Not mentioned\n",
      "\n",
      "**Suitable roles:** Not mentioned\n",
      "\n",
      "\n",
      "[\n",
      "    {\n",
      "        \"numApplication\" : 25,\n",
      "        \"languageList\" : [],\n",
      "        \"cityList\" : [],\n",
      "        \"institutionList\" :[\"National Economics University\"],\n",
      "        \"GPA\": null,\n",
      "        \"majorList\": [],\n",
      "        \"eduList\": [\"Undergraduate\"],\n",
      "        \"roleList\": [],\n",
      "        \"role_exp\" : null,\n",
      "        \"skillList\": [],\n",
      "        \"programmingList\": [],\n",
      "        \"programming_exp\": null,\n",
      "        \"suitableList\" : []\n",
      "    }\n",
      "]\n",
      "End LLM\n",
      "{'numApplication': 25, 'languageList': [], 'cityList': [], 'institutionList': ['National Economics University'], 'GPA': None, 'majorList': [], 'eduList': ['Undergraduate'], 'roleList': [], 'role_exp': None, 'skillList': [], 'programmingList': [], 'programming_exp': None, 'suitableList': []}\n",
      "New Query:  {'institutionList': ['national economics university (neu)'], 'eduList': ['undergraduate', 'phd', 'master', 'certificate', 'bachelor', 'diploma']}\n",
      "Extended Num Application:  30\n",
      "Not enough application\n",
      "{'numApplication': 25, 'cityList': [], 'institutionList': ['National Economics University'], 'GPA': None, 'roleList': [], 'role_exp': None, 'skillList': [], 'programmingList': [], 'programming_exp': None, 'suitableList': []}\n",
      "New Query:  {'institutionList': ['university of economics', 'national economics university (neu)']}\n",
      "[1214, 1274, 1690, 424, 463, 8, 1941, 2013, 495, 324, 227, 1783, 310, 561, 732, 406, 606, 280, 738, 124, 1761, 1993, 2109, 1722, 1291]\n",
      "Num CV ok:  25\n",
      "Rerank\n",
      "[1214, 124, 1274, 1291, 1690, 1722, 1761, 1783, 1941, 1993, 2013, 2109, 227, 280, 310, 324, 406, 424, 463, 495, 561, 606, 732, 738, 8]\n",
      "Time: 8.377220153808594\n",
      " Job requires applicants with undergraduate/graduate level education from National Economics University, currently studying or graduated. No specific GPA, location, or speaking language requirements. Experience level and tech skills not specified. Benefits and suitable roles not mentioned. Minimum 25 applications expected.\n",
      "\n",
      "Too many CVs to display\n",
      "\n",
      "data/raw/data/clean4.0/CV_SonBao_DS.pdf\n",
      "data/raw/data/clean4.0/CV_ Hoàng Phương Thảo - Thảo Hoàng.pdf\n",
      "data/raw/data/clean4.0/CV thương mại điện tử - Nguyễn Mai Phương - Nguyen Mai Phuong.pdf\n",
      "data/raw/data/clean4.0/Thiều Ngọc Mai _CV.pdf\n",
      "data/raw/data/clean4.0/Ho Thi Minh Ngan_CV.pdf\n",
      "data/raw/data/clean4.0/Le-Thi-Hai-Yen-250324.201747 - Yến Lê.pdf\n",
      "data/raw/data/clean4.0/CV_PHẠM-VIỆT-HƯNG_-NHÂN-VIÊN-CONTENT-WRITER - Hưng Phạm Việt.pdf\n",
      "data/raw/data/clean4.0/CV  Phạm Thị Loan - CV2-TopCV.vn - Loan Phạm Thị.pdf\n",
      "data/raw/data/clean4.0/BuiQuocAnh_Resume.pdf\n",
      "data/raw/data/clean4.0/CV Thiên Khôi - Duyên Nguyễn.pdf\n",
      "data/raw/data/clean4.0/CV_Nguyen_Quang_Hung_DataScientist (4).pdf\n",
      "data/raw/data/clean4.0/CV - Nguyen Minh Quang. - Quang Nguyen Minh.pdf\n",
      "data/raw/data/clean4.0/HOANG PHUC DUY - CV.pdf\n",
      "data/raw/data/clean4.0/CV ca nhan_Nguyen Cam Ly.pdf\n",
      "data/raw/data/clean4.0/Tran Viet Hoang_CV.pdf\n",
      "data/raw/data/clean4.0/NguyenDucThuan_CV.pdf\n",
      "data/raw/data/clean4.0/NodeFlair_Resume_BackendNodejs.pdf\n",
      "data/raw/data/clean4.0/CV_TRẦN THỊ HẢI YẾN - Hải Yến Trần.pdf\n",
      "data/raw/data/clean4.0/cncnmai.pdf\n",
      "data/raw/data/clean4.0/latest_cv.pdf\n",
      "data/raw/data/clean4.0/CV_Light_Theme.pdf\n",
      "data/raw/data/clean4.0/Cream Black Vintage Typographic Social Media Manager Minimalist Resume.pdf\n",
      "data/raw/data/clean4.0/Phuong_Anh_Trinh_CV_CinnamonAI.pdf\n",
      "data/raw/data/clean4.0/CV_Vũ Thu Hiền.pdf\n",
      "data/raw/data/clean4.0/CV-Le Nhat Linh.pdf\n",
      "Caching example 2/2\n",
      "Extracting Job Description\n",
      "\n",
      "\n",
      "Here are the normalized requirements and answers to the questions:\n",
      "\n",
      "**Requirements:**\n",
      "\n",
      "* Number of applications: 6\n",
      "* Location: HaNoi\n",
      "* Academic level: Fresh graduated (or undergraduate)\n",
      "* Institution: Not mentioned\n",
      "* GPA: Not mentioned\n",
      "* Speaking language: Not mentioned\n",
      "* Roles: Data Science and AI\n",
      "* Skills: Not mentioned\n",
      "* Programming languages: Python\n",
      "* Tech stacks: Not mentioned\n",
      "* Experience level: Fresher (0.5 year)\n",
      "* Other requirements: Having projects related to DS/AI is a plus\n",
      "* Benefits: Not mentioned\n",
      "* Suitable roles: Data Scientist, AI Engineer\n",
      "\n",
      "\n",
      "[\n",
      "    {\n",
      "        \"numApplication\" : 6,\n",
      "        \"languageList\" : [],\n",
      "        \"cityList\" : [\"Ha Noi\"],\n",
      "        \"institutionList\" : null,\n",
      "        \"GPA\": null,\n",
      "        \"majorList\": null,\n",
      "        \"eduList\": [\"Undergraduate\"],\n",
      "        \"roleList\": [\"Data Science\", \"AI\"],\n",
      "        \"role_exp\" : 0.5,\n",
      "        \"skillList\": [],\n",
      "        \"programmingList\": [\"Python\"],\n",
      "        \"programming_exp\": null,\n",
      "        \"suitableList\" : [\"Data Scientist\", \"AI Engineer\"]\n",
      "    }\n",
      "]\n",
      "End LLM\n",
      "{'numApplication': 6, 'languageList': [], 'cityList': ['Ha Noi'], 'institutionList': None, 'GPA': None, 'majorList': None, 'eduList': ['Undergraduate'], 'roleList': ['Data Science', 'AI'], 'role_exp': 0.5, 'skillList': [], 'programmingList': ['Python'], 'programming_exp': None, 'suitableList': ['Data Scientist', 'AI Engineer']}\n",
      "New Query:  {'cityList': ['ha noi'], 'eduList': ['undergraduate', 'phd', 'master', 'certificate', 'bachelor', 'diploma'], 'roleList': ['data science / artificial intelligence', 'machine learning engineer', 'data scientist', 'data management', 'data analysis', 'ai engineer', 'programmer'], 'role_exp': 0.5, 'programmingList': ['php', 'java', 'numpy', 'golang', 'python'], 'suitableList': ['data analyst', 'research engineer', 'data science / artificial intelligence', 'machine learning engineer', 'data scientist', 'research scientist', 'nlp engineer', 'software engineer', 'financial market data analyst', 'ai engineer']}\n",
      "Extended Num Application:  8\n",
      "Not enough application\n",
      "{'numApplication': 6, 'cityList': ['Ha Noi'], 'institutionList': None, 'GPA': None, 'roleList': ['Data Science', 'AI'], 'role_exp': 0.5, 'skillList': [], 'programmingList': ['Python'], 'programming_exp': None, 'suitableList': ['Data Scientist', 'AI Engineer']}\n",
      "New Query:  {'cityList': ['ha noi'], 'roleList': ['data analyst', 'data science / artificial intelligence', 'machine learning engineer', 'data scientist', 'data management', 'nlp engineer', 'data analysis', 'ai engineer', 'programmer'], 'role_exp': 0.45, 'programmingList': ['php', 'java', 'numpy', 'golang', 'scikit', 'python'], 'suitableList': ['data analyst', 'research engineer', 'data science / artificial intelligence', 'scientist', 'machine learning engineer', 'data scientist', 'research scientist', 'nlp engineer', 'software engineer', 'data analysis', 'financial market data analyst', 'solution architect', 'ai engineer', 'embedded systems engineer']}\n",
      "[606, 1291, 1690, 1847, 2013, 280, 481]\n",
      "Num CV ok:  7\n",
      "Rerank\n",
      "Reranking\n",
      "[1291, 1690, 606, 481, 280, 2013, 1847]\n",
      "Time: 10.57657241821289\n",
      " The job opening in Hanoi for Data Science and AI roles requires fresh graduates with a minimum of 0.5 years of experience. Proficiency in Python is essential, and having DS/AI-related projects is advantageous. No specific GPA, institution, or tech stacks are required. Benefits and suitable roles include Data Scientist and AI Engineer.\n",
      "\n",
      "Here are the CVs that match the job description:\n",
      "\n",
      "|ID | Education | Work and Project |\n",
      "|-- | --------- | ---------------- |\n",
      "|**ID: 1291** | Ngoc Mai Thieu has a strong academic background in Data Science from National Economics University (NEU) in Ha Noi, Vietnam. She achieved a 4.0 GPA and received four consecutive scholarships. She has a strong understanding of data structures and algorithms, machine learning, data preparation, database management, linear algebra, calculus, and statistics. She has also obtained an IELTS score of 7.0 and a Microsoft Office Specialist (MOS) Certification. | Ngoc Mai Thieu has been working as a Research Assistant at DSLab (NEU) since 2022. She assists professors in writing scientific papers and is currently working on a product mapping project using Large Language Models. She has also been a Teaching Assistant at NEU since 2022, assisting professors in Python and Data Structure and Algorithm classes. She is responsible for reviewing lectures, preparing exams, and grading homework and exams. |\n",
      "|**ID: 1690** | Ho Thi Minh Ngan holds a Bachelor's degree in Information Technology from National Economics University, graduating with a GPA of 3.68/4.0. She has received numerous scholarships, including the Vietinbank corporate scholarship, SCG group scholarship, and modern machine learning scholarship from Hanoi University of Science and Technology. Her academic achievements are further highlighted by her awards in various competitions, such as the First Prize at VYPI for AI application in public policy implementation and the Second prize in the Informatics Olympiad of the National Economics University. She has also obtained Microsoft certifications, DP-900 and DP-080. | Ho Thi Minh Ngan has worked as a Data Analyst at Vietsearch Global for 1.5 years, analyzing website data and contributing to business insights. She also interned as a Data Scientist at VietinBank for 4 months, collaborating with business analysts and researching machine learning models. |\n",
      "|**ID: 606** | Bachelor of Data Science at National Economics University (NEU). Achieved IELTS 7.5, HSK 5, and SAT 1460. | Worked as a Data and sales assistant at SIBAI VIETNAM for 4 months, developing data scrapers for LinkedIn and managing large datasets. Also served as a Research Assistant at ORlab for 1 month, researching and analyzing mathematical models for supply chain optimization. |\n",
      "|**ID: 481** | Duy Anh (Jude) Tran holds a Bachelor's degree in Software Engineering from Electric Power University in Ha Noi, graduating in June 2024. He has also obtained certifications in Python Fundamentals from Datacamp and Cybersecurity Essentials and Introduction to Cyber Security from Cisco Networking Academy. He has achieved top 12 in Data Science Talent Competition and G'Contest 2022, and won 3rd prize in EPU Start-Up Competition. | Duy Anh (Jude) Tran has worked as a Back-end Developer at INTER ITS., JSC for 7 months, contributing to the development of new features, maintaining and writing instructions for products. He also worked as a Front-end Developer as a freelancer for 5 months, creating and selling front-end templates. Currently, he is working as an Artificial Intelligence Engineer at XTEK.ASIA, participating in the development of an object detection product in collaboration with the Korea International Cooperation Agency. |\n",
      "|**ID: 280** | Nguyen Cam Ly holds a Bachelor of Science degree in Data Science in Economics and Business from the National Economics University, graduating with a GPA of 3.98/4.0. She has a strong foundation in mathematics, having majored in mathematics at Bac Giang High School for the Gifted. Her academic achievements include winning first prize in the National Mathematical Olympiad 2024 and being recognized as a Student of 5 merits 2023 at the City-level. She is also a recipient of the Vingroup Companion Scholarship 2023. | Nguyen Cam Ly has gained practical experience through internships and research projects. She worked as a Data Science and AI Intern at Viettel Digital Talent, participating in an intensive training program to learn cutting-edge Data Science and AI technology. She also served as a Research Assistant at the Data Science Laboratory NEU, focusing on Natural Language Processing and studying a legal text retrieval system using PhoBERT, viBERT models, and the Condenser architecture in the Vietnamese language. |\n",
      "|**ID: 2013** | Graduated with a Bachelor's degree in Data Science in Economics and Business from National Economics University with a GPA of 3.88. Awarded second prize in the National Student Olympiads in Informatics (non-specialized category) and third prize in ICPC Regional (non-specialized category). Holds an IELTS score of 7.0. | Worked as a Research Assistance at NEU ITLab from May 2023 to March 2024, focusing on learning Web technology and development pipeline, and using Data Mining and Machine Learning models to predict students’ performance. Currently working as a Data Science / Artificial Intelligence specialist at Viettel Digital Talent since April 2024, learning and practicing AI/ML, including Recommendation System, Computer Vision, LLMs, and business aspects when developing ML projects. Designed a Personal Recommendation System for smart-home devices using Knowledge Graph and LLMs. |\n",
      "|**ID: 1847** | NGUYỄN ĐỨC THÀNH holds a Bachelor's degree in Finance from Banking Academy. He has also obtained a Google Data Analytics Professional Certificate. He has participated in a workshop on Accounting & Auditing Facility. | NGUYỄN ĐỨC THÀNH has gained practical experience through internships at MB BANK, MUONG KIM HYDRO POWER, and VPS SECURITIES. At MB BANK, he provided customer service, processed Forex transactions, and supported SME account opening. At MUONG KIM HYDRO POWER, he evaluated company value for M&A purposes and provided financial analysis and advice to the director. At VPS SECURITIES, he conducted financial and technical analysis, planned financial strategies for customers, and sourced customers through social media and personal contacts. |\n",
      "\n",
      "\n",
      "data/raw/data/clean4.0/Thiều Ngọc Mai _CV.pdf\n",
      "data/raw/data/clean4.0/Ho Thi Minh Ngan_CV.pdf\n",
      "data/raw/data/clean4.0/Cream Black Vintage Typographic Social Media Manager Minimalist Resume.pdf\n",
      "data/raw/data/clean4.0/Duy Anh (Jude) Tran - Curriculum Vitae.pdf\n",
      "data/raw/data/clean4.0/CV ca nhan_Nguyen Cam Ly.pdf\n",
      "data/raw/data/clean4.0/CV_Nguyen_Quang_Hung_DataScientist (4).pdf\n",
      "data/raw/data/clean4.0/CV_Đức Thành.pdf\n",
      "Running on local URL:  http://127.0.0.1:7860\n",
      "\n",
      "To create a public link, set `share=True` in `launch()`.\n"
     ]
    },
    {
     "data": {
      "text/html": [
       "<div><iframe src=\"http://127.0.0.1:7860/\" width=\"100%\" height=\"500\" allow=\"autoplay; camera; microphone; clipboard-read; clipboard-write;\" frameborder=\"0\" allowfullscreen></iframe></div>"
      ],
      "text/plain": [
       "<IPython.core.display.HTML object>"
      ]
     },
     "metadata": {},
     "output_type": "display_data"
    },
    {
     "data": {
      "text/plain": []
     },
     "execution_count": 5,
     "metadata": {},
     "output_type": "execute_result"
    },
    {
     "name": "stdout",
     "output_type": "stream",
     "text": [
      "Extracting Job Description\n",
      "\n",
      "\n",
      "Here are the normalized requirements and answers to the questions:\n",
      "\n",
      "**Number of applications required:** 6\n",
      "\n",
      "**Location, Academic Level, Institution, GPA, Speaking Language:**\n",
      "- Location: HaNoi\n",
      "- Academic Level: Fresh graduated (or undergraduate)\n",
      "- Institution: Not mentioned\n",
      "- GPA: Not mentioned\n",
      "- Speaking Language: Not mentioned (assuming English as it's not specified)\n",
      "\n",
      "**Roles, Skills, Programming Languages, Tech Stacks, Experience Level:**\n",
      "- Roles: Not mentioned\n",
      "- Skills: Data Science, AI\n",
      "- Programming Languages: Python\n",
      "- Tech Stacks: Not mentioned\n",
      "- Experience Level: Fresher (0.5 year)\n",
      "\n",
      "**Other Requirements:**\n",
      "- Having projects related to DS/AI is a plus\n",
      "\n",
      "**Benefits:**\n",
      "- Not mentioned\n",
      "\n",
      "**Suitable Roles:**\n",
      "- Data Science Intern, AI Intern\n",
      "\n",
      "\n",
      "[\n",
      "    {\n",
      "        \"numApplication\" : 6,\n",
      "        \"languageList\" : [\"english\"],\n",
      "        \"cityList\" : [\"Ha Noi\"],\n",
      "        \"institutionList\" : null,\n",
      "        \"GPA\": null,\n",
      "        \"majorList\": null,\n",
      "        \"eduList\": [\"Undergraduate\"],\n",
      "        \"roleList\": [],\n",
      "        \"role_exp\" : null,\n",
      "        \"skillList\": [\"Data Science\", \"AI\"],\n",
      "        \"programmingList\": [\"Python\"],\n",
      "        \"programming_exp\": 0.5,\n",
      "        \"suitableList\" : [\"Data Science Intern\", \"AI Intern\"]\n",
      "    }\n",
      "]\n",
      "End LLM\n",
      "{'numApplication': 6, 'languageList': ['english'], 'cityList': ['Ha Noi'], 'institutionList': None, 'GPA': None, 'majorList': None, 'eduList': ['Undergraduate'], 'roleList': [], 'role_exp': None, 'skillList': ['Data Science', 'AI'], 'programmingList': ['Python'], 'programming_exp': 0.5, 'suitableList': ['Data Science Intern', 'AI Intern']}\n",
      "New Query:  {'languageList': ['English'], 'cityList': ['ha noi'], 'eduList': ['undergraduate', 'phd', 'master', 'certificate', 'bachelor', 'diploma'], 'skillList': ['algorithms', 'data engineering', 'data modeling', 'learning', 'reasoning', 'natural language processing', 'deep learning', 'data science', 'data wrangling', 'big data', 'artificial intelligence', 'data mining'], 'programmingList': ['php', 'java', 'numpy', 'golang', 'python'], 'programming_exp': 0.5, 'suitableList': ['data analyst', 'data entry staff', 'data science / artificial intelligence', 'machine learning engineer', 'data scientist', 'nlp engineer', 'data analysis', 'editor', 'financial market data analyst', 'ai engineer', 'programmer']}\n",
      "Extended Num Application:  8\n",
      "Reduce CV  9  ->  8  CV\n",
      "{'numApplication': 6, 'languageList': ['english'], 'cityList': ['Ha Noi'], 'institutionList': None, 'GPA': None, 'majorList': None, 'eduList': ['Undergraduate'], 'roleList': [], 'role_exp': None, 'skillList': ['Data Science', 'AI'], 'programmingList': ['Python'], 'programming_exp': 0.5, 'suitableList': ['Data Science Intern', 'AI Intern']}\n",
      "New Query:  {'languageList': ['English'], 'cityList': ['ha noi'], 'eduList': ['undergraduate', 'phd', 'master', 'certificate', 'bachelor', 'diploma'], 'skillList': ['algorithms', 'data engineering', 'data modeling', 'learning', 'reasoning', 'deep learning', 'data science', 'big data', 'artificial intelligence', 'data mining'], 'programmingList': ['java', 'php', 'python'], 'programming_exp': 0.5, 'suitableList': ['data analyst', 'data entry staff', 'data science / artificial intelligence', 'machine learning engineer', 'data scientist', 'nlp engineer', 'financial market data analyst', 'ai engineer']}\n",
      "Risk:  True\n",
      "Not enough application\n",
      "Reduce Risk -> Get more CV\n",
      "{'numApplication': 6, 'languageList': ['english'], 'cityList': ['Ha Noi'], 'institutionList': None, 'GPA': None, 'majorList': None, 'eduList': ['Undergraduate'], 'roleList': [], 'role_exp': None, 'skillList': ['Data Science', 'AI'], 'programmingList': ['Python'], 'programming_exp': 0.5, 'suitableList': ['Data Science Intern', 'AI Intern']}\n",
      "New Query:  {'languageList': ['English'], 'cityList': ['ha noi'], 'eduList': ['undergraduate', 'phd', 'master', 'certificate', 'bachelor', 'diploma'], 'skillList': ['algorithms', 'data engineering', 'data modeling', 'learning', 'reasoning', 'natural language processing', 'deep learning', 'data science', 'data wrangling', 'big data', 'artificial intelligence', 'data mining'], 'programmingList': ['php', 'java', 'numpy', 'golang', 'python'], 'programming_exp': 0.5, 'suitableList': ['data analyst', 'data entry staff', 'data science / artificial intelligence', 'machine learning engineer', 'data scientist', 'nlp engineer', 'data analysis', 'editor', 'financial market data analyst', 'ai engineer', 'programmer']}\n",
      "[732, 1291, 1410, 1690, 1941, 2013, 280, 345, 481]\n",
      "More -> Reduce CV\n",
      "Num CV ok:  8\n",
      "Rerank\n",
      "Reranking\n",
      "[732, 481, 1410, 280, 2013, 1941]\n",
      "Time: 10.684897184371948\n",
      " Job Requirements Summary:\n",
      "\n",
      "Seeking a Data Science or AI intern in Hanoi, fresh graduates with a minimum of 0.5 years of experience. Proficiency in Python is required. Preference given to candidates with DS/AI projects. No specific GPA or institutional requirements. English proficiency assumed.\n",
      "\n",
      "Here are the CVs that match the job description:\n",
      "\n",
      "|ID | Education | Work and Project |\n",
      "|-- | --------- | ---------------- |\n",
      "|**ID: 732** | Phuong Anh Trinh is currently pursuing a Data Science degree at National Economics University with a GPA of 3.97/4.0. She is expected to graduate in 2026. | Phuong Anh Trinh has worked as a Data Processor at AI DATASET from August 2023 to November 2023, where she was responsible for data labeling and classification. She has also been a Teaching Assistant at KINGEDU since 2022. |\n",
      "|**ID: 481** | Duy Anh (Jude) Tran holds a Bachelor's degree in Software Engineering from Electric Power University in Ha Noi, graduating in June 2024. He has also obtained certifications in Python Fundamentals from Datacamp and Cybersecurity Essentials and Introduction to Cyber Security from Cisco Networking Academy. He has achieved top 12 in Data Science Talent Competition and G'Contest 2022, and won 3rd prize in EPU Start-Up Competition. | Duy Anh (Jude) Tran has worked as a Back-end Developer at INTER ITS., JSC for 7 months, contributing to the development of new features, maintaining and writing instructions for products. He also worked as a Front-end Developer as a freelancer for 5 months, creating and selling front-end templates. Currently, he is working as an Artificial Intelligence Engineer at XTEK.ASIA, participating in the development of an object detection product in collaboration with the Korea International Cooperation Agency. |\n",
      "|**ID: 1410** | Phong Tran Ngoc Hung holds a Bachelor's degree in Smart Embedded System and IoT from Hanoi University of Science and Technology. He has demonstrated his academic excellence by achieving a Top 3 position in round 1 of Social Business Creation and winning the Impactful Social Business Idea Award. He was also a Finalist in the Social Business Creation 2022 competition. | Phong Tran Ngoc Hung has 2 years of experience in leadership and research roles. He co-founded the Lighthouse Association, where he led weekly seminars and discussions on Natural Language Processing, Computer Vision, and Blockchain technologies. He also contributed to a shared database by summarizing research papers and documenting techniques and architectures. Prior to that, he founded and served as Executive Director of Mental Sprout, a platform aimed at standardizing the intervention process for autistic children in Vietnam. He directed a team of 10 people to develop the platform, held discussions with business advisors and autism specialists, and organized a workshop for 58 attendees. His efforts at Mental Sprout resulted in achieving a Top 3 position in round 1 of Social Business Creation, winning the Impactful Social Business Idea Award, and becoming a Finalist in the Social Business Creation 2022 competition. |\n",
      "|**ID: 280** | Nguyen Cam Ly holds a Bachelor of Science degree in Data Science in Economics and Business from the National Economics University, graduating with a GPA of 3.98/4.0. She has a strong foundation in mathematics, having majored in mathematics at Bac Giang High School for the Gifted. Her academic achievements include winning first prize in the National Mathematical Olympiad 2024 and being recognized as a Student of 5 merits 2023 at the City-level. She is also a recipient of the Vingroup Companion Scholarship 2023. | Nguyen Cam Ly has gained practical experience through internships and research projects. She worked as a Data Science and AI Intern at Viettel Digital Talent, participating in an intensive training program to learn cutting-edge Data Science and AI technology. She also served as a Research Assistant at the Data Science Laboratory NEU, focusing on Natural Language Processing and studying a legal text retrieval system using PhoBERT, viBERT models, and the Condenser architecture in the Vietnamese language. |\n",
      "|**ID: 2013** | Graduated with a Bachelor's degree in Data Science in Economics and Business from National Economics University with a GPA of 3.88. Awarded second prize in the National Student Olympiads in Informatics (non-specialized category) and third prize in ICPC Regional (non-specialized category). Holds an IELTS score of 7.0. | Worked as a Research Assistance at NEU ITLab from May 2023 to March 2024, focusing on learning Web technology and development pipeline, and using Data Mining and Machine Learning models to predict students’ performance. Currently working as a Data Science / Artificial Intelligence specialist at Viettel Digital Talent since April 2024, learning and practicing AI/ML, including Recommendation System, Computer Vision, LLMs, and business aspects when developing ML projects. Designed a Personal Recommendation System for smart-home devices using Knowledge Graph and LLMs. |\n",
      "|**ID: 1941** | Bui Quoc Anh is a Computer Science graduate student at National Economics University in Ha Noi, Vietnam. He has a GPA of 3.4/4.0 and has taken courses in Data Structures and Algorithm, Artificial Intelligence, Applied Artificial Intelligence in Business, Object Oriented Programming, Database Management System, Web Programming, and Decision Support System. He has also participated in the OLP competition and won the Consolation prize in 2022 and the 3rd prize in 2023 in the IT Specialist Division. | Bui Quoc Anh has worked as a Programming Tutor at NEU IT CLUB (NITC) from November 2022 to December 2023. He designed and developed Coding Fundamentals curriculum, mentored members in basic algorithms, and mentored students to compete and won multiple prizes. |\n",
      "\n",
      "\n",
      "data/raw/data/clean4.0/Phuong_Anh_Trinh_CV_CinnamonAI.pdf\n",
      "data/raw/data/clean4.0/Duy Anh (Jude) Tran - Curriculum Vitae.pdf\n",
      "data/raw/data/clean4.0/1685351692698.pdf\n",
      "data/raw/data/clean4.0/CV ca nhan_Nguyen Cam Ly.pdf\n",
      "data/raw/data/clean4.0/CV_Nguyen_Quang_Hung_DataScientist (4).pdf\n",
      "data/raw/data/clean4.0/BuiQuocAnh_Resume.pdf\n",
      "Extracting Job Description\n"
     ]
    },
    {
     "name": "stderr",
     "output_type": "stream",
     "text": [
      "--- Logging error ---\n",
      "Traceback (most recent call last):\n",
      "  File \"/home/quanghung20gg/anaconda3/lib/python3.11/logging/__init__.py\", line 1110, in emit\n",
      "    msg = self.format(record)\n",
      "          ^^^^^^^^^^^^^^^^^^^\n",
      "  File \"/home/quanghung20gg/anaconda3/lib/python3.11/logging/__init__.py\", line 953, in format\n",
      "    return fmt.format(record)\n",
      "           ^^^^^^^^^^^^^^^^^^\n",
      "  File \"/home/quanghung20gg/anaconda3/lib/python3.11/logging/__init__.py\", line 687, in format\n",
      "    record.message = record.getMessage()\n",
      "                     ^^^^^^^^^^^^^^^^^^^\n",
      "  File \"/home/quanghung20gg/anaconda3/lib/python3.11/logging/__init__.py\", line 377, in getMessage\n",
      "    msg = msg % self.args\n",
      "          ~~~~^~~~~~~~~~~\n",
      "TypeError: not all arguments converted during string formatting\n",
      "Call stack:\n",
      "  File \"/home/quanghung20gg/anaconda3/lib/python3.11/threading.py\", line 995, in _bootstrap\n",
      "    self._bootstrap_inner()\n",
      "  File \"/home/quanghung20gg/anaconda3/lib/python3.11/threading.py\", line 1038, in _bootstrap_inner\n",
      "    self.run()\n",
      "  File \"/home/quanghung20gg/anaconda3/lib/python3.11/site-packages/anyio/_backends/_asyncio.py\", line 851, in run\n",
      "    result = context.run(func, *args)\n",
      "  File \"/tmp/ipykernel_68826/384623842.py\", line 5, in chat\n",
      "    response = chat_agent.chat(input_text)\n",
      "  File \"/home/quanghung20gg/Documents/hung20gg/cv_rank/agentic.py\", line 118, in chat\n",
      "    response = self.get_cv_from_jd(message)\n",
      "  File \"/home/quanghung20gg/Documents/hung20gg/cv_rank/agentic.py\", line 170, in get_cv_from_jd\n",
      "    data, jd_summarize, jd_out = self.query.get_cv(self.llm_jd_extraction, JD, self.llm_routing, llm_ranking)\n",
      "  File \"/home/quanghung20gg/Documents/hung20gg/cv_rank/query_and_ranking/query.py\", line 42, in get_cv\n",
      "    jd_summarize, jd_out, jd_extraction = extract_job_requirements_prompt(llm, JD, lm=lm)\n",
      "  File \"/home/quanghung20gg/Documents/hung20gg/cv_rank/agent/agent_prompt.py\", line 424, in extract_job_requirements_prompt\n",
      "    jd_summarize = lm(summarize_message)\n",
      "  File \"/home/quanghung20gg/Documents/hung20gg/cv_rank/agent/llm/llm.py\", line 81, in __call__\n",
      "    return self.pipe(message, **self.generation_args)[0]['generated_text'][-1]['content']\n",
      "  File \"/home/quanghung20gg/anaconda3/lib/python3.11/site-packages/transformers/pipelines/text_generation.py\", line 235, in __call__\n",
      "    return super().__call__(Chat(text_inputs), **kwargs)\n",
      "  File \"/home/quanghung20gg/anaconda3/lib/python3.11/site-packages/transformers/pipelines/base.py\", line 1167, in __call__\n",
      "    logger.warning_once(\n",
      "  File \"/home/quanghung20gg/anaconda3/lib/python3.11/site-packages/transformers/utils/logging.py\", line 329, in warning_once\n",
      "    self.warning(*args, **kwargs)\n",
      "Message: 'You seem to be using the pipelines sequentially on GPU. In order to maximize efficiency please use a dataset'\n",
      "Arguments: (<class 'UserWarning'>,)\n"
     ]
    },
    {
     "name": "stdout",
     "output_type": "stream",
     "text": [
      "\n",
      "\n",
      "Here are the extracted requirements and answers to the questions:\n",
      "\n",
      "**Requirements:**\n",
      "- Academic level: Senior students (undergraduate)\n",
      "\n",
      "**Answers:**\n",
      "\n",
      "- How many applications are required for the job? : Not mentioned\n",
      "- What is the location, academic level, institution, GPA, speaking language does the job require? : Academic level: Senior students (undergraduate), others: Not mentioned\n",
      "- What is the roles, skills, programming languages and tech stacks does the job require? What is the experience level required for each of them? : Not mentioned\n",
      "- Is there any other requirements that the job requires? : Not mentioned\n",
      "- What is the benefit for the candidate if they get the job? : Not mentioned\n",
      "- What is the suitable roles for this job? : Not mentioned\n",
      "\n",
      "\n",
      "[\n",
      "    {\n",
      "        \"numApplication\" : 3,\n",
      "        \"languageList\" : [],\n",
      "        \"cityList\" : null,\n",
      "        \"institutionList\" : [],\n",
      "        \"GPA\": null,\n",
      "        \"majorList\" : [],\n",
      "        \"eduList\" : [\"Undergraduate\"],\n",
      "        \"roleList\" : [],\n",
      "        \"role_exp\" : null,\n",
      "        \"skillList\" : [],\n",
      "        \"programmingList\" : [],\n",
      "        \"programming_exp\" : null,\n",
      "        \"suitableList\" : []\n",
      "    }\n",
      "]\n",
      "End LLM\n",
      "{'numApplication': 3, 'languageList': [], 'cityList': None, 'institutionList': [], 'GPA': None, 'majorList': [], 'eduList': ['Undergraduate'], 'roleList': [], 'role_exp': None, 'skillList': [], 'programmingList': [], 'programming_exp': None, 'suitableList': []}\n",
      "New Query:  {'eduList': ['undergraduate', 'phd', 'master', 'certificate', 'bachelor', 'diploma']}\n",
      "Extended Num Application:  4\n",
      "Reduce CV  172  ->  4  CV\n",
      "{'numApplication': 3, 'languageList': [], 'cityList': None, 'institutionList': [], 'GPA': None, 'majorList': [], 'eduList': ['Undergraduate'], 'roleList': [], 'role_exp': None, 'skillList': [], 'programmingList': [], 'programming_exp': None, 'suitableList': []}\n",
      "New Query:  {'eduList': ['undergraduate', 'phd', 'master', 'certificate', 'bachelor', 'diploma']}\n",
      "Still more -> Reduce CV\n",
      "Risk:  True\n",
      "Num CV ok:  4\n",
      "Rerank\n",
      "Reranking\n",
      "[708, 1953, 310]\n",
      "Time: 8.480697870254517\n",
      " The job requires senior undergraduate students, but specifics on applications, location, GPA, language proficiency, roles, skills, programming languages, tech stacks, experience levels, additional requirements, benefits, and suitable roles are not provided.\n",
      "\n",
      "Here are the CVs that match the job description:\n",
      "\n",
      "|ID | Education | Work and Project |\n",
      "|-- | --------- | ---------------- |\n",
      "|**ID: 708** | Nguyen Thanh Liem holds a Bachelor's degree in Software Engineering from the University of Science, Vietnam National University Ho Chi Minh City, graduating in 2011 with an excellent GPA of 8.28. He also completed a College degree in Software Engineering from the same institution in 2009 with a good GPA of 7.14. | Nguyen Thanh Liem has worked as an IT Team Leader at FP Logistics Company since October 2022, managing a team of 4 developers and building the company's logistics system using Odoo. He previously worked as a Full-stack Developer at YOLA Company from August 2019 to October 2022, developing using Python, Django, MySQL, MongoDB, SocketCluster, Redis, ElasticSearch, JavaScript, HTML, Git, Restful, Azure, and AWS. He also worked as a Backend Developer at mTrip.vn, a startup project about Social Travel, from May 2018 to June 2019, and at HDViet Company from March 2014 to April 2018, developing using Zend, MySQL, JavaScript, HTML, Python, Git, and Restful. He started his career as a Net Developer at FPT Software Company from March 2012 to December 2012, developing applications using .Net, C#, VB, and SQL. |\n",
      "|**ID: 1953** | Graduated with a Bachelor's degree in Software Engineering from FPT University.  | Developed features for a personal project focused on team composition management for a game, including details on items, augments, formations, and guides on building and playing these compositions. Also, developed a healthcare system for clinics as part of a capstone project, streamlining patient information management, medical examination processes, results, and healthcare payment services. |\n",
      "|**ID: 310** | Tran Viet Hoang holds a Bachelor's degree in Computer Science from the National Economics University, graduating in 2025. He has also obtained several Microsoft Office Specialist certifications in Excel, Word, and PowerPoint. Hoang is a Google IT Support certified professional. | Tran Viet Hoang has worked as a Software Engineer at Parts Precision Technology(S) Pte Ltd for 3 years, where he built and maintained web applications for various purposes, including linked goods demand, ship identification, supply chain solutions, and warranty tracking. He has also experience in teaching Computer Science and Information Communication Technology at MD Center. |\n",
      "\n",
      "\n",
      "data/raw/data/clean4.0/Resume_BE_Nguyen Thanh Liem.pdf\n",
      "data/raw/data/clean4.0/CV_Intern_BE_TruongQuangSon.pdf\n",
      "data/raw/data/clean4.0/Tran Viet Hoang_CV.pdf\n",
      "Extracting Job Description\n",
      "\n",
      "\n",
      "Based on the provided text, here are the extracted requirements:\n",
      "\n",
      "**Number of applications:** Not mentioned\n",
      "\n",
      "**Location:** Not mentioned\n",
      "**Academic level:** Not mentioned (assuming undergraduate)\n",
      "**Institution:** Not mentioned\n",
      "**GPA:** Not mentioned\n",
      "**Speaking language:** Not mentioned\n",
      "\n",
      "**Roles, skills, programming languages, and tech stacks:** Not mentioned\n",
      "**Experience level:** Not mentioned\n",
      "\n",
      "**Other requirements:** Not mentioned\n",
      "\n",
      "**Benefits:** Not mentioned\n",
      "\n",
      "**Suitable roles:** Not mentioned\n",
      "\n",
      "\n",
      "[]\n",
      "(Note: The input text only says \"I just need the name of candidates\", which doesn't provide any job requirements, so the output is an empty list.)\n",
      "End LLM\n"
     ]
    },
    {
     "name": "stderr",
     "output_type": "stream",
     "text": [
      "Traceback (most recent call last):\n",
      "  File \"/home/quanghung20gg/anaconda3/lib/python3.11/site-packages/gradio/queueing.py\", line 521, in process_events\n",
      "    response = await route_utils.call_process_api(\n",
      "               ^^^^^^^^^^^^^^^^^^^^^^^^^^^^^^^^^^^\n",
      "  File \"/home/quanghung20gg/anaconda3/lib/python3.11/site-packages/gradio/route_utils.py\", line 276, in call_process_api\n",
      "    output = await app.get_blocks().process_api(\n",
      "             ^^^^^^^^^^^^^^^^^^^^^^^^^^^^^^^^^^^\n",
      "  File \"/home/quanghung20gg/anaconda3/lib/python3.11/site-packages/gradio/blocks.py\", line 1945, in process_api\n",
      "    result = await self.call_function(\n",
      "             ^^^^^^^^^^^^^^^^^^^^^^^^^\n",
      "  File \"/home/quanghung20gg/anaconda3/lib/python3.11/site-packages/gradio/blocks.py\", line 1511, in call_function\n",
      "    prediction = await fn(*processed_input)\n",
      "                 ^^^^^^^^^^^^^^^^^^^^^^^^^^\n",
      "  File \"/home/quanghung20gg/anaconda3/lib/python3.11/site-packages/gradio/utils.py\", line 798, in async_wrapper\n",
      "    response = await f(*args, **kwargs)\n",
      "               ^^^^^^^^^^^^^^^^^^^^^^^^\n",
      "  File \"/home/quanghung20gg/anaconda3/lib/python3.11/site-packages/gradio/chat_interface.py\", line 516, in _submit_fn\n",
      "    response = await anyio.to_thread.run_sync(\n",
      "               ^^^^^^^^^^^^^^^^^^^^^^^^^^^^^^^\n",
      "  File \"/home/quanghung20gg/anaconda3/lib/python3.11/site-packages/anyio/to_thread.py\", line 56, in run_sync\n",
      "    return await get_async_backend().run_sync_in_worker_thread(\n",
      "           ^^^^^^^^^^^^^^^^^^^^^^^^^^^^^^^^^^^^^^^^^^^^^^^^^^^^\n",
      "  File \"/home/quanghung20gg/anaconda3/lib/python3.11/site-packages/anyio/_backends/_asyncio.py\", line 2134, in run_sync_in_worker_thread\n",
      "    return await future\n",
      "           ^^^^^^^^^^^^\n",
      "  File \"/home/quanghung20gg/anaconda3/lib/python3.11/site-packages/anyio/_backends/_asyncio.py\", line 851, in run\n",
      "    result = context.run(func, *args)\n",
      "             ^^^^^^^^^^^^^^^^^^^^^^^^\n",
      "  File \"/tmp/ipykernel_68826/384623842.py\", line 5, in chat\n",
      "    response = chat_agent.chat(input_text)\n",
      "               ^^^^^^^^^^^^^^^^^^^^^^^^^^^\n",
      "  File \"/home/quanghung20gg/Documents/hung20gg/cv_rank/agentic.py\", line 118, in chat\n",
      "    response = self.get_cv_from_jd(message)\n",
      "               ^^^^^^^^^^^^^^^^^^^^^^^^^^^^\n",
      "  File \"/home/quanghung20gg/Documents/hung20gg/cv_rank/agentic.py\", line 177, in get_cv_from_jd\n",
      "    ids = data['job_0']\n",
      "          ~~~~^^^^^^^^^\n",
      "KeyError: 'job_0'\n"
     ]
    },
    {
     "name": "stdout",
     "output_type": "stream",
     "text": [
      "Extracting Job Description\n",
      "\n",
      "\n",
      "Here are the extracted requirements:\n",
      "\n",
      "**Number of applications:** Specific number (5)\n",
      "\n",
      "**Location:** Hanoi\n",
      "**Academic level:** Not mentioned (can be undergraduate)\n",
      "**Institution:** Not mentioned\n",
      "**GPA:** Not mentioned\n",
      "**Speaking language:** Not mentioned\n",
      "\n",
      "**Roles, skills, programming languages, and tech stacks:**\n",
      "- Role: Data Engineer\n",
      "- Skills: Cloud services\n",
      "- Experience level: Less than 1 year\n",
      "\n",
      "**Other requirements:** None mentioned\n",
      "\n",
      "**Benefits:** Not mentioned\n",
      "\n",
      "**Suitable roles:** None mentioned\n",
      "\n",
      "\n",
      "[\n",
      "    {\n",
      "        \"numApplication\" : 5,\n",
      "        \"languageList\" : [],\n",
      "        \"cityList\" : [\"Ha Noi\"],\n",
      "        \"institutionList\" : null,\n",
      "        \"GPA\": null,\n",
      "        \"majorList\": null,\n",
      "        \"eduList\": [\"Undergraduate\"],\n",
      "        \"roleList\": [\"Data Engineer\"],\n",
      "        \"role_exp\" : 0.5,\n",
      "        \"skillList\": [\"cloud services\"],\n",
      "        \"programmingList\": [],\n",
      "        \"programming_exp\": null,\n",
      "        \"suitableList\" : []\n",
      "    }\n",
      "]\n",
      "End LLM\n",
      "{'numApplication': 5, 'languageList': [], 'cityList': ['Ha Noi'], 'institutionList': None, 'GPA': None, 'majorList': None, 'eduList': ['Undergraduate'], 'roleList': ['Data Engineer'], 'role_exp': 0.5, 'skillList': ['cloud services'], 'programmingList': [], 'programming_exp': None, 'suitableList': []}\n",
      "New Query:  {'cityList': ['ha noi'], 'eduList': ['undergraduate', 'phd', 'master', 'certificate', 'bachelor', 'diploma'], 'roleList': ['data analyst', 'data scientist', 'dataops engineer', 'machine learning engineer'], 'role_exp': 0.5, 'skillList': ['cloud architecture', 'cloud platform', 'cloud computing', 'aws', 'cloud storage', 'cloud server deployment']}\n",
      "Extended Num Application:  7\n",
      "Not enough application\n",
      "{'numApplication': 5, 'cityList': ['Ha Noi'], 'institutionList': None, 'GPA': None, 'roleList': ['Data Engineer'], 'role_exp': 0.5, 'skillList': ['cloud services'], 'programmingList': [], 'programming_exp': None, 'suitableList': []}\n",
      "New Query:  {'cityList': ['ha noi'], 'roleList': ['data analyst', 'machine learning engineer', 'data scientist', 'financial market data analyst', 'dataops engineer'], 'role_exp': 0.45, 'skillList': ['cloud architecture', 'distributed systems', 'cloud platform', 'cloud computing', 'aws', 'microservices', 'cloud storage', 'cloud server deployment']}\n",
      "[606]\n",
      "Less -> Sematic Search\n",
      "Using Sematic Search\n",
      "Num CV ok:  5\n",
      "Rerank\n",
      "[1428, 19, 2141, 606, 638]\n",
      "Time: 8.695960521697998\n",
      " Data Engineer position available in Hanoi, requiring less than 1 year of experience with cloud services. No specific academic level, institution, GPA, or speaking language required. Benefits and suitable roles not specified. Minimum 5 applications desired.\n",
      "\n",
      "Here are the CVs that match the job description:\n",
      "\n",
      "|ID | Education | Work and Project |\n",
      "|-- | --------- | ---------------- |\n",
      "|**ID: 1428** | Vong Vinh Phu holds a Bachelor's degree in Computer Science and Data Science from Ho Chi Minh City University of Science. He has also completed several online courses, including The Python Creative Programming Course, Mathematics for Machine Learning: Linear Algebra, Problem Solving (Intermediate), and SQL (Basic). He has been recognized for his academic achievements, placing second in the Classification of plants of Southeast Asia - ISODS Competitive Online competition. | Vong Vinh Phu has worked as a Research Engineer & Data Analyst at FundiinInc. (PayLater) in Ho Chi Minh City from July 2022 to January 2023. He was responsible for collecting data on AWS cloud logs and EDA performance, building query dashboards, performing ad-hoc analysis, and supporting data for other departments. |\n",
      "|**ID: 19** | Completed a Bachelor's degree in Computer Engineering at Hanoi University of Science and Technology, demonstrating a strong foundation in computer science principles and a passion for data engineering. | Currently working as an Intern Data Engineer, gaining practical experience in data engineering principles and technologies. |\n",
      "|**ID: 2141** | Completed a Bachelor's Degree in Computer Science from Ton Duc Thang University with a GPA of 7.5/10. Holds an IELTS Academic Certification with a score of 5.5. | Worked as a .Net Developer at DXC Technology Service Vietnam from January 2022 to February 2023. Responsibilities included .Net legacy systems development, back-end processing, and website requirement analysis. |\n",
      "|**ID: 606** | Bachelor of Data Science at National Economics University (NEU). Achieved IELTS 7.5, HSK 5, and SAT 1460. | Worked as a Data and sales assistant at SIBAI VIETNAM for 4 months, developing data scrapers for LinkedIn and managing large datasets. Also served as a Research Assistant at ORlab for 1 month, researching and analyzing mathematical models for supply chain optimization. |\n",
      "|**ID: 638** | Nguyen Thanh Hung holds a Bachelor's degree in Computer Science from Ton Duc Thang University, graduating with a GPA of 7.5/10. He has also obtained an IELTS Academic Certification with a score of 5.5, demonstrating his proficiency in English. | Nguyen Thanh Hung has gained practical experience through an internship at DXC Technology Service Vietnam, where he contributed to .Net legacy systems development using technologies such as .Net core, SQL Server, Oracle, and MS Report Builder. |\n",
      "\n",
      "\n",
      "data/raw/data/clean4.0/Vong Vinh Phu - Data.pdf\n",
      "data/raw/data/clean4.0/Nghia_TTS.pdf\n",
      "data/raw/data/clean4.0/NguyenHung_Intern-Fresher_DataEngineer_CV.pdf\n",
      "data/raw/data/clean4.0/Cream Black Vintage Typographic Social Media Manager Minimalist Resume.pdf\n",
      "data/raw/data/clean4.0/NguyenThanhHung_Intern-Fresher_DataEngineer.pdf\n"
     ]
    },
    {
     "name": "stderr",
     "output_type": "stream",
     "text": [
      "/home/quanghung20gg/anaconda3/lib/python3.11/site-packages/langchain_core/vectorstores.py:330: UserWarning: Relevance scores must be between 0 and 1, got [(Document(page_content='Languages:\\n- English\\nMajors:\\n- bachelor, computer engineer, hanoi university of science and technology, (GPA: 3.6)\\nRoles:\\n- data engineer (0 years)\\nSkills:\\n- data engineering\\n- cloud computing\\n- data visualization\\n- data modeling\\n- etl\\n- elt\\n- data pipelines\\n- distributed systems\\n- database\\nProgramming languages:\\n- python (0 years)\\n- sql (0 years)\\nCities:\\n- ha noi\\n', metadata={'id': 19}), -175.18232897499345), (Document(page_content='Languages:\\n- English\\nMajors:\\n- bachelor, computer science, ton duc thang university, (GPA: 3.75)\\nWork:\\n- dxc technology service vietnam (0.5 years)\\nRoles:\\n- .net developer (0.5 years)\\n- data engineer (0.5 years)\\nSkills:\\n- data warehousing\\n- machine learning\\n- etl pipeline\\n- recommendation engine\\n- data visualization\\n- cloud computing\\n- agile scrum\\nProgramming languages:\\n- python (0.5 years)\\n- sql (0.5 years)\\n- java (0.5 years)\\n- .net (0.5 years)\\n- apache spark (0.5 years)\\nCities:\\n- ho chi minh\\nCertifications:\\n- IELTS Academic Certification\\nAwards:\\n- IELTS Academic Certification 5.5\\n', metadata={'id': 2141}), -197.47823572131568), (Document(page_content='Languages:\\n- English\\nMajors:\\n- bachelor, computer science, ton duc thang university, (GPA: 3.75)\\nWork:\\n- dxc technology service vietnam (0.5 years)\\nRoles:\\n-  (0.5 years)\\n- data engineer (0.5 years)\\nSkills:\\n- data warehousing\\n- etl process\\n- machine learning\\n- real\\n- time data streaming\\n- cloud computing\\n- agile scrum\\n- docker\\n- data visualization\\nProgramming languages:\\n- python (0.5 years)\\n- sql (0.5 years)\\n- java (0.5 years)\\nCities:\\n- ho chi minh\\nCertifications:\\n- IELTS Academic Certification\\nAwards:\\n- IELTS Academic Certification: 5.5\\n', metadata={'id': 638}), -197.66435834384447), (Document(page_content='Languages:\\n- English\\n- Vietnamese\\nMajors:\\n- bachelor, computer science and data science, ho chi minh city university of science, (GPA: 3.6)\\nWork:\\n- fundiininc. (paylater) (0.5 years)\\nRoles:\\n- data analyst (0.5 years)\\n- research engineer (0.5 years)\\nSkills:\\n- data analysis\\n- machine learning\\n- cloud computing\\n- natural language processing\\nProgramming languages:\\n- python (0.5 years)\\n- sql (0.5 years)\\n- c++ (0.5 years)\\nCities:\\n- ho chi minh\\nCertifications:\\n- SQL (Basic)\\n- Problem Solving (Intermediate)\\n- Mathematics for Machine Learning: Linear Algebra\\n- The Python Creative Programming Course\\nAwards:\\n- 2nd Place, Classification of plants of Southeast Asia - ISODS Competitive Online\\n', metadata={'id': 1428}), -201.1728729688527), (Document(page_content='Languages:\\n- English\\nMajors:\\n- bachelor, information technology, vnu-hcm university of science, (GPA: 3.6)\\nRoles:\\n- software engineer (0.5 years)\\n- web developer (0.5 years)\\nSkills:\\n- cloud storage\\n- devops\\n- machine learning\\n- database management\\n- artificial intelligence\\nProgramming languages:\\n- node (0.5 years)\\n- python (0.5 years)\\n- go (0.5 years)\\n- java (0.5 years)\\n- c++ (0.5 years)\\n- html (0.5 years)\\n- css (0.5 years)\\n- javascript (0.5 years)\\nCities:\\n- ho chi minh\\n', metadata={'id': 1488}), -203.0621307414626), (Document(page_content='Languages:\\n- English\\nMajors:\\n- bachelor, data engineer, ho chi minh university of technology education, (GPA: 3.0)\\nRoles:\\n- data scientist (0 years)\\n- data analyst (0 years)\\n- data engineer (0 years)\\nSkills:\\n- data warehousing\\n- etl\\n- data analysis\\n- data visualization\\n- deep learning\\n- machine learning\\n- tableau\\n- power bi\\nProgramming languages:\\n- python (0 years)\\n- c# (0 years)\\n- r (0 years)\\n- sql (0 years)\\nCities:\\n- ho chi minh\\nCertifications:\\n- SQL  Essential Training\\n- Data Visualization for Data Analysis\\n- Data Engineering Foundation\\n- AWS Academy Data Engineering\\n- AWS :Storage and Data Management\\nAwards:\\n- SQL  Essential Training\\n- Data Visualization for Data Analysis\\n- Data Engineering Foundation\\n- AWS Academy Data Engineering\\n- AWS :Storage and Data Management\\n', metadata={'id': 719}), -205.586265072436), (Document(page_content='Languages:\\n- English\\nMajors:\\n- bachelor, computer engineer, vietnam national university - university of engineering and technology (uet), (GPA: 3.32)\\nWork:\\n- a software vietnam (0.5 years)\\n- a software vietnam (1.5 years)\\nRoles:\\n-  web developer (0.5 years)\\n- back-end developer (1.5 years)\\n- web developer (1.5 years)\\nSkills:\\n- ci\\n- cd\\n- docker\\n- database design\\n- api development\\n- performance optimization\\n- user interface design\\n- team collaboration\\n- problem solving\\nProgramming languages:\\n- node (1.5 years)\\n- nest (1.5 years)\\n- java (1.5 years)\\n- typescript (1.5 years)\\n- react (1.5 years)\\n- html (1.5 years)\\n- css (1.5 years)\\n- thymeleaf (1.5 years)\\nCities:\\n- ha noi\\nCertifications:\\n- AWS\\n- VSTEP\\n- TOEIC\\nAwards:\\n- AWS SSAPRIZES\\n- VSTEP B2\\n- TOEIC 755\\n', metadata={'id': 1616}), -206.3213647442486)]\n",
      "  warnings.warn(\n"
     ]
    },
    {
     "name": "stdout",
     "output_type": "stream",
     "text": [
      "Extracting Job Description\n",
      "\n",
      "\n",
      "Here are the extracted requirements:\n",
      "\n",
      "**Number of applications:** Specific number (4)\n",
      "\n",
      "**Location:** Not mentioned\n",
      "**Academic level:** Undergraduate (last year in university)\n",
      "**Institution:** Not mentioned\n",
      "**GPA:** Not mentioned\n",
      "**Speaking language:** Not mentioned\n",
      "\n",
      "**Roles, skills, programming languages, and tech stacks:** Not mentioned\n",
      "**Experience level:** Not mentioned\n",
      "\n",
      "**Other requirements:** Majoring in Data Science\n",
      "\n",
      "**Benefits:** Not mentioned\n",
      "\n",
      "**Suitable roles:** Data Science Intern\n",
      "\n",
      "\n",
      "[\n",
      "    {\n",
      "        \"numApplication\" : 4,\n",
      "        \"languageList\" : [],\n",
      "        \"cityList\" : null,\n",
      "        \"institutionList\" : [],\n",
      "        \"GPA\": null,\n",
      "        \"majorList\": [\"Data Science\"],\n",
      "        \"eduList\": [\"Undergraduate\"],\n",
      "        \"roleList\": [],\n",
      "        \"role_exp\" : null,\n",
      "        \"skillList\": [],\n",
      "        \"programmingList\": [],\n",
      "        \"programming_exp\": null,\n",
      "        \"suitableList\" : [\"Data Science Intern\"]\n",
      "    }\n",
      "]\n",
      "End LLM\n",
      "{'numApplication': 4, 'languageList': [], 'cityList': None, 'institutionList': [], 'GPA': None, 'majorList': ['Data Science'], 'eduList': ['Undergraduate'], 'roleList': [], 'role_exp': None, 'skillList': [], 'programmingList': [], 'programming_exp': None, 'suitableList': ['Data Science Intern']}\n",
      "New Query:  {'majorList': ['business analytics and marketing', 'data engineer', 'information systems', 'math - informatics', 'computer science', 'computer science and data science', 'data science', 'management science'], 'eduList': ['undergraduate', 'phd', 'master', 'certificate', 'bachelor', 'diploma'], 'suitableList': ['data analyst', 'data entry staff', 'data science / artificial intelligence', 'data scientist', 'data analysis', 'financial market data analyst']}\n",
      "Extended Num Application:  6\n",
      "Reduce CV  22  ->  6  CV\n",
      "{'numApplication': 4, 'languageList': [], 'cityList': None, 'institutionList': [], 'GPA': None, 'majorList': ['Data Science'], 'eduList': ['Undergraduate'], 'roleList': [], 'role_exp': None, 'skillList': [], 'programmingList': [], 'programming_exp': None, 'suitableList': ['Data Science Intern']}\n",
      "New Query:  {'majorList': ['data engineer', 'information systems', 'math - informatics', 'computer science', 'computer science and data science', 'data science', 'management science'], 'eduList': ['undergraduate', 'phd', 'master', 'certificate', 'bachelor', 'diploma'], 'suitableList': ['data analyst', 'data entry staff', 'data science / artificial intelligence', 'data scientist', 'financial market data analyst']}\n",
      "Still more -> Reduce CV\n",
      "Risk:  True\n",
      "Num CV ok:  6\n",
      "Rerank\n",
      "Reranking\n",
      "[732, 495, 555, 1456]\n",
      "Time: 7.93155574798584\n",
      " The job posting seeks a Data Science Intern with an undergraduate degree, currently in their final year of university. No specific GPA, location, institution, or speaking language requirements are provided. The role involves data science skills, but no specific programming languages or tech stacks are mentioned. Benefits are not listed. The position is open to a minimum of four applications.\n",
      "\n",
      "Here are the CVs that match the job description:\n",
      "\n",
      "|ID | Education | Work and Project |\n",
      "|-- | --------- | ---------------- |\n",
      "|**ID: 732** | Phuong Anh Trinh is currently pursuing a Data Science degree at National Economics University with a GPA of 3.97/4.0. She is expected to graduate in 2026. | Phuong Anh Trinh has worked as a Data Processor at AI DATASET from August 2023 to November 2023, where she was responsible for data labeling and classification. She has also been a Teaching Assistant at KINGEDU since 2022. |\n",
      "|**ID: 495** | Hanh holds a Bachelor's degree in Data Science in Economics and Business from National Economics University, graduating with a GPA of 3.9/4.0. She has also achieved an IELTS score of 8.5, demonstrating her proficiency in English. | Hanh has worked as a Research Assistant at DSLAB NEU since August 2023. Her contributions include developing a sentiment analysis model for Vietnamese education texts, creating a dataset for educational sentiment analysis and topic classification, and building a text classification model for Vietnamese hate speech detection. She has also gained experience in data pipeline orchestration and model deployment. |\n",
      "|**ID: 555** | Completed a Data Science degree at Ho Chi Minh City University of Foreign Languages and Information Technology (HUFLIT) with a GPA of 3.1. Demonstrated strong academic performance and a passion for data-driven solutions. | Currently working as an AI Engineering Intern, gaining practical experience in the field. |\n",
      "|**ID: 1456** | Huynh Anh Kiet holds a Bachelor of Science in Computer Science from INFORMATION TECHNOLOGY UNIVERSITY with a GPA of 7.5/10. He is also an IELTS certified with a score of 5.5. | Huynh Anh Kiet worked as a part-time staff at THE COFFEE HOUSE from April 2021 to August 2021. He gained experience in customer service, problem-solving, and time management. |\n",
      "\n",
      "\n",
      "data/raw/data/clean4.0/Phuong_Anh_Trinh_CV_CinnamonAI.pdf\n",
      "data/raw/data/clean4.0/latest_cv.pdf\n",
      "data/raw/data/clean4.0/NguyenTriDan_AI Engineering Intern_CV.pdf\n",
      "data/raw/data/clean4.0/CV_HuynhAnhKiet_DataScientist.pdf\n"
     ]
    }
   ],
   "source": [
    "# with gr.Blocks() as demo:\n",
    "#     chatbot = gr.Chatbot(height=300)\n",
    "#     msg  = gr.Textbox(lines=2, label=\"Prompt\", placeholder=\"Type here\")\n",
    "#     btn = gr.Button(\"Submit\")\n",
    "#     clear = gr.ClearButton(components=[msg, chatbot], value=\"Clear\")\n",
    "    \n",
    "#     btn.click(chat, inputs=[msg, chatbot], outputs=[msg, chatbot])\n",
    "#     msg.submit(chat, inputs=[msg, chatbot], outputs=[msg, chatbot])\n",
    "# demo.launch()\n",
    "\n",
    "gr.ChatInterface(\n",
    "    chat,\n",
    "    chatbot=gr.Chatbot(height=300),\n",
    "    textbox=gr.Textbox(placeholder=\"Give me a question to query the CV\", container=False, scale=7),\n",
    "    title=\"CV Query Chatbot\",\n",
    "    description=\"A LLMs with Knowledge Graph Chatbot to query the CVs\",\n",
    "    theme=\"soft\",\n",
    "    examples=[\"MBBank is looking for 25 candidates who are currently studying or graduated in National Economics University. Can you find all of them?\",\"\"\"Viettel Digital Talent want 6 young students or fresh graduated, having enthusiastic passion on Data Science and AI\n",
    "Requirements:\n",
    "\n",
    "- Candidate must located in HaNoi\n",
    "- Proficiency in Python\n",
    "- Having projects related to DS/AI is a plus\"\"\"],\n",
    "    cache_examples=True,\n",
    "    retry_btn=None,\n",
    "    undo_btn=\"Delete Previous\",\n",
    "    clear_btn=\"Clear\",\n",
    ").launch()"
   ]
  },
  {
   "cell_type": "code",
   "execution_count": 4,
   "metadata": {},
   "outputs": [
    {
     "data": {
      "text/plain": [
       "{'text': \"Hello, I'm doing well, thank you for asking. I am an HR assistant and I'm here to provide you with high-quality and precise responses to your queries. Please feel free to ask me anything, and if I'm unsure about anything, I'll be sure to ask for clarification. If I don't have the answer, I'll let you know.\"}"
      ]
     },
     "execution_count": 4,
     "metadata": {},
     "output_type": "execute_result"
    }
   ],
   "source": [
    "chat_agent.chat(\"Hi how are you?\")"
   ]
  },
  {
   "cell_type": "code",
   "execution_count": 4,
   "metadata": {},
   "outputs": [],
   "source": [
    "prompt =\"\"\"\n",
    "Viettel Digital Talent want 6 young students or fresh graduated, having enthusiastic passion on Data Science and AI \n",
    "Requirements:\n",
    "- Candidate must located in HaNoi\n",
    "- Proficiency in Python \n",
    "- Having projects related to DS/AI is a plus\n",
    "\"\"\""
   ]
  },
  {
   "cell_type": "code",
   "execution_count": 5,
   "metadata": {},
   "outputs": [
    {
     "name": "stderr",
     "output_type": "stream",
     "text": [
      "You are not running the flash-attention implementation, expect numerical differences.\n"
     ]
    },
    {
     "data": {
      "text/plain": [
       "True"
      ]
     },
     "execution_count": 5,
     "metadata": {},
     "output_type": "execute_result"
    }
   ],
   "source": [
    "chat_agent.routing_response(prompt)"
   ]
  },
  {
   "cell_type": "code",
   "execution_count": 6,
   "metadata": {},
   "outputs": [
    {
     "data": {
      "text/plain": [
       "True"
      ]
     },
     "execution_count": 6,
     "metadata": {},
     "output_type": "execute_result"
    }
   ],
   "source": [
    "neu = \"\"\" \n",
    "MBBank wants 25 candidates who are currently studying or graduated in National Economics University.\n",
    "\"\"\"\n",
    "chat_agent.routing_response(neu)"
   ]
  },
  {
   "cell_type": "code",
   "execution_count": 6,
   "metadata": {},
   "outputs": [
    {
     "name": "stdout",
     "output_type": "stream",
     "text": [
      "Extracting Job Description\n"
     ]
    },
    {
     "name": "stderr",
     "output_type": "stream",
     "text": [
      "You are not running the flash-attention implementation, expect numerical differences.\n"
     ]
    },
    {
     "name": "stdout",
     "output_type": "stream",
     "text": [
      "\n",
      "\n",
      "Here are the extracted requirements:\n",
      "\n",
      "**Number of applications:** Specific number (3)\n",
      "\n",
      "**Location, Academic level, Institution, GPA, Speaking language:** Not mentioned\n",
      "\n",
      "**Roles, Skills, Programming languages, Tech stacks, Experience level:**\n",
      "\n",
      "* Role: DevOps\n",
      "* Skills/Tech stacks: Not mentioned\n",
      "* Experience level: At least 1 year\n",
      "\n",
      "**Other requirements:** None mentioned\n",
      "\n",
      "**Benefits:** Not mentioned\n",
      "\n",
      "**Suitable roles:** None mentioned\n",
      "End LLM\n",
      "{'numApplication': 3, 'languageList': ['english'], 'cityList': [None], 'institutionList': [None], 'GPA': None, 'majorList': [None], 'eduList': [None], 'roleList': ['DevOps'], 'role_exp': 1, 'skillList': [], 'programmingList': [], 'programming_exp': None, 'suitableList': ['DevOps']}\n",
      "New Query:  {'languageList': ['English'], 'roleList': ['devops', 'dataops engineer', 'developer'], 'role_exp': 1.0, 'suitableList': ['it developer', 'developer', 'devops', 'back-end developer', 'full stack developer', 'dataops engineer']}\n",
      "Extended Num Application:  4\n",
      "Reduce CV  9  ->  4  CV\n",
      "{'numApplication': 3, 'languageList': ['english'], 'cityList': [None], 'institutionList': [None], 'GPA': None, 'majorList': [None], 'eduList': [None], 'roleList': ['DevOps'], 'role_exp': 1, 'skillList': [], 'programmingList': [], 'programming_exp': None, 'suitableList': ['DevOps']}\n",
      "New Query:  {'languageList': ['English'], 'roleList': ['devops'], 'role_exp': 1.0, 'suitableList': ['devops', 'dataops engineer']}\n",
      "Risk:  True\n",
      "Not enough application\n",
      "Reduce Risk -> Get more CV\n",
      "{'numApplication': 3, 'languageList': ['english'], 'cityList': [None], 'institutionList': [None], 'GPA': None, 'majorList': [None], 'eduList': [None], 'roleList': ['DevOps'], 'role_exp': 1, 'skillList': [], 'programmingList': [], 'programming_exp': None, 'suitableList': ['DevOps']}\n",
      "New Query:  {'languageList': ['English'], 'roleList': ['devops', 'dataops engineer'], 'role_exp': 1.0, 'suitableList': ['devops', 'dataops engineer', 'developer']}\n",
      "[573, 502]\n",
      "Less -> Sematic Search\n",
      "Using LLMs\n"
     ]
    },
    {
     "name": "stderr",
     "output_type": "stream",
     "text": [
      "/home/quanghung20gg/anaconda3/lib/python3.11/site-packages/langchain_core/vectorstores.py:330: UserWarning: Relevance scores must be between 0 and 1, got [(Document(page_content='Languages:\\n- English\\nMajors:\\n- undergraduate, software development, ispace cyber security college, (GPA: 3.6)\\nRoles:\\n- backend developer (0 years)\\nSkills:\\n- role\\n- based access control\\n- authentication\\n- docker\\n- clean architecture\\n- api development\\n- database management\\n- middleware\\n- jwt\\nProgramming languages:\\n- c# (0 years)\\n- javascript (0 years)\\n- asp .net core (0 years)\\n- react (0 years)\\n- node (0 years)\\n- express (0 years)\\n- mysql (0 years)\\n- mongodb (0 years)\\nCertifications:\\n- AWS Academy Cloud Foundations\\nAwards:\\n- AWS Academy Cloud Foundations\\n', metadata={'id': 50}), -275.4082954002214), (Document(page_content='Languages:\\n- English\\nMajors:\\n- undergraduate, software development, ispace cyber security college, (GPA: 3.6)\\nRoles:\\n- developer (0.5 years)\\nSkills:\\n- docker\\n- reactjs\\n- api development\\n- database design\\n- clean architecture\\nProgramming languages:\\n- c# (0.5 years)\\n- node (0.5 years)\\n- react (0.5 years)\\n- sql (0.5 years)\\n- mongodb (0.5 years)\\n- mysql (0.5 years)\\n- express (0.5 years)\\nCertifications:\\n- AWS Academy Graduate - AWS Academy Cloud Foundations - Amazon Web Services (AWS)\\nAwards:\\n- AWS Academy Graduate - AWS Academy Cloud Foundations - Amazon Web Services (AWS)\\n', metadata={'id': 705}), -279.71965753909933), (Document(page_content='Languages:\\n- English\\nWork:\\n- dong tien service corporation (5 years)\\n- phu nhuan jewelry (1 years)\\n- fe credit (2 years)\\n- fe credit (2.5 years)\\n- sieuviet (1.5 years)\\n- sieu viet (1.5 years)\\nRoles:\\n- back end developer (5 years)\\n- java developer (1 years)\\n- technical team leader (1 years)\\n- solution architect (4.5 years)\\n- dataops engineer (1.5 years)\\n- devops engineer (5.5 years)\\nSkills:\\n- devops\\n- cloud architecture\\n- ci\\n- cd\\n- infrastructure as code\\n- security\\n- monitoring\\n- automation\\n- containerization\\nProgramming languages:\\n- java (5.5 years)\\n- python (5.5 years)\\n- groovy (5.5 years)\\n- typescript (5.5 years)\\n- sql (5.5 years)\\n- spring boot (5.5 years)\\n- linux bashshell (5.5 years)\\n', metadata={'id': 502}), -280.58017114058003), (Document(page_content='Languages:\\n- English\\nWork:\\n- onpoint e-commerce (0.5 years)\\n- techlist crypto (0.5 years)\\nRoles:\\n- data engineer (1.5 years)\\nSkills:\\n- data pipeline\\n- etl\\n- data crawling\\n- data quality\\n- process monitoring\\n- unit testing\\n- code flow flake8\\n- data analysis\\nProgramming languages:\\n- python (1.5 years)\\n- sql (1.5 years)\\n- scala (1.5 years)\\n- django (1.5 years)\\n- kafka (1.5 years)\\n- airflow (1.5 years)\\nCertifications:\\n- Hackerrank: SQL Intermediate Certificate\\nAwards:\\n- 1 Consecutive Semesters Excellent+\\n- Hackerrank: SQL Intermediate Certificate\\n', metadata={'id': 383}), -286.119436588208)]\n",
      "  warnings.warn(\n"
     ]
    },
    {
     "name": "stdout",
     "output_type": "stream",
     "text": [
      "Using Sematic Search\n",
      "Num CV ok:  3\n",
      "Rerank\n",
      "[383, 502, 573]\n",
      "Time: 12.48392105102539\n"
     ]
    },
    {
     "data": {
      "text/plain": [
       "{'text': '\\n\\nHere are the extracted requirements:\\n\\n**Number of applications:** Specific number (3)\\n\\n**Location, Academic level, Institution, GPA, Speaking language:** Not mentioned\\n\\n**Roles, Skills, Programming languages, Tech stacks, Experience level:**\\n\\n* Role: DevOps\\n* Skills/Tech stacks: Not mentioned\\n* Experience level: At least 1 year\\n\\n**Other requirements:** None mentioned\\n\\n**Benefits:** Not mentioned\\n\\n**Suitable roles:** None mentioned',\n",
       " 'id': [383, 502, 573],\n",
       " 'files': ['data/raw/data/clean4.0/DuyLeNguyenMinh_DataEngineer (1).pdf',\n",
       "  'data/raw/data/clean4.0/Le_Minh_Vuong_CV.pdf',\n",
       "  'data/raw/data/clean4.0/CV - Nghiêm Xuân __t - DevOps Engineer.pdf'],\n",
       " 'time': 12.48392105102539}"
      ]
     },
     "execution_count": 6,
     "metadata": {},
     "output_type": "execute_result"
    }
   ],
   "source": [
    "chat_agent.get_cv_from_jd(neu,llm_ranking=True)"
   ]
  },
  {
   "cell_type": "code",
   "execution_count": 13,
   "metadata": {},
   "outputs": [
    {
     "data": {
      "text/plain": [
       "[{'m': {'name': ' web developer'}, 'r.exp': 2.5, 'type(r)': 'ROLE'},\n",
       " {'m': {'name': 'back-end developer'}, 'r.exp': 2.5, 'type(r)': 'ROLE'},\n",
       " {'m': {'name': 'back-end developer'}, 'r.exp': None, 'type(r)': 'SUITABLE'},\n",
       " {'m': {'name': 'software engineer'}, 'r.exp': 2.5, 'type(r)': 'ROLE'},\n",
       " {'m': {'name': 'software engineer'}, 'r.exp': None, 'type(r)': 'SUITABLE'},\n",
       " {'m': {'name': 'full stack developer'}, 'r.exp': None, 'type(r)': 'SUITABLE'},\n",
       " {'m': {'name': 'java developer'}, 'r.exp': None, 'type(r)': 'SUITABLE'}]"
      ]
     },
     "execution_count": 13,
     "metadata": {},
     "output_type": "execute_result"
    }
   ],
   "source": [
    "kg.query(\"Match (n:Application)-[r]->(m:Role) where id(n) = 1579 return  m, r.exp, type(r)\")"
   ]
  },
  {
   "cell_type": "code",
   "execution_count": 8,
   "metadata": {},
   "outputs": [],
   "source": [
    "rank_prompt = \"\"\"\n",
    "Can you rank them \n",
    "\"\"\"\n"
   ]
  },
  {
   "cell_type": "code",
   "execution_count": 9,
   "metadata": {},
   "outputs": [
    {
     "data": {
      "text/plain": [
       "[(Document(page_content='marketing manager'), 0.9999999999999063),\n",
       " (Document(page_content='marketing staff'), 0.7674812526354313),\n",
       " (Document(page_content='marketing team leader'), 0.7667723637169023),\n",
       " (Document(page_content='marketing assistant'), 0.7459399351412406),\n",
       " (Document(page_content='sales manager'), 0.7358898083795753)]"
      ]
     },
     "execution_count": 9,
     "metadata": {},
     "output_type": "execute_result"
    }
   ],
   "source": [
    "retrieval_hub.cache.db_cache_role.similarity_search_with_relevance_scores(\"Marketing Manager\", 5)"
   ]
  },
  {
   "cell_type": "code",
   "execution_count": 12,
   "metadata": {},
   "outputs": [
    {
     "data": {
      "text/plain": [
       "0.735"
      ]
     },
     "execution_count": 12,
     "metadata": {},
     "output_type": "execute_result"
    }
   ],
   "source": [
    "0.7*1.05\n"
   ]
  },
  {
   "cell_type": "code",
   "execution_count": 5,
   "metadata": {},
   "outputs": [
    {
     "name": "stdout",
     "output_type": "stream",
     "text": [
      "Languages:\n",
      "- English\n",
      "Majors:\n",
      "- bachelor, data science, national economic university, (GPA: 3.88)\n",
      "Work:\n",
      "- neu itlab (1 years)\n",
      "- viettel digital talent (0.25 years)\n",
      "Roles:\n",
      "- research assistant (1 years)\n",
      "- machine learning engineer (0.5 years)\n",
      "- artificial intelligence engineer (0.5 years)\n",
      "- data scientist (0.5 years)\n",
      "Skills:\n",
      "- knowledge graphs\n",
      "- large language models\n",
      "- natural language processing\n",
      "- web technology\n",
      "- data mining\n",
      "- machine learning\n",
      "- deep learning\n",
      "- computer vision\n",
      "Programming languages:\n",
      "- python (1.5 years)\n",
      "- c++ (1.5 years)\n",
      "- javascript (1 years)\n",
      "- sql (1 years)\n",
      "- tensorflow (1 years)\n",
      "- pytorch (1 years)\n",
      "- transformers (0.5 years)\n",
      "- diffusers (0.5 years)\n",
      "Cities:\n",
      "- ha noi\n",
      "Certifications:\n",
      "- IELTS 7.0 (2021)\n",
      "Awards:\n",
      "- IELTS 7.0 (2021)\n",
      "- Third prize in ICPC Regional (non-specialized category)\n",
      "- Second prize in the National Student Olympiads in Informatics (non-specialized category)\n",
      "- Excellent scholarship 2/2 semesters\n",
      "\n"
     ]
    }
   ],
   "source": [
    "from database.utils.GraphDB_tools import graph_to_text\n",
    "hung = graph_to_text(kg.kg, 995)\n",
    "print(hung)"
   ]
  },
  {
   "cell_type": "code",
   "execution_count": 9,
   "metadata": {},
   "outputs": [
    {
     "data": {
      "text/plain": [
       "True"
      ]
     },
     "execution_count": 9,
     "metadata": {},
     "output_type": "execute_result"
    }
   ],
   "source": [
    "chat_agent.routing_ranking_response(rank_prompt)"
   ]
  },
  {
   "cell_type": "code",
   "execution_count": 10,
   "metadata": {},
   "outputs": [
    {
     "name": "stdout",
     "output_type": "stream",
     "text": [
      "Based on the provided job description and the candidate CVs, I have ranked them according to the mentioned criteria. Here's the ranking along with the rationale:\n",
      "\n",
      "```json\n",
      "[\n",
      "    {\n",
      "        \"id\": 1007,\n",
      "        \"rank\": 1,\n",
      "        \"rationale\": \"This candidate fits the job description perfectly. They have a bachelor's degree in data science, relevant skills like machine learning, deep learning, natural language processing, and proficiency in Python. Additionally, they have experience as a research assistant, machine learning engineer, AI engineer, and data scientist. Their certifications, awards, and academic achievements further strengthen their candidacy.\"\n",
      "    },\n",
      "    {\n",
      "        \"id\": 1476,\n",
      "        \"rank\": 2,\n",
      "        \"rationale\": \"This candidate has a bachelor's degree in data science and AI, relevant skills like AWS, ReactJS, Flutter, and proficiency in multiple programming languages including Python, Java, and PyTorch. Their experience in software engineering, AI, and data science, as well as their impressive hackathon achievements, make them a strong contender.\"\n",
      "    },\n",
      "    {\n",
      "        \"id\": 1747,\n",
      "        \"rank\": 3,\n",
      "        \"rationale\": \"This candidate has a bachelor's degree in data science, relevant skills in data analysis, machine learning, web crawling, and API development, and proficiency in Python, PyTorch, SQL, and AWS. Their experience as a software engineer, machine learning engineer, and data scientist, along with certifications and academic achievements, make them a good fit.\"\n",
      "    },\n",
      "    {\n",
      "        \"id\": 652,\n",
      "        \"rank\": 4,\n",
      "        \"rationale\": \"This candidate has an undergraduate degree in information technology, relevant skills in statistical analysis, database structures, visualization, and deploying models, and proficiency in Python and SQL. Their experience as a data analyst and data scientist, along with certifications and awards, make them a suitable candidate.\"\n",
      "    },\n",
      "    {\n",
      "        \"id\": 421,\n",
      "        \"rank\": 5,\n",
      "        \"rationale\": \"This candidate has a bachelor's degree in computer science and data science, relevant skills in data analysis, machine learning, deep learning, computer vision, and natural language processing, and proficiency in Python, SQL, and C++. Their experience as a research engineer and data analyst, along with certifications and an award, make them a viable candidate.\"\n",
      "    },\n",
      "    {\n",
      "        \"id\": 446,\n",
      "        \"rank\": 6,\n",
      "        \"rationale\": \"This candidate has a bachelor's degree in computer science, relevant skills in computer vision, natural language processing, machine learning, and deep learning, and proficiency in Python and SQL. While they lack specific work experience mentioned in their CV, their skills align with the job requirements.\"\n",
      "    },\n",
      "    {\n",
      "        \"id\": 1944,\n",
      "        \"rank\": 7,\n",
      "        \"rationale\": \"This candidate has a bachelor's degree in data science in economics and business, relevant skills in problem-solving, teamwork, and analytical thinking, and proficiency in Python, SQL, and C++. However, their work experience is limited to a data processor role, which may not be as relevant as other candidates.\"\n",
      "    },\n",
      "    {\n",
      "        \"id\": 1738,\n",
      "        \"rank\": 8,\n",
      "        \"rationale\": \"This candidate has a bachelor's degree in data science, relevant skills in machine learning, data analysis, model evaluation, and research, and proficiency in Python, R, Java, JavaScript, TensorFlow, Keras, and Scikit-learn. However, their work experience is limited to an AI engineering role for 0.5 years.\"\n",
      "    },\n",
      "    {\n",
      "        \"id\": 1133,\n",
      "        \"rank\": 9,\n",
      "        \"rationale\": \"This candidate has a bachelor's degree in computer engineering, relevant skills in ETL, ELT, data pipelines, data modeling, data visualization, and Google Cloud Platform, and proficiency in Python, SQL, and PySpark. However, their work experience as a data engineer is not mentioned.\"\n",
      "    },\n",
      "    {\n",
      "        \"id\": 315,\n",
      "        \"rank\": 10,\n",
      "        \"rationale\": \"This candidate has an undergraduate degree in computer science, relevant skills in data mining, and proficiency in Python, Java, Git, and SQL Server. However, their work experience is not mentioned, and their skills may not be as relevant as other candidates.\"\n",
      "    }\n",
      "]\n",
      "```\n",
      "\n",
      "The ranking is based on the following criteria:\n",
      "\n",
      "1. Current location: Since the job is in Hanoi, candidates located in Hanoi are ranked higher.\n",
      "2. Work experience: Candidates with more relevant work experience, such as data scientist, machine learning engineer, AI engineer, and software engineer roles, are ranked higher.\n",
      "3. Skills and tech stacks: Candidates with relevant skills like machine learning, deep learning, natural language processing, data analysis, and proficiency in Python are ranked higher.\n",
      "4. Education: Candidates with a bachelor's degree in data science, computer science, or related fields are ranked higher.\n",
      "5. Certifications, achievements, and awards: Candidates with relevant certifications, achievements, and awards are ranked higher.\n",
      "\n",
      "Additionally, factors like the level of experience (not overqualified or underqualified), academic achievements (GPA, scholarships), and relevant projects or hackathon participation were also considered in the ranking.\n",
      "Time: 34.417078256607056\n"
     ]
    },
    {
     "data": {
      "text/plain": [
       "{'text': 'Based on the provided job description and the candidate CVs, I have ranked them according to the mentioned criteria. Here\\'s the ranking along with the rationale:\\n\\n```json\\n[\\n    {\\n        \"id\": 1007,\\n        \"rank\": 1,\\n        \"rationale\": \"This candidate fits the job description perfectly. They have a bachelor\\'s degree in data science, relevant skills like machine learning, deep learning, natural language processing, and proficiency in Python. Additionally, they have experience as a research assistant, machine learning engineer, AI engineer, and data scientist. Their certifications, awards, and academic achievements further strengthen their candidacy.\"\\n    },\\n    {\\n        \"id\": 1476,\\n        \"rank\": 2,\\n        \"rationale\": \"This candidate has a bachelor\\'s degree in data science and AI, relevant skills like AWS, ReactJS, Flutter, and proficiency in multiple programming languages including Python, Java, and PyTorch. Their experience in software engineering, AI, and data science, as well as their impressive hackathon achievements, make them a strong contender.\"\\n    },\\n    {\\n        \"id\": 1747,\\n        \"rank\": 3,\\n        \"rationale\": \"This candidate has a bachelor\\'s degree in data science, relevant skills in data analysis, machine learning, web crawling, and API development, and proficiency in Python, PyTorch, SQL, and AWS. Their experience as a software engineer, machine learning engineer, and data scientist, along with certifications and academic achievements, make them a good fit.\"\\n    },\\n    {\\n        \"id\": 652,\\n        \"rank\": 4,\\n        \"rationale\": \"This candidate has an undergraduate degree in information technology, relevant skills in statistical analysis, database structures, visualization, and deploying models, and proficiency in Python and SQL. Their experience as a data analyst and data scientist, along with certifications and awards, make them a suitable candidate.\"\\n    },\\n    {\\n        \"id\": 421,\\n        \"rank\": 5,\\n        \"rationale\": \"This candidate has a bachelor\\'s degree in computer science and data science, relevant skills in data analysis, machine learning, deep learning, computer vision, and natural language processing, and proficiency in Python, SQL, and C++. Their experience as a research engineer and data analyst, along with certifications and an award, make them a viable candidate.\"\\n    },\\n    {\\n        \"id\": 446,\\n        \"rank\": 6,\\n        \"rationale\": \"This candidate has a bachelor\\'s degree in computer science, relevant skills in computer vision, natural language processing, machine learning, and deep learning, and proficiency in Python and SQL. While they lack specific work experience mentioned in their CV, their skills align with the job requirements.\"\\n    },\\n    {\\n        \"id\": 1944,\\n        \"rank\": 7,\\n        \"rationale\": \"This candidate has a bachelor\\'s degree in data science in economics and business, relevant skills in problem-solving, teamwork, and analytical thinking, and proficiency in Python, SQL, and C++. However, their work experience is limited to a data processor role, which may not be as relevant as other candidates.\"\\n    },\\n    {\\n        \"id\": 1738,\\n        \"rank\": 8,\\n        \"rationale\": \"This candidate has a bachelor\\'s degree in data science, relevant skills in machine learning, data analysis, model evaluation, and research, and proficiency in Python, R, Java, JavaScript, TensorFlow, Keras, and Scikit-learn. However, their work experience is limited to an AI engineering role for 0.5 years.\"\\n    },\\n    {\\n        \"id\": 1133,\\n        \"rank\": 9,\\n        \"rationale\": \"This candidate has a bachelor\\'s degree in computer engineering, relevant skills in ETL, ELT, data pipelines, data modeling, data visualization, and Google Cloud Platform, and proficiency in Python, SQL, and PySpark. However, their work experience as a data engineer is not mentioned.\"\\n    },\\n    {\\n        \"id\": 315,\\n        \"rank\": 10,\\n        \"rationale\": \"This candidate has an undergraduate degree in computer science, relevant skills in data mining, and proficiency in Python, Java, Git, and SQL Server. However, their work experience is not mentioned, and their skills may not be as relevant as other candidates.\"\\n    }\\n]\\n```\\n\\nThe ranking is based on the following criteria:\\n\\n1. Current location: Since the job is in Hanoi, candidates located in Hanoi are ranked higher.\\n2. Work experience: Candidates with more relevant work experience, such as data scientist, machine learning engineer, AI engineer, and software engineer roles, are ranked higher.\\n3. Skills and tech stacks: Candidates with relevant skills like machine learning, deep learning, natural language processing, data analysis, and proficiency in Python are ranked higher.\\n4. Education: Candidates with a bachelor\\'s degree in data science, computer science, or related fields are ranked higher.\\n5. Certifications, achievements, and awards: Candidates with relevant certifications, achievements, and awards are ranked higher.\\n\\nAdditionally, factors like the level of experience (not overqualified or underqualified), academic achievements (GPA, scholarships), and relevant projects or hackathon participation were also considered in the ranking.',\n",
       " 'files': ['data/raw/data/clean2.2/CV_Nguyen_Quang_Hung_DataScientist (4).pdf',\n",
       "  'data/raw/data/clean2.2/PhamTienSon_Resume.pdf',\n",
       "  'data/raw/data/clean2.2/CV_Light_Theme.pdf',\n",
       "  'data/raw/data/clean2.2/Ho Thi Minh Ngan_CV.pdf',\n",
       "  'data/raw/data/clean2.2/Vong Vinh Phu - Data.pdf',\n",
       "  'data/raw/data/clean2.2/CV_HuynhAnhKiet_DataScientist.pdf',\n",
       "  'data/raw/data/clean2.2/Phuong_Anh_Trinh_CV_CinnamonAI.pdf',\n",
       "  'data/raw/data/clean2.2/NguyenTriDan_AI Engineering Intern_CV.pdf',\n",
       "  'data/raw/data/clean2.2/Nghia_TTS.pdf',\n",
       "  'data/raw/data/clean2.2/CV PHẠM THẾ HƯNG.pdf'],\n",
       " 'time': 34.417078256607056}"
      ]
     },
     "execution_count": 10,
     "metadata": {},
     "output_type": "execute_result"
    }
   ],
   "source": [
    "chat_agent.chat(rank_prompt)"
   ]
  },
  {
   "cell_type": "code",
   "execution_count": 19,
   "metadata": {},
   "outputs": [
    {
     "data": {
      "text/plain": [
       "'Certainly, here are the details for the candidate with ID 1944:\\n\\n**ID: 1944**\\n\\n**Summary:**\\nA highly skilled and experienced data scientist with a strong background in machine learning, deep learning, and natural language processing. Possesses in-depth knowledge in building and deploying large-scale AI systems, with a focus on knowledge graphs, language models, and deep neural networks. Passionate about leveraging cutting-edge AI technologies to drive impactful solutions.\\n\\n**Education:**\\n- Bachelor\\'s degree in Computer Science, Hanoi University of Science and Technology\\n- GPA: 3.92/4.0\\n- Awarded \"Excellent Student Scholarship\" for outstanding academic performance\\n\\n**Work Experience:**\\n- Data Scientist, VinAI Research (2 years)\\n  - Developed large-scale knowledge graph systems for text understanding\\n  - Designed and implemented deep learning models for natural language processing\\n  - Optimized and deployed models on cloud-based infrastructures\\n- Machine Learning Intern, Google AI Research (6 months)\\n  - Contributed to research on few-shot learning and meta-learning\\n  - Developed prototypes for language model fine-tuning and generation\\n\\n**Skills:**\\n- Proficient in Python, TensorFlow, PyTorch, scikit-learn, Pandas, NumPy\\n- Expertise in deep learning, natural language processing, and computer vision\\n- Strong background in algorithm design, optimization, and deployment\\n- Familiar with cloud computing, AWS, and MLOps\\n\\n**Achievements:**\\n- 1st place, VinAI AI Competition for Knowledge Graph Construction\\n- Recipient of Vietnam National Mathematics Olympiad Bronze Medal\\n- Published research papers in top-tier AI/ML conferences (AAAI, NeurIPS)\\n\\nThis candidate\\'s profile aligns exceptionally well with the job requirements. They possess a strong academic background, relevant work experience in data science and AI, and impressive achievements in the field. Their technical skills, knowledge, and passion for data science and AI make them a highly desirable candidate for the Viettel Digital Talent program.'"
      ]
     },
     "execution_count": 19,
     "metadata": {},
     "output_type": "execute_result"
    }
   ],
   "source": [
    "chat_agent.chat(\"Can you show me the candidates id 1944\")"
   ]
  },
  {
   "cell_type": "code",
   "execution_count": 11,
   "metadata": {},
   "outputs": [
    {
     "data": {
      "text/plain": [
       "\"Certainly, let me summarize our conversation:\\n\\nYou asked me to provide helpful responses as an HR assistant for a recruitment process happening in May 2024. Viettel is looking to hire 5 fresher software engineers in Hanoi, Vietnam. The requirements are:\\n\\n- Undergraduate or Bachelor's degree in Computer Science or a related field\\n- At least 6 months of experience with Python, Java, C++, or NodeJS\\n\\nYou provided me with 5 candidate CVs that matched the job description, and asked me to rank them based on the given information.\\n\\nI reviewed the candidate profiles and provided a ranked list with explanations:\\n\\n1. ID: 1476 - Ranked 1st due to the strong technical skills, relevant work experience, impressive academic achievements, and awards/hackathon wins.\\n\\n2. ID: 1747 - Ranked 2nd with a good educational background, relevant work experience, and well-aligned technical skills.\\n\\n3. ID: 999 - Ranked 3rd with a decent educational background, substantial work experience, and some relevant technical skills.\\n\\n4. ID: 754 - Ranked 4th with a relevant educational background and some work experience, but lacking in certain technical skills.\\n\\n5. ID: 131 - Ranked 5th as the candidate is from Ho Chi Minh City, which does not match the job location requirement in Hanoi.\\n\\nYou then asked me to provide more details on the candidate with ID 131, which I summarized, noting their educational background, work experience, and technical skills.\\n\\nFinally, you asked me to summarize our entire conversation, which is what I have done here.\\n\\nPlease let me know if I have missed or misunderstood anything in the summary.\""
      ]
     },
     "execution_count": 11,
     "metadata": {},
     "output_type": "execute_result"
    }
   ],
   "source": [
    "chat_agent.chat(\"Can you summarize our conversation?\")"
   ]
  },
  {
   "cell_type": "code",
   "execution_count": 12,
   "metadata": {},
   "outputs": [
    {
     "name": "stdout",
     "output_type": "stream",
     "text": [
      "Certainly, let me summarize our conversation:\n",
      "\n",
      "You asked me to provide helpful responses as an HR assistant for a recruitment process happening in May 2024. Viettel is looking to hire 5 fresher software engineers in Hanoi, Vietnam. The requirements are:\n",
      "\n",
      "- Undergraduate or Bachelor's degree in Computer Science or a related field\n",
      "- At least 6 months of experience with Python, Java, C++, or NodeJS\n",
      "\n",
      "You provided me with 5 candidate CVs that matched the job description, and asked me to rank them based on the given information.\n",
      "\n",
      "I reviewed the candidate profiles and provided a ranked list with explanations:\n",
      "\n",
      "1. ID: 1476 - Ranked 1st due to the strong technical skills, relevant work experience, impressive academic achievements, and awards/hackathon wins.\n",
      "\n",
      "2. ID: 1747 - Ranked 2nd with a good educational background, relevant work experience, and well-aligned technical skills.\n",
      "\n",
      "3. ID: 999 - Ranked 3rd with a decent educational background, substantial work experience, and some relevant technical skills.\n",
      "\n",
      "4. ID: 754 - Ranked 4th with a relevant educational background and some work experience, but lacking in certain technical skills.\n",
      "\n",
      "5. ID: 131 - Ranked 5th as the candidate is from Ho Chi Minh City, which does not match the job location requirement in Hanoi.\n",
      "\n",
      "You then asked me to provide more details on the candidate with ID 131, which I summarized, noting their educational background, work experience, and technical skills.\n",
      "\n",
      "Finally, you asked me to summarize our entire conversation, which is what I have done here.\n",
      "\n",
      "Please let me know if I have missed or misunderstood anything in the summary.\n"
     ]
    }
   ],
   "source": [
    "s = \"Certainly, let me summarize our conversation:\\n\\nYou asked me to provide helpful responses as an HR assistant for a recruitment process happening in May 2024. Viettel is looking to hire 5 fresher software engineers in Hanoi, Vietnam. The requirements are:\\n\\n- Undergraduate or Bachelor's degree in Computer Science or a related field\\n- At least 6 months of experience with Python, Java, C++, or NodeJS\\n\\nYou provided me with 5 candidate CVs that matched the job description, and asked me to rank them based on the given information.\\n\\nI reviewed the candidate profiles and provided a ranked list with explanations:\\n\\n1. ID: 1476 - Ranked 1st due to the strong technical skills, relevant work experience, impressive academic achievements, and awards/hackathon wins.\\n\\n2. ID: 1747 - Ranked 2nd with a good educational background, relevant work experience, and well-aligned technical skills.\\n\\n3. ID: 999 - Ranked 3rd with a decent educational background, substantial work experience, and some relevant technical skills.\\n\\n4. ID: 754 - Ranked 4th with a relevant educational background and some work experience, but lacking in certain technical skills.\\n\\n5. ID: 131 - Ranked 5th as the candidate is from Ho Chi Minh City, which does not match the job location requirement in Hanoi.\\n\\nYou then asked me to provide more details on the candidate with ID 131, which I summarized, noting their educational background, work experience, and technical skills.\\n\\nFinally, you asked me to summarize our entire conversation, which is what I have done here.\\n\\nPlease let me know if I have missed or misunderstood anything in the summary.\"\n",
    "print(s)"
   ]
  }
 ],
 "metadata": {
  "kernelspec": {
   "display_name": "base",
   "language": "python",
   "name": "python3"
  },
  "language_info": {
   "codemirror_mode": {
    "name": "ipython",
    "version": 3
   },
   "file_extension": ".py",
   "mimetype": "text/x-python",
   "name": "python",
   "nbconvert_exporter": "python",
   "pygments_lexer": "ipython3",
   "version": "3.1.undefined"
  }
 },
 "nbformat": 4,
 "nbformat_minor": 2
}
