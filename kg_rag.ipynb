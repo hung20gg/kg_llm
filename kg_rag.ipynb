{
 "cells": [
  {
   "cell_type": "markdown",
   "metadata": {},
   "source": [
    "## Evaluation of Knowledge Graph for RAG"
   ]
  },
  {
   "cell_type": "code",
   "execution_count": 1,
   "metadata": {},
   "outputs": [
    {
     "name": "stderr",
     "output_type": "stream",
     "text": [
      "2024-06-10 01:45:51.974210: E external/local_xla/xla/stream_executor/cuda/cuda_dnn.cc:9261] Unable to register cuDNN factory: Attempting to register factory for plugin cuDNN when one has already been registered\n",
      "2024-06-10 01:45:51.974232: E external/local_xla/xla/stream_executor/cuda/cuda_fft.cc:607] Unable to register cuFFT factory: Attempting to register factory for plugin cuFFT when one has already been registered\n",
      "2024-06-10 01:45:51.974825: E external/local_xla/xla/stream_executor/cuda/cuda_blas.cc:1515] Unable to register cuBLAS factory: Attempting to register factory for plugin cuBLAS when one has already been registered\n",
      "2024-06-10 01:45:52.541908: W tensorflow/compiler/tf2tensorrt/utils/py_utils.cc:38] TF-TRT Warning: Could not find TensorRT\n"
     ]
    }
   ],
   "source": [
    "from database.GraphDB import KnowledgeGraphDB\n",
    "from retrieval.retrieval_hub import RetrievalHub\n",
    "from query_and_ranking.query import Query\n",
    "from query_and_ranking.rerank import Reranker\n",
    "from agentic import Agent\n",
    "from tqdm import tqdm"
   ]
  },
  {
   "cell_type": "code",
   "execution_count": 2,
   "metadata": {},
   "outputs": [],
   "source": [
    "import os \n",
    "from dotenv import load_dotenv\n",
    "load_dotenv()\n",
    "\n",
    "neo4j_uri = os.getenv('NEO4J_URI')\n",
    "neo4j_user = os.getenv('NEO4J_USER')\n",
    "neo4j_password = os.getenv('NEO4J_PASSWORD')"
   ]
  },
  {
   "cell_type": "code",
   "execution_count": 3,
   "metadata": {},
   "outputs": [],
   "source": [
    "kg = KnowledgeGraphDB(uri=neo4j_uri, user=neo4j_user, password=neo4j_password)\n",
    "retrieval_hub = RetrievalHub(kg)\n",
    "reranker = Reranker()\n",
    "cv_query = Query(kg, retrieval_hub)"
   ]
  },
  {
   "cell_type": "code",
   "execution_count": 4,
   "metadata": {},
   "outputs": [
    {
     "name": "stderr",
     "output_type": "stream",
     "text": [
      "Special tokens have been added in the vocabulary, make sure the associated word embeddings are fine-tuned or trained.\n"
     ]
    },
    {
     "data": {
      "application/vnd.jupyter.widget-view+json": {
       "model_id": "6ab1b30945fe4ba4830de3e3194acc0e",
       "version_major": 2,
       "version_minor": 0
      },
      "text/plain": [
       "Loading checkpoint shards:   0%|          | 0/4 [00:00<?, ?it/s]"
      ]
     },
     "metadata": {},
     "output_type": "display_data"
    }
   ],
   "source": [
    "chat_agent = Agent(kg, retrieval_hub, reranker, cv_query, routing='aws',jd_extraction='local')"
   ]
  },
  {
   "cell_type": "code",
   "execution_count": 5,
   "metadata": {},
   "outputs": [],
   "source": [
    "import json\n",
    "questions = json.loads(open('data/benchmark/qa_cv.json').read())"
   ]
  },
  {
   "cell_type": "code",
   "execution_count": 6,
   "metadata": {},
   "outputs": [
    {
     "name": "stderr",
     "output_type": "stream",
     "text": [
      "  0%|          | 0/39 [00:00<?, ?it/s]"
     ]
    },
    {
     "name": "stdout",
     "output_type": "stream",
     "text": [
      "Extracting Job Description\n",
      "End LLM\n",
      "New Query:  {'cityList': ['ha noi'], 'eduList': ['master', 'bachelor', 'undergraduate', 'diploma', 'phd', 'certificate'], 'roleList': ['marketing analyst', 'marketing officer', 'marketing manager', 'marketing assistant'], 'suitableList': ['marketing manager', 'marketing executive', 'director of marketing', 'marketing officer', 'head of marketing', 'marketing team leader']}\n",
      "Extended Num Application:  15\n"
     ]
    },
    {
     "name": "stderr",
     "output_type": "stream",
     "text": [
      "/home/quanghung20gg/anaconda3/lib/python3.11/site-packages/langchain_core/vectorstores.py:330: UserWarning: Relevance scores must be between 0 and 1, got [(Document(page_content='Languages:\\n- English\\nMajors:\\n- bachelor, business administration - marketing, fpt university, (GPA: 3.2)\\nWork:\\n- nha khoa parkway (1 years)\\n- tổ chức giáo dục fpt (0.5 years)\\n- trung tâm tin học ict hà nội (1 years)\\n- công ty cổ phân đầu tư và phát triển hạ tầng việt nam (1.5 years)\\n- sconnect vietnam (1.5 years)\\nRoles:\\n- content marketing (1.5 years)\\n- digital marketing (1 years)\\n- social media manager (1.5 years)\\n- marketing executive (1.5 years)\\nSkills:\\n- market research\\n- content creation\\n- social media marketing\\n- digital marketing\\n- advertising campaign management\\n- customer journey optimization\\n- team management\\n- seo\\nCities:\\n- ha noi\\n', metadata={'id': 1749}), -225.46678579783702), (Document(page_content='Languages:\\n- English\\nMajors:\\n- bachelor, information technology, hanoi university of business and technology, (GPA: 3.6)\\nRoles:\\n- web developer (0.5 years)\\nSkills:\\n- front\\n- end development\\n- back\\n- real\\n- time communication\\n- database management\\n- cloud computing\\n- user interface design\\n- e\\n- commerce\\n- api development\\nProgramming languages:\\n- javascript (0.5 years)\\n- typescript (0.5 years)\\n- react (0.5 years)\\n- node (0.5 years)\\n- mongodb (0.5 years)\\n- sql (0.5 years)\\n- asp.net mvc (0.5 years)\\n- firebase (0.5 years)\\nCities:\\n- ha noi\\n', metadata={'id': 222}), -237.03323198370555), (Document(page_content='Languages:\\n- English\\nMajors:\\n- bachelor, business administration, hanoi college of industrial economics, (GPA: 3.6)\\nWork:\\n- shopee food (1.5 years)\\n- lau phan (0.5 years)\\n- funix - a member of fpt corporation (0.5 years)\\nRoles:\\n- delivery driver (1.5 years)\\n- waiter (0.5 years)\\n- full stack web developer (0.5 years)\\nSkills:\\n- html\\n- css\\n- javascript\\n- git\\n- vscode\\n- postman\\nProgramming languages:\\n- react (0.5 years)\\n- node (0.5 years)\\n- redux toolkit (0.5 years)\\n- mongodb (0.5 years)\\n- express (0.5 years)\\n- socket.io (0.5 years)\\nCities:\\n- ha noi\\n', metadata={'id': 395}), -237.99118350044384), (Document(page_content='Languages:\\n- English\\n- Vietnamese\\nMajors:\\n- bachelor, marketing, nguyen tat thanh university, (GPA: 2.97)\\nWork:\\n- công ty tnhh học viện mặt trời xanh (1 years)\\nRoles:\\n- content marketing (1 years)\\nSkills:\\n- office suite\\n- problem solving\\n- time management\\n- photography\\n- video editing\\n- canva design\\n- social media management\\n- content creation\\nCities:\\n- ho chi minh\\nAwards:\\n- SINH VIÊN VỚI Ý TƯỞNG SÁNG TẠO - Top 40\\n- VÌ BẠN XỨNG ĐÁNG - 1st Place\\n- DESIGN THOUGHT OPEN INNOVATION - 1st Place\\n', metadata={'id': 841}), -239.99386847697986), (Document(page_content='Languages:\\n- English\\nMajors:\\n- bachelor, finance and banking, finance academy, (GPA: 3.6)\\nWork:\\n- công ty cổ phần magenweb việt nam (leadup) (0.5 years)\\n- công ty cổ phần magenweb việt nam (vlance.vn) (1 years)\\n- công ty tnhh tư vấn, thương mại và dịch vụ nhiệt đới - gpo (0.5 years)\\nRoles:\\n- marketing analyst (1.5 years)\\n- digital marketing (1.5 years)\\n- seo (1.5 years)\\n- content marketing (1.5 years)\\nSkills:\\n- content marketing\\n- seo\\n- google ads\\n- facebook ads\\n- email marketing\\n- social media marketing\\n- website analytics\\n- project management\\nCities:\\n- ha noi\\nCertifications:\\n- The Fundamentals of Digital Marketing\\nAwards:\\n- TOEIC Listening & Reading: 845 points\\n', metadata={'id': 1513}), -245.32889479139027), (Document(page_content='Languages:\\n- English\\nMajors:\\n- bachelor, information technology, university of technology and education, (GPA: 3.6)\\nWork:\\n- cyclone company (0.5 years)\\nRoles:\\n- full-stack developer (0 years)\\n- front-end developer (0.5 years)\\nSkills:\\n- user interface design\\n- api integration\\n- responsive design\\n- authentication\\n- authorization\\n- product management\\n- multi\\n- language support\\n- dark mode implementation\\n- crud operations\\nProgramming languages:\\n- html (0.5 years)\\n- css (0.5 years)\\n- javascript (0.5 years)\\n- typescript (0.5 years)\\n- react (0.5 years)\\n- next (0.5 years)\\n- node (0.5 years)\\n- express (0.5 years)\\nCities:\\n- ho chi minh\\n', metadata={'id': 595}), -245.42102350735976), (Document(page_content='Languages:\\n- English\\nMajors:\\n- undergraduate, computer programming, fpt polytechnic hà nội, (GPA: 3.6)\\nWork:\\n- công ty cổ phần thương mại và phát triển công nghệ bách việt (1 years)\\nRoles:\\n- web developer (1 years)\\n- it developer (1 years)\\nSkills:\\n- system design\\n- system analysis\\n- proxy deployment\\n- tool development\\nProgramming languages:\\n- python (1 years)\\n- php (1 years)\\n- javascript (1 years)\\nCities:\\n- ha noi\\n', metadata={'id': 2006}), -246.33370802866963), (Document(page_content='Languages:\\n- English\\nMajors:\\n- certificate, online marketing, inet academy, (GPA: 3.6)\\n- bachelor, business administration, hanoi open university, (GPA: 3.6)\\nWork:\\n- ben computer (3 years)\\n- sakura electrical co., ltd (2 years)\\n- hung viet cancel hospital (4 years)\\n- redsun iti coporation (2.5 years)\\n- ecomobi vietnam co., ltd (3 years)\\n- clever group (1 years)\\n- mcv group, mcv s&e (1.5 years)\\nRoles:\\n- sales manager (3 years)\\n- public relations executive (4 years)\\n- marketing manager (2.5 years)\\n- team leader (3 years)\\n- project manager (1 years)\\n- booking director (1.5 years)\\nSkills:\\n- social media marketing\\n- influencer marketing\\n- campaign management\\n- team management\\n- communication\\n- public relations\\n- sales\\n- marketing\\nCities:\\n- ha noi\\nCertifications:\\n- Presentation / Public Speaking\\n- Customer Mindset\\n- Effective team management skills\\nAwards:\\n- Presentation / Public Speaking (HRD Academy)\\n- Customer Mindset (Thien An Training Company)\\n- Effective team management skills (HRD Academy)\\n', metadata={'id': 786}), -247.77056166881246), (Document(page_content='Languages:\\n- English\\nMajors:\\n- bachelor, computer science, national economics university hanoi, (GPA: 3.43)\\nWork:\\n- lts group (0.5 years)\\n- viettel telecom (0.5 years)\\nRoles:\\n- software developer (0.5 years)\\nSkills:\\n- web development\\n- api development\\n- content management system\\n- user interface design\\n- artificial intelligence\\n- database management\\n- testing\\n- deployment\\n- english teaching\\nProgramming languages:\\n- java (0.5 years)\\n- javascript (0.5 years)\\n- typescript (0.5 years)\\n- php (0.5 years)\\n- spring boot (0.5 years)\\n- react (0.5 years)\\n- node (0.5 years)\\n- graphql (0.5 years)\\nCities:\\n- ha noi\\n', metadata={'id': 1593}), -248.22773480148226), (Document(page_content='Languages:\\n- English\\nMajors:\\n- undergraduate, data science, ho chi minh city university of foreign languages and information technology, (GPA: 3.1)\\nRoles:\\n- data analyst (0 years)\\n- data scientist (0 years)\\n- ai engineer (0 years)\\nSkills:\\n- machine learning\\n- data analysis\\n- model evaluation\\n- model deployment\\n- research\\n- communication\\n- leadership\\n- teamwork\\nProgramming languages:\\n- python (0 years)\\n- r (0 years)\\n- java (0 years)\\n- javascript (0 years)\\n- tensorflow (0 years)\\n- keras (0 years)\\n- scikit (0 years)\\n- learn (0 years)\\n- sql (0 years)\\nCities:\\n- ho chi minh\\n', metadata={'id': 555}), -248.78745936372357), (Document(page_content='Languages:\\n- English\\nMajors:\\n- bachelor, information technology, đại học công thương, (GPA: 3.6)\\nRoles:\\n- php developer (0 years)\\nSkills:\\n- html\\n- css\\n- bootstrap\\n- javascript\\n- jquery\\n- sql\\n- git\\n- postman\\nProgramming languages:\\n- php (0 years)\\n- html (0 years)\\n- css (0 years)\\n- javascript (0 years)\\n- jquery (0 years)\\n- sql (0 years)\\nCities:\\n- ho chi minh\\n', metadata={'id': 1553}), -249.49631043458814), (Document(page_content='Languages:\\n- English\\nMajors:\\n- undergraduate, information technology - software application, tr ư ờ ng cao đ ẳ ng công nghi ệ p hu ế, (GPA: 3.6)\\nWork:\\n- bình an booking (bab) (0.5 years)\\n- viet information technology project (vitpr) (0.5 years)\\nRoles:\\n- website administrator (0.5 years)\\n-  (0.5 years)\\n- web developer (0.5 years)\\nSkills:\\n- website management\\n- visual design\\n- e\\n- commerce development\\nProgramming languages:\\n- html (0.5 years)\\n- css (0.5 years)\\n- javascript (0.5 years)\\n- jquery (0.5 years)\\n- php (0.5 years)\\n- java (0.5 years)\\n- mysql (0.5 years)\\n- laravel (0.5 years)\\nCities:\\n- đ à n ẵ ng\\n', metadata={'id': 2093}), -249.4963967513339), (Document(page_content='Languages:\\n- English\\nMajors:\\n- bachelor, information technology, đại học công th ươ ng, (GPA: 3.6)\\nRoles:\\n- php developer (0 years)\\n- web developer (0 years)\\nSkills:\\n- html\\n- css\\n- javascript\\n- php\\n- sql\\n- git\\n- mongodb\\n- mysql\\nProgramming languages:\\n- php (0 years)\\n- html (0 years)\\n- css (0 years)\\n- javascript (0 years)\\n- jquery (0 years)\\n- sql (0 years)\\nCities:\\n- ho chi minh\\n', metadata={'id': 860}), -249.97033297414285), (Document(page_content='Languages:\\n- English\\nMajors:\\n- bachelor, computer engineer, hanoi university of science and technology, (GPA: 3.6)\\nRoles:\\n- data engineer (0 years)\\nSkills:\\n- data engineering\\n- cloud computing\\n- data visualization\\n- data modeling\\n- etl\\n- elt\\n- data pipelines\\n- distributed systems\\n- database\\nProgramming languages:\\n- python (0 years)\\n- sql (0 years)\\nCities:\\n- ha noi\\n', metadata={'id': 19}), -250.97014728908826), (Document(page_content='Languages:\\n- English\\nMajors:\\n- bachelor, information technology, vnu-hcm university of science, (GPA: 3.6)\\nRoles:\\n- software engineer (0.5 years)\\n- web developer (0.5 years)\\nSkills:\\n- cloud storage\\n- devops\\n- machine learning\\n- database management\\n- artificial intelligence\\nProgramming languages:\\n- node (0.5 years)\\n- python (0.5 years)\\n- go (0.5 years)\\n- java (0.5 years)\\n- c++ (0.5 years)\\n- html (0.5 years)\\n- css (0.5 years)\\n- javascript (0.5 years)\\nCities:\\n- ho chi minh\\n', metadata={'id': 1488}), -252.33168605736722)]\n",
      "  warnings.warn(\n",
      "  3%|▎         | 1/39 [00:12<07:45, 12.24s/it]"
     ]
    },
    {
     "name": "stdout",
     "output_type": "stream",
     "text": [
      "Not enough application\n",
      "New Query:  {'cityList': ['ha noi'], 'suitableList': ['marketing staff', 'marketing manager', 'marketing executive', 'director of marketing', 'marketing officer', 'head of marketing', 'marketing', 'marketing team leader']}\n",
      "[786, 1749, 1802, 2109, 424]\n",
      "Less -> Sematic Search\n",
      "Using Sematic Search\n",
      "Num CV ok:  12\n",
      "Rerank\n",
      "[1513, 1593, 1749, 1802, 2006, 2109, 222, 395, 424, 595, 786, 841]\n",
      "Time: 12.240367412567139\n",
      "Extracting Job Description\n"
     ]
    },
    {
     "name": "stderr",
     "output_type": "stream",
     "text": [
      "  5%|▌         | 2/39 [00:23<07:08, 11.59s/it]"
     ]
    },
    {
     "name": "stdout",
     "output_type": "stream",
     "text": [
      "End LLM\n",
      "New Query:  {'languageList': ['English'], 'cityList': ['ho chi minh'], 'eduList': ['phd', 'master'], 'roleList': ['marketing analyst', 'marketing officer', 'marketing manager', 'marketing assistant']}\n",
      "Extended Num Application:  -1\n",
      "New Query:  {'cityList': ['ho chi minh'], 'roleList': ['marketing manager', 'marketing executive', 'marketing analyst', 'marketing officer', 'marketing', 'marketing assistant']}\n",
      "Rerank\n",
      "[468, 92]\n",
      "Time: 11.133100271224976\n",
      "Extracting Job Description\n",
      "End LLM\n",
      "New Query:  {'eduList': ['master', 'bachelor', 'undergraduate', 'diploma', 'phd', 'certificate']}\n",
      "Extended Num Application:  10\n",
      "Reduce CV  172  ->  10  CV\n",
      "New Query:  {'eduList': ['master', 'bachelor', 'undergraduate', 'diploma', 'phd', 'certificate']}\n",
      "Still more -> Reduce CV\n",
      "Risk:  True\n",
      "Num CV ok:  10\n",
      "Rerank\n",
      "Reranking\n"
     ]
    },
    {
     "name": "stderr",
     "output_type": "stream",
     "text": [
      "  8%|▊         | 3/39 [00:32<06:09, 10.27s/it]"
     ]
    },
    {
     "name": "stdout",
     "output_type": "stream",
     "text": [
      "[83, 708, 60, 50, 648, 1953, 2023]\n",
      "Time: 8.688434362411499\n",
      "Extracting Job Description\n",
      "End LLM\n",
      "New Query:  {'eduList': ['master', 'bachelor', 'undergraduate', 'diploma', 'phd', 'certificate'], 'roleList': ['odoo developer'], 'programmingList': ['ros', 'django', 'mongodb', 'opl', 'groovy']}\n",
      "Extended Num Application:  3\n",
      "Not enough application\n",
      "New Query:  {'roleList': ['developer', 'java developer', 'odoo developer', 'python developer', 'unity developer'], 'programmingList': ['ros', 'django', 'mongodb', 'as', 'opl', 'groovy']}\n",
      "[502, 250, 705, 409, 1953, 1715, 1500]\n",
      "More -> Reduce CV\n",
      "Num CV ok:  3\n",
      "Rerank\n",
      "Reranking\n"
     ]
    },
    {
     "name": "stderr",
     "output_type": "stream",
     "text": [
      " 10%|█         | 4/39 [00:41<05:51, 10.04s/it]"
     ]
    },
    {
     "name": "stdout",
     "output_type": "stream",
     "text": [
      "[1953, 1715]\n",
      "Time: 9.689563274383545\n",
      "Extracting Job Description\n"
     ]
    },
    {
     "name": "stderr",
     "output_type": "stream",
     "text": [
      " 13%|█▎        | 5/39 [00:51<05:39,  9.98s/it]"
     ]
    },
    {
     "name": "stdout",
     "output_type": "stream",
     "text": [
      "Expecting value: line 15 column 75 (char 482)\n",
      "invalid syntax (<unknown>, line 15)\n",
      "Error in converting JSON response\n",
      "Error\n",
      "Extracting Job Description\n"
     ]
    },
    {
     "name": "stderr",
     "output_type": "stream",
     "text": [
      "--- Logging error ---\n",
      "Traceback (most recent call last):\n",
      "  File \"/home/quanghung20gg/anaconda3/lib/python3.11/logging/__init__.py\", line 1110, in emit\n",
      "    msg = self.format(record)\n",
      "          ^^^^^^^^^^^^^^^^^^^\n",
      "  File \"/home/quanghung20gg/anaconda3/lib/python3.11/logging/__init__.py\", line 953, in format\n",
      "    return fmt.format(record)\n",
      "           ^^^^^^^^^^^^^^^^^^\n",
      "  File \"/home/quanghung20gg/anaconda3/lib/python3.11/logging/__init__.py\", line 687, in format\n",
      "    record.message = record.getMessage()\n",
      "                     ^^^^^^^^^^^^^^^^^^^\n",
      "  File \"/home/quanghung20gg/anaconda3/lib/python3.11/logging/__init__.py\", line 377, in getMessage\n",
      "    msg = msg % self.args\n",
      "          ~~~~^~~~~~~~~~~\n",
      "TypeError: not all arguments converted during string formatting\n",
      "Call stack:\n",
      "  File \"<frozen runpy>\", line 198, in _run_module_as_main\n",
      "  File \"<frozen runpy>\", line 88, in _run_code\n",
      "  File \"/home/quanghung20gg/anaconda3/lib/python3.11/site-packages/ipykernel_launcher.py\", line 17, in <module>\n",
      "    app.launch_new_instance()\n",
      "  File \"/home/quanghung20gg/anaconda3/lib/python3.11/site-packages/traitlets/config/application.py\", line 992, in launch_instance\n",
      "    app.start()\n",
      "  File \"/home/quanghung20gg/anaconda3/lib/python3.11/site-packages/ipykernel/kernelapp.py\", line 701, in start\n",
      "    self.io_loop.start()\n",
      "  File \"/home/quanghung20gg/anaconda3/lib/python3.11/site-packages/tornado/platform/asyncio.py\", line 195, in start\n",
      "    self.asyncio_loop.run_forever()\n",
      "  File \"/home/quanghung20gg/anaconda3/lib/python3.11/asyncio/base_events.py\", line 607, in run_forever\n",
      "    self._run_once()\n",
      "  File \"/home/quanghung20gg/anaconda3/lib/python3.11/asyncio/base_events.py\", line 1922, in _run_once\n",
      "    handle._run()\n",
      "  File \"/home/quanghung20gg/anaconda3/lib/python3.11/asyncio/events.py\", line 80, in _run\n",
      "    self._context.run(self._callback, *self._args)\n",
      "  File \"/home/quanghung20gg/anaconda3/lib/python3.11/site-packages/ipykernel/kernelbase.py\", line 534, in dispatch_queue\n",
      "    await self.process_one()\n",
      "  File \"/home/quanghung20gg/anaconda3/lib/python3.11/site-packages/ipykernel/kernelbase.py\", line 523, in process_one\n",
      "    await dispatch(*args)\n",
      "  File \"/home/quanghung20gg/anaconda3/lib/python3.11/site-packages/ipykernel/kernelbase.py\", line 429, in dispatch_shell\n",
      "    await result\n",
      "  File \"/home/quanghung20gg/anaconda3/lib/python3.11/site-packages/ipykernel/kernelbase.py\", line 767, in execute_request\n",
      "    reply_content = await reply_content\n",
      "  File \"/home/quanghung20gg/anaconda3/lib/python3.11/site-packages/ipykernel/ipkernel.py\", line 429, in do_execute\n",
      "    res = shell.run_cell(\n",
      "  File \"/home/quanghung20gg/anaconda3/lib/python3.11/site-packages/ipykernel/zmqshell.py\", line 549, in run_cell\n",
      "    return super().run_cell(*args, **kwargs)\n",
      "  File \"/home/quanghung20gg/anaconda3/lib/python3.11/site-packages/IPython/core/interactiveshell.py\", line 3051, in run_cell\n",
      "    result = self._run_cell(\n",
      "  File \"/home/quanghung20gg/anaconda3/lib/python3.11/site-packages/IPython/core/interactiveshell.py\", line 3106, in _run_cell\n",
      "    result = runner(coro)\n",
      "  File \"/home/quanghung20gg/anaconda3/lib/python3.11/site-packages/IPython/core/async_helpers.py\", line 129, in _pseudo_sync_runner\n",
      "    coro.send(None)\n",
      "  File \"/home/quanghung20gg/anaconda3/lib/python3.11/site-packages/IPython/core/interactiveshell.py\", line 3311, in run_cell_async\n",
      "    has_raised = await self.run_ast_nodes(code_ast.body, cell_name,\n",
      "  File \"/home/quanghung20gg/anaconda3/lib/python3.11/site-packages/IPython/core/interactiveshell.py\", line 3493, in run_ast_nodes\n",
      "    if await self.run_code(code, result, async_=asy):\n",
      "  File \"/home/quanghung20gg/anaconda3/lib/python3.11/site-packages/IPython/core/interactiveshell.py\", line 3553, in run_code\n",
      "    exec(code_obj, self.user_global_ns, self.user_ns)\n",
      "  File \"/tmp/ipykernel_52177/1960609950.py\", line 10, in <module>\n",
      "    res = chat_agent.get_cv_from_jd(prompt)\n",
      "  File \"/home/quanghung20gg/Documents/hung20gg/cv_rank/agentic.py\", line 182, in get_cv_from_jd\n",
      "    data, jd_summarize, jd_out = self.query.get_cv(self.llm_jd_extraction, JD, self.llm_routing, llm_ranking)\n",
      "  File \"/home/quanghung20gg/Documents/hung20gg/cv_rank/query_and_ranking/query.py\", line 42, in get_cv\n",
      "    jd_summarize, jd_out, jd_extraction = extract_job_requirements_prompt(llm, JD, lm=lm)\n",
      "  File \"/home/quanghung20gg/Documents/hung20gg/cv_rank/agent/agent_prompt.py\", line 408, in extract_job_requirements_prompt\n",
      "    jd_extraction = llm(messages)\n",
      "  File \"/home/quanghung20gg/Documents/hung20gg/cv_rank/agent/llm/llm.py\", line 81, in __call__\n",
      "    return self.pipe(message, **self.generation_args)[0]['generated_text'][-1]['content']\n",
      "  File \"/home/quanghung20gg/anaconda3/lib/python3.11/site-packages/transformers/pipelines/text_generation.py\", line 235, in __call__\n",
      "    return super().__call__(Chat(text_inputs), **kwargs)\n",
      "  File \"/home/quanghung20gg/anaconda3/lib/python3.11/site-packages/transformers/pipelines/base.py\", line 1167, in __call__\n",
      "    logger.warning_once(\n",
      "  File \"/home/quanghung20gg/anaconda3/lib/python3.11/site-packages/transformers/utils/logging.py\", line 329, in warning_once\n",
      "    self.warning(*args, **kwargs)\n",
      "Message: 'You seem to be using the pipelines sequentially on GPU. In order to maximize efficiency please use a dataset'\n",
      "Arguments: (<class 'UserWarning'>,)\n"
     ]
    },
    {
     "name": "stdout",
     "output_type": "stream",
     "text": [
      "End LLM\n",
      "New Query:  {'eduList': ['master', 'bachelor', 'undergraduate', 'diploma', 'phd', 'certificate'], 'roleList': ['data analyst', 'data scientist', 'research scientist', 'data science / artificial intelligence'], 'role_exp': 0.5, 'suitableList': ['analyst', 'marketing analyst', 'financial market data analyst', 'research analyst', 'finance analyst', 'data scientist', 'data analyst', 'data analysis', 'business analyst', 'sales analyst', 'statistician']}\n",
      "Extended Num Application:  14\n",
      "Reduce CV  19  ->  14  CV\n",
      "New Query:  {'eduList': ['master', 'bachelor', 'undergraduate', 'diploma', 'phd', 'certificate'], 'roleList': ['data scientist'], 'role_exp': 0.5, 'suitableList': ['analyst', 'marketing analyst', 'financial market data analyst', 'finance analyst', 'data scientist', 'data analyst', 'data analysis', 'business analyst', 'sales analyst', 'statistician']}\n",
      "Risk:  True\n",
      "Not enough application\n",
      "Reduce Risk -> Get more CV\n",
      "New Query:  {'eduList': ['master', 'bachelor', 'undergraduate', 'diploma', 'phd', 'certificate'], 'roleList': ['data analyst', 'data scientist', 'research scientist', 'data science / artificial intelligence'], 'role_exp': 0.5, 'suitableList': ['analyst', 'marketing analyst', 'financial market data analyst', 'research analyst', 'finance analyst', 'data scientist', 'data analyst', 'data analysis', 'business analyst', 'sales analyst', 'statistician']}\n",
      "[638, 606, 383, 270, 211, 135, 2141, 2123, 2013, 1428, 1456, 1473, 1604, 1690, 1847, 335, 280, 1291, 1165]\n",
      "More -> Reduce CV\n",
      "Num CV ok:  14\n",
      "Rerank\n",
      "Reranking\n"
     ]
    },
    {
     "name": "stderr",
     "output_type": "stream",
     "text": [
      " 15%|█▌        | 6/39 [01:01<05:26,  9.90s/it]"
     ]
    },
    {
     "name": "stdout",
     "output_type": "stream",
     "text": [
      "[606, 1456, 280, 270, 1473, 1291, 1690, 1847, 2141, 1428, 135]\n",
      "Time: 9.745292901992798\n",
      "Extracting Job Description\n"
     ]
    },
    {
     "name": "stderr",
     "output_type": "stream",
     "text": [
      " 18%|█▊        | 7/39 [01:11<05:19, 10.00s/it]"
     ]
    },
    {
     "name": "stdout",
     "output_type": "stream",
     "text": [
      "End LLM\n",
      "New Query:  {'institutionList': ['hanoi university of science and technology', 'hanoi university of industry'], 'eduList': ['master', 'bachelor', 'undergraduate', 'diploma', 'phd', 'certificate']}\n",
      "Extended Num Application:  7\n",
      "Reduce CV  11  ->  7  CV\n",
      "New Query:  {'institutionList': ['hanoi university of industry'], 'eduList': ['master', 'bachelor', 'undergraduate', 'diploma', 'phd', 'certificate']}\n",
      "Risk:  True\n",
      "Num CV ok:  5\n",
      "Rerank\n",
      "[1802, 1896, 2004, 651, 658]\n",
      "Time: 10.198487520217896\n",
      "Extracting Job Description\n"
     ]
    },
    {
     "name": "stderr",
     "output_type": "stream",
     "text": [
      " 21%|██        | 8/39 [01:20<04:56,  9.55s/it]"
     ]
    },
    {
     "name": "stdout",
     "output_type": "stream",
     "text": [
      "End LLM\n",
      "New Query:  {'eduList': ['master', 'bachelor', 'undergraduate', 'diploma', 'phd', 'certificate'], 'roleList': ['accountant', 'al audit ', 'al audit manager', 'auditor']}\n",
      "Extended Num Application:  4\n",
      "Reduce CV  7  ->  4  CV\n",
      "New Query:  {'eduList': ['master', 'bachelor', 'undergraduate', 'diploma', 'phd', 'certificate'], 'roleList': ['accountant', 'al audit ', 'auditor']}\n",
      "Still more -> Reduce CV\n",
      "Risk:  True\n",
      "Num CV ok:  4\n",
      "Rerank\n",
      "Reranking\n",
      "[1817, 138, 738]\n",
      "Time: 8.592268705368042\n",
      "Extracting Job Description\n"
     ]
    },
    {
     "name": "stderr",
     "output_type": "stream",
     "text": [
      " 23%|██▎       | 9/39 [01:28<04:31,  9.05s/it]"
     ]
    },
    {
     "name": "stdout",
     "output_type": "stream",
     "text": [
      "End LLM\n",
      "New Query:  {'eduList': ['master', 'bachelor', 'undergraduate', 'diploma', 'phd', 'certificate']}\n",
      "Extended Num Application:  3\n",
      "Reduce CV  172  ->  3  CV\n",
      "New Query:  {'eduList': ['master', 'bachelor', 'undergraduate', 'diploma', 'phd', 'certificate']}\n",
      "Still more -> Reduce CV\n",
      "Risk:  True\n",
      "Num CV ok:  3\n",
      "Rerank\n",
      "Reranking\n",
      "[60, 1953]\n",
      "Time: 7.95912504196167\n",
      "Extracting Job Description\n"
     ]
    },
    {
     "name": "stderr",
     "output_type": "stream",
     "text": [
      " 26%|██▌       | 10/39 [01:36<04:15,  8.81s/it]"
     ]
    },
    {
     "name": "stdout",
     "output_type": "stream",
     "text": [
      "End LLM\n",
      "New Query:  {'eduList': ['master', 'bachelor', 'undergraduate', 'diploma', 'phd', 'certificate']}\n",
      "Extended Num Application:  1\n",
      "Reduce CV  172  ->  1  CV\n",
      "New Query:  {'eduList': ['master', 'bachelor', 'undergraduate', 'diploma', 'phd', 'certificate']}\n",
      "Still more -> Reduce CV\n",
      "Risk:  True\n",
      "Num CV ok:  1\n",
      "Rerank\n",
      "[1953]\n",
      "Time: 8.252793073654175\n",
      "Extracting Job Description\n",
      "End LLM\n",
      "New Query:  {'institutionList': ['national economics university (neu)'], 'roleList': ['analyst', 'data science / artificial intelligence', 'financial market data analyst', 'data scientist', 'data analyst', 'data analysis', 'research scientist'], 'suitableList': ['machine learning engineer', 'analyst', 'data science / artificial intelligence', 'financial market data analyst', 'research analyst', 'data scientist', 'data analyst', 'data analysis', 'research scientist']}\n",
      "Extended Num Application:  12\n",
      "Not enough application\n",
      "New Query:  {'institutionList': ['national economics university (neu)', 'university of economics'], 'suitableList': ['machine learning engineer', 'analyst', 'data science / artificial intelligence', 'financial market data analyst', 'research analyst', 'data scientist', 'data analyst', 'data analysis', 'business analyst', 'sales analyst', 'research scientist', 'scientist']}\n",
      "[1214, 1690, 463, 1941, 2013, 495, 561, 732, 606, 280, 124, 1291]\n",
      "Num CV ok:  12\n",
      "Rerank\n",
      "Reranking\n"
     ]
    },
    {
     "name": "stderr",
     "output_type": "stream",
     "text": [
      " 28%|██▊       | 11/39 [01:48<04:39,  9.97s/it]"
     ]
    },
    {
     "name": "stdout",
     "output_type": "stream",
     "text": [
      "[1214, 124, 1291, 1690, 1941, 2013, 732, 606, 561, 280, 463, 495]\n",
      "Time: 12.62506365776062\n",
      "Extracting Job Description\n"
     ]
    },
    {
     "name": "stderr",
     "output_type": "stream",
     "text": [
      "/home/quanghung20gg/anaconda3/lib/python3.11/site-packages/langchain_core/vectorstores.py:330: UserWarning: Relevance scores must be between 0 and 1, got [(Document(page_content='Languages:\\n- English\\nMajors:\\n- undergraduate, computer programming, fpt polytechnic hà nội, (GPA: 3.6)\\nWork:\\n- công ty cổ phần thương mại và phát triển công nghệ bách việt (1 years)\\nRoles:\\n- web developer (1 years)\\n- it developer (1 years)\\nSkills:\\n- system design\\n- system analysis\\n- proxy deployment\\n- tool development\\nProgramming languages:\\n- python (1 years)\\n- php (1 years)\\n- javascript (1 years)\\nCities:\\n- ha noi\\n', metadata={'id': 2006}), -238.15044894781138), (Document(page_content='Languages:\\n- English\\nMajors:\\n- undergraduate, web development, fpt polytechnic college, (GPA: 3.6)\\nRoles:\\n- web developer (0 years)\\nSkills:\\n- web development\\n- project management\\n- teamwork\\n- problem solving\\n- communication\\nProgramming languages:\\n- php (0 years)\\n- mysql (0 years)\\n- html (0 years)\\n- css (0 years)\\n- javascript (0 years)\\n- angular (0 years)\\n- laravel (0 years)\\nCities:\\n- ha noi\\n', metadata={'id': 862}), -240.94915800093813), (Document(page_content='Languages:\\n- English\\nMajors:\\n- undergraduate, mobile programming, fpt polytechnic, (GPA: 3.6)\\nRoles:\\n- developer (0.5 years)\\nSkills:\\n- mobile application development\\n- api integration\\n- teamwork\\nProgramming languages:\\n- java (0.5 years)\\n- kotlin (0.5 years)\\n- javascript (0.5 years)\\n- react native (0.5 years)\\n- node (0.5 years)\\nCities:\\n- ha noi\\n', metadata={'id': 279}), -242.33146320084495), (Document(page_content='Languages:\\n- English\\nMajors:\\n- undergraduate, software development, fpt polytechnic college, (GPA: 3.44)\\nRoles:\\n- java developer (0 years)\\n- full stack developer (0 years)\\nSkills:\\n- web development\\n- back\\n- end development\\n- front\\n- database design\\n- api integration\\n- business analysis\\nProgramming languages:\\n- java (0 years)\\n- spring boot (0 years)\\n- jpa (0 years)\\n- react (0 years)\\n- mysql (0 years)\\n- html (0 years)\\n- css (0 years)\\n- javascript (0 years)\\nCities:\\n- ha noi\\nCertifications:\\n- Basic English Certificate\\nAwards:\\n- Basic English Certificate\\n', metadata={'id': 648}), -247.49599802515235), (Document(page_content='Languages:\\n- English\\nMajors:\\n- undergraduate, mobile application programming, fpt polytechnic, (GPA: 3.7)\\nWork:\\n- công ty cổ phần thương mại di động (0.5 years)\\nRoles:\\n-  (0.5 years)\\nSkills:\\n- mobile application development\\n- software development\\n- ui\\n- ux design\\n- documentation\\n- version control\\nProgramming languages:\\n- javascript (0.5 years)\\n- html (0.5 years)\\n- css (0.5 years)\\n- java (0.5 years)\\n- c# (0.5 years)\\n- mongodb (0.5 years)\\n- firebase (0.5 years)\\n- git (0.5 years)\\nCities:\\n- ha noi\\n', metadata={'id': 64}), -249.7414931508919), (Document(page_content='Languages:\\n- English\\nMajors:\\n- bachelor, computer science, national economics university hanoi, (GPA: 3.43)\\nWork:\\n- lts group (0.5 years)\\n- viettel telecom (0.5 years)\\nRoles:\\n- software developer (0.5 years)\\nSkills:\\n- web development\\n- api development\\n- content management system\\n- user interface design\\n- artificial intelligence\\n- database management\\n- testing\\n- deployment\\n- english teaching\\nProgramming languages:\\n- java (0.5 years)\\n- javascript (0.5 years)\\n- typescript (0.5 years)\\n- php (0.5 years)\\n- spring boot (0.5 years)\\n- react (0.5 years)\\n- node (0.5 years)\\n- graphql (0.5 years)\\nCities:\\n- ha noi\\n', metadata={'id': 1593}), -249.87025615636492), (Document(page_content='Languages:\\n- English\\nMajors:\\n- undergraduate, software development, fpt polytechnic college, (GPA: 3.6)\\nRoles:\\n- web developer (0.5 years)\\n- software engineer (0.5 years)\\nSkills:\\n- database design\\n- user management\\n- payment integration\\n- api integration\\n- front\\n- end development\\nProgramming languages:\\n- c# (0.5 years)\\n- sql (0.5 years)\\n- asp.net core (0.5 years)\\n- entity framework (0.5 years)\\n- html (0.5 years)\\n- css (0.5 years)\\n- javascript (0.5 years)\\n- angular (0.5 years)\\nCities:\\n- ha noi\\nAwards:\\n- Good and Excellent student for 6 out of 7 semesters\\n', metadata={'id': 358}), -250.70295521917018), (Document(page_content='Languages:\\n- English\\nMajors:\\n- bachelor, business administration, hanoi college of industrial economics, (GPA: 3.6)\\nWork:\\n- shopee food (1.5 years)\\n- lau phan (0.5 years)\\n- funix - a member of fpt corporation (0.5 years)\\nRoles:\\n- delivery driver (1.5 years)\\n- waiter (0.5 years)\\n- full stack web developer (0.5 years)\\nSkills:\\n- html\\n- css\\n- javascript\\n- git\\n- vscode\\n- postman\\nProgramming languages:\\n- react (0.5 years)\\n- node (0.5 years)\\n- redux toolkit (0.5 years)\\n- mongodb (0.5 years)\\n- express (0.5 years)\\n- socket.io (0.5 years)\\nCities:\\n- ha noi\\n', metadata={'id': 395}), -252.68312332810203), (Document(page_content='Languages:\\n- English\\nMajors:\\n- bachelor, information technology, hanoi university of business and technology, (GPA: 3.6)\\nRoles:\\n- web developer (0.5 years)\\nSkills:\\n- front\\n- end development\\n- back\\n- real\\n- time communication\\n- database management\\n- cloud computing\\n- user interface design\\n- e\\n- commerce\\n- api development\\nProgramming languages:\\n- javascript (0.5 years)\\n- typescript (0.5 years)\\n- react (0.5 years)\\n- node (0.5 years)\\n- mongodb (0.5 years)\\n- sql (0.5 years)\\n- asp.net mvc (0.5 years)\\n- firebase (0.5 years)\\nCities:\\n- ha noi\\n', metadata={'id': 222}), -254.36570681965023), (Document(page_content='Languages:\\n- English\\nMajors:\\n- college, software engineer, university of science, (GPA: 2.86)\\nWork:\\n- fpt software company (1 years)\\n- hdviet company (4 years)\\n- mtrip.vn (1 years)\\n- yola company (3.5 years)\\n- fp logistics company (1.5 years)\\nRoles:\\n- net developer (1 years)\\n- it team leader (1.5 years)\\n- full-stack developer (3.5 years)\\n- backend developer (11.5 years)\\nSkills:\\n- microservices\\n- api development\\n- team management\\n- cloud computing\\n- ci\\n- cd\\n- data synchronization\\n- database management\\n- reporting\\nProgramming languages:\\n- python (11.5 years)\\n- javascript (11.5 years)\\n- php (4 years)\\n- c# (1 years)\\n- vb (1 years)\\n- sql (11.5 years)\\n- kafka (1.5 years)\\n- docker (1.5 years)\\nCities:\\n- ho chi minh\\n', metadata={'id': 708}), -255.58210375044808), (Document(page_content='Languages:\\n- English\\nMajors:\\n- bachelor, web development, fpt polytechnic college, (GPA: 3.6)\\nRoles:\\n- designer (0 years)\\n- main coder (0 years)\\n- leader (0 years)\\n- web developer (0 years)\\nSkills:\\n- object\\n- oriented programming\\n- model\\n- view\\n- controller\\n- ui\\n- ux design\\n- cloud server deployment\\nProgramming languages:\\n- php (0 years)\\n- laravel (0 years)\\n- javascript (0 years)\\n- react (0 years)\\n- node (0 years)\\n- jquery (0 years)\\n- mysql (0 years)\\n- mongodb (0 years)\\nCities:\\n- ho chi minh\\n', metadata={'id': 373}), -256.11309917062897), (Document(page_content='Languages:\\n- English\\nMajors:\\n- bachelor, information technology, vnu-hcm university of science, (GPA: 3.6)\\nRoles:\\n- software engineer (0.5 years)\\n- web developer (0.5 years)\\nSkills:\\n- cloud storage\\n- devops\\n- machine learning\\n- database management\\n- artificial intelligence\\nProgramming languages:\\n- node (0.5 years)\\n- python (0.5 years)\\n- go (0.5 years)\\n- java (0.5 years)\\n- c++ (0.5 years)\\n- html (0.5 years)\\n- css (0.5 years)\\n- javascript (0.5 years)\\nCities:\\n- ho chi minh\\n', metadata={'id': 1488}), -261.1087396114283), (Document(page_content='Languages:\\n- Japanese\\n- English\\nMajors:\\n- bachelor, information technology, hanoi open university, (GPA: 3.6)\\nWork:\\n- zendvn programming training center (0.5 years)\\nRoles:\\n- back-end developer (0.5 years)\\n- web developer (0.5 years)\\nSkills:\\n- html\\n- css\\n- javascript\\n- sql\\n- git\\n- database design\\nProgramming languages:\\n- php (0.5 years)\\n- laravel (0.5 years)\\n- mysql (0.5 years)\\n- docker (0.5 years)\\nCities:\\n- ha noi\\n', metadata={'id': 666}), -262.7254172812144), (Document(page_content='Languages:\\n- English\\nMajors:\\n- bachelor, computer engineer, hanoi university of science and technology, (GPA: 3.6)\\nRoles:\\n- data engineer (0 years)\\nSkills:\\n- data engineering\\n- cloud computing\\n- data visualization\\n- data modeling\\n- etl\\n- elt\\n- data pipelines\\n- distributed systems\\n- database\\nProgramming languages:\\n- python (0 years)\\n- sql (0 years)\\nCities:\\n- ha noi\\n', metadata={'id': 19}), -263.55096403650117)]\n",
      "  warnings.warn(\n",
      " 31%|███       | 12/39 [01:59<04:35, 10.19s/it]"
     ]
    },
    {
     "name": "stdout",
     "output_type": "stream",
     "text": [
      "End LLM\n",
      "New Query:  {'cityList': ['ha noi'], 'institutionList': ['fpt polytechnic college', 'fpt university hcm', 'fpt university'], 'eduList': ['master', 'bachelor', 'undergraduate', 'diploma', 'phd', 'certificate']}\n",
      "Extended Num Application:  14\n",
      "Not enough application\n",
      "New Query:  {'cityList': ['ha noi'], 'institutionList': ['fpt polytechnic college', 'fpt university hcm', 'fpt university']}\n",
      "[862, 776, 648, 1703, 1749, 64, 279, 358]\n",
      "Less -> Sematic Search\n",
      "Using Sematic Search\n",
      "Num CV ok:  11\n",
      "Rerank\n",
      "[1593, 1703, 1749, 2006, 279, 358, 395, 64, 648, 776, 862]\n",
      "Time: 10.672229528427124\n",
      "Extracting Job Description\n"
     ]
    },
    {
     "name": "stderr",
     "output_type": "stream",
     "text": [
      " 33%|███▎      | 13/39 [02:08<04:15,  9.83s/it]"
     ]
    },
    {
     "name": "stdout",
     "output_type": "stream",
     "text": [
      "End LLM\n",
      "New Query:  {'eduList': ['master', 'bachelor', 'undergraduate', 'diploma', 'phd', 'certificate'], 'roleList': ['digital marketing manager', 'marketing officer', 'marketing manager', 'content marketing manager'], 'suitableList': ['marketing manager', 'marketing executive', 'brand manager', 'director of marketing', 'marketing officer', 'head of marketing', 'digital marketing manager', 'marketing team leader', 'content marketing manager']}\n",
      "Extended Num Application:  4\n",
      "Num CV ok:  4\n",
      "Rerank\n",
      "Reranking\n",
      "[972, 468, 1139]\n",
      "Time: 9.015899658203125\n",
      "Extracting Job Description\n",
      "End LLM\n",
      "New Query:  {'institutionList': ['national economics university (neu)'], 'eduList': ['master', 'bachelor', 'undergraduate', 'diploma', 'phd', 'certificate'], 'roleList': ['dataops engineer', 'data analyst', 'machine learning engineer', 'data scientist'], 'suitableList': ['machine learning engineer', 'financial market data analyst', 'dataops engineer', 'data analyst', 'data scientist', 'data analysis']}\n",
      "Extended Num Application:  4\n",
      "Reduce CV  5  ->  4  CV\n",
      "New Query:  {'institutionList': ['national economics university (neu)'], 'eduList': ['master', 'bachelor', 'undergraduate', 'diploma', 'phd', 'certificate'], 'roleList': ['dataops engineer', 'data analyst', 'machine learning engineer', 'data scientist'], 'suitableList': ['machine learning engineer', 'financial market data analyst', 'dataops engineer', 'data analyst', 'data scientist']}\n",
      "Still more -> Reduce CV\n",
      "Risk:  True\n",
      "Num CV ok:  4\n",
      "Rerank\n",
      "Reranking\n"
     ]
    },
    {
     "name": "stderr",
     "output_type": "stream",
     "text": [
      " 36%|███▌      | 14/39 [02:17<03:58,  9.53s/it]"
     ]
    },
    {
     "name": "stdout",
     "output_type": "stream",
     "text": [
      "[1690, 280, 561]\n",
      "Time: 8.824827671051025\n",
      "Extracting Job Description\n"
     ]
    },
    {
     "name": "stderr",
     "output_type": "stream",
     "text": [
      " 38%|███▊      | 15/39 [02:26<03:41,  9.24s/it]"
     ]
    },
    {
     "name": "stdout",
     "output_type": "stream",
     "text": [
      "End LLM\n",
      "New Query:  {'eduList': ['master', 'bachelor', 'undergraduate', 'diploma', 'phd', 'certificate'], 'roleList': ['back-end developer', 'front end developer', 'full stack developer', 'developer'], 'role_exp': 2.0}\n",
      "Extended Num Application:  3\n",
      "Reduce CV  5  ->  3  CV\n",
      "New Query:  {'eduList': ['master', 'bachelor', 'undergraduate', 'diploma', 'phd', 'certificate'], 'roleList': ['back-end developer', 'front end developer'], 'role_exp': 2.0}\n",
      "Risk:  True\n",
      "Num CV ok:  3\n",
      "Rerank\n",
      "Reranking\n",
      "[2083, 1579]\n",
      "Time: 8.569492101669312\n",
      "Extracting Job Description\n"
     ]
    },
    {
     "name": "stderr",
     "output_type": "stream",
     "text": [
      "/home/quanghung20gg/anaconda3/lib/python3.11/site-packages/langchain_core/vectorstores.py:330: UserWarning: Relevance scores must be between 0 and 1, got [(Document(page_content='Languages:\\n- English\\nMajors:\\n- bachelor, information security, ho chi minh city university of technology and food industry, (GPA: 2.9)\\nWork:\\n- công ty c ổ  ph ầ n công ngh ệ tam khoadeveloper .net (1 years)\\nRoles:\\n- tester (0 years)\\n- researcher (0.5 years)\\n- software developer (1 years)\\nSkills:\\n- software development\\n- machine learning\\n- sql\\n- technical support\\nProgramming languages:\\n- .net (1 years)\\n- python (0.5 years)\\n- c# (1 years)\\n- sql (1 years)\\nCities:\\n- ho chi minh\\n', metadata={'id': 1841}), -191.59035470182258), (Document(page_content='Languages:\\n- English\\nMajors:\\n- undergraduate, information technology, ho chi minh city open university, (GPA: 3.6)\\nWork:\\n- m q -h o use (1.5 years)\\n- healthy heart project (0.5 years)\\nRoles:\\n- mobile app developer (0.5 years)\\n- web developer (0 years)\\n- software developer (0 years)\\nSkills:\\n- web development\\n- mobile app development\\n- customer service\\n- marketing\\n- database design\\n- api development\\nProgramming languages:\\n- java (0 years)\\n- javascript (0 years)\\n- python (0 years)\\n- spring mvc (0 years)\\n- react (0 years)\\n- react native (0 years)\\n- mysql (0 years)\\n- html (0 years)\\n- css (0 years)\\nCities:\\n- ho chi minh\\n', metadata={'id': 1240}), -199.53891855098573), (Document(page_content='Languages:\\n- English\\nMajors:\\n- bachelor, information technology, đại học công thương, (GPA: 3.6)\\nRoles:\\n- php developer (0 years)\\nSkills:\\n- html\\n- css\\n- bootstrap\\n- javascript\\n- jquery\\n- sql\\n- git\\n- postman\\nProgramming languages:\\n- php (0 years)\\n- html (0 years)\\n- css (0 years)\\n- javascript (0 years)\\n- jquery (0 years)\\n- sql (0 years)\\nCities:\\n- ho chi minh\\n', metadata={'id': 1553}), -204.52355956376113), (Document(page_content='Languages:\\n- English\\n- Vietnamese\\nMajors:\\n- undergraduate, computer networking and communication, ho chi minh city university of technology, (GPA: 3.6)\\nWork:\\n- hung phat usa (0.5 years)\\n- private supermarket (0.5 years)\\n- mwg (0.5 years)\\n- etomil milk (0.5 years)\\n- ho chi minh city university of technology (6.5 years)\\nRoles:\\n- it support (0.5 years)\\n- inventory management staff (0.5 years)\\n- security camera supervisor (0.5 years)\\n- marketing staff (0.5 years)\\n- programmer (0.5 years)\\nSkills:\\n- system configuration\\n- management\\n- network administration\\n- project management\\n- web development\\n- mobile development\\n- game development\\n- security\\n- iot\\nProgramming languages:\\n- html (0.5 years)\\n- css (0.5 years)\\n- unity (0.5 years)\\n- wordpress (0.5 years)\\n- sql (0.5 years)\\nCities:\\n- thu duc\\n', metadata={'id': 1530}), -206.02784465032465), (Document(page_content='Languages:\\n- English\\nMajors:\\n- undergraduate, information technology, ho chi minh city industry and trade college, (GPA: 3.6)\\nRoles:\\n- web developer (1.5 years)\\n- php programmer (1.5 years)\\nSkills:\\n- web application development\\n- database design\\n- debugging\\n- testing\\n- security vulnerability mitigation\\n- version control\\n- requirement analysis\\n- logical solution design\\n- collaboration with ui\\n- ux designers\\nProgramming languages:\\n- php (1.5 years)\\n- javascript (1.5 years)\\n- mysql (1.5 years)\\n- html (1.5 years)\\n- css (1.5 years)\\n- jquery (1.5 years)\\n- bootstrap (1.5 years)\\n- asp.net (1.5 years)\\nCities:\\n- ho chi minh\\n', metadata={'id': 191}), -206.74485627808608), (Document(page_content='Languages:\\n- English\\nMajors:\\n- undergraduate, information technology, ho chi minh city university of technology, (GPA: 3.6)\\nRoles:\\n- mobile developer (0.5 years)\\n- web developer (0.5 years)\\nSkills:\\n- react\\n- node js\\n- sql\\n- c#\\n- firebase\\n- jetpack compose\\nProgramming languages:\\n- java (0.5 years)\\n- kotlin (0.5 years)\\n- javascript (0.5 years)\\n- c# (0.5 years)\\n- python (0.5 years)\\nCities:\\n- ho chi minh\\nAwards:\\n- Provincial Encouragement Award for 12th Grade Informatics\\n- Provincial Encouragement Award for 11th Grade Informatics\\n', metadata={'id': 2103}), -207.5054794416378)]\n",
      "  warnings.warn(\n",
      " 41%|████      | 16/39 [02:35<03:33,  9.28s/it]"
     ]
    },
    {
     "name": "stdout",
     "output_type": "stream",
     "text": [
      "End LLM\n",
      "New Query:  {'cityList': ['ho chi minh'], 'institutionList': ['ho chi minh city university of industry and trade', 'ho chi minh city industry and trade college'], 'eduList': ['master', 'bachelor', 'undergraduate', 'diploma', 'phd', 'certificate']}\n",
      "Extended Num Application:  6\n",
      "Not enough application\n",
      "New Query:  {'cityList': ['ho chi minh'], 'institutionList': ['ho chi minh city university of industry and trade', 'ho chi minh city industry and trade college']}\n",
      "[178, 191]\n",
      "Less -> Sematic Search\n",
      "Using Sematic Search\n",
      "Num CV ok:  4\n",
      "Rerank\n",
      "[1240, 178, 1841, 191]\n",
      "Time: 9.361817121505737\n",
      "Extracting Job Description\n"
     ]
    },
    {
     "name": "stderr",
     "output_type": "stream",
     "text": [
      " 44%|████▎     | 17/39 [02:44<03:23,  9.26s/it]"
     ]
    },
    {
     "name": "stdout",
     "output_type": "stream",
     "text": [
      "End LLM\n",
      "New Query:  {'institutionList': ['ho chi minh city open university'], 'eduList': ['master', 'bachelor', 'undergraduate', 'diploma', 'phd', 'certificate']}\n",
      "Extended Num Application:  7\n",
      "Num CV ok:  6\n",
      "Rerank\n",
      "Reranking\n",
      "[548, 1240, 1669, 1604, 1193]\n",
      "Time: 9.234389543533325\n",
      "Extracting Job Description\n"
     ]
    },
    {
     "name": "stderr",
     "output_type": "stream",
     "text": [
      "/home/quanghung20gg/anaconda3/lib/python3.11/site-packages/langchain_core/vectorstores.py:330: UserWarning: Relevance scores must be between 0 and 1, got [(Document(page_content='Languages:\\n- English\\n- Vietnamese\\nMajors:\\n- bachelor, computer science and data science, ho chi minh city university of science, (GPA: 3.6)\\nWork:\\n- fundiininc. (paylater) (0.5 years)\\nRoles:\\n- data analyst (0.5 years)\\n- research engineer (0.5 years)\\nSkills:\\n- data analysis\\n- machine learning\\n- cloud computing\\n- natural language processing\\nProgramming languages:\\n- python (0.5 years)\\n- sql (0.5 years)\\n- c++ (0.5 years)\\nCities:\\n- ho chi minh\\nCertifications:\\n- SQL (Basic)\\n- Problem Solving (Intermediate)\\n- Mathematics for Machine Learning: Linear Algebra\\n- The Python Creative Programming Course\\nAwards:\\n- 2nd Place, Classification of plants of Southeast Asia - ISODS Competitive Online\\n', metadata={'id': 1428}), -288.328682225416), (Document(page_content='Languages:\\n- English\\nMajors:\\n- bachelor, electronic commerce, university of economics ho chi minh city, (GPA: 3.6)\\nRoles:\\n- data analyst (0.5 years)\\nSkills:\\n- data analysis\\n- data visualization\\n- research\\nProgramming languages:\\n- python (0.5 years)\\n- sql (0.5 years)\\nCities:\\n- ho chi minh\\n', metadata={'id': 135}), -289.596524166183), (Document(page_content='Languages:\\n- Vietnamese\\n- English\\nMajors:\\n- bachelor, business analytics, the university of texas at dallas, (GPA: 3.3)\\nWork:\\n- feng cha tea house (0.5 years)\\nRoles:\\n- data analyst (0.5 years)\\nSkills:\\n- data analysis\\n- marketing\\n- social media\\n- microsoft excel\\n- google sheets\\n- tableau\\n- figma\\nProgramming languages:\\n- r (0.5 years)\\n- sql (0.5 years)\\n- python (0.5 years)\\nCities:\\n- richardson\\nCertifications:\\n- Google Data Analytics Professional Certification\\nAwards:\\n- UTD Sales Program Rookie Preview – 3rd-Placed room finalist\\n- ASA DataFest 2022 at Southern Methodist University – Winners of the Competition\\n- Hack DFW PepsiCo-Sponsored Competition – Top Four Finalists\\n', metadata={'id': 1473}), -290.0263384016467), (Document(page_content='Languages:\\n- English\\nMajors:\\n- bachelor, management information system, ho chi minh city open university, (GPA: 3.6)\\nWork:\\n- amit group (0.5 years)\\n- bys joint stock company (1 years)\\nRoles:\\n- implementation consultant (1 years)\\n- business analyst (1 years)\\nSkills:\\n- sql\\n- html\\n- ui\\n- ux\\n- uml\\n- bpmn\\n- manual testing\\n- jira\\n- draw.io\\nProgramming languages:\\n- sql (1.5 years)\\n- html (1.5 years)\\nCities:\\n- ho chi minh\\nCertifications:\\n- Fundamental Business Analysis\\n', metadata={'id': 548}), -290.83452577480085), (Document(page_content='Languages:\\n- English\\nMajors:\\n- bachelor, e-commerce, university of economics and law, (GPA: 3.21)\\nWork:\\n- tma solutions (0.5 years)\\nRoles:\\n- business analyst (1 years)\\nSkills:\\n- requirements modeling\\n- wireframe design\\n- document writing\\n- project management\\n- data analysis\\n- user interface design\\n- api integration\\n- testing\\nProgramming languages:\\n- sql (1 years)\\n- python (1 years)\\nCities:\\n- ho chi minh\\nCertifications:\\n- Foundations of User Experience (UX) Design\\n- SQL\\n- Advanced Skills for Business Analyst and Product Owner\\n- TOEIC\\nAwards:\\n- Foundations of User Experience (UX) Design by Google\\n- SQL (Intermediate) by HackerRank\\n- Advanced Skills for Business Analyst and Product Owner by True Skill Center\\n- TOEIC: Listening & Reading 835, Speaking & Writing 320\\n', metadata={'id': 443}), -291.66191801287823), (Document(page_content='Languages:\\n- English\\nWork:\\n- onpoint e-commerce (0.5 years)\\n- techlist crypto (0.5 years)\\nRoles:\\n- data engineer (1.5 years)\\nSkills:\\n- data pipeline\\n- etl\\n- data crawling\\n- data quality\\n- process monitoring\\n- unit testing\\n- code flow flake8\\n- data analysis\\nProgramming languages:\\n- python (1.5 years)\\n- sql (1.5 years)\\n- scala (1.5 years)\\n- django (1.5 years)\\n- kafka (1.5 years)\\n- airflow (1.5 years)\\nCertifications:\\n- Hackerrank: SQL Intermediate Certificate\\nAwards:\\n- 1 Consecutive Semesters Excellent+\\n- Hackerrank: SQL Intermediate Certificate\\n', metadata={'id': 383}), -293.99370695455235), (Document(page_content='Languages:\\n- English\\nMajors:\\n- bachelor, information systems, university of information technology - vnuhcm, (GPA: 3.6)\\nWork:\\n- gic company (0.5 years)\\n- bravesoft viet nam corp (0.5 years)\\nRoles:\\n- front-end developer (0.5 years)\\n- web developer (1 years)\\n- machine learning engineer (1 years)\\n- data analyst (1 years)\\nSkills:\\n- data analysis\\n- machine learning\\n- data visualization\\n- database management\\n- web development\\n- api integration\\n- bug fixing\\n- risk management\\nProgramming languages:\\n- sql (1 years)\\n- python (1 years)\\n- r (1 years)\\n- java (1 years)\\n- javascript (1 years)\\n- c++ (1 years)\\n- html (1 years)\\n- css (1 years)\\nCities:\\n- ho chi minh\\nCertifications:\\n- Codecademy.com BIG DATA WITH PYSPARK\\n- Codecademy.com BI DASHBOARDS WITH POWER BI COURSE\\n- Codecademy.com DATA SCIENCE FOUNDATIONS SKILL PATH\\n', metadata={'id': 270}), -294.9137960259774)]\n",
      "  warnings.warn(\n",
      " 46%|████▌     | 18/39 [02:53<03:11,  9.10s/it]"
     ]
    },
    {
     "name": "stdout",
     "output_type": "stream",
     "text": [
      "End LLM\n",
      "New Query:  {'eduList': ['master', 'bachelor', 'undergraduate', 'diploma', 'phd', 'certificate'], 'roleList': ['ba'], 'role_exp': 0.5, 'suitableList': ['analyst', 'marketing analyst', 'financial market data analyst', 'research analyst', 'finance analyst', 'data scientist', 'data analyst', 'data analysis', 'business analyst', 'sales analyst']}\n",
      "Extended Num Application:  7\n",
      "Not enough application\n",
      "New Query:  {'roleList': ['developer', 'admin', 'ba'], 'role_exp': 0.45, 'suitableList': ['analyst', 'marketing analyst', 'financial market data analyst', 'research analyst', 'finance analyst', 'data scientist', 'data analyst', 'data analysis', 'business analyst', 'sales analyst', 'valuation analyst']}\n",
      "[]\n",
      "Less -> Sematic Search\n",
      "Using Sematic Search\n",
      "Num CV ok:  5\n",
      "Rerank\n",
      "[135, 1428, 1473, 443, 548]\n",
      "Time: 8.704793691635132\n",
      "Extracting Job Description\n"
     ]
    },
    {
     "name": "stderr",
     "output_type": "stream",
     "text": [
      " 49%|████▊     | 19/39 [03:01<02:58,  8.94s/it]"
     ]
    },
    {
     "name": "stdout",
     "output_type": "stream",
     "text": [
      "End LLM\n",
      "New Query:  {'eduList': ['master', 'bachelor', 'undergraduate', 'diploma', 'phd', 'certificate'], 'roleList': ['embedded developer', 'it developer', 'embedded systems engineer', 'developer']}\n",
      "Extended Num Application:  3\n",
      "Reduce CV  18  ->  3  CV\n",
      "New Query:  {'eduList': ['master', 'bachelor', 'undergraduate', 'diploma', 'phd', 'certificate'], 'roleList': ['embedded developer']}\n",
      "Risk:  True\n",
      "Not enough application\n",
      "Reduce Risk -> Get more CV\n",
      "New Query:  {'eduList': ['master', 'bachelor', 'undergraduate', 'diploma', 'phd', 'certificate'], 'roleList': ['embedded developer', 'embedded systems engineer', 'developer']}\n",
      "[850, 642, 587, 409, 345, 92, 23, 1953, 1493, 1500, 1669, 705, 2073, 279, 83, 1715, 1703]\n",
      "More -> Reduce CV\n",
      "Num CV ok:  3\n",
      "Rerank\n",
      "Reranking\n",
      "[642, 1953]\n",
      "Time: 8.56669569015503\n",
      "Extracting Job Description\n"
     ]
    },
    {
     "name": "stderr",
     "output_type": "stream",
     "text": [
      " 51%|█████▏    | 20/39 [03:12<03:00,  9.50s/it]"
     ]
    },
    {
     "name": "stdout",
     "output_type": "stream",
     "text": [
      "End LLM\n",
      "New Query:  {'eduList': ['master', 'bachelor', 'undergraduate', 'diploma', 'phd', 'certificate'], 'roleList': ['it support']}\n",
      "Extended Num Application:  3\n",
      "Num CV ok:  2\n",
      "Rerank\n",
      "[1530, 178]\n",
      "Time: 10.8257737159729\n",
      "Extracting Job Description\n"
     ]
    },
    {
     "name": "stderr",
     "output_type": "stream",
     "text": [
      " 54%|█████▍    | 21/39 [03:22<02:52,  9.59s/it]"
     ]
    },
    {
     "name": "stdout",
     "output_type": "stream",
     "text": [
      "End LLM\n",
      "New Query:  {'cityList': ['ha noi'], 'eduList': ['master', 'bachelor', 'undergraduate', 'diploma', 'phd', 'certificate'], 'roleList': ['developer', ' web developer', 'mobile app developer', 'android developer'], 'suitableList': ['software developer', 'flutter developer', 'developer', ' web developer', 'android developer', 'mobile app developer', 'java developer', 'unity developer', 'it developer']}\n",
      "Extended Num Application:  -1\n",
      "New Query:  {'cityList': ['ha noi'], 'suitableList': ['software developer', 'flutter developer', 'developer', ' web developer', 'android developer', 'game developer', 'mobile app developer', 'java developer', 'unity developer', 'embedded developer', 'it developer']}\n",
      "New Query:  {'cityList': ['ha noi'], 'eduList': ['master', 'bachelor', 'undergraduate', 'diploma', 'phd', 'certificate'], 'roleList': ['developer', ' web developer', 'mobile app developer', 'android developer'], 'suitableList': ['software developer', 'flutter developer', 'developer', ' web developer', 'android developer', 'mobile app developer', 'java developer', 'unity developer', 'it developer']}\n",
      "Rerank\n",
      "[1616, 1703, 1896, 2004, 2006, 222, 279, 287, 324, 358, 651, 666, 862]\n",
      "Time: 9.774437427520752\n",
      "Extracting Job Description\n",
      "End LLM\n",
      "New Query:  {'cityList': ['ha noi'], 'institutionList': ['hanoi university of science and technology', 'hanoi university of business and technology'], 'eduList': ['master', 'bachelor', 'undergraduate', 'diploma', 'phd', 'certificate']}\n",
      "Extended Num Application:  8\n",
      "Num CV ok:  7\n",
      "Rerank\n",
      "Reranking\n",
      "[345, 222, 2083, 19, 1104, 1410]\n"
     ]
    },
    {
     "name": "stderr",
     "output_type": "stream",
     "text": [
      " 56%|█████▋    | 22/39 [03:31<02:39,  9.40s/it]"
     ]
    },
    {
     "name": "stdout",
     "output_type": "stream",
     "text": [
      "Time: 8.964489459991455\n",
      "Extracting Job Description\n",
      "End LLM\n",
      "New Query:  {'cityList': ['ho chi minh'], 'eduList': ['master', 'bachelor', 'undergraduate', 'diploma', 'phd', 'certificate'], 'roleList': ['back-end developer', 'front end developer', 'full stack developer', 'developer'], 'role_exp': 0.0}\n",
      "Extended Num Application:  7\n",
      "Reduce CV  20  ->  7  CV\n",
      "New Query:  {'cityList': ['ho chi minh'], 'eduList': ['master', 'bachelor', 'undergraduate', 'diploma', 'phd', 'certificate'], 'roleList': ['back-end developer', 'front end developer', 'full stack developer', 'developer'], 'role_exp': 0.0}\n",
      "Still more -> Reduce CV\n",
      "Risk:  True\n",
      "Num CV ok:  7\n",
      "Rerank\n",
      "Reranking\n"
     ]
    },
    {
     "name": "stderr",
     "output_type": "stream",
     "text": [
      " 59%|█████▉    | 23/39 [03:41<02:31,  9.48s/it]"
     ]
    },
    {
     "name": "stdout",
     "output_type": "stream",
     "text": [
      "[751, 1021, 595, 439, 37]\n",
      "Time: 9.661569595336914\n",
      "Extracting Job Description\n",
      "End LLM\n",
      "New Query:  {'eduList': ['phd', 'master'], 'roleList': ['developer', 'front end developer', 'full stack developer', 'back-end developer'], 'role_exp': 5.0, 'skillList': ['technical support', 'employee relations', 'administrative support', 'employer br', 'role', 'system implementation']}\n",
      "Extended Num Application:  -1\n",
      "New Query:  {'roleList': ['back-end developer', 'full stack developer', 'developer', 'front end developer', 'game developer', 'it developer'], 'role_exp': 4.25, 'skillList': ['technical support', 'employee relations', 'administrative support', 'network administration', 'employer br', 'role', 'flexibility', 'organization', 'system implementation']}\n",
      "Rerank\n",
      "[1000, 1021, 104, 1041, 1066, 1092, 1104, 1127, 1139, 1165, 1193, 1214, 124, 1240, 1253, 1274, 1291, 1308, 1313, 1322, 1348, 135, 1371, 138, 1388, 1396, 1410, 1428, 1438, 1456, 1462, 1473, 1488, 1493, 1500, 1513, 1530, 1553, 1560, 1579, 158, 1593, 1604, 1616, 1629, 1648, 1669, 1690, 1703, 1715, 1722, 1733, 1749, 1761, 1774, 178, 1783, 1802, 1817, 1841, 1847, 1857, 1868, 1875, 1891, 1896, 19, 1901, 191, 1917, 1924, 1941, 1953, 1958, 1974, 1980, 1993, 200, 2004, 2006, 2013, 2023, 2027, 2036, 2051, 2073, 2083, 2093, 2103, 2109, 211, 2123, 2141, 2145, 222, 227, 23, 241, 250, 262, 270, 279, 280, 287, 296, 305, 310, 324, 335, 345, 358, 363, 37, 373, 383, 395, 406, 409, 42, 424, 439, 443, 456, 463, 468, 481, 495, 50, 502, 522, 533, 548, 550, 555, 557, 561, 573, 587, 595, 60, 602, 606, 618, 638, 64, 642, 648, 651, 658, 666, 669, 692, 70, 705, 708, 719, 732, 738, 751, 756, 764, 776, 786, 8, 808, 818, 83, 835, 841, 850, 860, 862, 92, 972]\n"
     ]
    },
    {
     "name": "stderr",
     "output_type": "stream",
     "text": [
      " 62%|██████▏   | 24/39 [03:51<02:25,  9.67s/it]"
     ]
    },
    {
     "name": "stdout",
     "output_type": "stream",
     "text": [
      "Time: 10.132424354553223\n",
      "Extracting Job Description\n"
     ]
    },
    {
     "name": "stderr",
     "output_type": "stream",
     "text": [
      "/home/quanghung20gg/anaconda3/lib/python3.11/site-packages/langchain_core/vectorstores.py:330: UserWarning: Relevance scores must be between 0 and 1, got [(Document(page_content='Languages:\\n- English\\nMajors:\\n- undergraduate, software development, ispace cyber security college, (GPA: 3.6)\\nRoles:\\n- backend developer (0 years)\\nSkills:\\n- role\\n- based access control\\n- authentication\\n- docker\\n- clean architecture\\n- api development\\n- database management\\n- middleware\\n- jwt\\nProgramming languages:\\n- c# (0 years)\\n- javascript (0 years)\\n- asp .net core (0 years)\\n- react (0 years)\\n- node (0 years)\\n- express (0 years)\\n- mysql (0 years)\\n- mongodb (0 years)\\nCertifications:\\n- AWS Academy Cloud Foundations\\nAwards:\\n- AWS Academy Cloud Foundations\\n', metadata={'id': 50}), -312.8460475299614), (Document(page_content='Languages:\\n- English\\nWork:\\n- dong tien service corporation (5 years)\\n- phu nhuan jewelry (1 years)\\n- fe credit (2 years)\\n- fe credit (2.5 years)\\n- sieuviet (1.5 years)\\n- sieu viet (1.5 years)\\nRoles:\\n- back end developer (5 years)\\n- java developer (1 years)\\n- technical team leader (1 years)\\n- solution architect (4.5 years)\\n- dataops engineer (1.5 years)\\n- devops engineer (5.5 years)\\nSkills:\\n- devops\\n- cloud architecture\\n- ci\\n- cd\\n- infrastructure as code\\n- security\\n- monitoring\\n- automation\\n- containerization\\nProgramming languages:\\n- java (5.5 years)\\n- python (5.5 years)\\n- groovy (5.5 years)\\n- typescript (5.5 years)\\n- sql (5.5 years)\\n- spring boot (5.5 years)\\n- linux bashshell (5.5 years)\\n', metadata={'id': 502}), -313.936109055386), (Document(page_content='Languages:\\n- English\\nWork:\\n- onpoint e-commerce (0.5 years)\\n- techlist crypto (0.5 years)\\nRoles:\\n- data engineer (1.5 years)\\nSkills:\\n- data pipeline\\n- etl\\n- data crawling\\n- data quality\\n- process monitoring\\n- unit testing\\n- code flow flake8\\n- data analysis\\nProgramming languages:\\n- python (1.5 years)\\n- sql (1.5 years)\\n- scala (1.5 years)\\n- django (1.5 years)\\n- kafka (1.5 years)\\n- airflow (1.5 years)\\nCertifications:\\n- Hackerrank: SQL Intermediate Certificate\\nAwards:\\n- 1 Consecutive Semesters Excellent+\\n- Hackerrank: SQL Intermediate Certificate\\n', metadata={'id': 383}), -319.7702975026854), (Document(page_content='Languages:\\n- English\\nMajors:\\n- undergraduate, software development, ispace cyber security college, (GPA: 3.6)\\nRoles:\\n- developer (0.5 years)\\nSkills:\\n- docker\\n- reactjs\\n- api development\\n- database design\\n- clean architecture\\nProgramming languages:\\n- c# (0.5 years)\\n- node (0.5 years)\\n- react (0.5 years)\\n- sql (0.5 years)\\n- mongodb (0.5 years)\\n- mysql (0.5 years)\\n- express (0.5 years)\\nCertifications:\\n- AWS Academy Graduate - AWS Academy Cloud Foundations - Amazon Web Services (AWS)\\nAwards:\\n- AWS Academy Graduate - AWS Academy Cloud Foundations - Amazon Web Services (AWS)\\n', metadata={'id': 705}), -320.73346358575253)]\n",
      "  warnings.warn(\n",
      " 64%|██████▍   | 25/39 [04:00<02:12,  9.50s/it]"
     ]
    },
    {
     "name": "stdout",
     "output_type": "stream",
     "text": [
      "End LLM\n",
      "New Query:  {'eduList': ['master', 'bachelor', 'undergraduate', 'diploma', 'phd', 'certificate'], 'roleList': ['dataops engineer', 'devops', 'developer'], 'role_exp': 1.0}\n",
      "Extended Num Application:  4\n",
      "Reduce CV  11  ->  4  CV\n",
      "New Query:  {'eduList': ['master', 'bachelor', 'undergraduate', 'diploma', 'phd', 'certificate'], 'roleList': ['devops'], 'role_exp': 1.0}\n",
      "Risk:  True\n",
      "Not enough application\n",
      "Reduce Risk -> Get more CV\n",
      "New Query:  {'eduList': ['master', 'bachelor', 'undergraduate', 'diploma', 'phd', 'certificate'], 'roleList': ['dataops engineer', 'devops'], 'role_exp': 1.0}\n",
      "[573, 502]\n",
      "Less -> Sematic Search\n",
      "Using Sematic Search\n",
      "Num CV ok:  3\n",
      "Rerank\n",
      "[50, 502, 573]\n",
      "Time: 9.07765245437622\n",
      "Extracting Job Description\n"
     ]
    },
    {
     "name": "stderr",
     "output_type": "stream",
     "text": [
      " 67%|██████▋   | 26/39 [04:10<02:04,  9.59s/it]"
     ]
    },
    {
     "name": "stdout",
     "output_type": "stream",
     "text": [
      "End LLM\n",
      "New Query:  {'eduList': ['master', 'bachelor', 'undergraduate', 'diploma', 'phd', 'certificate'], 'roleList': ['php developer', 'back-end developer', 'full stack developer', ' web developer', 'front end developer', 'java developer'], 'role_exp': 2.0, 'suitableList': ['php developer', 'back-end developer', 'full stack developer', 'it developer', 'developer', ' web developer', 'front end developer', 'net developer', 'java developer', 'android developer']}\n",
      "Extended Num Application:  4\n",
      "Reduce CV  7  ->  4  CV\n",
      "New Query:  {'eduList': ['master', 'bachelor', 'undergraduate', 'diploma', 'phd', 'certificate'], 'roleList': ['php developer', 'back-end developer', 'full stack developer', ' web developer', 'front end developer', 'java developer'], 'role_exp': 2.0, 'suitableList': ['php developer', 'back-end developer', 'full stack developer', 'developer', ' web developer', 'front end developer', 'net developer', 'java developer']}\n",
      "Still more -> Reduce CV\n",
      "Risk:  True\n",
      "Num CV ok:  4\n",
      "Rerank\n",
      "Reranking\n",
      "[191, 2023, 1579]\n",
      "Time: 9.825082302093506\n",
      "Extracting Job Description\n",
      "End LLM\n",
      "New Query:  {'cityList': ['ha noi'], 'eduList': ['master', 'bachelor', 'undergraduate', 'diploma', 'phd', 'certificate'], 'roleList': ['production planner', 'content creator', 'content writer', 'marketing communications', 'training ', 'brand marketing', 'marketing', 'content marketing', 'financial planner', 'strategic planning'], 'role_exp': 1.0, 'suitableList': ['production planner', 'content creator', 'content writer', 'marketing executive', 'marketing communications', 'solution architect', 'project management', 'training ', 'brand marketing', 'social media marketing', 'marketing', 'content marketing', 'financial planner', 'strategic planning', 'content marketing manager']}\n",
      "Extended Num Application:  6\n",
      "Reduce CV  7  ->  6  CV\n"
     ]
    },
    {
     "name": "stderr",
     "output_type": "stream",
     "text": [
      " 69%|██████▉   | 27/39 [04:21<02:00, 10.04s/it]"
     ]
    },
    {
     "name": "stdout",
     "output_type": "stream",
     "text": [
      "New Query:  {'cityList': ['ha noi'], 'eduList': ['master', 'bachelor', 'undergraduate', 'diploma', 'phd', 'certificate'], 'roleList': ['production planner', 'content creator', 'brand marketing', 'marketing', 'strategic planning'], 'role_exp': 1.0, 'suitableList': ['production planner', 'content creator', 'content writer', 'marketing executive', 'marketing communications', 'training ', 'brand marketing', 'marketing', 'content marketing', 'financial planner', 'strategic planning']}\n",
      "Risk:  True\n",
      "Num CV ok:  4\n",
      "Rerank\n",
      "[1371, 1802, 2109, 424]\n",
      "Time: 11.07665729522705\n",
      "Extracting Job Description\n"
     ]
    },
    {
     "name": "stderr",
     "output_type": "stream",
     "text": [
      "/home/quanghung20gg/anaconda3/lib/python3.11/site-packages/langchain_core/vectorstores.py:330: UserWarning: Relevance scores must be between 0 and 1, got [(Document(page_content='Languages:\\n- English\\n- Vietnamese\\nMajors:\\n- undergraduate, computer networking and communication, ho chi minh city university of technology, (GPA: 3.6)\\nWork:\\n- hung phat usa (0.5 years)\\n- private supermarket (0.5 years)\\n- mwg (0.5 years)\\n- etomil milk (0.5 years)\\n- ho chi minh city university of technology (6.5 years)\\nRoles:\\n- it support (0.5 years)\\n- inventory management staff (0.5 years)\\n- security camera supervisor (0.5 years)\\n- marketing staff (0.5 years)\\n- programmer (0.5 years)\\nSkills:\\n- system configuration\\n- management\\n- network administration\\n- project management\\n- web development\\n- mobile development\\n- game development\\n- security\\n- iot\\nProgramming languages:\\n- html (0.5 years)\\n- css (0.5 years)\\n- unity (0.5 years)\\n- wordpress (0.5 years)\\n- sql (0.5 years)\\nCities:\\n- thu duc\\n', metadata={'id': 1530}), -191.6442163511708), (Document(page_content='Languages:\\n- English\\nMajors:\\n- undergraduate, information technology, ho chi minh city open university, (GPA: 3.6)\\nWork:\\n- m q -h o use (1.5 years)\\n- healthy heart project (0.5 years)\\nRoles:\\n- mobile app developer (0.5 years)\\n- web developer (0 years)\\n- software developer (0 years)\\nSkills:\\n- web development\\n- mobile app development\\n- customer service\\n- marketing\\n- database design\\n- api development\\nProgramming languages:\\n- java (0 years)\\n- javascript (0 years)\\n- python (0 years)\\n- spring mvc (0 years)\\n- react (0 years)\\n- react native (0 years)\\n- mysql (0 years)\\n- html (0 years)\\n- css (0 years)\\nCities:\\n- ho chi minh\\n', metadata={'id': 1240}), -197.14647730902436), (Document(page_content='Languages:\\n- English\\nMajors:\\n- bachelor, information technology, đại học công thương, (GPA: 3.6)\\nRoles:\\n- php developer (0 years)\\nSkills:\\n- html\\n- css\\n- bootstrap\\n- javascript\\n- jquery\\n- sql\\n- git\\n- postman\\nProgramming languages:\\n- php (0 years)\\n- html (0 years)\\n- css (0 years)\\n- javascript (0 years)\\n- jquery (0 years)\\n- sql (0 years)\\nCities:\\n- ho chi minh\\n', metadata={'id': 1553}), -203.6012867146055), (Document(page_content='Languages:\\n- English\\nMajors:\\n- undergraduate, information technology, ho chi minh city industry and trade college, (GPA: 3.6)\\nRoles:\\n- web developer (1.5 years)\\n- php programmer (1.5 years)\\nSkills:\\n- web application development\\n- database design\\n- debugging\\n- testing\\n- security vulnerability mitigation\\n- version control\\n- requirement analysis\\n- logical solution design\\n- collaboration with ui\\n- ux designers\\nProgramming languages:\\n- php (1.5 years)\\n- javascript (1.5 years)\\n- mysql (1.5 years)\\n- html (1.5 years)\\n- css (1.5 years)\\n- jquery (1.5 years)\\n- bootstrap (1.5 years)\\n- asp.net (1.5 years)\\nCities:\\n- ho chi minh\\n', metadata={'id': 191}), -206.62036595152767)]\n",
      "  warnings.warn(\n",
      " 72%|███████▏  | 28/39 [04:32<01:55, 10.47s/it]"
     ]
    },
    {
     "name": "stdout",
     "output_type": "stream",
     "text": [
      "End LLM\n",
      "New Query:  {'cityList': ['ho chi minh'], 'eduList': ['master', 'bachelor', 'undergraduate', 'diploma', 'phd', 'certificate'], 'roleList': ['production planner', 'content creator', 'content writer', 'marketing communications', 'training ', 'brand marketing', 'marketing', 'content marketing', 'financial planner', 'strategic planning'], 'role_exp': 1.0, 'suitableList': ['production planner', 'content creator', 'content writer', 'marketing executive', 'marketing communications', 'solution architect', 'project management', 'training ', 'brand marketing', 'social media marketing', 'marketing', 'content marketing', 'financial planner', 'strategic planning', 'content marketing manager']}\n",
      "Extended Num Application:  4\n",
      "Not enough application\n",
      "New Query:  {'cityList': ['ho chi minh'], 'roleList': ['production planner', 'content creator', 'content writer', 'marketing executive', 'marketing communications', 'project management', 'training ', 'brand marketing', 'marketing', 'content marketing', 'financial planner', 'strategic planning', 'content marketing manager'], 'role_exp': 0.9, 'suitableList': ['production planner', 'marketing executive', ' web developer', 'solution architect', 'training ', 'marketing', 'strategic planning', 'back-end developer', 'content creator', 'developer', 'performance marketing', 'project management', 'social media marketing', 'content marketing manager', 'content writer', 'marketing communications', 'digital marketing ', 'operations', 'financial planner', 'editor', 'management', 'brand marketing', 'content marketing']}\n",
      "[841, 1629]\n",
      "Less -> Sematic Search\n",
      "Using Sematic Search\n",
      "Num CV ok:  3\n",
      "Rerank\n",
      "[1530, 1629, 841]\n",
      "Time: 11.482783555984497\n",
      "Extracting Job Description\n"
     ]
    },
    {
     "name": "stderr",
     "output_type": "stream",
     "text": [
      " 74%|███████▍  | 29/39 [04:41<01:38,  9.81s/it]"
     ]
    },
    {
     "name": "stdout",
     "output_type": "stream",
     "text": [
      "End LLM\n",
      "New Query:  {'institutionList': ['national economics university (neu)'], 'eduList': ['master', 'bachelor', 'undergraduate', 'diploma', 'phd', 'certificate']}\n",
      "Extended Num Application:  30\n",
      "Not enough application\n",
      "New Query:  {'institutionList': ['national economics university (neu)', 'university of economics']}\n",
      "[1214, 1274, 1690, 424, 463, 8, 1941, 2013, 495, 324, 227, 1783, 310, 561, 732, 406, 606, 280, 738, 124, 1761, 1993, 2109, 1722, 1291]\n",
      "Num CV ok:  25\n",
      "Rerank\n",
      "[1214, 124, 1274, 1291, 1690, 1722, 1761, 1783, 1941, 1993, 2013, 2109, 227, 280, 310, 324, 406, 424, 463, 495, 561, 606, 732, 738, 8]\n",
      "Time: 8.256222248077393\n",
      "Extracting Job Description\n"
     ]
    },
    {
     "name": "stderr",
     "output_type": "stream",
     "text": [
      " 77%|███████▋  | 30/39 [04:50<01:26,  9.60s/it]"
     ]
    },
    {
     "name": "stdout",
     "output_type": "stream",
     "text": [
      "End LLM\n",
      "New Query:  {'institutionList': ['university of economics and law', 'university of economics'], 'eduList': ['master', 'bachelor', 'undergraduate', 'diploma', 'phd', 'certificate']}\n",
      "Extended Num Application:  4\n",
      "Num CV ok:  4\n",
      "Rerank\n",
      "Reranking\n",
      "[692, 443, 1901]\n",
      "Time: 9.116118907928467\n",
      "Extracting Job Description\n"
     ]
    },
    {
     "name": "stderr",
     "output_type": "stream",
     "text": [
      " 79%|███████▉  | 31/39 [04:59<01:15,  9.46s/it]"
     ]
    },
    {
     "name": "stdout",
     "output_type": "stream",
     "text": [
      "End LLM\n",
      "New Query:  {'institutionList': ['hcmc open university', 'ho chi minh city open university'], 'eduList': ['master', 'bachelor', 'undergraduate', 'diploma', 'phd', 'certificate']}\n",
      "Extended Num Application:  11\n",
      "Not enough application\n",
      "New Query:  {'institutionList': ['hcmc open university', 'ho chi minh city open university', 'international university - ho chi minh city national university']}\n",
      "[456, 618, 533, 548, 1669, 1604, 1240, 1193]\n",
      "Num CV ok:  8\n",
      "Rerank\n",
      "[1193, 1240, 1604, 1669, 456, 533, 548, 618]\n",
      "Time: 9.138103008270264\n",
      "Extracting Job Description\n"
     ]
    },
    {
     "name": "stderr",
     "output_type": "stream",
     "text": [
      " 82%|████████▏ | 32/39 [05:09<01:08,  9.78s/it]"
     ]
    },
    {
     "name": "stdout",
     "output_type": "stream",
     "text": [
      "End LLM\n",
      "New Query:  {'institutionList': ['ho chi minh city university of technology', 'ho chi minh city university of technology and education'], 'eduList': ['master', 'bachelor', 'undergraduate', 'diploma', 'phd', 'certificate']}\n",
      "Extended Num Application:  4\n",
      "Reduce CV  6  ->  4  CV\n",
      "New Query:  {'institutionList': ['ho chi minh city university of technology', 'ho chi minh city university of technology and education'], 'eduList': ['master', 'bachelor', 'undergraduate', 'diploma', 'phd', 'certificate']}\n",
      "Still more -> Reduce CV\n",
      "Risk:  True\n",
      "Num CV ok:  4\n",
      "Rerank\n",
      "Reranking\n",
      "[2027, 2103, 262]\n",
      "Time: 10.521638870239258\n",
      "Extracting Job Description\n"
     ]
    },
    {
     "name": "stderr",
     "output_type": "stream",
     "text": [
      " 85%|████████▍ | 33/39 [05:19<00:58,  9.69s/it]"
     ]
    },
    {
     "name": "stdout",
     "output_type": "stream",
     "text": [
      "End LLM\n",
      "New Query:  {'institutionList': ['university of economics and law', 'university of economics'], 'eduList': ['master', 'bachelor', 'undergraduate', 'diploma', 'phd', 'certificate']}\n",
      "Extended Num Application:  3\n",
      "Reduce CV  4  ->  3  CV\n",
      "New Query:  {'institutionList': ['university of economics and law'], 'eduList': ['master', 'bachelor', 'undergraduate', 'diploma', 'phd', 'certificate']}\n",
      "Risk:  True\n",
      "Num CV ok:  3\n",
      "Rerank\n",
      "Reranking\n",
      "[443, 1901]\n",
      "Time: 9.481304168701172\n",
      "Extracting Job Description\n"
     ]
    },
    {
     "name": "stderr",
     "output_type": "stream",
     "text": [
      "/home/quanghung20gg/anaconda3/lib/python3.11/site-packages/langchain_core/vectorstores.py:330: UserWarning: Relevance scores must be between 0 and 1, got [(Document(page_content='Languages:\\n- English\\nMajors:\\n- bachelor, information security, ho chi minh city university of technology and food industry, (GPA: 2.9)\\nWork:\\n- công ty c ổ  ph ầ n công ngh ệ tam khoadeveloper .net (1 years)\\nRoles:\\n- tester (0 years)\\n- researcher (0.5 years)\\n- software developer (1 years)\\nSkills:\\n- software development\\n- machine learning\\n- sql\\n- technical support\\nProgramming languages:\\n- .net (1 years)\\n- python (0.5 years)\\n- c# (1 years)\\n- sql (1 years)\\nCities:\\n- ho chi minh\\n', metadata={'id': 1841}), -222.68203494644047), (Document(page_content='Languages:\\n- English\\nMajors:\\n- bachelor, information technology, vnu-hcm university of science, (GPA: 3.6)\\nRoles:\\n- software engineer (0.5 years)\\n- web developer (0.5 years)\\nSkills:\\n- cloud storage\\n- devops\\n- machine learning\\n- database management\\n- artificial intelligence\\nProgramming languages:\\n- node (0.5 years)\\n- python (0.5 years)\\n- go (0.5 years)\\n- java (0.5 years)\\n- c++ (0.5 years)\\n- html (0.5 years)\\n- css (0.5 years)\\n- javascript (0.5 years)\\nCities:\\n- ho chi minh\\n', metadata={'id': 1488}), -224.14244954697642), (Document(page_content='Languages:\\n- English\\n- Vietnamese\\nMajors:\\n- undergraduate, computer networking and communication, ho chi minh city university of technology, (GPA: 3.6)\\nWork:\\n- hung phat usa (0.5 years)\\n- private supermarket (0.5 years)\\n- mwg (0.5 years)\\n- etomil milk (0.5 years)\\n- ho chi minh city university of technology (6.5 years)\\nRoles:\\n- it support (0.5 years)\\n- inventory management staff (0.5 years)\\n- security camera supervisor (0.5 years)\\n- marketing staff (0.5 years)\\n- programmer (0.5 years)\\nSkills:\\n- system configuration\\n- management\\n- network administration\\n- project management\\n- web development\\n- mobile development\\n- game development\\n- security\\n- iot\\nProgramming languages:\\n- html (0.5 years)\\n- css (0.5 years)\\n- unity (0.5 years)\\n- wordpress (0.5 years)\\n- sql (0.5 years)\\nCities:\\n- thu duc\\n', metadata={'id': 1530}), -227.86742713064467), (Document(page_content='Languages:\\n- English\\nMajors:\\n- undergraduate, information technology, ho chi minh city open university, (GPA: 3.6)\\nWork:\\n- m q -h o use (1.5 years)\\n- healthy heart project (0.5 years)\\nRoles:\\n- mobile app developer (0.5 years)\\n- web developer (0 years)\\n- software developer (0 years)\\nSkills:\\n- web development\\n- mobile app development\\n- customer service\\n- marketing\\n- database design\\n- api development\\nProgramming languages:\\n- java (0 years)\\n- javascript (0 years)\\n- python (0 years)\\n- spring mvc (0 years)\\n- react (0 years)\\n- react native (0 years)\\n- mysql (0 years)\\n- html (0 years)\\n- css (0 years)\\nCities:\\n- ho chi minh\\n', metadata={'id': 1240}), -229.82068877022846)]\n",
      "  warnings.warn(\n",
      " 87%|████████▋ | 34/39 [05:28<00:48,  9.65s/it]"
     ]
    },
    {
     "name": "stdout",
     "output_type": "stream",
     "text": [
      "End LLM\n",
      "New Query:  {'institutionList': ['university of foreign languages - information technology', 'ho chi minh city university of foreign languages and information technology'], 'eduList': ['master', 'bachelor', 'undergraduate', 'diploma', 'phd', 'certificate']}\n",
      "Extended Num Application:  4\n",
      "Not enough application\n",
      "New Query:  {'institutionList': ['university of foreign languages - information technology', 'ho chi minh city university of foreign languages and information technology']}\n",
      "[409, 555]\n",
      "Less -> Sematic Search\n",
      "Using Sematic Search\n",
      "Num CV ok:  3\n",
      "Rerank\n",
      "[1841, 409, 555]\n",
      "Time: 9.567428588867188\n",
      "Extracting Job Description\n"
     ]
    },
    {
     "name": "stderr",
     "output_type": "stream",
     "text": [
      " 90%|████████▉ | 35/39 [05:37<00:37,  9.42s/it]"
     ]
    },
    {
     "name": "stdout",
     "output_type": "stream",
     "text": [
      "End LLM\n",
      "New Query:  {'eduList': ['master', 'bachelor', 'undergraduate', 'diploma', 'phd', 'certificate'], 'roleList': ['finance analyst', 'business analyst', 'sales analyst', 'analyst']}\n",
      "Extended Num Application:  6\n",
      "Num CV ok:  6\n",
      "Rerank\n",
      "Reranking\n",
      "[548, 443, 1193, 138]\n",
      "Time: 8.858824253082275\n",
      "Extracting Job Description\n"
     ]
    },
    {
     "name": "stderr",
     "output_type": "stream",
     "text": [
      " 92%|█████████▏| 36/39 [05:46<00:27,  9.08s/it]"
     ]
    },
    {
     "name": "stdout",
     "output_type": "stream",
     "text": [
      "End LLM\n",
      "New Query:  {'eduList': ['master', 'bachelor', 'undergraduate', 'diploma', 'phd', 'certificate'], 'roleList': ['investment consultant', 'consultant', 'financial consultant', 'legal consultant']}\n",
      "Extended Num Application:  6\n",
      "Not enough application\n",
      "New Query:  {'roleList': ['implementation consultant', 'financial consultant', 'legal consultant', 'consultant', 'investment consultant']}\n",
      "[669, 548, 1193, 456, 1783]\n",
      "Num CV ok:  5\n",
      "Rerank\n",
      "Reranking\n",
      "[1193, 1783, 456, 548, 669]\n",
      "Time: 8.286395072937012\n",
      "Extracting Job Description\n"
     ]
    },
    {
     "name": "stderr",
     "output_type": "stream",
     "text": [
      " 95%|█████████▍| 37/39 [05:55<00:18,  9.17s/it]"
     ]
    },
    {
     "name": "stdout",
     "output_type": "stream",
     "text": [
      "End LLM\n",
      "New Query:  {'institutionList': ['ho chi minh city university of technology and food industry', 'ho chi minh city university of industry and trade'], 'eduList': ['master', 'bachelor', 'undergraduate', 'diploma', 'phd', 'certificate']}\n",
      "Extended Num Application:  3\n",
      "Num CV ok:  3\n",
      "Rerank\n",
      "Reranking\n",
      "[1841, 1066]\n",
      "Time: 9.401374578475952\n",
      "Extracting Job Description\n"
     ]
    },
    {
     "name": "stderr",
     "output_type": "stream",
     "text": [
      "/home/quanghung20gg/anaconda3/lib/python3.11/site-packages/langchain_core/vectorstores.py:330: UserWarning: Relevance scores must be between 0 and 1, got [(Document(page_content='Languages:\\n- English\\nMajors:\\n- bachelor, information security, ho chi minh city university of technology and food industry, (GPA: 2.9)\\nWork:\\n- công ty c ổ  ph ầ n công ngh ệ tam khoadeveloper .net (1 years)\\nRoles:\\n- tester (0 years)\\n- researcher (0.5 years)\\n- software developer (1 years)\\nSkills:\\n- software development\\n- machine learning\\n- sql\\n- technical support\\nProgramming languages:\\n- .net (1 years)\\n- python (0.5 years)\\n- c# (1 years)\\n- sql (1 years)\\nCities:\\n- ho chi minh\\n', metadata={'id': 1841}), -216.83886600124606), (Document(page_content='Languages:\\n- English\\nMajors:\\n- bachelor, information technology, vnu-hcm university of science, (GPA: 3.6)\\nRoles:\\n- software engineer (0.5 years)\\n- web developer (0.5 years)\\nSkills:\\n- cloud storage\\n- devops\\n- machine learning\\n- database management\\n- artificial intelligence\\nProgramming languages:\\n- node (0.5 years)\\n- python (0.5 years)\\n- go (0.5 years)\\n- java (0.5 years)\\n- c++ (0.5 years)\\n- html (0.5 years)\\n- css (0.5 years)\\n- javascript (0.5 years)\\nCities:\\n- ho chi minh\\n', metadata={'id': 1488}), -220.037095643973), (Document(page_content='Languages:\\n- English\\nMajors:\\n- bachelor, computer science, national economics university hanoi, (GPA: 3.43)\\nWork:\\n- lts group (0.5 years)\\n- viettel telecom (0.5 years)\\nRoles:\\n- software developer (0.5 years)\\nSkills:\\n- web development\\n- api development\\n- content management system\\n- user interface design\\n- artificial intelligence\\n- database management\\n- testing\\n- deployment\\n- english teaching\\nProgramming languages:\\n- java (0.5 years)\\n- javascript (0.5 years)\\n- typescript (0.5 years)\\n- php (0.5 years)\\n- spring boot (0.5 years)\\n- react (0.5 years)\\n- node (0.5 years)\\n- graphql (0.5 years)\\nCities:\\n- ha noi\\n', metadata={'id': 1593}), -222.80231733164354), (Document(page_content='Languages:\\n- English\\nMajors:\\n- undergraduate, information technology, ho chi minh city open university, (GPA: 3.6)\\nWork:\\n- m q -h o use (1.5 years)\\n- healthy heart project (0.5 years)\\nRoles:\\n- mobile app developer (0.5 years)\\n- web developer (0 years)\\n- software developer (0 years)\\nSkills:\\n- web development\\n- mobile app development\\n- customer service\\n- marketing\\n- database design\\n- api development\\nProgramming languages:\\n- java (0 years)\\n- javascript (0 years)\\n- python (0 years)\\n- spring mvc (0 years)\\n- react (0 years)\\n- react native (0 years)\\n- mysql (0 years)\\n- html (0 years)\\n- css (0 years)\\nCities:\\n- ho chi minh\\n', metadata={'id': 1240}), -224.37785689182397), (Document(page_content='Languages:\\n- English\\n- Vietnamese\\nMajors:\\n- undergraduate, computer networking and communication, ho chi minh city university of technology, (GPA: 3.6)\\nWork:\\n- hung phat usa (0.5 years)\\n- private supermarket (0.5 years)\\n- mwg (0.5 years)\\n- etomil milk (0.5 years)\\n- ho chi minh city university of technology (6.5 years)\\nRoles:\\n- it support (0.5 years)\\n- inventory management staff (0.5 years)\\n- security camera supervisor (0.5 years)\\n- marketing staff (0.5 years)\\n- programmer (0.5 years)\\nSkills:\\n- system configuration\\n- management\\n- network administration\\n- project management\\n- web development\\n- mobile development\\n- game development\\n- security\\n- iot\\nProgramming languages:\\n- html (0.5 years)\\n- css (0.5 years)\\n- unity (0.5 years)\\n- wordpress (0.5 years)\\n- sql (0.5 years)\\nCities:\\n- thu duc\\n', metadata={'id': 1530}), -226.34971979011695), (Document(page_content='Languages:\\n- English\\nMajors:\\n- undergraduate, software technology, saigon university, (GPA: 3.6)\\nRoles:\\n- team lead (1.5 years)\\n- developer (0.5 years)\\nSkills:\\n- html\\n- css\\n- javascript\\n- react.js\\n- redux\\n- restful api\\n- git\\n- figma\\nProgramming languages:\\n- java (1 years)\\n- spring boot (1 years)\\n- mysql (1 years)\\n- node (0.5 years)\\n- mongodb (0.5 years)\\n- php (1 years)\\n- react (1.5 years)\\nCities:\\n- ho chi minh\\n', metadata={'id': 1715}), -226.49052398162215), (Document(page_content='Languages:\\n- English\\nMajors:\\n- bachelor, information technology, saigon college, (GPA: 3.6)\\nRoles:\\n- back-end developer (0.5 years)\\n- front-end developer (0.5 years)\\nSkills:\\n- git\\n- chat gpt\\nProgramming languages:\\n- html (0.5 years)\\n- css (0.5 years)\\n- javascript (0.5 years)\\n- bootstrap (0.5 years)\\n- react (0.5 years)\\n- asp.net core mvc (0.5 years)\\n- asp.net web api (0.5 years)\\n- sql (0.5 years)\\nCities:\\n- ho chi minh\\n', metadata={'id': 439}), -228.3008459461867), (Document(page_content='Languages:\\n- English\\nMajors:\\n- bachelor, information technology, đại học công th ươ ng, (GPA: 3.6)\\nRoles:\\n- php developer (0 years)\\n- web developer (0 years)\\nSkills:\\n- html\\n- css\\n- javascript\\n- php\\n- sql\\n- git\\n- mongodb\\n- mysql\\nProgramming languages:\\n- php (0 years)\\n- html (0 years)\\n- css (0 years)\\n- javascript (0 years)\\n- jquery (0 years)\\n- sql (0 years)\\nCities:\\n- ho chi minh\\n', metadata={'id': 860}), -228.58617403464916), (Document(page_content='Languages:\\n- English\\nMajors:\\n- undergraduate, information technology, ho chi minh city university of technology, (GPA: 3.6)\\nRoles:\\n- mobile developer (0.5 years)\\n- web developer (0.5 years)\\nSkills:\\n- react\\n- node js\\n- sql\\n- c#\\n- firebase\\n- jetpack compose\\nProgramming languages:\\n- java (0.5 years)\\n- kotlin (0.5 years)\\n- javascript (0.5 years)\\n- c# (0.5 years)\\n- python (0.5 years)\\nCities:\\n- ho chi minh\\nAwards:\\n- Provincial Encouragement Award for 12th Grade Informatics\\n- Provincial Encouragement Award for 11th Grade Informatics\\n', metadata={'id': 2103}), -229.76699975437177), (Document(page_content='Languages:\\n- English\\nMajors:\\n- bachelor, english language studies, hutech university, (GPA: 3.6)\\nRoles:\\n- web developer (0.5 years)\\nSkills:\\n- html\\n- css\\n- javascript\\n- react\\n- tailwindcss\\n- node.js\\n- mongodb\\n- git\\nProgramming languages:\\n- html (0.5 years)\\n- css (0.5 years)\\n- javascript (0.5 years)\\n- react (0.5 years)\\n- node (0.5 years)\\n- mongodb (0.5 years)\\nCities:\\n- ho chi minh\\nCertifications:\\n- TOEIC\\nAwards:\\n- TOEIC score of 970\\n', metadata={'id': 1388}), -230.60860960462372), (Document(page_content='Languages:\\n- English\\nMajors:\\n- bachelor, information technology, university of technology and education, (GPA: 3.6)\\nWork:\\n- cyclone company (0.5 years)\\nRoles:\\n- full-stack developer (0 years)\\n- front-end developer (0.5 years)\\nSkills:\\n- user interface design\\n- api integration\\n- responsive design\\n- authentication\\n- authorization\\n- product management\\n- multi\\n- language support\\n- dark mode implementation\\n- crud operations\\nProgramming languages:\\n- html (0.5 years)\\n- css (0.5 years)\\n- javascript (0.5 years)\\n- typescript (0.5 years)\\n- react (0.5 years)\\n- next (0.5 years)\\n- node (0.5 years)\\n- express (0.5 years)\\nCities:\\n- ho chi minh\\n', metadata={'id': 595}), -230.636822201506)]\n",
      "  warnings.warn(\n",
      " 97%|█████████▋| 38/39 [06:05<00:09,  9.43s/it]"
     ]
    },
    {
     "name": "stdout",
     "output_type": "stream",
     "text": [
      "End LLM\n",
      "New Query:  {'institutionList': ['national economics university hanoi', 'ho chi minh city university of economics'], 'eduList': ['master', 'bachelor', 'undergraduate', 'diploma', 'phd', 'certificate']}\n",
      "Extended Num Application:  11\n",
      "Not enough application\n",
      "New Query:  {'institutionList': ['national economics university hanoi', 'ho chi minh city university of economics']}\n",
      "[1593, 669, 468, 135, 1958]\n",
      "Less -> Sematic Search\n",
      "Using Sematic Search\n",
      "Num CV ok:  8\n",
      "Rerank\n",
      "[1240, 135, 1488, 1593, 1841, 1958, 468, 669]\n",
      "Time: 10.017922163009644\n",
      "Extracting Job Description\n",
      "End LLM\n",
      "New Query:  {'institutionList': ['hanoi university of science and technology', 'hanoi university of business and technology', 'university of technology information - vnu', 'posts and telecommunications institute of technology', 'vnu-hcm university of science'], 'eduList': ['master', 'bachelor', 'undergraduate', 'diploma', 'phd', 'certificate']}\n",
      "Extended Num Application:  12\n",
      "Num CV ok:  10\n",
      "Rerank\n",
      "Reranking\n"
     ]
    },
    {
     "name": "stderr",
     "output_type": "stream",
     "text": [
      "100%|██████████| 39/39 [06:15<00:00,  9.64s/it]"
     ]
    },
    {
     "name": "stdout",
     "output_type": "stream",
     "text": [
      "[751, 345, 222, 2083, 1104, 19, 1733, 1488, 2051]\n",
      "Time: 10.418983221054077\n"
     ]
    },
    {
     "name": "stderr",
     "output_type": "stream",
     "text": [
      "\n"
     ]
    }
   ],
   "source": [
    "answers = []\n",
    "i = 0\n",
    "\n",
    "for question in tqdm(questions):\n",
    "    prompt = question['prompt']\n",
    "    answer = dict()\n",
    "    answer['prompt'] = prompt\n",
    "    answer['answer'] = question['answer']\n",
    "    try:\n",
    "        res = chat_agent.get_cv_from_jd(prompt)\n",
    "        ans = res['files']\n",
    "        answer['predict'] = [a.replace('data/raw/data/clean4.0/', '') for a in ans]\n",
    "    except:\n",
    "        print('Error')\n",
    "        answer['predict'] = []\n",
    "    answers.append(answer)\n",
    "    with open('data/benchmark/qa_cv_kg.json', 'w') as f:\n",
    "        f.write(json.dumps(answers))\n",
    "    i += 1\n"
   ]
  },
  {
   "cell_type": "code",
   "execution_count": 10,
   "metadata": {},
   "outputs": [],
   "source": [
    "recall = 0\n",
    "precision = 0\n",
    "long_recall = 0\n",
    "long_precision = 0\n",
    "len_long = 0\n",
    "short_recall = 0\n",
    "short_precision = 0\n",
    "len_short = 0\n",
    "\n",
    "for answer in answers:\n",
    "    num_ans = len(answer['answer'])\n",
    "    correct = 0\n",
    "    ans = set(answer['answer'])\n",
    "    for p in answer['predict']:\n",
    "        if p in ans:\n",
    "            correct += 1\n",
    "    recall += correct / num_ans\n",
    "    precision += correct / (len(answer['predict'])+1e-5)\n",
    "    if num_ans > 7:\n",
    "        long_recall += correct / num_ans\n",
    "        long_precision += correct / (len(answer['predict'])+1e-5)\n",
    "        len_long+= 1\n",
    "    else:\n",
    "        short_recall += correct / num_ans\n",
    "        short_precision += correct / (len(answer['predict'])+1e-5)\n",
    "        len_short += 1"
   ]
  },
  {
   "cell_type": "code",
   "execution_count": 11,
   "metadata": {},
   "outputs": [],
   "source": [
    "recall /= len(answers)\n",
    "precision /= len(answers)\n",
    "long_recall /= len_long\n",
    "long_precision /= len_long\n",
    "short_recall /= len_short\n",
    "short_precision /= len_short\n",
    "f1 = 2 * recall * precision / (recall + precision + 1e-5)\n",
    "short_f1 = 2 * short_recall * short_precision / (short_recall + short_precision + 1e-5)\n",
    "long_f1 = 2 * long_recall * long_precision / (long_recall + long_precision+1e-5)"
   ]
  },
  {
   "cell_type": "code",
   "execution_count": 12,
   "metadata": {},
   "outputs": [
    {
     "name": "stdout",
     "output_type": "stream",
     "text": [
      "Recall: 0.4816278166278167\n",
      "Precision: 0.4387250300532934\n",
      "F1: 0.4591714650075473\n",
      "=====================================\n",
      "Short Recall: 0.4360215053763441\n",
      "Short Precision: 0.39011169349691877\n",
      "Short F1: 0.41178596663490963\n",
      "=====================================\n",
      "Long Recall: 0.6583522727272727\n",
      "Long Precision: 0.6271017092092451\n",
      "Long F1: 0.6423421290530603\n",
      "=====================================\n"
     ]
    }
   ],
   "source": [
    "print(f\"Recall: {recall}\")\n",
    "print(f\"Precision: {precision}\")\n",
    "print(f\"F1: {f1}\")\n",
    "print(\"=====================================\")\n",
    "\n",
    "print(f\"Short Recall: {short_recall}\")\n",
    "print(f\"Short Precision: {short_precision}\")\n",
    "print(f\"Short F1: {short_f1}\")\n",
    "print(\"=====================================\")\n",
    "\n",
    "print(f\"Long Recall: {long_recall}\")\n",
    "print(f\"Long Precision: {long_precision}\")\n",
    "print(f\"Long F1: {long_f1}\")\n",
    "print(\"=====================================\")"
   ]
  },
  {
   "cell_type": "markdown",
   "metadata": {},
   "source": [
    "## Haiku\n",
    "\n",
    "Recall: 0.4582659932659932 \\\n",
    "Precision: 0.45441863442709507 \\\n",
    "F1: 0.45632920485280953\n",
    "\n",
    "=====================================\n",
    "\n",
    "Short Recall: 0.4209677419354839 \\\n",
    "Short Precision: 0.42419216192259934 \\\n",
    "Short F1: 0.4225688012224169\n",
    "\n",
    "=====================================\n",
    "\n",
    "Long Recall: 0.6027967171717171 \\\n",
    "Long Precision: 0.5715462153820161 \\\n",
    "Long F1: 0.5867506654834951\n",
    "\n",
    "====================================="
   ]
  },
  {
   "cell_type": "markdown",
   "metadata": {},
   "source": [
    "## Llama 3 8b\n",
    "\n",
    "Recall: 0.4816278166278167 \\\n",
    "Precision: 0.4387250300532934 \\\n",
    "F1: 0.4591714650075473\n",
    "\n",
    "=====================================\n",
    "\n",
    "Short Recall: 0.4360215053763441 \\\n",
    "Short Precision: 0.39011169349691877 \\\n",
    "Short F1: 0.41178596663490963\n",
    "\n",
    "=====================================\n",
    "\n",
    "Long Recall: 0.6583522727272727 \\\n",
    "Long Precision: 0.6271017092092451 \\\n",
    "Long F1: 0.6423421290530603 \n",
    "\n",
    "====================================="
   ]
  },
  {
   "cell_type": "markdown",
   "metadata": {},
   "source": [
    "## Llama 3 70b"
   ]
  },
  {
   "cell_type": "markdown",
   "metadata": {},
   "source": []
  },
  {
   "cell_type": "code",
   "execution_count": null,
   "metadata": {},
   "outputs": [],
   "source": []
  }
 ],
 "metadata": {
  "kernelspec": {
   "display_name": "base",
   "language": "python",
   "name": "python3"
  },
  "language_info": {
   "codemirror_mode": {
    "name": "ipython",
    "version": 3
   },
   "file_extension": ".py",
   "mimetype": "text/x-python",
   "name": "python",
   "nbconvert_exporter": "python",
   "pygments_lexer": "ipython3",
   "version": "3.11.5"
  }
 },
 "nbformat": 4,
 "nbformat_minor": 2
}
