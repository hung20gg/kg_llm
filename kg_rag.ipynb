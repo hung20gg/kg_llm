{
 "cells": [
  {
   "cell_type": "markdown",
   "metadata": {},
   "source": [
    "## Evaluation of Knowledge Graph for RAG"
   ]
  },
  {
   "cell_type": "code",
   "execution_count": 1,
   "metadata": {},
   "outputs": [
    {
     "name": "stderr",
     "output_type": "stream",
     "text": [
      "2024-06-15 01:39:40.704289: E external/local_xla/xla/stream_executor/cuda/cuda_dnn.cc:9261] Unable to register cuDNN factory: Attempting to register factory for plugin cuDNN when one has already been registered\n",
      "2024-06-15 01:39:40.704322: E external/local_xla/xla/stream_executor/cuda/cuda_fft.cc:607] Unable to register cuFFT factory: Attempting to register factory for plugin cuFFT when one has already been registered\n",
      "2024-06-15 01:39:40.705231: E external/local_xla/xla/stream_executor/cuda/cuda_blas.cc:1515] Unable to register cuBLAS factory: Attempting to register factory for plugin cuBLAS when one has already been registered\n",
      "2024-06-15 01:39:41.435626: W tensorflow/compiler/tf2tensorrt/utils/py_utils.cc:38] TF-TRT Warning: Could not find TensorRT\n"
     ]
    }
   ],
   "source": [
    "from database.GraphDB import KnowledgeGraphDB\n",
    "from retrieval.retrieval_hub import RetrievalHub\n",
    "from query_and_ranking.query import Query\n",
    "from query_and_ranking.rerank import Reranker\n",
    "from agentic import Agent\n",
    "from tqdm import tqdm"
   ]
  },
  {
   "cell_type": "code",
   "execution_count": 2,
   "metadata": {},
   "outputs": [],
   "source": [
    "import os \n",
    "from dotenv import load_dotenv\n",
    "load_dotenv()\n",
    "\n",
    "neo4j_uri = os.getenv('NEO4J_URI')\n",
    "neo4j_user = os.getenv('NEO4J_USER')\n",
    "neo4j_password = os.getenv('NEO4J_PASSWORD')"
   ]
  },
  {
   "cell_type": "code",
   "execution_count": 3,
   "metadata": {},
   "outputs": [],
   "source": [
    "kg = KnowledgeGraphDB(uri=neo4j_uri, user=neo4j_user, password=neo4j_password)\n",
    "retrieval_hub = RetrievalHub(kg)\n",
    "reranker = Reranker()\n",
    "cv_query = Query(kg, retrieval_hub)"
   ]
  },
  {
   "cell_type": "code",
   "execution_count": 4,
   "metadata": {},
   "outputs": [],
   "source": [
    "chat_agent = Agent(kg, retrieval_hub, reranker, cv_query, routing='aws',jd_extraction='gemini')"
   ]
  },
  {
   "cell_type": "code",
   "execution_count": 5,
   "metadata": {},
   "outputs": [],
   "source": [
    "import json\n",
    "questions = json.loads(open('data/benchmark/qa_cv.json').read())"
   ]
  },
  {
   "cell_type": "code",
   "execution_count": 6,
   "metadata": {},
   "outputs": [
    {
     "name": "stderr",
     "output_type": "stream",
     "text": [
      "  0%|          | 0/39 [00:00<?, ?it/s]"
     ]
    },
    {
     "name": "stdout",
     "output_type": "stream",
     "text": [
      "Extracting Job Description\n",
      "End LLM\n",
      "New Query:  {'cityList': ['ha noi'], 'eduList': ['phd', 'bachelor', 'master', 'certificate', 'undergraduate', 'diploma']}\n",
      "Extended Num Application:  4\n",
      "Reduce CV  61  ->  4  CV\n",
      "New Query:  {'cityList': ['ha noi'], 'eduList': ['phd', 'bachelor', 'master', 'certificate', 'undergraduate', 'diploma']}\n",
      "Still more -> Reduce CV\n",
      "Risk:  True\n",
      "Num CV ok:  4\n",
      "Rerank\n",
      "Reranking\n",
      "[1593, 222, 2004]\n"
     ]
    },
    {
     "name": "stderr",
     "output_type": "stream",
     "text": [
      "  3%|▎         | 1/39 [00:06<03:53,  6.14s/it]"
     ]
    },
    {
     "name": "stdout",
     "output_type": "stream",
     "text": [
      "Time: 6.134795188903809\n",
      "Extracting Job Description\n",
      "End LLM\n",
      "New Query:  {'cityList': ['ho chi minh'], 'eduList': ['phd', 'bachelor', 'master', 'certificate', 'undergraduate', 'diploma'], 'roleList': ['marketing manager', 'marketing officer', 'marketing assistant', 'marketing analyst'], 'suitableList': ['marketing manager', 'marketing officer', 'digital marketing manager', 'e-commerce specialist', 'marketing assistant', 'marketing analyst', 'marketing executive', 'digital marketing specialist', 'media specialist', 'sales coordinator', 'digital marketing ', 'marketing staff', 'sales associate']}\n",
      "Extended Num Application:  4\n"
     ]
    },
    {
     "name": "stderr",
     "output_type": "stream",
     "text": [
      "  5%|▌         | 2/39 [00:11<03:40,  5.95s/it]"
     ]
    },
    {
     "name": "stdout",
     "output_type": "stream",
     "text": [
      "Not enough application\n",
      "New Query:  {'cityList': ['ho chi minh'], 'suitableList': ['marketing manager', 'marketing officer', 'marketing team leader', 'digital marketing manager', 'e-commerce specialist', 'marketing assistant', 'marketing analyst', 'marketing executive', 'digital marketing specialist', 'media specialist', 'sales coordinator', 'digital marketing ', 'research associate', 'marketing staff', 'sales associate']}\n",
      "[841, 618, 1560, 1629, 1958, 468]\n",
      "More -> Reduce CV\n",
      "Num CV ok:  4\n",
      "Rerank\n",
      "Reranking\n",
      "[1958, 618, 841]\n",
      "Time: 5.827220439910889\n",
      "Extracting Job Description\n"
     ]
    },
    {
     "name": "stderr",
     "output_type": "stream",
     "text": [
      "  8%|▊         | 3/39 [00:16<03:09,  5.27s/it]"
     ]
    },
    {
     "name": "stdout",
     "output_type": "stream",
     "text": [
      "End LLM\n",
      "New Query:  {'eduList': ['phd', 'bachelor', 'master', 'certificate', 'undergraduate', 'diploma'], 'roleList': ['marketing manager', 'marketing assistant', 'marketing analyst', 'marketing executive'], 'role_exp': 0.0, 'suitableList': ['marketing manager', 'marketing officer', 'marketing assistant', 'marketing analyst', 'marketing executive', 'marketing staff']}\n",
      "Extended Num Application:  10\n",
      "Num CV ok:  7\n",
      "Rerank\n",
      "[1139, 1513, 1749, 468, 786, 8, 972]\n",
      "Time: 4.462765455245972\n",
      "Extracting Job Description\n",
      "End LLM\n",
      "New Query:  {'eduList': ['phd', 'bachelor', 'master', 'certificate', 'undergraduate', 'diploma'], 'roleList': ['odoo developer'], 'role_exp': 2.5, 'skillList': ['api development', 'frontend development', 'ar development', 'game development', 'software development', 'tool development'], 'suitableList': ['net developer', 'java developer', 'php developer', ' web developer', 'software engineer', 'android developer', 'python developer', 'it developer', 'software developer', 'developer']}\n",
      "Extended Num Application:  3\n"
     ]
    },
    {
     "name": "stderr",
     "output_type": "stream",
     "text": [
      "/home/quanghung20gg/anaconda3/lib/python3.11/site-packages/langchain_core/vectorstores.py:330: UserWarning: Relevance scores must be between 0 and 1, got [(Document(page_content='Languages:\\n- English\\nMajors:\\n- bachelor, information technology, tiengiang university, (GPA: 2.8)\\nWork:\\n- vnpt it5 (0.5 years)\\n- antechco (1 years)\\nRoles:\\n- backend  (0.5 years)\\n- odoo developer (1.5 years)\\nSkills:\\n- software development\\n- web development\\n- database management\\n- user training\\nProgramming languages:\\n- python (1.5 years)\\n- javascript (1.5 years)\\n- sql (1.5 years)\\nCities:\\n- ho chi minh\\n', metadata={'id': 1092}), -236.29660262014553), (Document(page_content='Languages:\\n- English\\nMajors:\\n- bachelor, software engineer, fpt university, (GPA: 3.6)\\nWork:\\n- fpt software (1 years)\\n- smartosc (2 years)\\nRoles:\\n- manual tester (3.5 years)\\n- software engineer (3.5 years)\\n- automation tester (3.5 years)\\nSkills:\\n- automation testing\\n- manual testing\\n- agile\\n- database testing\\n- ci\\n- cd\\n- test case design\\n- software development processes\\n- documentation\\n- reporting\\nProgramming languages:\\n- java (3.5 years)\\n- groovy (3.5 years)\\n- python (3.5 years)\\n- typescript (3.5 years)\\n- javascript (3.5 years)\\n- sql (3.5 years)\\nCities:\\n- ha noi\\nCertifications:\\n- ISTQB® Certified Tester Foundation Level\\nAwards:\\n- ISTQB® Certified Tester Foundation Level\\n', metadata={'id': 776}), -275.14334935259694), (Document(page_content='Languages:\\n- English\\nWork:\\n- onpoint e-commerce (0.5 years)\\n- techlist crypto (0.5 years)\\nRoles:\\n- data engineer (1.5 years)\\nSkills:\\n- data pipeline\\n- etl\\n- data crawling\\n- data quality\\n- process monitoring\\n- unit testing\\n- code flow flake8\\n- data analysis\\nProgramming languages:\\n- python (1.5 years)\\n- sql (1.5 years)\\n- scala (1.5 years)\\n- django (1.5 years)\\n- kafka (1.5 years)\\n- airflow (1.5 years)\\nCertifications:\\n- Hackerrank: SQL Intermediate Certificate\\nAwards:\\n- 1 Consecutive Semesters Excellent+\\n- Hackerrank: SQL Intermediate Certificate\\n', metadata={'id': 383}), -276.1072019511687)]\n",
      "  warnings.warn(\n",
      " 10%|█         | 4/39 [00:22<03:09,  5.42s/it]"
     ]
    },
    {
     "name": "stdout",
     "output_type": "stream",
     "text": [
      "Not enough application\n",
      "New Query:  {'roleList': ['unity developer', 'java developer', 'python developer', 'odoo developer', 'developer'], 'role_exp': 2.25, 'skillList': ['chatbot development', 'api development', 'frontend development', 'ar development', 'creative concept development', 'game development', 'software development', 'tool development'], 'suitableList': ['net developer', 'java developer', 'php developer', ' web developer', 'software engineer', 'android developer', 'python developer', 'it developer', 'software developer', 'developer']}\n",
      "[]\n",
      "Less -> Sematic Search\n",
      "Using Sematic Search\n",
      "Num CV ok:  2\n",
      "Rerank\n",
      "[1092, 776]\n",
      "Time: 5.631318092346191\n",
      "Extracting Job Description\n",
      "End LLM\n",
      "New Query:  {'institutionList': ['national economics university (neu)'], 'eduList': ['phd', 'bachelor', 'master', 'certificate', 'undergraduate', 'diploma']}\n",
      "Extended Num Application:  7\n",
      "Reduce CV  24  ->  7  CV\n",
      "New Query:  {'institutionList': ['national economics university (neu)'], 'eduList': ['phd', 'bachelor', 'master', 'certificate', 'undergraduate', 'diploma']}\n",
      "Still more -> Reduce CV\n",
      "Risk:  True\n",
      "Num CV ok:  7\n",
      "Rerank\n",
      "Reranking\n"
     ]
    },
    {
     "name": "stderr",
     "output_type": "stream",
     "text": [
      " 13%|█▎        | 5/39 [00:27<03:06,  5.49s/it]"
     ]
    },
    {
     "name": "stdout",
     "output_type": "stream",
     "text": [
      "[495, 463, 1274, 406, 1690]\n",
      "Time: 5.632444620132446\n",
      "Extracting Job Description\n",
      "End LLM\n",
      "New Query:  {'eduList': ['phd', 'bachelor', 'master', 'certificate', 'undergraduate', 'diploma'], 'roleList': ['data science / artificial intelligence', 'data scientist', 'data analyst', 'research scientist'], 'role_exp': 0.5, 'suitableList': ['nlp engineer', 'ai engineer', 'data analysis', 'financial market data analyst', 'research engineer', 'analyst', 'statistician', 'data science / artificial intelligence', 'machine learning engineer', 'data scientist', 'data analyst', 'research analyst']}\n",
      "Extended Num Application:  14\n",
      "Reduce CV  19  ->  14  CV\n",
      "New Query:  {'eduList': ['phd', 'bachelor', 'master', 'certificate', 'undergraduate', 'diploma'], 'roleList': ['data scientist'], 'role_exp': 0.5, 'suitableList': ['ai engineer', 'data analysis', 'financial market data analyst', 'analyst', 'statistician', 'machine learning engineer', 'data scientist', 'data analyst']}\n",
      "Risk:  True\n",
      "Not enough application\n",
      "Reduce Risk -> Get more CV\n",
      "New Query:  {'eduList': ['phd', 'bachelor', 'master', 'certificate', 'undergraduate', 'diploma'], 'roleList': ['data science / artificial intelligence', 'data scientist', 'data analyst', 'research scientist'], 'role_exp': 0.5, 'suitableList': ['nlp engineer', 'ai engineer', 'data analysis', 'financial market data analyst', 'analyst', 'statistician', 'machine learning engineer', 'data scientist', 'data analyst', 'research analyst']}\n",
      "[638, 606, 383, 270, 211, 135, 2141, 2123, 2013, 1428, 1456, 1473, 1604, 1690, 1847, 335, 280, 1291, 1165]\n",
      "More -> Reduce CV\n",
      "Num CV ok:  14\n",
      "Rerank\n",
      "Reranking\n"
     ]
    },
    {
     "name": "stderr",
     "output_type": "stream",
     "text": [
      " 15%|█▌        | 6/39 [00:32<02:56,  5.34s/it]"
     ]
    },
    {
     "name": "stdout",
     "output_type": "stream",
     "text": [
      "[1690, 606, 1428, 280, 270, 1456, 1604, 1291, 1165, 638, 1847]\n",
      "Time: 5.038708209991455\n",
      "Extracting Job Description\n"
     ]
    },
    {
     "name": "stderr",
     "output_type": "stream",
     "text": [
      " 18%|█▊        | 7/39 [00:37<02:43,  5.12s/it]"
     ]
    },
    {
     "name": "stdout",
     "output_type": "stream",
     "text": [
      "End LLM\n",
      "New Query:  {'institutionList': ['hanoi university of science and technology', 'hanoi university of industry'], 'eduList': ['phd', 'bachelor', 'master', 'certificate', 'undergraduate', 'diploma']}\n",
      "Extended Num Application:  7\n",
      "Reduce CV  11  ->  7  CV\n",
      "New Query:  {'institutionList': ['hanoi university of industry'], 'eduList': ['phd', 'bachelor', 'master', 'certificate', 'undergraduate', 'diploma']}\n",
      "Risk:  True\n",
      "Num CV ok:  5\n",
      "Rerank\n",
      "[1802, 1896, 2004, 651, 658]\n",
      "Time: 4.655791282653809\n",
      "Extracting Job Description\n"
     ]
    },
    {
     "name": "stderr",
     "output_type": "stream",
     "text": [
      " 21%|██        | 8/39 [00:41<02:28,  4.78s/it]"
     ]
    },
    {
     "name": "stdout",
     "output_type": "stream",
     "text": [
      "End LLM\n",
      "New Query:  {}\n",
      "Extended Num Application:  4\n",
      "Error\n",
      "Extracting Job Description\n",
      "End LLM\n",
      "New Query:  {'eduList': ['phd', 'bachelor', 'master', 'certificate', 'undergraduate', 'diploma'], 'roleList': ['accountant', 'finance', 'auditor', 'account management']}\n",
      "Extended Num Application:  3\n",
      "Reduce CV  8  ->  3  CV\n",
      "New Query:  {'eduList': ['phd', 'bachelor', 'master', 'certificate', 'undergraduate', 'diploma'], 'roleList': ['accountant', 'auditor']}\n",
      "Still more -> Reduce CV\n",
      "Risk:  True\n",
      "Num CV ok:  3\n",
      "Rerank\n",
      "Reranking\n"
     ]
    },
    {
     "name": "stderr",
     "output_type": "stream",
     "text": [
      " 23%|██▎       | 9/39 [00:46<02:24,  4.82s/it]"
     ]
    },
    {
     "name": "stdout",
     "output_type": "stream",
     "text": [
      "[138, 1857]\n",
      "Time: 4.9114089012146\n",
      "Extracting Job Description\n"
     ]
    },
    {
     "name": "stderr",
     "output_type": "stream",
     "text": [
      " 26%|██▌       | 10/39 [00:50<02:16,  4.72s/it]"
     ]
    },
    {
     "name": "stdout",
     "output_type": "stream",
     "text": [
      "End LLM\n",
      "New Query:  {'eduList': ['phd', 'bachelor', 'master', 'certificate', 'undergraduate', 'diploma'], 'roleList': ['editor', 'developer', 'trainee', 'research assistant'], 'role_exp': 0.0}\n",
      "Extended Num Application:  1\n",
      "Reduce CV  27  ->  1  CV\n",
      "New Query:  {'eduList': ['phd', 'bachelor', 'master', 'certificate', 'undergraduate', 'diploma'], 'roleList': ['editor', 'trainee'], 'role_exp': 0.0}\n",
      "Still more -> Reduce CV\n",
      "Risk:  True\n",
      "Num CV ok:  1\n",
      "Rerank\n",
      "[345]\n",
      "Time: 4.5090012550354\n",
      "Extracting Job Description\n",
      "End LLM\n",
      "New Query:  {'institutionList': ['national economics university (neu)'], 'eduList': ['phd', 'bachelor', 'master', 'certificate', 'undergraduate', 'diploma'], 'roleList': ['analyst', 'data analyst', 'financial market data analyst', 'data analysis'], 'suitableList': ['data analysis', 'financial market data analyst', 'analyst', 'data scientist', 'data analyst', 'research analyst']}\n",
      "Extended Num Application:  12\n",
      "Not enough application\n",
      "New Query:  {'institutionList': ['university of economics', 'national economics university (neu)'], 'suitableList': ['data analysis', 'financial market data analyst', 'business analyst', 'analyst', 'sales analyst', 'data scientist', 'data analyst', 'research analyst']}\n",
      "[1214, 1690, 463, 1941, 2013, 495, 561, 732, 606, 280, 124, 1291]\n",
      "Num CV ok:  12\n"
     ]
    },
    {
     "name": "stderr",
     "output_type": "stream",
     "text": [
      " 28%|██▊       | 11/39 [00:56<02:22,  5.10s/it]"
     ]
    },
    {
     "name": "stdout",
     "output_type": "stream",
     "text": [
      "New Query:  {'institutionList': ['national economics university (neu)'], 'eduList': ['phd', 'bachelor', 'master', 'certificate', 'undergraduate', 'diploma'], 'roleList': ['data science / artificial intelligence', 'data scientist', 'data analyst', 'research scientist'], 'suitableList': ['financial market data analyst', 'research scientist', 'data science / artificial intelligence', 'machine learning engineer', 'data scientist', 'data analyst']}\n",
      "Extended Num Application:  12\n",
      "Not enough application\n",
      "New Query:  {'institutionList': ['university of economics', 'national economics university (neu)'], 'suitableList': ['data analysis', 'financial market data analyst', 'research scientist', 'data science / artificial intelligence', 'machine learning engineer', 'data scientist', 'data analyst', 'scientist']}\n",
      "[1214, 1690, 463, 1941, 2013, 495, 561, 732, 606, 280, 1291]\n",
      "Num CV ok:  11\n",
      "Rerank\n",
      "Reranking\n",
      "[1214, 124, 1291, 1690, 1941, 732, 2013, 561, 495, 463, 280, 606]\n",
      "Time: 5.9673004150390625\n",
      "Extracting Job Description\n",
      "End LLM\n",
      "New Query:  {'cityList': ['ha noi'], 'institutionList': ['fpt polytechnic college', 'fpt university', 'fpt university hcm'], 'eduList': ['phd', 'bachelor', 'master', 'certificate', 'undergraduate', 'diploma']}\n",
      "Extended Num Application:  14\n",
      "Not enough application\n",
      "New Query:  {'cityList': ['ha noi'], 'institutionList': ['fpt polytechnic college', 'fpt university', 'fpt university hcm']}\n",
      "[862, 776, 648, 1703, 1749, 64, 279, 358]\n",
      "Less -> Sematic Search\n",
      "Using Sematic Search\n",
      "Num CV ok:  11\n",
      "Rerank\n",
      "[1530, 1703, 1749, 222, 279, 358, 64, 648, 708, 776, 862]\n"
     ]
    },
    {
     "name": "stderr",
     "output_type": "stream",
     "text": [
      "/home/quanghung20gg/anaconda3/lib/python3.11/site-packages/langchain_core/vectorstores.py:330: UserWarning: Relevance scores must be between 0 and 1, got [(Document(page_content='Languages:\\n- English\\nMajors:\\n- college, software engineer, university of science, (GPA: 2.86)\\nWork:\\n- fpt software company (1 years)\\n- hdviet company (4 years)\\n- mtrip.vn (1 years)\\n- yola company (3.5 years)\\n- fp logistics company (1.5 years)\\nRoles:\\n- net developer (1 years)\\n- it team leader (1.5 years)\\n- full-stack developer (3.5 years)\\n- backend developer (11.5 years)\\nSkills:\\n- microservices\\n- api development\\n- team management\\n- cloud computing\\n- ci\\n- cd\\n- data synchronization\\n- database management\\n- reporting\\nProgramming languages:\\n- python (11.5 years)\\n- javascript (11.5 years)\\n- php (4 years)\\n- c# (1 years)\\n- vb (1 years)\\n- sql (11.5 years)\\n- kafka (1.5 years)\\n- docker (1.5 years)\\nCities:\\n- ho chi minh\\n', metadata={'id': 708}), -206.0484501162458), (Document(page_content='Languages:\\n- English\\nMajors:\\n- undergraduate, software development, fpt polytechnic college, (GPA: 3.44)\\nRoles:\\n- java developer (0 years)\\n- full stack developer (0 years)\\nSkills:\\n- web development\\n- back\\n- end development\\n- front\\n- database design\\n- api integration\\n- business analysis\\nProgramming languages:\\n- java (0 years)\\n- spring boot (0 years)\\n- jpa (0 years)\\n- react (0 years)\\n- mysql (0 years)\\n- html (0 years)\\n- css (0 years)\\n- javascript (0 years)\\nCities:\\n- ha noi\\nCertifications:\\n- Basic English Certificate\\nAwards:\\n- Basic English Certificate\\n', metadata={'id': 648}), -209.88373497999476), (Document(page_content='Languages:\\n- English\\nMajors:\\n- bachelor, information technology, hanoi university of business and technology, (GPA: 3.6)\\nRoles:\\n- web developer (0.5 years)\\nSkills:\\n- front\\n- end development\\n- back\\n- real\\n- time communication\\n- database management\\n- cloud computing\\n- user interface design\\n- e\\n- commerce\\n- api development\\nProgramming languages:\\n- javascript (0.5 years)\\n- typescript (0.5 years)\\n- react (0.5 years)\\n- node (0.5 years)\\n- mongodb (0.5 years)\\n- sql (0.5 years)\\n- asp.net mvc (0.5 years)\\n- firebase (0.5 years)\\nCities:\\n- ha noi\\n', metadata={'id': 222}), -210.26221244557135), (Document(page_content='Languages:\\n- English\\n- Vietnamese\\nMajors:\\n- undergraduate, computer networking and communication, ho chi minh city university of technology, (GPA: 3.6)\\nWork:\\n- hung phat usa (0.5 years)\\n- private supermarket (0.5 years)\\n- mwg (0.5 years)\\n- etomil milk (0.5 years)\\n- ho chi minh city university of technology (6.5 years)\\nRoles:\\n- it support (0.5 years)\\n- inventory management staff (0.5 years)\\n- security camera supervisor (0.5 years)\\n- marketing staff (0.5 years)\\n- programmer (0.5 years)\\nSkills:\\n- system configuration\\n- management\\n- network administration\\n- project management\\n- web development\\n- mobile development\\n- game development\\n- security\\n- iot\\nProgramming languages:\\n- html (0.5 years)\\n- css (0.5 years)\\n- unity (0.5 years)\\n- wordpress (0.5 years)\\n- sql (0.5 years)\\nCities:\\n- thu duc\\n', metadata={'id': 1530}), -210.99008646757787), (Document(page_content='Languages:\\n- English\\nMajors:\\n- bachelor, business administration, hanoi college of industrial economics, (GPA: 3.6)\\nWork:\\n- shopee food (1.5 years)\\n- lau phan (0.5 years)\\n- funix - a member of fpt corporation (0.5 years)\\nRoles:\\n- delivery driver (1.5 years)\\n- waiter (0.5 years)\\n- full stack web developer (0.5 years)\\nSkills:\\n- html\\n- css\\n- javascript\\n- git\\n- vscode\\n- postman\\nProgramming languages:\\n- react (0.5 years)\\n- node (0.5 years)\\n- redux toolkit (0.5 years)\\n- mongodb (0.5 years)\\n- express (0.5 years)\\n- socket.io (0.5 years)\\nCities:\\n- ha noi\\n', metadata={'id': 395}), -211.9168179628171), (Document(page_content='Languages:\\n- English\\nMajors:\\n- bachelor, software engineer, ho chi minh city university of technology and education, (GPA: 3.4)\\nWork:\\n- fpt software academy hcm (0.5 years)\\nRoles:\\n- full-stack developer (0.5 years)\\n- team leader (0.5 years)\\n- software engineer (0.5 years)\\nSkills:\\n- agile methodologies\\n- team management\\n- ui\\n- ux design\\n- payment gateway integration\\n- security implementation\\n- api development\\n- data management\\n- communication\\nProgramming languages:\\n- java (0.5 years)\\n- spring boot (0.5 years)\\n- angular (0.5 years)\\n- sql (0.5 years)\\n- python (0.5 years)\\n- thymeleaf (0.5 years)\\n- javascript (0.5 years)\\n- html (0.5 years)\\nCities:\\n- ho chi minh\\nCertifications:\\n- TOEIC (L&R)\\nAwards:\\n- TOEIC (L&R) 825/990\\n', metadata={'id': 2027}), -212.51886393074804), (Document(page_content='Languages:\\n- English\\nMajors:\\n- bachelor, computer science, national economics university hanoi, (GPA: 3.43)\\nWork:\\n- lts group (0.5 years)\\n- viettel telecom (0.5 years)\\nRoles:\\n- software developer (0.5 years)\\nSkills:\\n- web development\\n- api development\\n- content management system\\n- user interface design\\n- artificial intelligence\\n- database management\\n- testing\\n- deployment\\n- english teaching\\nProgramming languages:\\n- java (0.5 years)\\n- javascript (0.5 years)\\n- typescript (0.5 years)\\n- php (0.5 years)\\n- spring boot (0.5 years)\\n- react (0.5 years)\\n- node (0.5 years)\\n- graphql (0.5 years)\\nCities:\\n- ha noi\\n', metadata={'id': 1593}), -214.618648246243), (Document(page_content='Languages:\\n- English\\nMajors:\\n- undergraduate, computer programming, fpt polytechnic hà nội, (GPA: 3.6)\\nWork:\\n- công ty cổ phần thương mại và phát triển công nghệ bách việt (1 years)\\nRoles:\\n- web developer (1 years)\\n- it developer (1 years)\\nSkills:\\n- system design\\n- system analysis\\n- proxy deployment\\n- tool development\\nProgramming languages:\\n- python (1 years)\\n- php (1 years)\\n- javascript (1 years)\\nCities:\\n- ha noi\\n', metadata={'id': 2006}), -215.29809051041656), (Document(page_content='Languages:\\n- English\\n- Vietnamese\\nMajors:\\n- bachelor, computer science and data science, ho chi minh city university of science, (GPA: 3.6)\\nWork:\\n- fundiininc. (paylater) (0.5 years)\\nRoles:\\n- data analyst (0.5 years)\\n- research engineer (0.5 years)\\nSkills:\\n- data analysis\\n- machine learning\\n- cloud computing\\n- natural language processing\\nProgramming languages:\\n- python (0.5 years)\\n- sql (0.5 years)\\n- c++ (0.5 years)\\nCities:\\n- ho chi minh\\nCertifications:\\n- SQL (Basic)\\n- Problem Solving (Intermediate)\\n- Mathematics for Machine Learning: Linear Algebra\\n- The Python Creative Programming Course\\nAwards:\\n- 2nd Place, Classification of plants of Southeast Asia - ISODS Competitive Online\\n', metadata={'id': 1428}), -217.2144517411921), (Document(page_content='Languages:\\n- English\\nMajors:\\n- bachelor, web development, fpt polytechnic college, (GPA: 3.6)\\nRoles:\\n- designer (0 years)\\n- main coder (0 years)\\n- leader (0 years)\\n- web developer (0 years)\\nSkills:\\n- object\\n- oriented programming\\n- model\\n- view\\n- controller\\n- ui\\n- ux design\\n- cloud server deployment\\nProgramming languages:\\n- php (0 years)\\n- laravel (0 years)\\n- javascript (0 years)\\n- react (0 years)\\n- node (0 years)\\n- jquery (0 years)\\n- mysql (0 years)\\n- mongodb (0 years)\\nCities:\\n- ho chi minh\\n', metadata={'id': 373}), -217.26421070297303), (Document(page_content='Languages:\\n- English\\nMajors:\\n- bachelor, information technology, vnu-hcm university of science, (GPA: 3.6)\\nRoles:\\n- software engineer (0.5 years)\\n- web developer (0.5 years)\\nSkills:\\n- cloud storage\\n- devops\\n- machine learning\\n- database management\\n- artificial intelligence\\nProgramming languages:\\n- node (0.5 years)\\n- python (0.5 years)\\n- go (0.5 years)\\n- java (0.5 years)\\n- c++ (0.5 years)\\n- html (0.5 years)\\n- css (0.5 years)\\n- javascript (0.5 years)\\nCities:\\n- ho chi minh\\n', metadata={'id': 1488}), -217.9201558752602), (Document(page_content='Languages:\\n- Vietnamese\\n- English\\nMajors:\\n- bachelor, business administration, fpt university, (GPA: 3.2)\\nWork:\\n- unicamp (1.0 years)\\n- igo club (2.5 years)\\n- fpt education (3.5 years)\\n- fpt software (1.0 years)\\nRoles:\\n- public relations leader (1.0 years)\\n- communication leader (2.5 years)\\n- content creator (2.5 years)\\nSkills:\\n- content creation\\n- social media management\\n- communication\\n- fundraising\\n- event management\\n- storytelling\\n- marketing\\n- public relations\\nCertifications:\\n- TOEIC 700+\\n- HSK 5\\nAwards:\\n- TOEIC 700+\\n- HSK 5\\n- 30% tuition scholarship from FPT University\\n- 100% tuition scholarship to study abroad\\n', metadata={'id': 1438}), -218.0908903983543), (Document(page_content='Languages:\\n- English\\n- Vietnamese\\nMajors:\\n- bachelor, information technology, can tho university, (GPA: 3.6)\\nRoles:\\n- web developer (0 years)\\nSkills:\\n- html\\n- css\\n- javascript\\n- reactjs\\n- php\\n- nodejs\\n- mysql\\n- mongodb\\nProgramming languages:\\n- html (0 years)\\n- css (0 years)\\n- javascript (0 years)\\n- php (0 years)\\n- node (0 years)\\n- react (0 years)\\n- mysql (0 years)\\n- mongodb (0 years)\\nCities:\\n- cần thơ\\n', metadata={'id': 1313}), -219.04699941184407), (Document(page_content='Languages:\\n- Japanese\\n- English\\nMajors:\\n- bachelor, information technology, hanoi open university, (GPA: 3.6)\\nWork:\\n- zendvn programming training center (0.5 years)\\nRoles:\\n- back-end developer (0.5 years)\\n- web developer (0.5 years)\\nSkills:\\n- html\\n- css\\n- javascript\\n- sql\\n- git\\n- database design\\nProgramming languages:\\n- php (0.5 years)\\n- laravel (0.5 years)\\n- mysql (0.5 years)\\n- docker (0.5 years)\\nCities:\\n- ha noi\\n', metadata={'id': 666}), -219.6792071569647)]\n",
      "  warnings.warn(\n",
      " 31%|███       | 12/39 [01:03<02:30,  5.59s/it]"
     ]
    },
    {
     "name": "stdout",
     "output_type": "stream",
     "text": [
      "Time: 6.685256481170654\n",
      "Extracting Job Description\n"
     ]
    },
    {
     "name": "stderr",
     "output_type": "stream",
     "text": [
      " 33%|███▎      | 13/39 [01:07<02:16,  5.24s/it]"
     ]
    },
    {
     "name": "stdout",
     "output_type": "stream",
     "text": [
      "End LLM\n",
      "New Query:  {'roleList': ['marketing manager', 'marketing officer', 'content marketing manager', 'digital marketing manager'], 'suitableList': ['marketing manager', 'marketing officer', 'brand manager', 'digital marketing manager', 'marketing executive', 'content marketing manager']}\n",
      "Extended Num Application:  4\n",
      "Num CV ok:  4\n",
      "Rerank\n",
      "Reranking\n",
      "[972, 468, 786]\n",
      "Time: 4.445738315582275\n",
      "Extracting Job Description\n",
      "End LLM\n",
      "New Query:  {'institutionList': ['national economics university (neu)'], 'eduList': ['phd', 'bachelor', 'master', 'certificate', 'undergraduate', 'diploma'], 'roleList': ['machine learning engineer', 'dataops engineer', 'data analyst', 'data scientist']}\n",
      "Extended Num Application:  4\n",
      "Reduce CV  5  ->  4  CV\n",
      "New Query:  {'institutionList': ['national economics university (neu)'], 'eduList': ['phd', 'bachelor', 'master', 'certificate', 'undergraduate', 'diploma'], 'roleList': ['machine learning engineer', 'dataops engineer', 'data analyst', 'data scientist']}\n",
      "Still more -> Reduce CV\n",
      "Risk:  True\n",
      "Num CV ok:  4\n",
      "Rerank\n",
      "Reranking\n"
     ]
    },
    {
     "name": "stderr",
     "output_type": "stream",
     "text": [
      " 36%|███▌      | 14/39 [01:13<02:10,  5.24s/it]"
     ]
    },
    {
     "name": "stdout",
     "output_type": "stream",
     "text": [
      "[1690, 561, 1291]\n",
      "Time: 5.229144096374512\n",
      "Extracting Job Description\n",
      "End LLM\n",
      "New Query:  {'eduList': ['phd', 'bachelor', 'master', 'certificate', 'undergraduate', 'diploma'], 'roleList': ['back-end developer', 'developer', 'front end developer', 'full stack developer'], 'role_exp': 3.0, 'suitableList': ['net developer', 'nlp engineer', 'ai engineer', 'front end developer', 'full stack developer', 'embedded systems engineer', 'software engineer', 'it developer', 'back-end developer', 'software developer', 'developer']}\n",
      "Extended Num Application:  3\n",
      "Reduce CV  5  ->  3  CV\n",
      "New Query:  {'eduList': ['phd', 'bachelor', 'master', 'certificate', 'undergraduate', 'diploma'], 'roleList': ['back-end developer', 'front end developer'], 'role_exp': 3.0, 'suitableList': ['front end developer', 'full stack developer', 'developer', 'back-end developer', 'software developer', 'software engineer']}\n",
      "Risk:  True\n",
      "Num CV ok:  3\n",
      "Rerank\n",
      "Reranking\n",
      "[1579, 104]\n"
     ]
    },
    {
     "name": "stderr",
     "output_type": "stream",
     "text": [
      " 38%|███▊      | 15/39 [01:18<02:05,  5.24s/it]"
     ]
    },
    {
     "name": "stdout",
     "output_type": "stream",
     "text": [
      "Time: 5.231488466262817\n",
      "Extracting Job Description\n"
     ]
    },
    {
     "name": "stderr",
     "output_type": "stream",
     "text": [
      "/home/quanghung20gg/anaconda3/lib/python3.11/site-packages/langchain_core/vectorstores.py:330: UserWarning: Relevance scores must be between 0 and 1, got [(Document(page_content='Languages:\\n- English\\n- Vietnamese\\nMajors:\\n- undergraduate, computer networking and communication, ho chi minh city university of technology, (GPA: 3.6)\\nWork:\\n- hung phat usa (0.5 years)\\n- private supermarket (0.5 years)\\n- mwg (0.5 years)\\n- etomil milk (0.5 years)\\n- ho chi minh city university of technology (6.5 years)\\nRoles:\\n- it support (0.5 years)\\n- inventory management staff (0.5 years)\\n- security camera supervisor (0.5 years)\\n- marketing staff (0.5 years)\\n- programmer (0.5 years)\\nSkills:\\n- system configuration\\n- management\\n- network administration\\n- project management\\n- web development\\n- mobile development\\n- game development\\n- security\\n- iot\\nProgramming languages:\\n- html (0.5 years)\\n- css (0.5 years)\\n- unity (0.5 years)\\n- wordpress (0.5 years)\\n- sql (0.5 years)\\nCities:\\n- thu duc\\n', metadata={'id': 1530}), -166.3349380627391), (Document(page_content='Languages:\\n- English\\nMajors:\\n- bachelor, information security, ho chi minh city university of technology and food industry, (GPA: 2.9)\\nWork:\\n- công ty c ổ  ph ầ n công ngh ệ tam khoadeveloper .net (1 years)\\nRoles:\\n- tester (0 years)\\n- researcher (0.5 years)\\n- software developer (1 years)\\nSkills:\\n- software development\\n- machine learning\\n- sql\\n- technical support\\nProgramming languages:\\n- .net (1 years)\\n- python (0.5 years)\\n- c# (1 years)\\n- sql (1 years)\\nCities:\\n- ho chi minh\\n', metadata={'id': 1841}), -172.14854352251405), (Document(page_content='Languages:\\n- English\\nMajors:\\n- undergraduate, information technology, ho chi minh city open university, (GPA: 3.6)\\nWork:\\n- m q -h o use (1.5 years)\\n- healthy heart project (0.5 years)\\nRoles:\\n- mobile app developer (0.5 years)\\n- web developer (0 years)\\n- software developer (0 years)\\nSkills:\\n- web development\\n- mobile app development\\n- customer service\\n- marketing\\n- database design\\n- api development\\nProgramming languages:\\n- java (0 years)\\n- javascript (0 years)\\n- python (0 years)\\n- spring mvc (0 years)\\n- react (0 years)\\n- react native (0 years)\\n- mysql (0 years)\\n- html (0 years)\\n- css (0 years)\\nCities:\\n- ho chi minh\\n', metadata={'id': 1240}), -173.33798827895333), (Document(page_content='Languages:\\n- English\\nMajors:\\n- undergraduate, information technology, ho chi minh city industry and trade college, (GPA: 3.6)\\nRoles:\\n- web developer (1.5 years)\\n- php programmer (1.5 years)\\nSkills:\\n- web application development\\n- database design\\n- debugging\\n- testing\\n- security vulnerability mitigation\\n- version control\\n- requirement analysis\\n- logical solution design\\n- collaboration with ui\\n- ux designers\\nProgramming languages:\\n- php (1.5 years)\\n- javascript (1.5 years)\\n- mysql (1.5 years)\\n- html (1.5 years)\\n- css (1.5 years)\\n- jquery (1.5 years)\\n- bootstrap (1.5 years)\\n- asp.net (1.5 years)\\nCities:\\n- ho chi minh\\n', metadata={'id': 191}), -173.75583685553738), (Document(page_content='Languages:\\n- English\\nMajors:\\n- bachelor, information technology, vnu-hcm university of science, (GPA: 3.6)\\nRoles:\\n- software engineer (0.5 years)\\n- web developer (0.5 years)\\nSkills:\\n- cloud storage\\n- devops\\n- machine learning\\n- database management\\n- artificial intelligence\\nProgramming languages:\\n- node (0.5 years)\\n- python (0.5 years)\\n- go (0.5 years)\\n- java (0.5 years)\\n- c++ (0.5 years)\\n- html (0.5 years)\\n- css (0.5 years)\\n- javascript (0.5 years)\\nCities:\\n- ho chi minh\\n', metadata={'id': 1488}), -174.24934205977155), (Document(page_content='Languages:\\n- English\\nMajors:\\n- bachelor, computer network, ho chi minh city university of industry and trade, (GPA: 3.6)\\nWork:\\n- alta media company (1.0 years)\\n- esuhai company (2.0 years)\\nRoles:\\n- project leader (2.0 years)\\n- it support (3.0 years)\\nSkills:\\n- network management\\n- server management\\n- equipment management\\n- software installation\\n- device error correction\\n- project management\\n- leadership\\n- communication\\nCities:\\n- ho chi minh\\nCertifications:\\n- IT applications\\nAwards:\\n- IT applications certification\\n', metadata={'id': 178}), -177.48557264981508)]\n",
      "  warnings.warn(\n",
      " 41%|████      | 16/39 [01:25<02:10,  5.66s/it]"
     ]
    },
    {
     "name": "stdout",
     "output_type": "stream",
     "text": [
      "End LLM\n",
      "New Query:  {'cityList': ['ho chi minh'], 'institutionList': ['ho chi minh city industry and trade college', 'ho chi minh city university of industry and trade'], 'eduList': ['phd', 'bachelor', 'master', 'certificate', 'undergraduate', 'diploma']}\n",
      "Extended Num Application:  6\n",
      "Not enough application\n",
      "New Query:  {'cityList': ['ho chi minh'], 'institutionList': ['ho chi minh city industry and trade college', 'ho chi minh city university of industry and trade']}\n",
      "[178, 191]\n",
      "Less -> Sematic Search\n",
      "Using Sematic Search\n",
      "Num CV ok:  4\n",
      "Rerank\n",
      "[1530, 178, 1841, 191]\n",
      "Time: 6.642096281051636\n",
      "Extracting Job Description\n"
     ]
    },
    {
     "name": "stderr",
     "output_type": "stream",
     "text": [
      " 44%|████▎     | 17/39 [01:30<02:04,  5.68s/it]"
     ]
    },
    {
     "name": "stdout",
     "output_type": "stream",
     "text": [
      "End LLM\n",
      "New Query:  {'institutionList': ['ho chi minh city open university'], 'eduList': ['phd', 'bachelor', 'master', 'certificate', 'undergraduate', 'diploma']}\n",
      "Extended Num Application:  7\n",
      "Num CV ok:  6\n",
      "Rerank\n",
      "Reranking\n",
      "[548, 1240, 1669, 1604, 1193]\n",
      "Time: 5.718532085418701\n",
      "Extracting Job Description\n",
      "End LLM\n",
      "New Query:  {'eduList': ['phd', 'bachelor', 'master', 'certificate', 'undergraduate', 'diploma'], 'roleList': ['data analysis', 'financial market data analyst', 'finance analyst', 'business analyst', 'analyst', 'sales analyst', 'data analyst'], 'role_exp': 0.5, 'suitableList': ['data analysis', 'financial market data analyst', 'finance analyst', 'business analyst', 'analyst', 'marketing analyst', 'sales analyst', 'data scientist', 'data analyst', 'research analyst']}\n",
      "Extended Num Application:  4\n",
      "Reduce CV  18  ->  4  CV\n",
      "New Query:  {'eduList': ['phd', 'bachelor', 'master', 'certificate', 'undergraduate', 'diploma'], 'roleList': ['business analyst', 'data analyst', 'financial market data analyst'], 'role_exp': 0.5, 'suitableList': ['data analysis', 'financial market data analyst', 'finance analyst', 'business analyst', 'analyst', 'marketing analyst', 'sales analyst', 'data scientist', 'data analyst']}\n",
      "Still more -> Reduce CV\n",
      "Risk:  True\n",
      "Num CV ok:  4\n",
      "Rerank\n",
      "Reranking\n"
     ]
    },
    {
     "name": "stderr",
     "output_type": "stream",
     "text": [
      " 46%|████▌     | 18/39 [01:35<01:52,  5.34s/it]"
     ]
    },
    {
     "name": "stdout",
     "output_type": "stream",
     "text": [
      "[548, 1428, 135]\n",
      "Time: 4.551875591278076\n",
      "Extracting Job Description\n",
      "End LLM\n",
      "New Query:  {'eduList': ['phd', 'bachelor', 'master', 'certificate', 'undergraduate', 'diploma'], 'roleList': ['embedded systems engineer', 'developer', 'embedded developer', 'it developer'], 'suitableList': ['ai engineer', 'fullstack engineer', 'embedded systems engineer', 'it developer', 'software developer', 'software engineer', 'embedded developer', 'supplier quality engineer']}\n",
      "Extended Num Application:  3\n",
      "Reduce CV  12  ->  3  CV\n",
      "New Query:  {'eduList': ['phd', 'bachelor', 'master', 'certificate', 'undergraduate', 'diploma'], 'roleList': ['embedded developer'], 'suitableList': ['ai engineer', 'fullstack engineer', 'embedded systems engineer', 'software developer', 'software engineer', 'embedded developer', 'supplier quality engineer']}\n",
      "Risk:  True\n",
      "Not enough application\n",
      "Reduce Risk -> Get more CV\n",
      "New Query:  {'eduList': ['phd', 'bachelor', 'master', 'certificate', 'undergraduate', 'diploma'], 'roleList': ['embedded systems engineer', 'developer', 'embedded developer'], 'suitableList': ['ai engineer', 'fullstack engineer', 'embedded systems engineer', 'it developer', 'software developer', 'software engineer', 'embedded developer', 'supplier quality engineer']}\n",
      "[850, 642, 409, 345, 92, 1953, 1493, 705, 2073, 279, 1703]\n",
      "More -> Reduce CV\n",
      "Num CV ok:  3\n",
      "Rerank\n",
      "Reranking\n"
     ]
    },
    {
     "name": "stderr",
     "output_type": "stream",
     "text": [
      " 49%|████▊     | 19/39 [01:40<01:45,  5.26s/it]"
     ]
    },
    {
     "name": "stdout",
     "output_type": "stream",
     "text": [
      "[642, 2073]\n",
      "Time: 5.090407133102417\n",
      "Extracting Job Description\n"
     ]
    },
    {
     "name": "stderr",
     "output_type": "stream",
     "text": [
      " 51%|█████▏    | 20/39 [01:45<01:37,  5.14s/it]"
     ]
    },
    {
     "name": "stdout",
     "output_type": "stream",
     "text": [
      "End LLM\n",
      "New Query:  {'eduList': ['phd', 'bachelor', 'master', 'certificate', 'undergraduate', 'diploma'], 'roleList': ['it support'], 'suitableList': ['customer service staff', 'change management specialist', 'e-commerce specialist', 'communication specialist', 'digital marketing specialist', 'office assistant', 'research assistance', 'it developer', 'receptionist', 'customer service manager', 'it support']}\n",
      "Extended Num Application:  3\n",
      "Num CV ok:  2\n",
      "Rerank\n",
      "[1530, 178]\n",
      "Time: 4.8510096073150635\n",
      "Extracting Job Description\n",
      "End LLM\n",
      "New Query:  {'cityList': ['ha noi'], 'eduList': ['phd', 'bachelor', 'master', 'certificate', 'undergraduate', 'diploma'], 'roleList': ['mobile app developer', 'android developer', ' web developer', 'developer'], 'suitableList': ['flutter developer', 'unity developer', 'java developer', 'mobile app developer', ' web developer', 'android developer', 'software developer', 'developer']}\n",
      "Extended Num Application:  4\n",
      "Reduce CV  13  ->  4  CV\n",
      "New Query:  {'cityList': ['ha noi'], 'eduList': ['phd', 'bachelor', 'master', 'certificate', 'undergraduate', 'diploma'], 'roleList': ['mobile app developer', 'android developer', ' web developer', 'developer'], 'suitableList': ['flutter developer', 'unity developer', 'java developer', 'mobile app developer', ' web developer', 'android developer', 'developer']}\n",
      "Still more -> Reduce CV\n",
      "Risk:  True\n",
      "Num CV ok:  4\n",
      "Rerank\n",
      "Reranking\n"
     ]
    },
    {
     "name": "stderr",
     "output_type": "stream",
     "text": [
      " 54%|█████▍    | 21/39 [01:50<01:32,  5.14s/it]"
     ]
    },
    {
     "name": "stdout",
     "output_type": "stream",
     "text": [
      "[651, 222, 2004]\n",
      "Time: 5.1399126052856445\n",
      "Extracting Job Description\n",
      "End LLM\n",
      "New Query:  {'cityList': ['ha noi'], 'institutionList': ['hanoi university of science and technology', 'hanoi university of business and technology'], 'eduList': ['phd', 'bachelor', 'master', 'certificate', 'undergraduate', 'diploma']}\n",
      "Extended Num Application:  8\n",
      "Num CV ok:  7\n",
      "Rerank\n",
      "Reranking\n"
     ]
    },
    {
     "name": "stderr",
     "output_type": "stream",
     "text": [
      " 56%|█████▋    | 22/39 [01:55<01:29,  5.26s/it]"
     ]
    },
    {
     "name": "stdout",
     "output_type": "stream",
     "text": [
      "[345, 222, 2083, 19, 1733, 1104]\n",
      "Time: 5.553864002227783\n",
      "Extracting Job Description\n",
      "End LLM\n",
      "New Query:  {'cityList': ['ho chi minh'], 'eduList': ['phd', 'bachelor', 'master', 'certificate', 'undergraduate', 'diploma'], 'roleList': ['back-end developer', 'developer', 'front end developer', 'full stack developer'], 'role_exp': 0.25, 'suitableList': ['net developer', 'front end developer', 'full stack developer', 'it developer', 'node.js developer', 'back-end developer', 'developer', 'embedded developer']}\n",
      "Extended Num Application:  7\n",
      "Reduce CV  12  ->  7  CV\n"
     ]
    },
    {
     "name": "stderr",
     "output_type": "stream",
     "text": [
      " 59%|█████▉    | 23/39 [02:01<01:26,  5.43s/it]"
     ]
    },
    {
     "name": "stdout",
     "output_type": "stream",
     "text": [
      "New Query:  {'cityList': ['ho chi minh'], 'eduList': ['phd', 'bachelor', 'master', 'certificate', 'undergraduate', 'diploma'], 'roleList': ['back-end developer', 'developer', 'front end developer', 'full stack developer'], 'role_exp': 0.25, 'suitableList': ['front end developer', 'full stack developer', 'it developer', 'node.js developer', 'back-end developer', 'developer']}\n",
      "Still more -> Reduce CV\n",
      "Risk:  True\n",
      "Num CV ok:  7\n",
      "Rerank\n",
      "Reranking\n",
      "[37, 1715, 595, 439, 751]\n",
      "Time: 5.829308748245239\n",
      "Extracting Job Description\n"
     ]
    },
    {
     "name": "stderr",
     "output_type": "stream",
     "text": [
      "/home/quanghung20gg/anaconda3/lib/python3.11/site-packages/langchain_core/vectorstores.py:330: UserWarning: Relevance scores must be between 0 and 1, got [(Document(page_content='Languages:\\n- English\\nMajors:\\n- bachelor, software engineer, fpt university, (GPA: 3.6)\\nRoles:\\n- developer (0 years)\\nSkills:\\n- software development\\n- teamwork\\n- problem solving\\nProgramming languages:\\n- c# (0 years)\\n- java (0 years)\\n- asp.net mvc (0 years)\\n- asp.net core api (0 years)\\n- sql server (0 years)\\n- mongodb (0 years)\\n- angular (0 years)\\n- bootstrap (0 years)\\nCities:\\n- cam pha\\n', metadata={'id': 1953}), -261.267173998253), (Document(page_content='Languages:\\n- English\\nMajors:\\n- undergraduate, computer science, (university name), (GPA: 4.0)\\nWork:\\n- center name (0.5 years)\\n- fpt information system (0.5 years)\\nRoles:\\n- research assistant (0.5 years)\\n- developer (0.5 years)\\n- software engineer (0.5 years)\\nSkills:\\n- api development\\n- database management\\n- authentication\\n- authorization\\n- game development\\n- vr\\n- ar development\\nProgramming languages:\\n- c++ (0.5 years)\\n- c# (0.5 years)\\n- java (0.5 years)\\n- python (0.5 years)\\n- sql (0.5 years)\\n- spring boot (0.5 years)\\n- unity (0.5 years)\\n- sfml (0.5 years)\\nAwards:\\n- Second prize, (School name) Informatics Competition for High School Students\\n- First place, (School name) Devfest (City name) 2023\\n', metadata={'id': 2073}), -267.9382700139204), (Document(page_content='Languages:\\n- English\\nMajors:\\n- bachelor, information technology, tien giang university, (GPA: 3.6)\\nWork:\\n- sharework corp (0.5 years)\\nRoles:\\n- software developer (0 years)\\n-  (0.5 years)\\nSkills:\\n- user interface design\\n- mobile app development\\n- web development\\n- database management\\n- api integration\\n- figma\\n- linux\\n- docker\\nProgramming languages:\\n- flutter (0.5 years)\\n- java (0 years)\\n- c# (0 years)\\n- kotlin (0 years)\\n- spring boot (0 years)\\n- sql (0 years)\\n- javascript (0 years)\\n- php (0 years)\\nCities:\\n- ti ề n giang.\\n', metadata={'id': 60}), -267.9546070336312), (Document(page_content='Languages:\\n- English\\nMajors:\\n- bachelor, information technology, van hien university, (GPA: 3.6)\\nRoles:\\n- developer (0 years)\\nSkills:\\n- web development\\n- api development\\n- database management\\n- version control\\nProgramming languages:\\n- c# (0 years)\\n- .net (0 years)\\n- .net core (0 years)\\n- node (0 years)\\n- angular (0 years)\\n- html (0 years)\\n- css (0 years)\\n- sql (0 years)\\n', metadata={'id': 1493}), -270.24428818977685), (Document(page_content='Languages:\\n- English\\nMajors:\\n- undergraduate, software development, ispace cyber security college, (GPA: 3.6)\\nRoles:\\n- developer (0.5 years)\\nSkills:\\n- docker\\n- reactjs\\n- api development\\n- database design\\n- clean architecture\\nProgramming languages:\\n- c# (0.5 years)\\n- node (0.5 years)\\n- react (0.5 years)\\n- sql (0.5 years)\\n- mongodb (0.5 years)\\n- mysql (0.5 years)\\n- express (0.5 years)\\nCertifications:\\n- AWS Academy Graduate - AWS Academy Cloud Foundations - Amazon Web Services (AWS)\\nAwards:\\n- AWS Academy Graduate - AWS Academy Cloud Foundations - Amazon Web Services (AWS)\\n', metadata={'id': 705}), -271.3240046678784), (Document(page_content='Languages:\\n- English\\nMajors:\\n- undergraduate, software development, ispace cyber security college, (GPA: 3.6)\\nRoles:\\n- backend developer (0 years)\\nSkills:\\n- role\\n- based access control\\n- authentication\\n- docker\\n- clean architecture\\n- api development\\n- database management\\n- middleware\\n- jwt\\nProgramming languages:\\n- c# (0 years)\\n- javascript (0 years)\\n- asp .net core (0 years)\\n- react (0 years)\\n- node (0 years)\\n- express (0 years)\\n- mysql (0 years)\\n- mongodb (0 years)\\nCertifications:\\n- AWS Academy Cloud Foundations\\nAwards:\\n- AWS Academy Cloud Foundations\\n', metadata={'id': 50}), -271.56687652653596)]\n",
      "  warnings.warn(\n",
      " 62%|██████▏   | 24/39 [02:06<01:18,  5.24s/it]"
     ]
    },
    {
     "name": "stdout",
     "output_type": "stream",
     "text": [
      "End LLM\n",
      "New Query:  {'eduList': ['phd', 'bachelor', 'master', 'certificate', 'undergraduate', 'diploma'], 'roleList': ['back-end developer', 'developer', 'front end developer', 'full stack developer'], 'role_exp': 5.0}\n",
      "Extended Num Application:  6\n",
      "Not enough application\n",
      "New Query:  {'roleList': ['front end developer', 'full stack developer', 'it developer', 'back-end developer', 'developer'], 'role_exp': 4.5}\n",
      "[502, 708, 23]\n",
      "Less -> Sematic Search\n",
      "Using Sematic Search\n",
      "Num CV ok:  4\n",
      "Rerank\n",
      "[1953, 23, 502, 708]\n",
      "Time: 4.794861555099487\n",
      "Extracting Job Description\n"
     ]
    },
    {
     "name": "stderr",
     "output_type": "stream",
     "text": [
      " 64%|██████▍   | 25/39 [02:11<01:12,  5.18s/it]"
     ]
    },
    {
     "name": "stdout",
     "output_type": "stream",
     "text": [
      "End LLM\n",
      "New Query:  {'eduList': ['phd', 'bachelor', 'master', 'certificate', 'undergraduate', 'diploma'], 'skillList': ['tool development', 'frontend development', 'automated program development', 'software development', 'devops', 'jenkins'], 'suitableList': ['nlp engineer', 'website administrator', 'ai engineer', 'hr administrator', 'software engineer', 'systems administrator', 'it developer', 'devops', 'network administrator', 'back-end developer', 'machine learning engineer', 'dataops engineer', 'developer', 'admin executive']}\n",
      "Extended Num Application:  4\n",
      "Reduce CV  15  ->  4  CV\n",
      "New Query:  {'eduList': ['phd', 'bachelor', 'master', 'certificate', 'undergraduate', 'diploma'], 'skillList': ['devops'], 'suitableList': ['nlp engineer', 'ai engineer', 'software engineer', 'systems administrator', 'it developer', 'devops', 'network administrator', 'machine learning engineer', 'dataops engineer', 'developer']}\n",
      "Risk:  True\n",
      "Num CV ok:  3\n",
      "Rerank\n",
      "[1488, 502, 850]\n",
      "Time: 5.016902446746826\n",
      "Extracting Job Description\n"
     ]
    },
    {
     "name": "stderr",
     "output_type": "stream",
     "text": [
      " 67%|██████▋   | 26/39 [02:16<01:06,  5.14s/it]"
     ]
    },
    {
     "name": "stdout",
     "output_type": "stream",
     "text": [
      "End LLM\n",
      "New Query:  {'eduList': ['phd', 'bachelor', 'master', 'certificate', 'undergraduate', 'diploma'], 'roleList': ['php developer', ' web developer', 'developer', 'java developer'], 'role_exp': 2.5, 'suitableList': ['net developer', 'java developer', 'php developer', ' web developer', 'android developer', 'developer']}\n",
      "Extended Num Application:  4\n",
      "Num CV ok:  3\n",
      "Rerank\n",
      "[1579, 2023, 587]\n",
      "Time: 5.071263551712036\n",
      "Extracting Job Description\n",
      "End LLM\n",
      "New Query:  {'cityList': ['ha noi'], 'eduList': ['phd', 'bachelor', 'master', 'certificate', 'undergraduate', 'diploma'], 'roleList': ['strategic planning', 'production planner', 'training ', 'financial planner'], 'role_exp': 1.5, 'suitableList': ['financial planner', 'project coordinator', 'event coordinator', 'strategic planning', 'production planner', 'insurance advisor']}\n",
      "Extended Num Application:  6\n",
      "Not enough application\n",
      "New Query:  {'cityList': ['ha noi'], 'roleList': ['financial planner', 'strategic planning', 'production planner', 'training ', 'project management'], 'role_exp': 1.35, 'suitableList': ['financial planner', 'project coordinator', 'event coordinator', 'volunteer coordinator', 'strategic planning', 'production planner', 'ui designer', 'insurance advisor']}\n",
      "[]\n",
      "Less -> Sematic Search\n",
      "Using Sematic Search\n",
      "Num CV ok:  4\n"
     ]
    },
    {
     "name": "stderr",
     "output_type": "stream",
     "text": [
      "/home/quanghung20gg/anaconda3/lib/python3.11/site-packages/langchain_core/vectorstores.py:330: UserWarning: Relevance scores must be between 0 and 1, got [(Document(page_content='Languages:\\n- English\\n- Vietnamese\\nMajors:\\n- bachelor, vietnamese culture and tourism, thai nguyen university of science, (GPA: 3.6)\\nWork:\\n- freelance (5 years)\\n- phu thai media joint stock company (3 years)\\n- van minh trading co., ltd (1 years)\\n- phu thai pharmaceutical joint stock company (2 years)\\n- hapimo vietnam joint stock company (1.5 years)\\nRoles:\\n- content writer (5 years)\\n- public relations  (3 years)\\n- team leader (3.5 years)\\n- brand manager (9 years)\\n- marketing manager (9 years)\\n- content manager (9 years)\\nSkills:\\n- br\\n- building\\n- content creation\\n- social media management\\n- website management\\n- team management\\n- communication\\n- strategic planning\\n- analysis\\n', metadata={'id': 972}), -195.03266652234498), (Document(page_content='Languages:\\n- English\\n- Vietnamese\\nMajors:\\n- bachelor, marketing, nguyen tat thanh university, (GPA: 2.97)\\nWork:\\n- công ty tnhh học viện mặt trời xanh (1 years)\\nRoles:\\n- content marketing (1 years)\\nSkills:\\n- office suite\\n- problem solving\\n- time management\\n- photography\\n- video editing\\n- canva design\\n- social media management\\n- content creation\\nCities:\\n- ho chi minh\\nAwards:\\n- SINH VIÊN VỚI Ý TƯỞNG SÁNG TẠO - Top 40\\n- VÌ BẠN XỨNG ĐÁNG - 1st Place\\n- DESIGN THOUGHT OPEN INNOVATION - 1st Place\\n', metadata={'id': 841}), -201.15684039045638), (Document(page_content='Languages:\\n- English\\nMajors:\\n- bachelor, business administration - marketing, fpt university, (GPA: 3.2)\\nWork:\\n- nha khoa parkway (1 years)\\n- tổ chức giáo dục fpt (0.5 years)\\n- trung tâm tin học ict hà nội (1 years)\\n- công ty cổ phân đầu tư và phát triển hạ tầng việt nam (1.5 years)\\n- sconnect vietnam (1.5 years)\\nRoles:\\n- content marketing (1.5 years)\\n- digital marketing (1 years)\\n- social media manager (1.5 years)\\n- marketing executive (1.5 years)\\nSkills:\\n- market research\\n- content creation\\n- social media marketing\\n- digital marketing\\n- advertising campaign management\\n- customer journey optimization\\n- team management\\n- seo\\nCities:\\n- ha noi\\n', metadata={'id': 1749}), -201.89407095878295), (Document(page_content='Languages:\\n- English\\n- Vietnamese\\nMajors:\\n- undergraduate, computer networking and communication, ho chi minh city university of technology, (GPA: 3.6)\\nWork:\\n- hung phat usa (0.5 years)\\n- private supermarket (0.5 years)\\n- mwg (0.5 years)\\n- etomil milk (0.5 years)\\n- ho chi minh city university of technology (6.5 years)\\nRoles:\\n- it support (0.5 years)\\n- inventory management staff (0.5 years)\\n- security camera supervisor (0.5 years)\\n- marketing staff (0.5 years)\\n- programmer (0.5 years)\\nSkills:\\n- system configuration\\n- management\\n- network administration\\n- project management\\n- web development\\n- mobile development\\n- game development\\n- security\\n- iot\\nProgramming languages:\\n- html (0.5 years)\\n- css (0.5 years)\\n- unity (0.5 years)\\n- wordpress (0.5 years)\\n- sql (0.5 years)\\nCities:\\n- thu duc\\n', metadata={'id': 1530}), -206.04008004903477), (Document(page_content='Languages:\\n- English\\nMajors:\\n- certificate, online marketing, inet academy, (GPA: 3.6)\\n- bachelor, business administration, hanoi open university, (GPA: 3.6)\\nWork:\\n- ben computer (3 years)\\n- sakura electrical co., ltd (2 years)\\n- hung viet cancel hospital (4 years)\\n- redsun iti coporation (2.5 years)\\n- ecomobi vietnam co., ltd (3 years)\\n- clever group (1 years)\\n- mcv group, mcv s&e (1.5 years)\\nRoles:\\n- sales manager (3 years)\\n- public relations executive (4 years)\\n- marketing manager (2.5 years)\\n- team leader (3 years)\\n- project manager (1 years)\\n- booking director (1.5 years)\\nSkills:\\n- social media marketing\\n- influencer marketing\\n- campaign management\\n- team management\\n- communication\\n- public relations\\n- sales\\n- marketing\\nCities:\\n- ha noi\\nCertifications:\\n- Presentation / Public Speaking\\n- Customer Mindset\\n- Effective team management skills\\nAwards:\\n- Presentation / Public Speaking (HRD Academy)\\n- Customer Mindset (Thien An Training Company)\\n- Effective team management skills (HRD Academy)\\n', metadata={'id': 786}), -207.12638115407597), (Document(page_content='Languages:\\n- English\\nMajors:\\n- bachelor, finance and banking, finance academy, (GPA: 3.6)\\nWork:\\n- công ty cổ phần magenweb việt nam (leadup) (0.5 years)\\n- công ty cổ phần magenweb việt nam (vlance.vn) (1 years)\\n- công ty tnhh tư vấn, thương mại và dịch vụ nhiệt đới - gpo (0.5 years)\\nRoles:\\n- marketing analyst (1.5 years)\\n- digital marketing (1.5 years)\\n- seo (1.5 years)\\n- content marketing (1.5 years)\\nSkills:\\n- content marketing\\n- seo\\n- google ads\\n- facebook ads\\n- email marketing\\n- social media marketing\\n- website analytics\\n- project management\\nCities:\\n- ha noi\\nCertifications:\\n- The Fundamentals of Digital Marketing\\nAwards:\\n- TOEIC Listening & Reading: 845 points\\n', metadata={'id': 1513}), -211.62205452158875)]\n",
      "  warnings.warn(\n",
      " 69%|██████▉   | 27/39 [02:26<01:17,  6.44s/it]"
     ]
    },
    {
     "name": "stdout",
     "output_type": "stream",
     "text": [
      "New Query:  {'cityList': ['ha noi'], 'eduList': ['phd', 'bachelor', 'master', 'certificate', 'undergraduate', 'diploma'], 'roleList': ['content marketing', 'marketing', 'brand marketing', 'marketing communications'], 'role_exp': 1.5, 'suitableList': ['marketing manager', 'marketing officer', 'marketing analyst', 'marketing assistant', 'digital marketing specialist', 'marketing executive']}\n",
      "Extended Num Application:  6\n",
      "Not enough application\n",
      "New Query:  {'cityList': ['ha noi'], 'roleList': ['content marketing', 'marketing', 'brand marketing', 'marketing executive', 'marketing communications'], 'role_exp': 1.35, 'suitableList': ['marketing manager', 'marketing officer', 'marketing', 'marketing analyst', 'marketing assistant', 'digital marketing specialist', 'marketing executive', 'marketing staff']}\n",
      "[1371, 1513, 1749, 2109, 424]\n",
      "Num CV ok:  5\n",
      "New Query:  {'cityList': ['ha noi'], 'eduList': ['phd', 'bachelor', 'master', 'certificate', 'undergraduate', 'diploma'], 'roleList': ['content creator', 'content marketing', 'content writer'], 'role_exp': 1.5, 'suitableList': ['content writer', 'content marketing', 'front end developer', 'developer', 'content creator', 'content marketing manager']}\n",
      "Extended Num Application:  6\n",
      "Num CV ok:  4\n",
      "Rerank\n",
      "[1530, 1749, 841, 972]\n",
      "Time: 9.46505618095398\n",
      "Extracting Job Description\n",
      "End LLM\n",
      "New Query:  {'cityList': ['ho chi minh'], 'eduList': ['phd', 'bachelor', 'master', 'certificate', 'undergraduate', 'diploma'], 'roleList': ['strategic planning', 'production planner', 'training ', 'financial planner'], 'role_exp': 1.5, 'skillList': ['financial planning', 'production planning', 'decision making', 'planning', 'strategic planning', 'building'], 'suitableList': ['marketing manager', 'marketing officer', 'content writer', 'e-commerce specialist', 'digital marketing manager', 'content marketing', 'marketing assistant', 'marketing analyst', 'marketing executive', 'digital marketing specialist', 'media specialist', 'social media marketing', 'communications manager', 'social media manager', 'digital marketing ', 'content marketing manager', 'marketing staff', 'sales associate']}\n",
      "Extended Num Application:  4\n",
      "Not enough application\n",
      "New Query:  {'cityList': ['ho chi minh'], 'roleList': ['financial planner', 'strategic planning', 'production planner', 'training ', 'project management'], 'role_exp': 1.35, 'skillList': ['financial planning', 'training', 'production planning', 'decision making', 'planning', 'strategic planning', 'building', 'budgeting'], 'suitableList': ['content marketing', 'communication specialist', 'marketing analyst', 'digital marketing specialist', 'marketing executive', 'social media marketing', 'marketing staff', 'research associate', 'sales associate', 'digital marketing manager', 'media specialist', 'qa manager', 'marketing officer', 'brand manager', 'marketing assistant', 'communications manager', 'social media manager', 'digital marketing ', 'marketing manager', 'content writer', 'e-commerce specialist', 'content marketing manager']}\n",
      "[]\n",
      "Less -> Sematic Search\n",
      "Using Sematic Search\n",
      "Num CV ok:  3\n"
     ]
    },
    {
     "name": "stderr",
     "output_type": "stream",
     "text": [
      "/home/quanghung20gg/anaconda3/lib/python3.11/site-packages/langchain_core/vectorstores.py:330: UserWarning: Relevance scores must be between 0 and 1, got [(Document(page_content='Languages:\\n- English\\n- Vietnamese\\nMajors:\\n- bachelor, marketing, nguyen tat thanh university, (GPA: 2.97)\\nWork:\\n- công ty tnhh học viện mặt trời xanh (1 years)\\nRoles:\\n- content marketing (1 years)\\nSkills:\\n- office suite\\n- problem solving\\n- time management\\n- photography\\n- video editing\\n- canva design\\n- social media management\\n- content creation\\nCities:\\n- ho chi minh\\nAwards:\\n- SINH VIÊN VỚI Ý TƯỞNG SÁNG TẠO - Top 40\\n- VÌ BẠN XỨNG ĐÁNG - 1st Place\\n- DESIGN THOUGHT OPEN INNOVATION - 1st Place\\n', metadata={'id': 841}), -164.96167705044442), (Document(page_content='Languages:\\n- English\\nMajors:\\n- bachelor, business administration - marketing, fpt university, (GPA: 3.2)\\nWork:\\n- nha khoa parkway (1 years)\\n- tổ chức giáo dục fpt (0.5 years)\\n- trung tâm tin học ict hà nội (1 years)\\n- công ty cổ phân đầu tư và phát triển hạ tầng việt nam (1.5 years)\\n- sconnect vietnam (1.5 years)\\nRoles:\\n- content marketing (1.5 years)\\n- digital marketing (1 years)\\n- social media manager (1.5 years)\\n- marketing executive (1.5 years)\\nSkills:\\n- market research\\n- content creation\\n- social media marketing\\n- digital marketing\\n- advertising campaign management\\n- customer journey optimization\\n- team management\\n- seo\\nCities:\\n- ha noi\\n', metadata={'id': 1749}), -167.551141010361), (Document(page_content='Languages:\\n- English\\nMajors:\\n- bachelor, finance and banking, finance academy, (GPA: 3.6)\\nWork:\\n- công ty cổ phần magenweb việt nam (leadup) (0.5 years)\\n- công ty cổ phần magenweb việt nam (vlance.vn) (1 years)\\n- công ty tnhh tư vấn, thương mại và dịch vụ nhiệt đới - gpo (0.5 years)\\nRoles:\\n- marketing analyst (1.5 years)\\n- digital marketing (1.5 years)\\n- seo (1.5 years)\\n- content marketing (1.5 years)\\nSkills:\\n- content marketing\\n- seo\\n- google ads\\n- facebook ads\\n- email marketing\\n- social media marketing\\n- website analytics\\n- project management\\nCities:\\n- ha noi\\nCertifications:\\n- The Fundamentals of Digital Marketing\\nAwards:\\n- TOEIC Listening & Reading: 845 points\\n', metadata={'id': 1513}), -175.72471103650875), (Document(page_content=\"Languages:\\n- Japanese\\n- English\\nMajors:\\n- bachelor, business management, international university - ho chi minh city national university, (GPA: 3.6)\\nWork:\\n- beowulf blockchain technology corporation (0.5 years)\\n- vus english center (1 years)\\n- fpt telecom (1 years)\\n- l'oréal vietnam - lancôme (0.5 years)\\n- ovia beauty store (3.5 years)\\nRoles:\\n- business development (0.5 years)\\n- telemarketing (1 years)\\n- digital marketing (1 years)\\n- trade marketing (0.5 years)\\n- content creator (3.5 years)\\n- seller (3.5 years)\\n- founder (3.5 years)\\nSkills:\\n- management\\n- social media\\n- communication\\n- content creation\\n- marketing\\n- sales\\n- teamwork\\n- problem\\n- solving\\nCities:\\n- ho chi minh\\nCertifications:\\n- Facebook Marketing\\n- Photoshop\\n- SEO Content Marketing\\n- IELTS 5.5 overall (6.0 Speaking & Writing) by IDP Education (3/2021)\\nAwards:\\n- Facebook Marketing\\n- Photoshop\\n- SEO Content Marketing\\n- IELTS 5.5 overall (6.0 Speaking & Writing) by IDP Education (3/2021)\\n\", metadata={'id': 618}), -178.9647192607119)]\n",
      "  warnings.warn(\n"
     ]
    },
    {
     "name": "stdout",
     "output_type": "stream",
     "text": [
      "New Query:  {'cityList': ['ho chi minh'], 'eduList': ['phd', 'bachelor', 'master', 'certificate', 'undergraduate', 'diploma'], 'roleList': ['content marketing', 'marketing', 'brand marketing', 'marketing communications'], 'role_exp': 1.5, 'skillList': ['email marketing', 'marketing', 'content marketing', 'social media marketing', 'digital marketing', 'marketing strategy'], 'suitableList': ['marketing manager', 'marketing officer', 'content writer', 'e-commerce specialist', 'digital marketing manager', 'content marketing', 'marketing assistant', 'marketing analyst', 'marketing executive', 'digital marketing specialist', 'media specialist', 'social media marketing', 'communications manager', 'social media manager', 'digital marketing ', 'content marketing manager', 'marketing staff', 'sales associate']}\n",
      "Extended Num Application:  4\n",
      "Not enough application\n",
      "New Query:  {'cityList': ['ho chi minh'], 'roleList': ['content marketing', 'marketing', 'brand marketing', 'marketing executive', 'marketing communications'], 'role_exp': 1.35, 'skillList': ['email marketing', 'marketing', 'content marketing', 'social media marketing', 'marketing campaign design', 'advertising campaign management', 'digital marketing', 'marketing strategy'], 'suitableList': ['content marketing', 'communication specialist', 'marketing analyst', 'digital marketing specialist', 'marketing executive', 'social media marketing', 'marketing staff', 'research associate', 'sales associate', 'digital marketing manager', 'media specialist', 'qa manager', 'marketing officer', 'brand manager', 'marketing assistant', 'communications manager', 'social media manager', 'digital marketing ', 'marketing manager', 'content writer', 'e-commerce specialist', 'content marketing manager']}\n",
      "[468]\n",
      "Less -> Sematic Search\n",
      "Using Sematic Search\n",
      "Num CV ok:  3\n",
      "New Query:  {'cityList': ['ho chi minh'], 'eduList': ['phd', 'bachelor', 'master', 'certificate', 'undergraduate', 'diploma'], 'roleList': ['content creator', 'content marketing', 'content writer'], 'role_exp': 1.5, 'skillList': ['content writing', 'value creation', 'content marketing', 'creative concept development', 'content management', 'content creation'], 'suitableList': ['marketing manager', 'marketing officer', 'content writer', 'e-commerce specialist', 'digital marketing manager', 'content marketing', 'marketing assistant', 'marketing analyst', 'marketing executive', 'digital marketing specialist', 'media specialist', 'social media marketing', 'communications manager', 'social media manager', 'digital marketing ', 'content marketing manager', 'marketing staff', 'sales associate']}\n",
      "Extended Num Application:  4\n",
      "Not enough application\n"
     ]
    },
    {
     "name": "stderr",
     "output_type": "stream",
     "text": [
      " 72%|███████▏  | 28/39 [02:34<01:17,  7.08s/it]"
     ]
    },
    {
     "name": "stdout",
     "output_type": "stream",
     "text": [
      "New Query:  {'cityList': ['ho chi minh'], 'roleList': ['content creator', 'content marketing', 'content writer', 'content marketing manager'], 'role_exp': 1.35, 'skillList': ['content writing', 'value creation', 'content marketing', 'creative concept development', 'game development', 'content management', 'content creation', 'information synthesis'], 'suitableList': ['content marketing', 'communication specialist', 'marketing analyst', 'digital marketing specialist', 'marketing executive', 'social media marketing', 'marketing staff', 'research associate', 'sales associate', 'digital marketing manager', 'media specialist', 'qa manager', 'marketing officer', 'brand manager', 'marketing assistant', 'communications manager', 'social media manager', 'digital marketing ', 'marketing manager', 'content writer', 'e-commerce specialist', 'content marketing manager']}\n",
      "[841, 1629]\n",
      "Less -> Sematic Search\n",
      "Using Sematic Search\n",
      "Num CV ok:  3\n",
      "Rerank\n",
      "[1513, 1749, 841]\n",
      "Time: 8.567307472229004\n",
      "Extracting Job Description\n"
     ]
    },
    {
     "name": "stderr",
     "output_type": "stream",
     "text": [
      " 74%|███████▍  | 29/39 [02:40<01:05,  6.55s/it]"
     ]
    },
    {
     "name": "stdout",
     "output_type": "stream",
     "text": [
      "End LLM\n",
      "New Query:  {'institutionList': ['national economics university (neu)'], 'eduList': ['phd', 'bachelor', 'master', 'certificate', 'undergraduate', 'diploma']}\n",
      "Extended Num Application:  30\n",
      "Not enough application\n",
      "New Query:  {'institutionList': ['university of economics', 'national economics university (neu)']}\n",
      "[1214, 1274, 1690, 424, 463, 8, 1941, 2013, 495, 324, 227, 1783, 310, 561, 732, 406, 606, 280, 738, 124, 1761, 1993, 2109, 1722, 1291]\n",
      "Num CV ok:  25\n",
      "Rerank\n",
      "[1214, 124, 1274, 1291, 1690, 1722, 1761, 1783, 1941, 1993, 2013, 2109, 227, 280, 310, 324, 406, 424, 463, 495, 561, 606, 732, 738, 8]\n",
      "Time: 5.298303127288818\n",
      "Extracting Job Description\n"
     ]
    },
    {
     "name": "stderr",
     "output_type": "stream",
     "text": [
      " 77%|███████▋  | 30/39 [02:44<00:53,  5.96s/it]"
     ]
    },
    {
     "name": "stdout",
     "output_type": "stream",
     "text": [
      "End LLM\n",
      "New Query:  {'institutionList': ['university of economics', 'university of economics and law'], 'eduList': ['phd', 'bachelor', 'master', 'certificate', 'undergraduate', 'diploma']}\n",
      "Extended Num Application:  4\n",
      "Num CV ok:  4\n",
      "Rerank\n",
      "Reranking\n",
      "[692, 443, 1901]\n",
      "Time: 4.603946924209595\n",
      "Extracting Job Description\n"
     ]
    },
    {
     "name": "stderr",
     "output_type": "stream",
     "text": [
      " 79%|███████▉  | 31/39 [02:49<00:45,  5.68s/it]"
     ]
    },
    {
     "name": "stdout",
     "output_type": "stream",
     "text": [
      "End LLM\n",
      "New Query:  {'institutionList': ['ho chi minh city open university', 'hcmc open university'], 'eduList': ['phd', 'bachelor', 'master', 'certificate', 'undergraduate', 'diploma']}\n",
      "Extended Num Application:  11\n",
      "Not enough application\n",
      "New Query:  {'institutionList': ['international university - ho chi minh city national university', 'ho chi minh city open university', 'hcmc open university']}\n",
      "[456, 618, 533, 548, 1669, 1604, 1240, 1193]\n",
      "Num CV ok:  8\n",
      "Rerank\n",
      "[1193, 1240, 1604, 1669, 456, 533, 548, 618]\n",
      "Time: 5.01920223236084\n",
      "Extracting Job Description\n"
     ]
    },
    {
     "name": "stderr",
     "output_type": "stream",
     "text": [
      " 82%|████████▏ | 32/39 [02:55<00:40,  5.76s/it]"
     ]
    },
    {
     "name": "stdout",
     "output_type": "stream",
     "text": [
      "End LLM\n",
      "New Query:  {'institutionList': ['ho chi minh city university of technology and education', 'ho chi minh city university of technology'], 'eduList': ['phd', 'bachelor', 'master', 'certificate', 'undergraduate', 'diploma']}\n",
      "Extended Num Application:  4\n",
      "Reduce CV  6  ->  4  CV\n",
      "New Query:  {'institutionList': ['ho chi minh city university of technology and education', 'ho chi minh city university of technology'], 'eduList': ['phd', 'bachelor', 'master', 'certificate', 'undergraduate', 'diploma']}\n",
      "Still more -> Reduce CV\n",
      "Risk:  True\n",
      "Num CV ok:  4\n",
      "Rerank\n",
      "Reranking\n",
      "[2027, 2103, 262]\n",
      "Time: 5.948086500167847\n",
      "Extracting Job Description\n"
     ]
    },
    {
     "name": "stderr",
     "output_type": "stream",
     "text": [
      " 85%|████████▍ | 33/39 [03:00<00:33,  5.55s/it]"
     ]
    },
    {
     "name": "stdout",
     "output_type": "stream",
     "text": [
      "End LLM\n",
      "New Query:  {'institutionList': ['university of economics', 'university of economics and law'], 'eduList': ['phd', 'bachelor', 'master', 'certificate', 'undergraduate', 'diploma']}\n",
      "Extended Num Application:  3\n",
      "Reduce CV  4  ->  3  CV\n",
      "New Query:  {'institutionList': ['university of economics and law'], 'eduList': ['phd', 'bachelor', 'master', 'certificate', 'undergraduate', 'diploma']}\n",
      "Risk:  True\n",
      "Num CV ok:  3\n",
      "Rerank\n",
      "Reranking\n",
      "[692, 443]\n",
      "Time: 5.0704591274261475\n",
      "Extracting Job Description\n"
     ]
    },
    {
     "name": "stderr",
     "output_type": "stream",
     "text": [
      "/home/quanghung20gg/anaconda3/lib/python3.11/site-packages/langchain_core/vectorstores.py:330: UserWarning: Relevance scores must be between 0 and 1, got [(Document(page_content='Languages:\\n- English\\nMajors:\\n- bachelor, information technology, vnu-hcm university of science, (GPA: 3.6)\\nRoles:\\n- software engineer (0.5 years)\\n- web developer (0.5 years)\\nSkills:\\n- cloud storage\\n- devops\\n- machine learning\\n- database management\\n- artificial intelligence\\nProgramming languages:\\n- node (0.5 years)\\n- python (0.5 years)\\n- go (0.5 years)\\n- java (0.5 years)\\n- c++ (0.5 years)\\n- html (0.5 years)\\n- css (0.5 years)\\n- javascript (0.5 years)\\nCities:\\n- ho chi minh\\n', metadata={'id': 1488}), -206.36873105847909), (Document(page_content='Languages:\\n- English\\n- Vietnamese\\nMajors:\\n- undergraduate, computer networking and communication, ho chi minh city university of technology, (GPA: 3.6)\\nWork:\\n- hung phat usa (0.5 years)\\n- private supermarket (0.5 years)\\n- mwg (0.5 years)\\n- etomil milk (0.5 years)\\n- ho chi minh city university of technology (6.5 years)\\nRoles:\\n- it support (0.5 years)\\n- inventory management staff (0.5 years)\\n- security camera supervisor (0.5 years)\\n- marketing staff (0.5 years)\\n- programmer (0.5 years)\\nSkills:\\n- system configuration\\n- management\\n- network administration\\n- project management\\n- web development\\n- mobile development\\n- game development\\n- security\\n- iot\\nProgramming languages:\\n- html (0.5 years)\\n- css (0.5 years)\\n- unity (0.5 years)\\n- wordpress (0.5 years)\\n- sql (0.5 years)\\nCities:\\n- thu duc\\n', metadata={'id': 1530}), -213.62824990550394), (Document(page_content='Languages:\\n- English\\nMajors:\\n- college, software engineer, university of science, (GPA: 2.86)\\nWork:\\n- fpt software company (1 years)\\n- hdviet company (4 years)\\n- mtrip.vn (1 years)\\n- yola company (3.5 years)\\n- fp logistics company (1.5 years)\\nRoles:\\n- net developer (1 years)\\n- it team leader (1.5 years)\\n- full-stack developer (3.5 years)\\n- backend developer (11.5 years)\\nSkills:\\n- microservices\\n- api development\\n- team management\\n- cloud computing\\n- ci\\n- cd\\n- data synchronization\\n- database management\\n- reporting\\nProgramming languages:\\n- python (11.5 years)\\n- javascript (11.5 years)\\n- php (4 years)\\n- c# (1 years)\\n- vb (1 years)\\n- sql (11.5 years)\\n- kafka (1.5 years)\\n- docker (1.5 years)\\nCities:\\n- ho chi minh\\n', metadata={'id': 708}), -216.03970198042842), (Document(page_content='Languages:\\n- English\\nMajors:\\n- bachelor, information security, ho chi minh city university of technology and food industry, (GPA: 2.9)\\nWork:\\n- công ty c ổ  ph ầ n công ngh ệ tam khoadeveloper .net (1 years)\\nRoles:\\n- tester (0 years)\\n- researcher (0.5 years)\\n- software developer (1 years)\\nSkills:\\n- software development\\n- machine learning\\n- sql\\n- technical support\\nProgramming languages:\\n- .net (1 years)\\n- python (0.5 years)\\n- c# (1 years)\\n- sql (1 years)\\nCities:\\n- ho chi minh\\n', metadata={'id': 1841}), -220.15399009690537)]\n",
      "  warnings.warn(\n",
      " 87%|████████▋ | 34/39 [03:06<00:28,  5.61s/it]"
     ]
    },
    {
     "name": "stdout",
     "output_type": "stream",
     "text": [
      "End LLM\n",
      "New Query:  {'institutionList': ['ho chi minh city university of foreign languages and information technology', 'hcmc open university'], 'majorList': ['information technology and digital transformation in economics', 'information systems', 'information security', 'it engineer', 'computer science', 'information and communication technology', 'information technology - software application', 'electronics and telecommunication'], 'eduList': ['phd', 'bachelor', 'master', 'certificate', 'undergraduate', 'diploma']}\n",
      "Extended Num Application:  4\n",
      "Not enough application\n",
      "New Query:  {'institutionList': ['ho chi minh city university of foreign languages and information technology', 'hcmc open university']}\n",
      "[456, 555]\n",
      "Less -> Sematic Search\n",
      "Using Sematic Search\n",
      "Num CV ok:  3\n",
      "Rerank\n",
      "[1488, 456, 555]\n",
      "Time: 5.732226848602295\n",
      "Extracting Job Description\n"
     ]
    },
    {
     "name": "stderr",
     "output_type": "stream",
     "text": [
      " 90%|████████▉ | 35/39 [03:10<00:20,  5.14s/it]"
     ]
    },
    {
     "name": "stdout",
     "output_type": "stream",
     "text": [
      "End LLM\n",
      "New Query:  {'eduList': ['phd', 'bachelor', 'master', 'certificate', 'undergraduate', 'diploma'], 'roleList': ['business analyst', 'sales analyst', 'analyst', 'finance analyst']}\n",
      "Extended Num Application:  6\n",
      "Num CV ok:  6\n",
      "Rerank\n",
      "Reranking\n",
      "[138, 443, 1847, 1193]\n",
      "Time: 4.048253059387207\n",
      "Extracting Job Description\n"
     ]
    },
    {
     "name": "stderr",
     "output_type": "stream",
     "text": [
      " 92%|█████████▏| 36/39 [03:14<00:14,  4.77s/it]"
     ]
    },
    {
     "name": "stdout",
     "output_type": "stream",
     "text": [
      "End LLM\n",
      "New Query:  {'roleList': ['consultant', 'investment consultant', 'legal consultant', 'financial consultant']}\n",
      "Extended Num Application:  6\n",
      "Not enough application\n",
      "New Query:  {'roleList': ['consultant', 'legal consultant', 'investment consultant', 'implementation consultant', 'financial consultant']}\n",
      "[669, 548, 1193, 456, 1783]\n",
      "Num CV ok:  5\n",
      "Rerank\n",
      "Reranking\n",
      "[1193, 1783, 456, 548, 669]\n",
      "Time: 3.91168212890625\n",
      "Extracting Job Description\n"
     ]
    },
    {
     "name": "stderr",
     "output_type": "stream",
     "text": [
      " 95%|█████████▍| 37/39 [03:18<00:09,  4.73s/it]"
     ]
    },
    {
     "name": "stdout",
     "output_type": "stream",
     "text": [
      "End LLM\n",
      "New Query:  {'institutionList': ['ho chi minh city university of technology and food industry', 'ho chi minh city university of industry and trade'], 'eduList': ['phd', 'bachelor', 'master', 'certificate', 'undergraduate', 'diploma']}\n",
      "Extended Num Application:  3\n",
      "Num CV ok:  3\n",
      "Rerank\n",
      "Reranking\n",
      "[1066, 1841]\n",
      "Time: 4.619842767715454\n",
      "Extracting Job Description\n"
     ]
    },
    {
     "name": "stderr",
     "output_type": "stream",
     "text": [
      " 97%|█████████▋| 38/39 [03:25<00:05,  5.33s/it]"
     ]
    },
    {
     "name": "stdout",
     "output_type": "stream",
     "text": [
      "End LLM\n",
      "New Query:  {'institutionList': ['ho chi minh city university of science', 'university of economics', 'ho chi minh city university of technology', 'university of economics and finance'], 'eduList': ['phd', 'bachelor', 'master', 'certificate', 'undergraduate', 'diploma']}\n",
      "Extended Num Application:  11\n",
      "Num CV ok:  8\n",
      "Rerank\n",
      "[1165, 1214, 1253, 1428, 1530, 2103, 262, 587]\n",
      "Time: 6.735535144805908\n",
      "Extracting Job Description\n",
      "End LLM\n",
      "New Query:  {'institutionList': ['vnu-hcm university of science', 'hanoi university of business and technology', 'posts and telecommunications institute of technology', 'university of technology information - vnu', 'hanoi university of science and technology'], 'eduList': ['phd', 'bachelor', 'master', 'certificate', 'undergraduate', 'diploma']}\n",
      "Extended Num Application:  12\n",
      "Num CV ok:  10\n",
      "Rerank\n",
      "Reranking\n"
     ]
    },
    {
     "name": "stderr",
     "output_type": "stream",
     "text": [
      "100%|██████████| 39/39 [03:31<00:00,  5.42s/it]"
     ]
    },
    {
     "name": "stdout",
     "output_type": "stream",
     "text": [
      "[1410, 345, 222, 2083, 1104, 19, 1733, 1488, 751]\n",
      "Time: 5.844655275344849\n"
     ]
    },
    {
     "name": "stderr",
     "output_type": "stream",
     "text": [
      "\n"
     ]
    }
   ],
   "source": [
    "answers = []\n",
    "i = 0\n",
    "\n",
    "for question in tqdm(questions):\n",
    "    prompt = question['prompt']\n",
    "    answer = dict()\n",
    "    answer['prompt'] = prompt\n",
    "    answer['answer'] = question['answer']\n",
    "    try:\n",
    "        res = chat_agent.get_cv_from_jd(prompt)\n",
    "        ans = res['files']\n",
    "        answer['predict'] = [a.replace('data/raw/data/clean4.0/', '') for a in ans]\n",
    "    except:\n",
    "        print('Error')\n",
    "        answer['predict'] = []\n",
    "    answers.append(answer)\n",
    "    with open('data/benchmark/qa_cv_kg.json', 'w') as f:\n",
    "        f.write(json.dumps(answers))\n",
    "    i += 1\n"
   ]
  },
  {
   "cell_type": "code",
   "execution_count": 7,
   "metadata": {},
   "outputs": [],
   "source": [
    "recall = 0\n",
    "precision = 0\n",
    "long_recall = 0\n",
    "long_precision = 0\n",
    "len_long = 0\n",
    "short_recall = 0\n",
    "short_precision = 0\n",
    "len_short = 0\n",
    "\n",
    "for answer in answers:\n",
    "    num_ans = len(answer['answer'])\n",
    "    correct = 0\n",
    "    ans = set(answer['answer'])\n",
    "    for p in answer['predict']:\n",
    "        if p in ans:\n",
    "            correct += 1\n",
    "    recall += correct / num_ans\n",
    "    precision += correct / (len(answer['predict'])+1e-5)\n",
    "    if num_ans > 7:\n",
    "        long_recall += correct / num_ans\n",
    "        long_precision += correct / (len(answer['predict'])+1e-5)\n",
    "        len_long+= 1\n",
    "    else:\n",
    "        short_recall += correct / num_ans\n",
    "        short_precision += correct / (len(answer['predict'])+1e-5)\n",
    "        len_short += 1"
   ]
  },
  {
   "cell_type": "code",
   "execution_count": 8,
   "metadata": {},
   "outputs": [],
   "source": [
    "recall /= len(answers)\n",
    "precision /= len(answers)\n",
    "long_recall /= len_long\n",
    "long_precision /= len_long\n",
    "short_recall /= len_short\n",
    "short_precision /= len_short\n",
    "f1 = 2 * recall * precision / (recall + precision + 1e-5)\n",
    "short_f1 = 2 * short_recall * short_precision / (short_recall + short_precision + 1e-5)\n",
    "long_f1 = 2 * long_recall * long_precision / (long_recall + long_precision+1e-5)"
   ]
  },
  {
   "cell_type": "code",
   "execution_count": 9,
   "metadata": {},
   "outputs": [
    {
     "name": "stdout",
     "output_type": "stream",
     "text": [
      "Recall: 0.4493628593628594\n",
      "Precision: 0.45235304354246697\n",
      "F1: 0.4508479936814607\n",
      "=====================================\n",
      "Short Recall: 0.4182795698924731\n",
      "Short Precision: 0.43010605197705226\n",
      "Short F1: 0.4241053814791576\n",
      "=====================================\n",
      "Long Recall: 0.5698106060606061\n",
      "Long Precision: 0.5385601358584485\n",
      "Long F1: 0.5537398220800127\n",
      "=====================================\n"
     ]
    }
   ],
   "source": [
    "print(f\"Recall: {recall}\")\n",
    "print(f\"Precision: {precision}\")\n",
    "print(f\"F1: {f1}\")\n",
    "print(\"=====================================\")\n",
    "\n",
    "print(f\"Short Recall: {short_recall}\")\n",
    "print(f\"Short Precision: {short_precision}\")\n",
    "print(f\"Short F1: {short_f1}\")\n",
    "print(\"=====================================\")\n",
    "\n",
    "print(f\"Long Recall: {long_recall}\")\n",
    "print(f\"Long Precision: {long_precision}\")\n",
    "print(f\"Long F1: {long_f1}\")\n",
    "print(\"=====================================\")"
   ]
  },
  {
   "cell_type": "markdown",
   "metadata": {},
   "source": [
    "## Haiku\n",
    "\n",
    "Recall: 0.4582659932659932 \\\n",
    "Precision: 0.45441863442709507 \\\n",
    "F1: 0.45632920485280953\n",
    "\n",
    "=====================================\n",
    "\n",
    "Short Recall: 0.4209677419354839 \\\n",
    "Short Precision: 0.42419216192259934 \\\n",
    "Short F1: 0.4225688012224169\n",
    "\n",
    "=====================================\n",
    "\n",
    "Long Recall: 0.6027967171717171 \\\n",
    "Long Precision: 0.5715462153820161 \\\n",
    "Long F1: 0.5867506654834951\n",
    "\n",
    "====================================="
   ]
  },
  {
   "cell_type": "markdown",
   "metadata": {},
   "source": [
    "## Llama 3 8b\n",
    "\n",
    "Recall: 0.4816278166278167 \\\n",
    "Precision: 0.4387250300532934 \\\n",
    "F1: 0.4591714650075473\n",
    "\n",
    "=====================================\n",
    "\n",
    "Short Recall: 0.4360215053763441 \\\n",
    "Short Precision: 0.39011169349691877 \\\n",
    "Short F1: 0.41178596663490963\n",
    "\n",
    "=====================================\n",
    "\n",
    "Long Recall: 0.6583522727272727 \\\n",
    "Long Precision: 0.6271017092092451 \\\n",
    "Long F1: 0.6423421290530603 \n",
    "\n",
    "====================================="
   ]
  },
  {
   "cell_type": "markdown",
   "metadata": {},
   "source": [
    "## Phi 3 Small\n",
    "Recall: 0.4114801864801865 \\\n",
    "Precision: 0.42942769302887573 \\\n",
    "F1: 0.4202574151721883\n",
    "\n",
    "=====================================\n",
    "\n",
    "Short Recall: 0.410752688172043 \\\n",
    "Short Precision: 0.42526743934168454 \\\n",
    "Short F1: 0.4178790647679619\n",
    "\n",
    "=====================================\n",
    "\n",
    "Long Recall: 0.4142992424242424 \\\n",
    "Long Precision: 0.4455486760667415 \\\n",
    "Long F1: 0.4293511171741584\n",
    "\n",
    "====================================="
   ]
  },
  {
   "cell_type": "markdown",
   "metadata": {},
   "source": [
    "## Llama 3 70b"
   ]
  },
  {
   "cell_type": "markdown",
   "metadata": {},
   "source": []
  },
  {
   "cell_type": "code",
   "execution_count": null,
   "metadata": {},
   "outputs": [],
   "source": []
  }
 ],
 "metadata": {
  "kernelspec": {
   "display_name": "base",
   "language": "python",
   "name": "python3"
  },
  "language_info": {
   "codemirror_mode": {
    "name": "ipython",
    "version": 3
   },
   "file_extension": ".py",
   "mimetype": "text/x-python",
   "name": "python",
   "nbconvert_exporter": "python",
   "pygments_lexer": "ipython3",
   "version": "3.11.5"
  }
 },
 "nbformat": 4,
 "nbformat_minor": 2
}
