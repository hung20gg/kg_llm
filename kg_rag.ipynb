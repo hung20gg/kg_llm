{
 "cells": [
  {
   "cell_type": "code",
   "execution_count": 1,
   "metadata": {},
   "outputs": [
    {
     "name": "stderr",
     "output_type": "stream",
     "text": [
      "2024-06-09 02:00:36.245799: E external/local_xla/xla/stream_executor/cuda/cuda_dnn.cc:9261] Unable to register cuDNN factory: Attempting to register factory for plugin cuDNN when one has already been registered\n",
      "2024-06-09 02:00:36.245823: E external/local_xla/xla/stream_executor/cuda/cuda_fft.cc:607] Unable to register cuFFT factory: Attempting to register factory for plugin cuFFT when one has already been registered\n",
      "2024-06-09 02:00:36.246432: E external/local_xla/xla/stream_executor/cuda/cuda_blas.cc:1515] Unable to register cuBLAS factory: Attempting to register factory for plugin cuBLAS when one has already been registered\n",
      "2024-06-09 02:00:36.828192: W tensorflow/compiler/tf2tensorrt/utils/py_utils.cc:38] TF-TRT Warning: Could not find TensorRT\n"
     ]
    }
   ],
   "source": [
    "from database.GraphDB import KnowledgeGraphDB\n",
    "from retrieval.retrieval_hub import RetrivalHub\n",
    "from query_and_ranking.query import Query\n",
    "from query_and_ranking.rerank import Reranker\n",
    "from agentic import Agent\n",
    "from tqdm import tqdm"
   ]
  },
  {
   "cell_type": "code",
   "execution_count": null,
   "metadata": {},
   "outputs": [],
   "source": [
    "import os \n",
    "from dotenv import load_dotenv\n",
    "load_dotenv()\n",
    "\n",
    "neo4j_uri = os.getenv('NEO4J_URI')\n",
    "neo4j_user = os.getenv('NEO4J_USER')\n",
    "neo4j_password = os.getenv('NEO4J_PASSWORD')"
   ]
  },
  {
   "cell_type": "code",
   "execution_count": 2,
   "metadata": {},
   "outputs": [],
   "source": [
    "kg = KnowledgeGraphDB(uri=neo4j_uri, user=neo4j_user, password=neo4j_password)\n",
    "retrieval_hub = RetrivalHub(kg)\n",
    "reranker = Reranker()\n",
    "cv_query = Query(kg, retrieval_hub)"
   ]
  },
  {
   "cell_type": "code",
   "execution_count": 3,
   "metadata": {},
   "outputs": [
    {
     "name": "stderr",
     "output_type": "stream",
     "text": [
      "Special tokens have been added in the vocabulary, make sure the associated word embeddings are fine-tuned or trained.\n"
     ]
    },
    {
     "data": {
      "application/vnd.jupyter.widget-view+json": {
       "model_id": "9ae901f14860420b9493f78596089a43",
       "version_major": 2,
       "version_minor": 0
      },
      "text/plain": [
       "Loading checkpoint shards:   0%|          | 0/2 [00:00<?, ?it/s]"
      ]
     },
     "metadata": {},
     "output_type": "display_data"
    }
   ],
   "source": [
    "chat_agent = Agent(kg, retrieval_hub, reranker, cv_query)"
   ]
  },
  {
   "cell_type": "code",
   "execution_count": 4,
   "metadata": {},
   "outputs": [],
   "source": [
    "import json\n",
    "questions = json.loads(open('data/benchmark/qa_cv.json').read())"
   ]
  },
  {
   "cell_type": "code",
   "execution_count": 5,
   "metadata": {},
   "outputs": [
    {
     "name": "stderr",
     "output_type": "stream",
     "text": [
      "  0%|          | 0/39 [00:00<?, ?it/s]"
     ]
    },
    {
     "name": "stdout",
     "output_type": "stream",
     "text": [
      "Extracting Job Description\n"
     ]
    },
    {
     "name": "stderr",
     "output_type": "stream",
     "text": [
      "You are not running the flash-attention implementation, expect numerical differences.\n",
      "/home/quanghung20gg/anaconda3/lib/python3.11/site-packages/langchain_core/vectorstores.py:330: UserWarning: Relevance scores must be between 0 and 1, got [(Document(page_content='Languages:\\n- English\\nMajors:\\n- bachelor, computer science, national economics university hanoi, (GPA: 3.43)\\nWork:\\n- lts group (0.5 years)\\n- viettel telecom (0.5 years)\\nRoles:\\n- software developer (0.5 years)\\nSkills:\\n- web development\\n- api development\\n- content management system\\n- user interface design\\n- artificial intelligence\\n- database management\\n- testing\\n- deployment\\n- english teaching\\nProgramming languages:\\n- java (0.5 years)\\n- javascript (0.5 years)\\n- typescript (0.5 years)\\n- php (0.5 years)\\n- spring boot (0.5 years)\\n- react (0.5 years)\\n- node (0.5 years)\\n- graphql (0.5 years)\\nCities:\\n- ha noi\\n', metadata={'id': 1593}), -208.47142856414308), (Document(page_content='Languages:\\n- English\\nMajors:\\n- bachelor, information technology, hanoi university of business and technology, (GPA: 3.6)\\nRoles:\\n- web developer (0.5 years)\\nSkills:\\n- front\\n- end development\\n- back\\n- real\\n- time communication\\n- database management\\n- cloud computing\\n- user interface design\\n- e\\n- commerce\\n- api development\\nProgramming languages:\\n- javascript (0.5 years)\\n- typescript (0.5 years)\\n- react (0.5 years)\\n- node (0.5 years)\\n- mongodb (0.5 years)\\n- sql (0.5 years)\\n- asp.net mvc (0.5 years)\\n- firebase (0.5 years)\\nCities:\\n- ha noi\\n', metadata={'id': 222}), -209.29226802401683), (Document(page_content='Languages:\\n- English\\nMajors:\\n- bachelor, software technology, hanoi university of industry, (GPA: 3.6)\\nWork:\\n- vikoisoft joint stock company (1 years)\\nRoles:\\n-  (0 years)\\n- web developer (0.5 years)\\nSkills:\\n- web development\\n- frontend development\\n- backend development\\n- database management\\n- docker\\nProgramming languages:\\n- html (0.5 years)\\n- css (0.5 years)\\n- javascript (0.5 years)\\n- typescript (0.5 years)\\n- react (0.5 years)\\n- next (0.5 years)\\n- express (0.5 years)\\n- nest (0.5 years)\\nCities:\\n- ha noi\\n', metadata={'id': 2004}), -217.48186101952655), (Document(page_content='Languages:\\n- English\\nMajors:\\n- undergraduate, information technology, ho chi minh city open university, (GPA: 3.6)\\nWork:\\n- m q -h o use (1.5 years)\\n- healthy heart project (0.5 years)\\nRoles:\\n- mobile app developer (0.5 years)\\n- web developer (0 years)\\n- software developer (0 years)\\nSkills:\\n- web development\\n- mobile app development\\n- customer service\\n- marketing\\n- database design\\n- api development\\nProgramming languages:\\n- java (0 years)\\n- javascript (0 years)\\n- python (0 years)\\n- spring mvc (0 years)\\n- react (0 years)\\n- react native (0 years)\\n- mysql (0 years)\\n- html (0 years)\\n- css (0 years)\\nCities:\\n- ho chi minh\\n', metadata={'id': 1240}), -220.18594887201942), (Document(page_content='Languages:\\n- English\\nMajors:\\n- bachelor, information technology, vnu-hcm university of science, (GPA: 3.6)\\nRoles:\\n- software engineer (0.5 years)\\n- web developer (0.5 years)\\nSkills:\\n- cloud storage\\n- devops\\n- machine learning\\n- database management\\n- artificial intelligence\\nProgramming languages:\\n- node (0.5 years)\\n- python (0.5 years)\\n- go (0.5 years)\\n- java (0.5 years)\\n- c++ (0.5 years)\\n- html (0.5 years)\\n- css (0.5 years)\\n- javascript (0.5 years)\\nCities:\\n- ho chi minh\\n', metadata={'id': 1488}), -220.41015661910586), (Document(page_content='Languages:\\n- English\\nMajors:\\n- bachelor, information technology, đại học công thương, (GPA: 3.6)\\nRoles:\\n- php developer (0 years)\\nSkills:\\n- html\\n- css\\n- bootstrap\\n- javascript\\n- jquery\\n- sql\\n- git\\n- postman\\nProgramming languages:\\n- php (0 years)\\n- html (0 years)\\n- css (0 years)\\n- javascript (0 years)\\n- jquery (0 years)\\n- sql (0 years)\\nCities:\\n- ho chi minh\\n', metadata={'id': 1553}), -220.6364359680903), (Document(page_content='Languages:\\n- English\\nMajors:\\n- undergraduate, information technology - software application, tr ư ờ ng cao đ ẳ ng công nghi ệ p hu ế, (GPA: 3.6)\\nWork:\\n- bình an booking (bab) (0.5 years)\\n- viet information technology project (vitpr) (0.5 years)\\nRoles:\\n- website administrator (0.5 years)\\n-  (0.5 years)\\n- web developer (0.5 years)\\nSkills:\\n- website management\\n- visual design\\n- e\\n- commerce development\\nProgramming languages:\\n- html (0.5 years)\\n- css (0.5 years)\\n- javascript (0.5 years)\\n- jquery (0.5 years)\\n- php (0.5 years)\\n- java (0.5 years)\\n- mysql (0.5 years)\\n- laravel (0.5 years)\\nCities:\\n- đ à n ẵ ng\\n', metadata={'id': 2093}), -220.8743464985646), (Document(page_content='Languages:\\n- English\\n- Vietnamese\\nMajors:\\n- undergraduate, computer networking and communication, ho chi minh city university of technology, (GPA: 3.6)\\nWork:\\n- hung phat usa (0.5 years)\\n- private supermarket (0.5 years)\\n- mwg (0.5 years)\\n- etomil milk (0.5 years)\\n- ho chi minh city university of technology (6.5 years)\\nRoles:\\n- it support (0.5 years)\\n- inventory management staff (0.5 years)\\n- security camera supervisor (0.5 years)\\n- marketing staff (0.5 years)\\n- programmer (0.5 years)\\nSkills:\\n- system configuration\\n- management\\n- network administration\\n- project management\\n- web development\\n- mobile development\\n- game development\\n- security\\n- iot\\nProgramming languages:\\n- html (0.5 years)\\n- css (0.5 years)\\n- unity (0.5 years)\\n- wordpress (0.5 years)\\n- sql (0.5 years)\\nCities:\\n- thu duc\\n', metadata={'id': 1530}), -222.06245334544474), (Document(page_content='Languages:\\n- English\\n- Vietnamese\\nMajors:\\n- bachelor, information technology, can tho university, (GPA: 3.6)\\nRoles:\\n- web developer (0 years)\\nSkills:\\n- html\\n- css\\n- javascript\\n- reactjs\\n- php\\n- nodejs\\n- mysql\\n- mongodb\\nProgramming languages:\\n- html (0 years)\\n- css (0 years)\\n- javascript (0 years)\\n- php (0 years)\\n- node (0 years)\\n- react (0 years)\\n- mysql (0 years)\\n- mongodb (0 years)\\nCities:\\n- cần thơ\\n', metadata={'id': 1313}), -222.1216234746566), (Document(page_content='Languages:\\n- Japanese\\n- English\\nMajors:\\n- bachelor, information technology, hanoi open university, (GPA: 3.6)\\nWork:\\n- zendvn programming training center (0.5 years)\\nRoles:\\n- back-end developer (0.5 years)\\n- web developer (0.5 years)\\nSkills:\\n- html\\n- css\\n- javascript\\n- sql\\n- git\\n- database design\\nProgramming languages:\\n- php (0.5 years)\\n- laravel (0.5 years)\\n- mysql (0.5 years)\\n- docker (0.5 years)\\nCities:\\n- ha noi\\n', metadata={'id': 666}), -222.1754370943982), (Document(page_content='Languages:\\n- English\\nMajors:\\n- bachelor, computer science, hanoi university of industry, (GPA: 3.6)\\nRoles:\\n- web developer (0.5 years)\\nSkills:\\n- front\\n- end development\\n- back\\n- database management\\n- version control\\nProgramming languages:\\n- react (0.5 years)\\n- next (0.5 years)\\n- php (0.5 years)\\n- laravel (0.5 years)\\n- javascript (0.5 years)\\n- typescript (0.5 years)\\n- node (0.5 years)\\n- python (0.5 years)\\nCities:\\n- ha noi\\nAwards:\\n- Research Award (Second Place)\\n- Research Award (Encouragement)\\n- Scholarship\\n', metadata={'id': 1896}), -222.27302304670263), (Document(page_content='Languages:\\n- English\\nMajors:\\n- bachelor, business administration, hanoi college of industrial economics, (GPA: 3.6)\\nWork:\\n- shopee food (1.5 years)\\n- lau phan (0.5 years)\\n- funix - a member of fpt corporation (0.5 years)\\nRoles:\\n- delivery driver (1.5 years)\\n- waiter (0.5 years)\\n- full stack web developer (0.5 years)\\nSkills:\\n- html\\n- css\\n- javascript\\n- git\\n- vscode\\n- postman\\nProgramming languages:\\n- react (0.5 years)\\n- node (0.5 years)\\n- redux toolkit (0.5 years)\\n- mongodb (0.5 years)\\n- express (0.5 years)\\n- socket.io (0.5 years)\\nCities:\\n- ha noi\\n', metadata={'id': 395}), -222.3061350444502), (Document(page_content='Languages:\\n- English\\nMajors:\\n- undergraduate, computer programming, fpt polytechnic hà nội, (GPA: 3.6)\\nWork:\\n- công ty cổ phần thương mại và phát triển công nghệ bách việt (1 years)\\nRoles:\\n- web developer (1 years)\\n- it developer (1 years)\\nSkills:\\n- system design\\n- system analysis\\n- proxy deployment\\n- tool development\\nProgramming languages:\\n- python (1 years)\\n- php (1 years)\\n- javascript (1 years)\\nCities:\\n- ha noi\\n', metadata={'id': 2006}), -222.53585753751233), (Document(page_content='Languages:\\n- English\\nMajors:\\n- bachelor, business administration - marketing, fpt university, (GPA: 3.2)\\nWork:\\n- nha khoa parkway (1 years)\\n- tổ chức giáo dục fpt (0.5 years)\\n- trung tâm tin học ict hà nội (1 years)\\n- công ty cổ phân đầu tư và phát triển hạ tầng việt nam (1.5 years)\\n- sconnect vietnam (1.5 years)\\nRoles:\\n- content marketing (1.5 years)\\n- digital marketing (1 years)\\n- social media manager (1.5 years)\\n- marketing executive (1.5 years)\\nSkills:\\n- market research\\n- content creation\\n- social media marketing\\n- digital marketing\\n- advertising campaign management\\n- customer journey optimization\\n- team management\\n- seo\\nCities:\\n- ha noi\\n', metadata={'id': 1749}), -223.92564346083807), (Document(page_content='Languages:\\n- English\\nMajors:\\n- bachelor, information technology, đại học công th ươ ng, (GPA: 3.6)\\nRoles:\\n- php developer (0 years)\\n- web developer (0 years)\\nSkills:\\n- html\\n- css\\n- javascript\\n- php\\n- sql\\n- git\\n- mongodb\\n- mysql\\nProgramming languages:\\n- php (0 years)\\n- html (0 years)\\n- css (0 years)\\n- javascript (0 years)\\n- jquery (0 years)\\n- sql (0 years)\\nCities:\\n- ho chi minh\\n', metadata={'id': 860}), -223.94363124122216)]\n",
      "  warnings.warn(\n",
      "  3%|▎         | 1/39 [00:10<06:29, 10.25s/it]"
     ]
    },
    {
     "name": "stdout",
     "output_type": "stream",
     "text": [
      "End LLM\n",
      "New Query:  {'cityList': ['ha noi'], 'eduList': ['master', 'undergraduate', 'phd', 'diploma', 'certificate', 'bachelor'], 'roleList': ['marketing manager', 'marketing analyst', 'marketing assistant', 'marketing officer']}\n",
      "Extended Num Application:  15\n",
      "Not enough application\n",
      "New Query:  {'cityList': ['ha noi'], 'roleList': ['marketing manager', 'marketing assistant', 'marketing analyst', 'marketing', 'marketing officer']}\n",
      "[786, 1371, 1513, 1648, 1802, 2109, 424]\n",
      "Less -> Sematic Search\n",
      "Using Sematic Search\n",
      "Num CV ok:  12\n",
      "Rerank\n",
      "[1240, 1371, 1488, 1513, 1593, 1648, 1802, 2004, 2109, 222, 424, 786]\n",
      "Time: 10.246462345123291\n",
      "Extracting Job Description\n"
     ]
    },
    {
     "name": "stderr",
     "output_type": "stream",
     "text": [
      "/home/quanghung20gg/anaconda3/lib/python3.11/site-packages/langchain_core/vectorstores.py:330: UserWarning: Relevance scores must be between 0 and 1, got [(Document(page_content='Languages:\\n- English\\nMajors:\\n- undergraduate, information technology, ho chi minh city open university, (GPA: 3.6)\\nWork:\\n- m q -h o use (1.5 years)\\n- healthy heart project (0.5 years)\\nRoles:\\n- mobile app developer (0.5 years)\\n- web developer (0 years)\\n- software developer (0 years)\\nSkills:\\n- web development\\n- mobile app development\\n- customer service\\n- marketing\\n- database design\\n- api development\\nProgramming languages:\\n- java (0 years)\\n- javascript (0 years)\\n- python (0 years)\\n- spring mvc (0 years)\\n- react (0 years)\\n- react native (0 years)\\n- mysql (0 years)\\n- html (0 years)\\n- css (0 years)\\nCities:\\n- ho chi minh\\n', metadata={'id': 1240}), -193.27409230280102), (Document(page_content='Languages:\\n- English\\nMajors:\\n- bachelor, information security, ho chi minh city university of technology and food industry, (GPA: 2.9)\\nWork:\\n- công ty c ổ  ph ầ n công ngh ệ tam khoadeveloper .net (1 years)\\nRoles:\\n- tester (0 years)\\n- researcher (0.5 years)\\n- software developer (1 years)\\nSkills:\\n- software development\\n- machine learning\\n- sql\\n- technical support\\nProgramming languages:\\n- .net (1 years)\\n- python (0.5 years)\\n- c# (1 years)\\n- sql (1 years)\\nCities:\\n- ho chi minh\\n', metadata={'id': 1841}), -195.31246225369463), (Document(page_content='Languages:\\n- English\\nMajors:\\n- undergraduate, software technology, saigon university, (GPA: 3.6)\\nRoles:\\n- team lead (1.5 years)\\n- developer (0.5 years)\\nSkills:\\n- html\\n- css\\n- javascript\\n- react.js\\n- redux\\n- restful api\\n- git\\n- figma\\nProgramming languages:\\n- java (1 years)\\n- spring boot (1 years)\\n- mysql (1 years)\\n- node (0.5 years)\\n- mongodb (0.5 years)\\n- php (1 years)\\n- react (1.5 years)\\nCities:\\n- ho chi minh\\n', metadata={'id': 1715}), -201.10487695238785), (Document(page_content='Languages:\\n- English\\n- Vietnamese\\nMajors:\\n- undergraduate, computer networking and communication, ho chi minh city university of technology, (GPA: 3.6)\\nWork:\\n- hung phat usa (0.5 years)\\n- private supermarket (0.5 years)\\n- mwg (0.5 years)\\n- etomil milk (0.5 years)\\n- ho chi minh city university of technology (6.5 years)\\nRoles:\\n- it support (0.5 years)\\n- inventory management staff (0.5 years)\\n- security camera supervisor (0.5 years)\\n- marketing staff (0.5 years)\\n- programmer (0.5 years)\\nSkills:\\n- system configuration\\n- management\\n- network administration\\n- project management\\n- web development\\n- mobile development\\n- game development\\n- security\\n- iot\\nProgramming languages:\\n- html (0.5 years)\\n- css (0.5 years)\\n- unity (0.5 years)\\n- wordpress (0.5 years)\\n- sql (0.5 years)\\nCities:\\n- thu duc\\n', metadata={'id': 1530}), -201.1733477109543), (Document(page_content='Languages:\\n- English\\nMajors:\\n- bachelor, information technology, saigon college, (GPA: 3.6)\\nRoles:\\n- back-end developer (0.5 years)\\n- front-end developer (0.5 years)\\nSkills:\\n- git\\n- chat gpt\\nProgramming languages:\\n- html (0.5 years)\\n- css (0.5 years)\\n- javascript (0.5 years)\\n- bootstrap (0.5 years)\\n- react (0.5 years)\\n- asp.net core mvc (0.5 years)\\n- asp.net web api (0.5 years)\\n- sql (0.5 years)\\nCities:\\n- ho chi minh\\n', metadata={'id': 439}), -201.2743237238717), (Document(page_content='Languages:\\n- English\\nMajors:\\n- bachelor, information technology, đại học công thương, (GPA: 3.6)\\nRoles:\\n- php developer (0 years)\\nSkills:\\n- html\\n- css\\n- bootstrap\\n- javascript\\n- jquery\\n- sql\\n- git\\n- postman\\nProgramming languages:\\n- php (0 years)\\n- html (0 years)\\n- css (0 years)\\n- javascript (0 years)\\n- jquery (0 years)\\n- sql (0 years)\\nCities:\\n- ho chi minh\\n', metadata={'id': 1553}), -202.25809025479845), (Document(page_content='Languages:\\n- English\\nMajors:\\n- bachelor, information technology, vnu-hcm university of science, (GPA: 3.6)\\nRoles:\\n- software engineer (0.5 years)\\n- web developer (0.5 years)\\nSkills:\\n- cloud storage\\n- devops\\n- machine learning\\n- database management\\n- artificial intelligence\\nProgramming languages:\\n- node (0.5 years)\\n- python (0.5 years)\\n- go (0.5 years)\\n- java (0.5 years)\\n- c++ (0.5 years)\\n- html (0.5 years)\\n- css (0.5 years)\\n- javascript (0.5 years)\\nCities:\\n- ho chi minh\\n', metadata={'id': 1488}), -202.48568593415558)]\n",
      "  warnings.warn(\n",
      "  5%|▌         | 2/39 [00:18<05:27,  8.86s/it]"
     ]
    },
    {
     "name": "stdout",
     "output_type": "stream",
     "text": [
      "End LLM\n",
      "New Query:  {'cityList': ['ho chi minh'], 'eduList': ['master', 'undergraduate', 'phd', 'diploma', 'certificate', 'bachelor'], 'roleList': ['marketing manager', 'marketing analyst', 'marketing assistant', 'marketing officer']}\n",
      "Extended Num Application:  7\n",
      "Not enough application\n",
      "New Query:  {'cityList': ['ho chi minh'], 'roleList': ['marketing manager', 'marketing assistant', 'marketing analyst', 'marketing', 'marketing officer']}\n",
      "[92, 468]\n",
      "Less -> Sematic Search\n",
      "Using Sematic Search\n",
      "Num CV ok:  5\n",
      "Rerank\n",
      "[1240, 1715, 1841, 468, 92]\n",
      "Time: 7.893522024154663\n",
      "Extracting Job Description\n",
      "End LLM\n",
      "New Query:  {'eduList': ['master', 'undergraduate', 'phd', 'diploma', 'certificate', 'bachelor'], 'roleList': ['marketing executive', 'marketing manager', 'marketing analyst', 'marketing assistant'], 'role_exp': 0.0}\n",
      "Extended Num Application:  10\n",
      "Num CV ok:  8\n",
      "Rerank\n",
      "Reranking\n"
     ]
    },
    {
     "name": "stderr",
     "output_type": "stream",
     "text": [
      "  8%|▊         | 3/39 [00:26<05:04,  8.45s/it]"
     ]
    },
    {
     "name": "stdout",
     "output_type": "stream",
     "text": [
      "[972, 8, 1513, 468, 1749, 1648, 786]\n",
      "Time: 7.957111835479736\n",
      "Extracting Job Description\n"
     ]
    },
    {
     "name": "stderr",
     "output_type": "stream",
     "text": [
      " 10%|█         | 4/39 [00:35<05:10,  8.87s/it]"
     ]
    },
    {
     "name": "stdout",
     "output_type": "stream",
     "text": [
      "End LLM\n",
      "New Query:  {'eduList': ['master', 'undergraduate', 'phd', 'diploma', 'certificate', 'bachelor'], 'roleList': ['odoo developer'], 'suitableList': ['java developer', ' web developer', 'android developer', 'developer', 'python developer', 'embedded developer', 'it developer', 'software developer', 'software engineer']}\n",
      "Extended Num Application:  3\n",
      "Not enough application\n",
      "New Query:  {'suitableList': ['java developer', ' web developer', 'android developer', 'developer', 'python developer', 'software engineer', 'embedded developer', 'it developer', 'software developer', 'back-end developer']}\n",
      "[651, 262, 250, 642, 50, 850, 658, 1924, 708, 1579, 2073, 1917, 373, 406, 573, 1703, 751, 1500, 37, 705, 666, 602, 296, 200, 104, 1953, 1896, 1774, 1616, 1021, 776, 481, 409, 358, 345, 310, 279, 270, 60, 2027, 2023, 2006, 1941, 1891, 1841, 1493, 1488, 1428, 1410, 1308, 1127, 1104, 648, 92, 70, 64, 1974, 1593, 1462, 1240, 587, 83, 1715, 557, 550, 2103, 42, 2093, 2004, 222, 1313, 324, 191, 287, 1388, 860, 862]\n",
      "More -> Reduce CV\n",
      "Num CV ok:  3\n",
      "Rerank\n",
      "Reranking\n",
      "[60, 1953]\n",
      "Time: 9.513237714767456\n",
      "Extracting Job Description\n"
     ]
    },
    {
     "name": "stderr",
     "output_type": "stream",
     "text": [
      "/home/quanghung20gg/anaconda3/lib/python3.11/site-packages/langchain_core/vectorstores.py:330: UserWarning: Relevance scores must be between 0 and 1, got [(Document(page_content='Languages:\\n- English\\nMajors:\\n- bachelor, marketing management, national economics university, (GPA: 3.75)\\nWork:\\n- canifa fashion store (0.5 years)\\n- lam pham co., ltd. (0.5 years)\\nRoles:\\n- marketing (1.5 years)\\n- social media manager (0.5 years)\\n- content writer (0.5 years)\\n- sales associate (0.5 years)\\n- salesperson (0.5 years)\\nSkills:\\n- research\\n- information synthesis\\n- team leadership\\n- writing\\n- social media management\\n- content creation\\n- marketing strategy\\n- google forms\\nCities:\\n- ha noi\\nCertifications:\\n- International English Language Testing System (IELTS)\\n- International Computer Driving Licence (ICDL)\\nAwards:\\n- International English Language Testing System (IELTS)\\n- International Computer Driving Licence (ICDL)\\n- Excellent Academic Achievement Award\\n', metadata={'id': 424}), -250.23753916154723), (Document(page_content='Languages:\\n- English\\nMajors:\\n- bachelor, finance and banking, finance academy, (GPA: 3.6)\\nWork:\\n- công ty cổ phần magenweb việt nam (leadup) (0.5 years)\\n- công ty cổ phần magenweb việt nam (vlance.vn) (1 years)\\n- công ty tnhh tư vấn, thương mại và dịch vụ nhiệt đới - gpo (0.5 years)\\nRoles:\\n- marketing analyst (1.5 years)\\n- digital marketing (1.5 years)\\n- seo (1.5 years)\\n- content marketing (1.5 years)\\nSkills:\\n- content marketing\\n- seo\\n- google ads\\n- facebook ads\\n- email marketing\\n- social media marketing\\n- website analytics\\n- project management\\nCities:\\n- ha noi\\nCertifications:\\n- The Fundamentals of Digital Marketing\\nAwards:\\n- TOEIC Listening & Reading: 845 points\\n', metadata={'id': 1513}), -258.2933463152904), (Document(page_content='Languages:\\n- English\\nMajors:\\n- bachelor, international business, national economics university, (GPA: 3.6)\\nWork:\\n- brain stem (0.5 years)\\n- lmc liên hà (0.5 years)\\n- pasal (0.5 years)\\nRoles:\\n- assistant teacher (0.5 years)\\n- member (0.5 years)\\n-  (0.5 years)\\nSkills:\\n- content creation\\n- marketing\\n- customer service\\n- communication\\n- time management\\n- software\\nCities:\\n- ha noi\\nCertifications:\\n- MOS\\n- IELTS\\nAwards:\\n- MOS Certificate\\n- IELTS 6.5\\n', metadata={'id': 1274}), -259.28160831657215), (Document(page_content='Languages:\\n- English\\nMajors:\\n- bachelor, business administration, hanoi college of industrial economics, (GPA: 3.6)\\nWork:\\n- shopee food (1.5 years)\\n- lau phan (0.5 years)\\n- funix - a member of fpt corporation (0.5 years)\\nRoles:\\n- delivery driver (1.5 years)\\n- waiter (0.5 years)\\n- full stack web developer (0.5 years)\\nSkills:\\n- html\\n- css\\n- javascript\\n- git\\n- vscode\\n- postman\\nProgramming languages:\\n- react (0.5 years)\\n- node (0.5 years)\\n- redux toolkit (0.5 years)\\n- mongodb (0.5 years)\\n- express (0.5 years)\\n- socket.io (0.5 years)\\nCities:\\n- ha noi\\n', metadata={'id': 395}), -260.0908571609053), (Document(page_content='Languages:\\n- English\\nMajors:\\n- bachelor, data science, national economics university, (GPA: 3.9)\\nWork:\\n- dslab neu (0.5 years)\\nRoles:\\n- research assistant (0.5 years)\\nSkills:\\n- data science\\n- data engineering\\n- machine learning\\n- sentiment analysis\\n- hate speech detection\\n- data pipeline orchestration\\n- model deployment\\nProgramming languages:\\n- python (0.5 years)\\n- spark (0.5 years)\\n- kafka (0.5 years)\\n- postgresql (0.5 years)\\n- docker (0.5 years)\\n- airflow (0.5 years)\\n- streamlit (0.5 years)\\n- elasticsearch (0.5 years)\\nCertifications:\\n- IELTS 8.5\\nAwards:\\n- IELTS 8.5\\n', metadata={'id': 495}), -261.76799524539615), (Document(page_content='Languages:\\n- English\\nMajors:\\n- bachelor, international business, university of economics and law, (GPA: 3.88)\\nWork:\\n- hoanh tuan co., ltd (0.5 years)\\n- hoang minh co., ltd (0.5 years)\\n- jda wms - headhunt firm (0.5 years)\\nRoles:\\n- import export documentation (0.5 years)\\n- data entry staff (0.5 years)\\n- recruitment consultant (0.5 years)\\nSkills:\\n- english\\n- google searching\\n- cv screening\\n- teamwork\\n- ms office\\n- problem solving\\n- decision making\\nCities:\\n- ho chi minh\\nCertifications:\\n- TOEIC SW\\n- TOEIC\\nAwards:\\n- Luong Van Can Fund Scholarships\\n', metadata={'id': 692}), -263.18298460650124), (Document(page_content='Languages:\\n- English\\nMajors:\\n- bachelor, computer science, national economics university, (GPA: 3.6)\\nWork:\\n- md center (0.5 years)\\n- parts precision technology(s) pte ltd (3 years)\\nRoles:\\n- researcher (0.5 years)\\n- teacher (0.5 years)\\n- software engineer (3 years)\\nSkills:\\n- web application development\\n- data structures\\n- algorithms\\n- database management systems\\n- business analysis\\n- artificial intelligence\\n- machine learning\\nProgramming languages:\\n- python (3 years)\\n- java (3 years)\\n- c++ (0.5 years)\\n- sql (3 years)\\nCities:\\n- ha noi\\nCertifications:\\n- Microsoft Office Specialist: PowerPoint (Office 2016)\\n- Microsoft Office Specialist: Word (Office 2016)\\n- Microsoft Office Specialist: Excel (Office 2016)\\n- Google IT Support\\nAwards:\\n- Microsoft Office Specialist: PowerPoint (Office 2016)\\n- Microsoft Office Specialist: Word (Office 2016)\\n- Microsoft Office Specialist: Excel (Office 2016)\\n- Google IT Support\\n', metadata={'id': 310}), -263.5734601155207)]\n",
      "  warnings.warn(\n",
      " 13%|█▎        | 5/39 [00:45<05:14,  9.26s/it]"
     ]
    },
    {
     "name": "stdout",
     "output_type": "stream",
     "text": [
      "End LLM\n",
      "New Query:  {'institutionList': ['national economics university (neu)'], 'eduList': ['master', 'undergraduate', 'phd', 'diploma', 'certificate', 'bachelor'], 'roleList': ['marketing manager', 'marketing analyst', 'marketing assistant', 'marketing officer']}\n",
      "Extended Num Application:  7\n",
      "Not enough application\n",
      "New Query:  {'institutionList': ['national economics university (neu)', 'university of economics'], 'roleList': ['marketing manager', 'marketing assistant', 'marketing analyst', 'marketing', 'marketing officer']}\n",
      "[424, 2109]\n",
      "Less -> Sematic Search\n",
      "Using Sematic Search\n",
      "Num CV ok:  5\n",
      "Rerank\n",
      "[1274, 1513, 2109, 395, 424]\n",
      "Time: 9.94589900970459\n",
      "Extracting Job Description\n",
      "End LLM\n",
      "New Query:  {'eduList': ['master', 'undergraduate', 'phd', 'diploma', 'certificate', 'bachelor'], 'roleList': ['data analyst', 'research scientist', 'data science / artificial intelligence', 'data scientist'], 'role_exp': 0.5}\n",
      "Extended Num Application:  14\n",
      "Reduce CV  19  ->  14  CV\n",
      "New Query:  {'eduList': ['master', 'undergraduate', 'phd', 'diploma', 'certificate', 'bachelor'], 'roleList': ['data scientist'], 'role_exp': 0.5}\n",
      "Risk:  True\n",
      "Not enough application\n",
      "Reduce Risk -> Get more CV\n",
      "New Query:  {'eduList': ['master', 'undergraduate', 'phd', 'diploma', 'certificate', 'bachelor'], 'roleList': ['data analyst', 'research scientist', 'data science / artificial intelligence', 'data scientist'], 'role_exp': 0.5}\n",
      "[638, 606, 383, 270, 211, 135, 2141, 2123, 2013, 1428, 1456, 1473, 1604, 1690, 1847, 335, 280, 1291, 1165]\n",
      "More -> Reduce CV\n",
      "Num CV ok:  14\n",
      "Rerank\n",
      "Reranking\n"
     ]
    },
    {
     "name": "stderr",
     "output_type": "stream",
     "text": [
      " 15%|█▌        | 6/39 [00:55<05:08,  9.35s/it]"
     ]
    },
    {
     "name": "stdout",
     "output_type": "stream",
     "text": [
      "[638, 606, 383, 280, 270, 2141, 2013, 1291, 1428, 1456, 1847]\n",
      "Time: 9.516389846801758\n",
      "Extracting Job Description\n"
     ]
    },
    {
     "name": "stderr",
     "output_type": "stream",
     "text": [
      " 18%|█▊        | 7/39 [01:05<05:08,  9.63s/it]"
     ]
    },
    {
     "name": "stdout",
     "output_type": "stream",
     "text": [
      "End LLM\n",
      "New Query:  {'institutionList': ['hanoi university of industry', 'fpt polytechnic hà nội'], 'eduList': ['master', 'undergraduate', 'phd', 'diploma', 'certificate', 'bachelor']}\n",
      "Extended Num Application:  7\n",
      "Num CV ok:  6\n",
      "Rerank\n",
      "Reranking\n",
      "[1802, 651, 1896, 2004, 2006]\n",
      "Time: 10.212158441543579\n",
      "Extracting Job Description\n"
     ]
    },
    {
     "name": "stderr",
     "output_type": "stream",
     "text": [
      " 21%|██        | 8/39 [01:12<04:37,  8.95s/it]"
     ]
    },
    {
     "name": "stdout",
     "output_type": "stream",
     "text": [
      "End LLM\n",
      "New Query:  {'eduList': ['master', 'undergraduate', 'phd', 'diploma', 'certificate', 'bachelor'], 'roleList': ['accountant', 'auditor']}\n",
      "Extended Num Application:  4\n",
      "Reduce CV  7  ->  4  CV\n",
      "New Query:  {'eduList': ['master', 'undergraduate', 'phd', 'diploma', 'certificate', 'bachelor'], 'roleList': ['auditor']}\n",
      "Risk:  True\n",
      "Num CV ok:  3\n",
      "Rerank\n",
      "[1817, 305, 738]\n",
      "Time: 7.501044750213623\n",
      "Extracting Job Description\n"
     ]
    },
    {
     "name": "stderr",
     "output_type": "stream",
     "text": [
      " 23%|██▎       | 9/39 [01:20<04:12,  8.42s/it]"
     ]
    },
    {
     "name": "stdout",
     "output_type": "stream",
     "text": [
      "End LLM\n",
      "New Query:  {'eduList': ['master', 'undergraduate', 'phd', 'diploma', 'certificate', 'bachelor'], 'roleList': ['account management', 'finance', 'accountant', 'auditor']}\n",
      "Extended Num Application:  3\n",
      "Reduce CV  8  ->  3  CV\n",
      "New Query:  {'eduList': ['master', 'undergraduate', 'phd', 'diploma', 'certificate', 'bachelor'], 'roleList': ['accountant', 'auditor']}\n",
      "Still more -> Reduce CV\n",
      "Risk:  True\n",
      "Num CV ok:  3\n",
      "Rerank\n",
      "Reranking\n",
      "[1857, 138]\n",
      "Time: 7.244226932525635\n",
      "Extracting Job Description\n"
     ]
    },
    {
     "name": "stderr",
     "output_type": "stream",
     "text": [
      " 26%|██▌       | 10/39 [01:27<03:56,  8.17s/it]"
     ]
    },
    {
     "name": "stdout",
     "output_type": "stream",
     "text": [
      "End LLM\n",
      "New Query:  {'eduList': ['master', 'undergraduate', 'phd', 'diploma', 'certificate', 'bachelor'], 'roleList': ['hr', 'hr generalist', 'hr executive', 'hr administrator'], 'role_exp': 0.0, 'suitableList': ['marketing assistant', 'hr administrator', 'hr manager', 'hr generalist', 'hr executive', 'hr', 'recruitment consultant', 'communications assistant', 'research assistant', 'office assistant']}\n",
      "Extended Num Application:  1\n",
      "Num CV ok:  1\n",
      "Rerank\n",
      "[1066]\n",
      "Time: 7.601626634597778\n",
      "Extracting Job Description\n"
     ]
    },
    {
     "name": "stderr",
     "output_type": "stream",
     "text": [
      "--- Logging error ---\n",
      "Traceback (most recent call last):\n",
      "  File \"/home/quanghung20gg/anaconda3/lib/python3.11/logging/__init__.py\", line 1110, in emit\n",
      "    msg = self.format(record)\n",
      "          ^^^^^^^^^^^^^^^^^^^\n",
      "  File \"/home/quanghung20gg/anaconda3/lib/python3.11/logging/__init__.py\", line 953, in format\n",
      "    return fmt.format(record)\n",
      "           ^^^^^^^^^^^^^^^^^^\n",
      "  File \"/home/quanghung20gg/anaconda3/lib/python3.11/logging/__init__.py\", line 687, in format\n",
      "    record.message = record.getMessage()\n",
      "                     ^^^^^^^^^^^^^^^^^^^\n",
      "  File \"/home/quanghung20gg/anaconda3/lib/python3.11/logging/__init__.py\", line 377, in getMessage\n",
      "    msg = msg % self.args\n",
      "          ~~~~^~~~~~~~~~~\n",
      "TypeError: not all arguments converted during string formatting\n",
      "Call stack:\n",
      "  File \"<frozen runpy>\", line 198, in _run_module_as_main\n",
      "  File \"<frozen runpy>\", line 88, in _run_code\n",
      "  File \"/home/quanghung20gg/anaconda3/lib/python3.11/site-packages/ipykernel_launcher.py\", line 17, in <module>\n",
      "    app.launch_new_instance()\n",
      "  File \"/home/quanghung20gg/anaconda3/lib/python3.11/site-packages/traitlets/config/application.py\", line 992, in launch_instance\n",
      "    app.start()\n",
      "  File \"/home/quanghung20gg/anaconda3/lib/python3.11/site-packages/ipykernel/kernelapp.py\", line 701, in start\n",
      "    self.io_loop.start()\n",
      "  File \"/home/quanghung20gg/anaconda3/lib/python3.11/site-packages/tornado/platform/asyncio.py\", line 195, in start\n",
      "    self.asyncio_loop.run_forever()\n",
      "  File \"/home/quanghung20gg/anaconda3/lib/python3.11/asyncio/base_events.py\", line 607, in run_forever\n",
      "    self._run_once()\n",
      "  File \"/home/quanghung20gg/anaconda3/lib/python3.11/asyncio/base_events.py\", line 1922, in _run_once\n",
      "    handle._run()\n",
      "  File \"/home/quanghung20gg/anaconda3/lib/python3.11/asyncio/events.py\", line 80, in _run\n",
      "    self._context.run(self._callback, *self._args)\n",
      "  File \"/home/quanghung20gg/anaconda3/lib/python3.11/site-packages/ipykernel/kernelbase.py\", line 534, in dispatch_queue\n",
      "    await self.process_one()\n",
      "  File \"/home/quanghung20gg/anaconda3/lib/python3.11/site-packages/ipykernel/kernelbase.py\", line 523, in process_one\n",
      "    await dispatch(*args)\n",
      "  File \"/home/quanghung20gg/anaconda3/lib/python3.11/site-packages/ipykernel/kernelbase.py\", line 429, in dispatch_shell\n",
      "    await result\n",
      "  File \"/home/quanghung20gg/anaconda3/lib/python3.11/site-packages/ipykernel/kernelbase.py\", line 767, in execute_request\n",
      "    reply_content = await reply_content\n",
      "  File \"/home/quanghung20gg/anaconda3/lib/python3.11/site-packages/ipykernel/ipkernel.py\", line 429, in do_execute\n",
      "    res = shell.run_cell(\n",
      "  File \"/home/quanghung20gg/anaconda3/lib/python3.11/site-packages/ipykernel/zmqshell.py\", line 549, in run_cell\n",
      "    return super().run_cell(*args, **kwargs)\n",
      "  File \"/home/quanghung20gg/anaconda3/lib/python3.11/site-packages/IPython/core/interactiveshell.py\", line 3051, in run_cell\n",
      "    result = self._run_cell(\n",
      "  File \"/home/quanghung20gg/anaconda3/lib/python3.11/site-packages/IPython/core/interactiveshell.py\", line 3106, in _run_cell\n",
      "    result = runner(coro)\n",
      "  File \"/home/quanghung20gg/anaconda3/lib/python3.11/site-packages/IPython/core/async_helpers.py\", line 129, in _pseudo_sync_runner\n",
      "    coro.send(None)\n",
      "  File \"/home/quanghung20gg/anaconda3/lib/python3.11/site-packages/IPython/core/interactiveshell.py\", line 3311, in run_cell_async\n",
      "    has_raised = await self.run_ast_nodes(code_ast.body, cell_name,\n",
      "  File \"/home/quanghung20gg/anaconda3/lib/python3.11/site-packages/IPython/core/interactiveshell.py\", line 3493, in run_ast_nodes\n",
      "    if await self.run_code(code, result, async_=asy):\n",
      "  File \"/home/quanghung20gg/anaconda3/lib/python3.11/site-packages/IPython/core/interactiveshell.py\", line 3553, in run_code\n",
      "    exec(code_obj, self.user_global_ns, self.user_ns)\n",
      "  File \"/tmp/ipykernel_15249/1820400962.py\", line 10, in <module>\n",
      "    res = chat_agent.get_cv_from_jd(prompt)\n",
      "  File \"/home/quanghung20gg/Documents/hung20gg/cv_rank/agentic.py\", line 170, in get_cv_from_jd\n",
      "    data, jd_summarize, jd_out = self.query.get_cv(self.llm_jd_extraction, JD, self.llm_routing, llm_ranking)\n",
      "  File \"/home/quanghung20gg/Documents/hung20gg/cv_rank/query_and_ranking/query.py\", line 42, in get_cv\n",
      "    jd_summarize, jd_out, jd_extraction = extract_job_requirements_prompt(llm, JD, lm=lm)\n",
      "  File \"/home/quanghung20gg/Documents/hung20gg/cv_rank/agent/agent_prompt.py\", line 424, in extract_job_requirements_prompt\n",
      "    jd_summarize = lm(summarize_message)\n",
      "  File \"/home/quanghung20gg/Documents/hung20gg/cv_rank/agent/llm/llm.py\", line 81, in __call__\n",
      "    return self.pipe(message, **self.generation_args)[0]['generated_text'][-1]['content']\n",
      "  File \"/home/quanghung20gg/anaconda3/lib/python3.11/site-packages/transformers/pipelines/text_generation.py\", line 235, in __call__\n",
      "    return super().__call__(Chat(text_inputs), **kwargs)\n",
      "  File \"/home/quanghung20gg/anaconda3/lib/python3.11/site-packages/transformers/pipelines/base.py\", line 1167, in __call__\n",
      "    logger.warning_once(\n",
      "  File \"/home/quanghung20gg/anaconda3/lib/python3.11/site-packages/transformers/utils/logging.py\", line 329, in warning_once\n",
      "    self.warning(*args, **kwargs)\n",
      "Message: 'You seem to be using the pipelines sequentially on GPU. In order to maximize efficiency please use a dataset'\n",
      "Arguments: (<class 'UserWarning'>,)\n"
     ]
    },
    {
     "name": "stdout",
     "output_type": "stream",
     "text": [
      "End LLM\n",
      "New Query:  {'institutionList': ['national economics university (neu)'], 'eduList': ['master', 'undergraduate', 'phd', 'diploma', 'certificate', 'bachelor'], 'roleList': ['data analyst', 'data analysis', 'analyst', 'data science / artificial intelligence', 'data scientist', 'research scientist', 'financial market data analyst'], 'suitableList': ['data analyst', 'data analysis', 'analyst', 'data science / artificial intelligence', 'machine learning engineer', 'data scientist', 'research analyst', 'research scientist', 'financial market data analyst']}\n",
      "Extended Num Application:  12\n",
      "Not enough application\n",
      "New Query:  {'institutionList': ['national economics university (neu)', 'university of economics'], 'suitableList': ['data analyst', 'data analysis', 'analyst', 'business analyst', 'data science / artificial intelligence', 'scientist', 'machine learning engineer', 'data scientist', 'research analyst', 'sales analyst', 'research scientist', 'financial market data analyst']}\n",
      "[1214, 1690, 463, 1941, 2013, 495, 561, 732, 606, 280, 124, 1291]\n",
      "Num CV ok:  12\n",
      "Rerank\n",
      "Reranking\n"
     ]
    },
    {
     "name": "stderr",
     "output_type": "stream",
     "text": [
      " 28%|██▊       | 11/39 [01:40<04:25,  9.50s/it]"
     ]
    },
    {
     "name": "stdout",
     "output_type": "stream",
     "text": [
      "[1214, 124, 1291, 1690, 1941, 2013, 732, 280, 561, 495, 463, 606]\n",
      "Time: 12.516016244888306\n",
      "Extracting Job Description\n"
     ]
    },
    {
     "name": "stderr",
     "output_type": "stream",
     "text": [
      "/home/quanghung20gg/anaconda3/lib/python3.11/site-packages/langchain_core/vectorstores.py:330: UserWarning: Relevance scores must be between 0 and 1, got [(Document(page_content='Languages:\\n- English\\nMajors:\\n- undergraduate, software development, fpt polytechnic college, (GPA: 3.44)\\nRoles:\\n- java developer (0 years)\\n- full stack developer (0 years)\\nSkills:\\n- web development\\n- back\\n- end development\\n- front\\n- database design\\n- api integration\\n- business analysis\\nProgramming languages:\\n- java (0 years)\\n- spring boot (0 years)\\n- jpa (0 years)\\n- react (0 years)\\n- mysql (0 years)\\n- html (0 years)\\n- css (0 years)\\n- javascript (0 years)\\nCities:\\n- ha noi\\nCertifications:\\n- Basic English Certificate\\nAwards:\\n- Basic English Certificate\\n', metadata={'id': 648}), -147.22910409486573), (Document(page_content='Languages:\\n- English\\nMajors:\\n- undergraduate, computer programming, fpt polytechnic hà nội, (GPA: 3.6)\\nWork:\\n- công ty cổ phần thương mại và phát triển công nghệ bách việt (1 years)\\nRoles:\\n- web developer (1 years)\\n- it developer (1 years)\\nSkills:\\n- system design\\n- system analysis\\n- proxy deployment\\n- tool development\\nProgramming languages:\\n- python (1 years)\\n- php (1 years)\\n- javascript (1 years)\\nCities:\\n- ha noi\\n', metadata={'id': 2006}), -148.9482207038133), (Document(page_content='Languages:\\n- English\\nMajors:\\n- undergraduate, software development, fpt polytechnic college, (GPA: 3.6)\\nRoles:\\n- web developer (0.5 years)\\n- software engineer (0.5 years)\\nSkills:\\n- database design\\n- user management\\n- payment integration\\n- api integration\\n- front\\n- end development\\nProgramming languages:\\n- c# (0.5 years)\\n- sql (0.5 years)\\n- asp.net core (0.5 years)\\n- entity framework (0.5 years)\\n- html (0.5 years)\\n- css (0.5 years)\\n- javascript (0.5 years)\\n- angular (0.5 years)\\nCities:\\n- ha noi\\nAwards:\\n- Good and Excellent student for 6 out of 7 semesters\\n', metadata={'id': 358}), -153.83137421763797), (Document(page_content='Languages:\\n- English\\nMajors:\\n- undergraduate, mobile programming, fpt polytechnic, (GPA: 3.6)\\nRoles:\\n- developer (0.5 years)\\nSkills:\\n- mobile application development\\n- api integration\\n- teamwork\\nProgramming languages:\\n- java (0.5 years)\\n- kotlin (0.5 years)\\n- javascript (0.5 years)\\n- react native (0.5 years)\\n- node (0.5 years)\\nCities:\\n- ha noi\\n', metadata={'id': 279}), -153.93281839154307), (Document(page_content='Languages:\\n- English\\nMajors:\\n- undergraduate, mobile application programming, fpt polytechnic, (GPA: 3.7)\\nWork:\\n- công ty cổ phần thương mại di động (0.5 years)\\nRoles:\\n-  (0.5 years)\\nSkills:\\n- mobile application development\\n- software development\\n- ui\\n- ux design\\n- documentation\\n- version control\\nProgramming languages:\\n- javascript (0.5 years)\\n- html (0.5 years)\\n- css (0.5 years)\\n- java (0.5 years)\\n- c# (0.5 years)\\n- mongodb (0.5 years)\\n- firebase (0.5 years)\\n- git (0.5 years)\\nCities:\\n- ha noi\\n', metadata={'id': 64}), -154.48034725569644), (Document(page_content='Languages:\\n- English\\nMajors:\\n- bachelor, computer science, national economics university hanoi, (GPA: 3.43)\\nWork:\\n- lts group (0.5 years)\\n- viettel telecom (0.5 years)\\nRoles:\\n- software developer (0.5 years)\\nSkills:\\n- web development\\n- api development\\n- content management system\\n- user interface design\\n- artificial intelligence\\n- database management\\n- testing\\n- deployment\\n- english teaching\\nProgramming languages:\\n- java (0.5 years)\\n- javascript (0.5 years)\\n- typescript (0.5 years)\\n- php (0.5 years)\\n- spring boot (0.5 years)\\n- react (0.5 years)\\n- node (0.5 years)\\n- graphql (0.5 years)\\nCities:\\n- ha noi\\n', metadata={'id': 1593}), -158.0614240346057), (Document(page_content='Languages:\\n- English\\nMajors:\\n- undergraduate, web development, fpt polytechnic college, (GPA: 3.6)\\nRoles:\\n- web developer (0 years)\\nSkills:\\n- web development\\n- project management\\n- teamwork\\n- problem solving\\n- communication\\nProgramming languages:\\n- php (0 years)\\n- mysql (0 years)\\n- html (0 years)\\n- css (0 years)\\n- javascript (0 years)\\n- angular (0 years)\\n- laravel (0 years)\\nCities:\\n- ha noi\\n', metadata={'id': 862}), -161.90585152970954), (Document(page_content='Languages:\\n- English\\nMajors:\\n- bachelor, information technology, posts and telecommunications institute of technology, (GPA: 3.6)\\nWork:\\n- oceantech (0.5 years)\\n- oceantech (1 years)\\n- tổng công ty truyền thông vnpt media (0.5 years)\\nRoles:\\n- tester (1.5 years)\\n- ba (1.5 years)\\n- front-end developer (1 years)\\n- web developer (0.5 years)\\nSkills:\\n- software development life cycle\\n- agile\\n- user stories\\n- uml diagram\\n- api testing\\n- sql\\n- figma\\n- git\\nCities:\\n- ha noi\\n', metadata={'id': 2051}), -162.76268717108283), (Document(page_content='Languages:\\n- English\\nMajors:\\n- bachelor, software engineer, ho chi minh city university of technology and education, (GPA: 3.4)\\nWork:\\n- fpt software academy hcm (0.5 years)\\nRoles:\\n- full-stack developer (0.5 years)\\n- team leader (0.5 years)\\n- software engineer (0.5 years)\\nSkills:\\n- agile methodologies\\n- team management\\n- ui\\n- ux design\\n- payment gateway integration\\n- security implementation\\n- api development\\n- data management\\n- communication\\nProgramming languages:\\n- java (0.5 years)\\n- spring boot (0.5 years)\\n- angular (0.5 years)\\n- sql (0.5 years)\\n- python (0.5 years)\\n- thymeleaf (0.5 years)\\n- javascript (0.5 years)\\n- html (0.5 years)\\nCities:\\n- ho chi minh\\nCertifications:\\n- TOEIC (L&R)\\nAwards:\\n- TOEIC (L&R) 825/990\\n', metadata={'id': 2027}), -164.65657367918362), (Document(page_content='Languages:\\n- English\\nMajors:\\n- bachelor, information technology, hanoi university of business and technology, (GPA: 3.6)\\nRoles:\\n- web developer (0.5 years)\\nSkills:\\n- front\\n- end development\\n- back\\n- real\\n- time communication\\n- database management\\n- cloud computing\\n- user interface design\\n- e\\n- commerce\\n- api development\\nProgramming languages:\\n- javascript (0.5 years)\\n- typescript (0.5 years)\\n- react (0.5 years)\\n- node (0.5 years)\\n- mongodb (0.5 years)\\n- sql (0.5 years)\\n- asp.net mvc (0.5 years)\\n- firebase (0.5 years)\\nCities:\\n- ha noi\\n', metadata={'id': 222}), -165.71709313498584), (Document(page_content='Languages:\\n- English\\nMajors:\\n- bachelor, business administration, hanoi college of industrial economics, (GPA: 3.6)\\nWork:\\n- shopee food (1.5 years)\\n- lau phan (0.5 years)\\n- funix - a member of fpt corporation (0.5 years)\\nRoles:\\n- delivery driver (1.5 years)\\n- waiter (0.5 years)\\n- full stack web developer (0.5 years)\\nSkills:\\n- html\\n- css\\n- javascript\\n- git\\n- vscode\\n- postman\\nProgramming languages:\\n- react (0.5 years)\\n- node (0.5 years)\\n- redux toolkit (0.5 years)\\n- mongodb (0.5 years)\\n- express (0.5 years)\\n- socket.io (0.5 years)\\nCities:\\n- ha noi\\n', metadata={'id': 395}), -167.75031586284123), (Document(page_content='Languages:\\n- English\\nMajors:\\n- undergraduate, software application, fpt polytechnic, (GPA: 3.95)\\nWork:\\n- dorm management software (0.5 years)\\n- website for managing a temple (0.5 years)\\n- nice shoe (0.5 years)\\nRoles:\\n- developer (0.5 years)\\n- leader (0.5 years)\\nSkills:\\n- web development\\n- backend development\\n- frontend development\\n- database design\\n- team leadership\\nProgramming languages:\\n- java (0.5 years)\\n- spring mvc (0.5 years)\\n- spring data (0.5 years)\\n- spring security (0.5 years)\\n- restful api (0.5 years)\\n- angular (0.5 years)\\n- mysql (0.5 years)\\n- git (0.5 years)\\nCities:\\n- ha noi\\nCertifications:\\n- English Topnotch 2.2\\nAwards:\\n- English Topnotch 2.2 (Equivalent to IELTS 4.5)\\n', metadata={'id': 1703}), -168.3148607871665), (Document(page_content='Languages:\\n- English\\nMajors:\\n- bachelor, software technology, hanoi university of industry, (GPA: 3.6)\\nWork:\\n- vikoisoft joint stock company (1 years)\\nRoles:\\n-  (0 years)\\n- web developer (0.5 years)\\nSkills:\\n- web development\\n- frontend development\\n- backend development\\n- database management\\n- docker\\nProgramming languages:\\n- html (0.5 years)\\n- css (0.5 years)\\n- javascript (0.5 years)\\n- typescript (0.5 years)\\n- react (0.5 years)\\n- next (0.5 years)\\n- express (0.5 years)\\n- nest (0.5 years)\\nCities:\\n- ha noi\\n', metadata={'id': 2004}), -172.56862554489436), (Document(page_content='Languages:\\n- English\\nMajors:\\n- college, software engineer, university of science, (GPA: 2.86)\\nWork:\\n- fpt software company (1 years)\\n- hdviet company (4 years)\\n- mtrip.vn (1 years)\\n- yola company (3.5 years)\\n- fp logistics company (1.5 years)\\nRoles:\\n- net developer (1 years)\\n- it team leader (1.5 years)\\n- full-stack developer (3.5 years)\\n- backend developer (11.5 years)\\nSkills:\\n- microservices\\n- api development\\n- team management\\n- cloud computing\\n- ci\\n- cd\\n- data synchronization\\n- database management\\n- reporting\\nProgramming languages:\\n- python (11.5 years)\\n- javascript (11.5 years)\\n- php (4 years)\\n- c# (1 years)\\n- vb (1 years)\\n- sql (11.5 years)\\n- kafka (1.5 years)\\n- docker (1.5 years)\\nCities:\\n- ho chi minh\\n', metadata={'id': 708}), -173.2903581955364)]\n",
      "  warnings.warn(\n",
      " 31%|███       | 12/39 [01:48<04:10,  9.28s/it]"
     ]
    },
    {
     "name": "stdout",
     "output_type": "stream",
     "text": [
      "End LLM\n",
      "New Query:  {'cityList': ['ha noi'], 'institutionList': ['fpt university', 'fpt polytechnic college', 'fpt university hcm'], 'eduList': ['master', 'undergraduate', 'phd', 'diploma', 'certificate', 'bachelor']}\n",
      "Extended Num Application:  14\n",
      "Not enough application\n",
      "New Query:  {'cityList': ['ha noi'], 'institutionList': ['fpt university', 'fpt polytechnic college', 'fpt university hcm']}\n",
      "[862, 776, 648, 1703, 1749, 64, 279, 358]\n",
      "Less -> Sematic Search\n",
      "Using Sematic Search\n",
      "Num CV ok:  11\n",
      "Rerank\n",
      "[1593, 1703, 1749, 2006, 2051, 279, 358, 64, 648, 776, 862]\n",
      "Time: 8.770936250686646\n",
      "Extracting Job Description\n"
     ]
    },
    {
     "name": "stderr",
     "output_type": "stream",
     "text": [
      " 33%|███▎      | 13/39 [01:56<03:46,  8.71s/it]"
     ]
    },
    {
     "name": "stdout",
     "output_type": "stream",
     "text": [
      "End LLM\n",
      "New Query:  {'languageList': ['English'], 'eduList': ['master', 'undergraduate', 'phd', 'diploma', 'certificate', 'bachelor'], 'roleList': ['content marketing manager', 'marketing manager', 'digital marketing manager', 'marketing officer']}\n",
      "Extended Num Application:  4\n",
      "Reduce CV  5  ->  4  CV\n",
      "New Query:  {'languageList': ['English'], 'eduList': ['master', 'undergraduate', 'phd', 'diploma', 'certificate', 'bachelor'], 'roleList': ['marketing manager', 'digital marketing manager', 'marketing officer']}\n",
      "Risk:  True\n",
      "Num CV ok:  4\n",
      "Rerank\n",
      "Reranking\n",
      "[972, 1139, 468]\n",
      "Time: 7.400040149688721\n",
      "Extracting Job Description\n",
      "End LLM\n",
      "New Query:  {'languageList': ['English'], 'institutionList': ['national economics university (neu)'], 'eduList': ['master', 'undergraduate', 'phd', 'diploma', 'certificate', 'bachelor'], 'roleList': ['data analyst', 'machine learning engineer', 'data scientist', 'dataops engineer'], 'suitableList': ['data analyst', 'data analysis', 'machine learning engineer', 'data scientist', 'dataops engineer', 'financial market data analyst']}\n",
      "Extended Num Application:  4\n",
      "Reduce CV  5  ->  4  CV\n",
      "New Query:  {'languageList': ['English'], 'institutionList': ['national economics university (neu)'], 'eduList': ['master', 'undergraduate', 'phd', 'diploma', 'certificate', 'bachelor'], 'roleList': ['data analyst', 'machine learning engineer', 'data scientist', 'dataops engineer'], 'suitableList': ['data analyst', 'machine learning engineer', 'data scientist', 'dataops engineer', 'financial market data analyst']}\n",
      "Still more -> Reduce CV\n",
      "Risk:  True\n",
      "Num CV ok:  4\n",
      "Rerank\n",
      "Reranking\n"
     ]
    },
    {
     "name": "stderr",
     "output_type": "stream",
     "text": [
      " 36%|███▌      | 14/39 [02:07<03:54,  9.39s/it]"
     ]
    },
    {
     "name": "stdout",
     "output_type": "stream",
     "text": [
      "[1690, 561, 606]\n",
      "Time: 10.960225582122803\n",
      "Extracting Job Description\n"
     ]
    },
    {
     "name": "stderr",
     "output_type": "stream",
     "text": [
      " 38%|███▊      | 15/39 [02:15<03:38,  9.11s/it]"
     ]
    },
    {
     "name": "stdout",
     "output_type": "stream",
     "text": [
      "End LLM\n",
      "New Query:  {'eduList': ['master', 'undergraduate', 'phd', 'diploma', 'certificate', 'bachelor'], 'roleList': ['full stack developer', 'front end developer', 'back-end developer', 'developer'], 'role_exp': 2.5, 'programming_exp': 2.5, 'suitableList': ['full stack developer', 'front end developer', 'developer', 'it developer', 'net developer', 'back-end developer']}\n",
      "Extended Num Application:  3\n",
      "Reduce CV  5  ->  3  CV\n",
      "New Query:  {'eduList': ['master', 'undergraduate', 'phd', 'diploma', 'certificate', 'bachelor'], 'roleList': ['front end developer', 'back-end developer'], 'role_exp': 2.5, 'programming_exp': 2.5, 'suitableList': ['full stack developer', 'front end developer', 'back-end developer', 'developer']}\n",
      "Risk:  True\n",
      "Num CV ok:  3\n",
      "Rerank\n",
      "Reranking\n",
      "[1579, 2083]\n",
      "Time: 8.459286451339722\n",
      "Extracting Job Description\n"
     ]
    },
    {
     "name": "stderr",
     "output_type": "stream",
     "text": [
      "/home/quanghung20gg/anaconda3/lib/python3.11/site-packages/langchain_core/vectorstores.py:330: UserWarning: Relevance scores must be between 0 and 1, got [(Document(page_content='Languages:\\n- English\\nMajors:\\n- bachelor, information security, ho chi minh city university of technology and food industry, (GPA: 2.9)\\nWork:\\n- công ty c ổ  ph ầ n công ngh ệ tam khoadeveloper .net (1 years)\\nRoles:\\n- tester (0 years)\\n- researcher (0.5 years)\\n- software developer (1 years)\\nSkills:\\n- software development\\n- machine learning\\n- sql\\n- technical support\\nProgramming languages:\\n- .net (1 years)\\n- python (0.5 years)\\n- c# (1 years)\\n- sql (1 years)\\nCities:\\n- ho chi minh\\n', metadata={'id': 1841}), -161.0662610084791), (Document(page_content='Languages:\\n- English\\n- Vietnamese\\nMajors:\\n- undergraduate, computer networking and communication, ho chi minh city university of technology, (GPA: 3.6)\\nWork:\\n- hung phat usa (0.5 years)\\n- private supermarket (0.5 years)\\n- mwg (0.5 years)\\n- etomil milk (0.5 years)\\n- ho chi minh city university of technology (6.5 years)\\nRoles:\\n- it support (0.5 years)\\n- inventory management staff (0.5 years)\\n- security camera supervisor (0.5 years)\\n- marketing staff (0.5 years)\\n- programmer (0.5 years)\\nSkills:\\n- system configuration\\n- management\\n- network administration\\n- project management\\n- web development\\n- mobile development\\n- game development\\n- security\\n- iot\\nProgramming languages:\\n- html (0.5 years)\\n- css (0.5 years)\\n- unity (0.5 years)\\n- wordpress (0.5 years)\\n- sql (0.5 years)\\nCities:\\n- thu duc\\n', metadata={'id': 1530}), -163.2971928295484), (Document(page_content='Languages:\\n- English\\nMajors:\\n- bachelor, software engineer, ho chi minh city university of technology and education, (GPA: 3.4)\\nWork:\\n- fpt software academy hcm (0.5 years)\\nRoles:\\n- full-stack developer (0.5 years)\\n- team leader (0.5 years)\\n- software engineer (0.5 years)\\nSkills:\\n- agile methodologies\\n- team management\\n- ui\\n- ux design\\n- payment gateway integration\\n- security implementation\\n- api development\\n- data management\\n- communication\\nProgramming languages:\\n- java (0.5 years)\\n- spring boot (0.5 years)\\n- angular (0.5 years)\\n- sql (0.5 years)\\n- python (0.5 years)\\n- thymeleaf (0.5 years)\\n- javascript (0.5 years)\\n- html (0.5 years)\\nCities:\\n- ho chi minh\\nCertifications:\\n- TOEIC (L&R)\\nAwards:\\n- TOEIC (L&R) 825/990\\n', metadata={'id': 2027}), -163.5450945233433), (Document(page_content='Languages:\\n- English\\nMajors:\\n- undergraduate, information technology, ho chi minh city open university, (GPA: 3.6)\\nWork:\\n- m q -h o use (1.5 years)\\n- healthy heart project (0.5 years)\\nRoles:\\n- mobile app developer (0.5 years)\\n- web developer (0 years)\\n- software developer (0 years)\\nSkills:\\n- web development\\n- mobile app development\\n- customer service\\n- marketing\\n- database design\\n- api development\\nProgramming languages:\\n- java (0 years)\\n- javascript (0 years)\\n- python (0 years)\\n- spring mvc (0 years)\\n- react (0 years)\\n- react native (0 years)\\n- mysql (0 years)\\n- html (0 years)\\n- css (0 years)\\nCities:\\n- ho chi minh\\n', metadata={'id': 1240}), -164.54972433753795), (Document(page_content='Languages:\\n- English\\nMajors:\\n- bachelor, computer science, national economics university hanoi, (GPA: 3.43)\\nWork:\\n- lts group (0.5 years)\\n- viettel telecom (0.5 years)\\nRoles:\\n- software developer (0.5 years)\\nSkills:\\n- web development\\n- api development\\n- content management system\\n- user interface design\\n- artificial intelligence\\n- database management\\n- testing\\n- deployment\\n- english teaching\\nProgramming languages:\\n- java (0.5 years)\\n- javascript (0.5 years)\\n- typescript (0.5 years)\\n- php (0.5 years)\\n- spring boot (0.5 years)\\n- react (0.5 years)\\n- node (0.5 years)\\n- graphql (0.5 years)\\nCities:\\n- ha noi\\n', metadata={'id': 1593}), -167.2671157584696), (Document(page_content='Languages:\\n- English\\nMajors:\\n- undergraduate, information technology, ho chi minh city industry and trade college, (GPA: 3.6)\\nRoles:\\n- web developer (1.5 years)\\n- php programmer (1.5 years)\\nSkills:\\n- web application development\\n- database design\\n- debugging\\n- testing\\n- security vulnerability mitigation\\n- version control\\n- requirement analysis\\n- logical solution design\\n- collaboration with ui\\n- ux designers\\nProgramming languages:\\n- php (1.5 years)\\n- javascript (1.5 years)\\n- mysql (1.5 years)\\n- html (1.5 years)\\n- css (1.5 years)\\n- jquery (1.5 years)\\n- bootstrap (1.5 years)\\n- asp.net (1.5 years)\\nCities:\\n- ho chi minh\\n', metadata={'id': 191}), -168.21006146823242)]\n",
      "  warnings.warn(\n",
      " 41%|████      | 16/39 [02:23<03:23,  8.85s/it]"
     ]
    },
    {
     "name": "stdout",
     "output_type": "stream",
     "text": [
      "End LLM\n",
      "New Query:  {'cityList': ['ho chi minh'], 'institutionList': ['ho chi minh city university of industry and trade', 'ho chi minh city industry and trade college'], 'eduList': ['master', 'undergraduate', 'phd', 'diploma', 'certificate', 'bachelor']}\n",
      "Extended Num Application:  6\n",
      "Not enough application\n",
      "New Query:  {'cityList': ['ho chi minh'], 'institutionList': ['ho chi minh city university of industry and trade', 'ho chi minh city industry and trade college']}\n",
      "[178, 191]\n",
      "Less -> Sematic Search\n",
      "Using Sematic Search\n",
      "Num CV ok:  4\n",
      "Rerank\n",
      "[1530, 178, 1841, 191]\n",
      "Time: 8.248933792114258\n",
      "Extracting Job Description\n"
     ]
    },
    {
     "name": "stderr",
     "output_type": "stream",
     "text": [
      " 44%|████▎     | 17/39 [02:30<03:01,  8.23s/it]"
     ]
    },
    {
     "name": "stdout",
     "output_type": "stream",
     "text": [
      "End LLM\n",
      "New Query:  {'institutionList': ['ho chi minh city open university'], 'eduList': ['master', 'undergraduate', 'phd', 'diploma', 'certificate', 'bachelor']}\n",
      "Extended Num Application:  7\n",
      "Num CV ok:  6\n",
      "Rerank\n",
      "Reranking\n",
      "[548, 1193, 1669, 1240, 1604]\n",
      "Time: 6.796512603759766\n",
      "Extracting Job Description\n",
      "End LLM\n",
      "New Query:  {'eduList': ['master', 'undergraduate', 'phd', 'diploma', 'certificate', 'bachelor'], 'roleList': ['data analyst', 'data analysis', 'analyst', 'business analyst', 'finance analyst', 'sales analyst', 'financial market data analyst'], 'role_exp': 0.5, 'suitableList': ['data analyst', 'data analysis', 'analyst', 'business analyst', 'marketing analyst', 'data scientist', 'finance analyst', 'research analyst', 'sales analyst', 'financial market data analyst']}\n",
      "Extended Num Application:  7\n",
      "Reduce CV  18  ->  7  CV\n",
      "New Query:  {'eduList': ['master', 'undergraduate', 'phd', 'diploma', 'certificate', 'bachelor'], 'roleList': ['data analyst', 'business analyst', 'financial market data analyst'], 'role_exp': 0.5, 'suitableList': ['data analyst', 'data analysis', 'analyst', 'business analyst', 'marketing analyst', 'data scientist', 'finance analyst', 'sales analyst', 'financial market data analyst']}\n",
      "Still more -> Reduce CV\n",
      "Risk:  True\n",
      "Num CV ok:  7\n",
      "Rerank\n",
      "Reranking\n"
     ]
    },
    {
     "name": "stderr",
     "output_type": "stream",
     "text": [
      " 46%|████▌     | 18/39 [02:38<02:50,  8.12s/it]"
     ]
    },
    {
     "name": "stdout",
     "output_type": "stream",
     "text": [
      "[1473, 335, 135, 1847, 1428]\n",
      "Time: 7.859335422515869\n",
      "Extracting Job Description\n"
     ]
    },
    {
     "name": "stderr",
     "output_type": "stream",
     "text": [
      " 49%|████▊     | 19/39 [02:46<02:38,  7.94s/it]"
     ]
    },
    {
     "name": "stdout",
     "output_type": "stream",
     "text": [
      "End LLM\n",
      "New Query:  {'eduList': ['master', 'undergraduate', 'phd', 'diploma', 'certificate', 'bachelor'], 'roleList': ['embedded developer', 'developer', 'embedded systems engineer', 'it developer']}\n",
      "Extended Num Application:  3\n",
      "Reduce CV  18  ->  3  CV\n",
      "New Query:  {'eduList': ['master', 'undergraduate', 'phd', 'diploma', 'certificate', 'bachelor'], 'roleList': ['embedded developer']}\n",
      "Risk:  True\n",
      "Not enough application\n",
      "Reduce Risk -> Get more CV\n",
      "New Query:  {'eduList': ['master', 'undergraduate', 'phd', 'diploma', 'certificate', 'bachelor'], 'roleList': ['embedded developer', 'developer', 'embedded systems engineer']}\n",
      "[850, 642, 587, 409, 345, 92, 23, 1953, 1493, 1500, 1669, 705, 2073, 279, 83, 1715, 1703]\n",
      "More -> Reduce CV\n",
      "Num CV ok:  3\n",
      "Rerank\n",
      "Reranking\n",
      "[642, 1953]\n",
      "Time: 7.5302934646606445\n",
      "Extracting Job Description\n"
     ]
    },
    {
     "name": "stderr",
     "output_type": "stream",
     "text": [
      " 51%|█████▏    | 20/39 [02:54<02:32,  8.04s/it]"
     ]
    },
    {
     "name": "stdout",
     "output_type": "stream",
     "text": [
      "End LLM\n",
      "New Query:  {'eduList': ['master', 'undergraduate', 'phd', 'diploma', 'certificate', 'bachelor'], 'roleList': ['it support'], 'suitableList': ['technical team leader', 'media specialist', 'communication specialist', 'receptionist', 'customer service manager', 'e-commerce specialist', 'it support', 'change management specialist', 'customer service staff', 'research assistance', 'office assistant']}\n",
      "Extended Num Application:  3\n",
      "Num CV ok:  2\n",
      "Rerank\n",
      "[1530, 178]\n",
      "Time: 8.278629779815674\n",
      "Extracting Job Description\n"
     ]
    },
    {
     "name": "stderr",
     "output_type": "stream",
     "text": [
      " 54%|█████▍    | 21/39 [03:02<02:23,  7.98s/it]"
     ]
    },
    {
     "name": "stdout",
     "output_type": "stream",
     "text": [
      "End LLM\n",
      "New Query:  {'cityList': ['ha noi'], 'eduList': ['master', 'undergraduate', 'phd', 'diploma', 'certificate', 'bachelor'], 'roleList': [' web developer', 'developer', 'mobile app developer', 'android developer']}\n",
      "Extended Num Application:  4\n",
      "Reduce CV  16  ->  4  CV\n",
      "New Query:  {'cityList': ['ha noi'], 'eduList': ['master', 'undergraduate', 'phd', 'diploma', 'certificate', 'bachelor'], 'roleList': [' web developer', 'developer', 'mobile app developer', 'android developer']}\n",
      "Still more -> Reduce CV\n",
      "Risk:  True\n",
      "Num CV ok:  4\n",
      "Rerank\n",
      "Reranking\n",
      "[222, 279, 1896]\n",
      "Time: 7.834760904312134\n",
      "Extracting Job Description\n"
     ]
    },
    {
     "name": "stderr",
     "output_type": "stream",
     "text": [
      "/home/quanghung20gg/anaconda3/lib/python3.11/site-packages/langchain_core/vectorstores.py:330: UserWarning: Relevance scores must be between 0 and 1, got [(Document(page_content='Languages:\\n- English\\nMajors:\\n- bachelor, software engineer, hanoi university of industry, (GPA: 3.5)\\nRoles:\\n- android developer (0 years)\\nSkills:\\n- user interface design\\n- api design\\n- firebase\\n- android development\\n- git\\n- postman\\n- mvvm architecture\\n- clean architecture\\nProgramming languages:\\n- kotlin (0 years)\\n- dart (0 years)\\nCities:\\n- ha noi\\nAwards:\\n- Second Prize in Japanese dubbing contest\\n- Consolation Prize in School-level Olympic Programming Contest\\n- Third Prize in School-level Olympic Programming Contest\\n', metadata={'id': 651}), -174.7689144773811), (Document(page_content='Languages:\\n- English\\nMajors:\\n- bachelor, computer science, national economics university hanoi, (GPA: 3.43)\\nWork:\\n- lts group (0.5 years)\\n- viettel telecom (0.5 years)\\nRoles:\\n- software developer (0.5 years)\\nSkills:\\n- web development\\n- api development\\n- content management system\\n- user interface design\\n- artificial intelligence\\n- database management\\n- testing\\n- deployment\\n- english teaching\\nProgramming languages:\\n- java (0.5 years)\\n- javascript (0.5 years)\\n- typescript (0.5 years)\\n- php (0.5 years)\\n- spring boot (0.5 years)\\n- react (0.5 years)\\n- node (0.5 years)\\n- graphql (0.5 years)\\nCities:\\n- ha noi\\n', metadata={'id': 1593}), -177.6816842961598), (Document(page_content='Languages:\\n- English\\nMajors:\\n- bachelor, computer engineer, hanoi university of science and technology, (GPA: 3.6)\\nRoles:\\n- data engineer (0 years)\\nSkills:\\n- data engineering\\n- cloud computing\\n- data visualization\\n- data modeling\\n- etl\\n- elt\\n- data pipelines\\n- distributed systems\\n- database\\nProgramming languages:\\n- python (0 years)\\n- sql (0 years)\\nCities:\\n- ha noi\\n', metadata={'id': 19}), -183.33243163589034), (Document(page_content='Languages:\\n- English\\nMajors:\\n- bachelor, information technology, hanoi university of business and technology, (GPA: 3.6)\\nRoles:\\n- web developer (0.5 years)\\nSkills:\\n- front\\n- end development\\n- back\\n- real\\n- time communication\\n- database management\\n- cloud computing\\n- user interface design\\n- e\\n- commerce\\n- api development\\nProgramming languages:\\n- javascript (0.5 years)\\n- typescript (0.5 years)\\n- react (0.5 years)\\n- node (0.5 years)\\n- mongodb (0.5 years)\\n- sql (0.5 years)\\n- asp.net mvc (0.5 years)\\n- firebase (0.5 years)\\nCities:\\n- ha noi\\n', metadata={'id': 222}), -185.8706954472761), (Document(page_content='Languages:\\n- English\\nMajors:\\n- undergraduate, software technology, saigon university, (GPA: 3.6)\\nRoles:\\n- team lead (1.5 years)\\n- developer (0.5 years)\\nSkills:\\n- html\\n- css\\n- javascript\\n- react.js\\n- redux\\n- restful api\\n- git\\n- figma\\nProgramming languages:\\n- java (1 years)\\n- spring boot (1 years)\\n- mysql (1 years)\\n- node (0.5 years)\\n- mongodb (0.5 years)\\n- php (1 years)\\n- react (1.5 years)\\nCities:\\n- ho chi minh\\n', metadata={'id': 1715}), -188.03867956443455), (Document(page_content='Languages:\\n- English\\n- Vietnamese\\nMajors:\\n- bachelor, information technology, can tho university, (GPA: 3.6)\\nRoles:\\n- web developer (0 years)\\nSkills:\\n- html\\n- css\\n- javascript\\n- reactjs\\n- php\\n- nodejs\\n- mysql\\n- mongodb\\nProgramming languages:\\n- html (0 years)\\n- css (0 years)\\n- javascript (0 years)\\n- php (0 years)\\n- node (0 years)\\n- react (0 years)\\n- mysql (0 years)\\n- mongodb (0 years)\\nCities:\\n- cần thơ\\n', metadata={'id': 1313}), -188.27715115375622), (Document(page_content='Languages:\\n- English\\nMajors:\\n- bachelor, software technology, hanoi university of industry, (GPA: 3.6)\\nWork:\\n- vikoisoft joint stock company (1 years)\\nRoles:\\n-  (0 years)\\n- web developer (0.5 years)\\nSkills:\\n- web development\\n- frontend development\\n- backend development\\n- database management\\n- docker\\nProgramming languages:\\n- html (0.5 years)\\n- css (0.5 years)\\n- javascript (0.5 years)\\n- typescript (0.5 years)\\n- react (0.5 years)\\n- next (0.5 years)\\n- express (0.5 years)\\n- nest (0.5 years)\\nCities:\\n- ha noi\\n', metadata={'id': 2004}), -189.42257436986284), (Document(page_content='Languages:\\n- English\\nMajors:\\n- bachelor, information security, ho chi minh city university of technology and food industry, (GPA: 2.9)\\nWork:\\n- công ty c ổ  ph ầ n công ngh ệ tam khoadeveloper .net (1 years)\\nRoles:\\n- tester (0 years)\\n- researcher (0.5 years)\\n- software developer (1 years)\\nSkills:\\n- software development\\n- machine learning\\n- sql\\n- technical support\\nProgramming languages:\\n- .net (1 years)\\n- python (0.5 years)\\n- c# (1 years)\\n- sql (1 years)\\nCities:\\n- ho chi minh\\n', metadata={'id': 1841}), -191.15877097307103)]\n",
      "  warnings.warn(\n",
      " 56%|█████▋    | 22/39 [03:10<02:15,  7.99s/it]"
     ]
    },
    {
     "name": "stdout",
     "output_type": "stream",
     "text": [
      "End LLM\n",
      "New Query:  {'institutionList': ['fpt polytechnic hà nội', 'university of information technology'], 'eduList': ['master', 'undergraduate', 'phd', 'diploma', 'certificate', 'bachelor']}\n",
      "Extended Num Application:  8\n",
      "Not enough application\n",
      "New Query:  {'institutionList': ['fpt polytechnic hà nội', 'university of information technology']}\n",
      "[363, 2006]\n",
      "Less -> Sematic Search\n",
      "Using Sematic Search\n",
      "Num CV ok:  6\n",
      "Rerank\n",
      "[1593, 19, 2006, 222, 363, 651]\n",
      "Time: 8.005748510360718\n",
      "Extracting Job Description\n",
      "End LLM\n",
      "New Query:  {'cityList': ['ho chi minh'], 'eduList': ['master', 'undergraduate', 'phd', 'diploma', 'certificate', 'bachelor'], 'roleList': ['full stack developer', 'front end developer', 'back-end developer', 'developer'], 'role_exp': 0.0}\n",
      "Extended Num Application:  7\n",
      "Reduce CV  20  ->  7  CV\n",
      "New Query:  {'cityList': ['ho chi minh'], 'eduList': ['master', 'undergraduate', 'phd', 'diploma', 'certificate', 'bachelor'], 'roleList': ['full stack developer', 'front end developer', 'back-end developer', 'developer'], 'role_exp': 0.0}\n",
      "Still more -> Reduce CV\n",
      "Risk:  True\n",
      "Num CV ok:  7\n",
      "Rerank\n",
      "Reranking\n"
     ]
    },
    {
     "name": "stderr",
     "output_type": "stream",
     "text": [
      " 59%|█████▉    | 23/39 [03:21<02:22,  8.88s/it]"
     ]
    },
    {
     "name": "stdout",
     "output_type": "stream",
     "text": [
      "[751, 708, 1715, 439, 1021]\n",
      "Time: 10.955459594726562\n",
      "Extracting Job Description\n"
     ]
    },
    {
     "name": "stderr",
     "output_type": "stream",
     "text": [
      "/home/quanghung20gg/anaconda3/lib/python3.11/site-packages/langchain_core/vectorstores.py:330: UserWarning: Relevance scores must be between 0 and 1, got [(Document(page_content='Languages:\\n- English\\nMajors:\\n- bachelor, software engineer, fpt university, (GPA: 3.6)\\nRoles:\\n- developer (0 years)\\nSkills:\\n- software development\\n- teamwork\\n- problem solving\\nProgramming languages:\\n- c# (0 years)\\n- java (0 years)\\n- asp.net mvc (0 years)\\n- asp.net core api (0 years)\\n- sql server (0 years)\\n- mongodb (0 years)\\n- angular (0 years)\\n- bootstrap (0 years)\\nCities:\\n- cam pha\\n', metadata={'id': 1953}), -275.0074835913298), (Document(page_content='Languages:\\n- English\\nMajors:\\n- bachelor, information technology, tien giang university, (GPA: 3.6)\\nWork:\\n- sharework corp (0.5 years)\\nRoles:\\n- software developer (0 years)\\n-  (0.5 years)\\nSkills:\\n- user interface design\\n- mobile app development\\n- web development\\n- database management\\n- api integration\\n- figma\\n- linux\\n- docker\\nProgramming languages:\\n- flutter (0.5 years)\\n- java (0 years)\\n- c# (0 years)\\n- kotlin (0 years)\\n- spring boot (0 years)\\n- sql (0 years)\\n- javascript (0 years)\\n- php (0 years)\\nCities:\\n- ti ề n giang.\\n', metadata={'id': 60}), -275.58017362019666), (Document(page_content='Languages:\\n- English\\nMajors:\\n- bachelor, information technology, van hien university, (GPA: 3.6)\\nRoles:\\n- developer (0 years)\\nSkills:\\n- web development\\n- api development\\n- database management\\n- version control\\nProgramming languages:\\n- c# (0 years)\\n- .net (0 years)\\n- .net core (0 years)\\n- node (0 years)\\n- angular (0 years)\\n- html (0 years)\\n- css (0 years)\\n- sql (0 years)\\n', metadata={'id': 1493}), -277.5762483656726), (Document(page_content='Languages:\\n- English\\nWork:\\n- dong tien service corporation (5 years)\\n- phu nhuan jewelry (1 years)\\n- fe credit (2 years)\\n- fe credit (2.5 years)\\n- sieuviet (1.5 years)\\n- sieu viet (1.5 years)\\nRoles:\\n- back end developer (5 years)\\n- java developer (1 years)\\n- technical team leader (1 years)\\n- solution architect (4.5 years)\\n- dataops engineer (1.5 years)\\n- devops engineer (5.5 years)\\nSkills:\\n- devops\\n- cloud architecture\\n- ci\\n- cd\\n- infrastructure as code\\n- security\\n- monitoring\\n- automation\\n- containerization\\nProgramming languages:\\n- java (5.5 years)\\n- python (5.5 years)\\n- groovy (5.5 years)\\n- typescript (5.5 years)\\n- sql (5.5 years)\\n- spring boot (5.5 years)\\n- linux bashshell (5.5 years)\\n', metadata={'id': 502}), -278.2093500746474), (Document(page_content='Languages:\\n- English\\nMajors:\\n- bachelor, information technology, posts and telecommunications institute of technology, (GPA: 3.6)\\nWork:\\n- oceantech (0.5 years)\\n- oceantech (1 years)\\n- tổng công ty truyền thông vnpt media (0.5 years)\\nRoles:\\n- tester (1.5 years)\\n- ba (1.5 years)\\n- front-end developer (1 years)\\n- web developer (0.5 years)\\nSkills:\\n- software development life cycle\\n- agile\\n- user stories\\n- uml diagram\\n- api testing\\n- sql\\n- figma\\n- git\\nCities:\\n- ha noi\\n', metadata={'id': 2051}), -286.99342690621796), (Document(page_content='Languages:\\n- English\\nMajors:\\n- undergraduate, software development, fpt polytechnic college, (GPA: 3.44)\\nRoles:\\n- java developer (0 years)\\n- full stack developer (0 years)\\nSkills:\\n- web development\\n- back\\n- end development\\n- front\\n- database design\\n- api integration\\n- business analysis\\nProgramming languages:\\n- java (0 years)\\n- spring boot (0 years)\\n- jpa (0 years)\\n- react (0 years)\\n- mysql (0 years)\\n- html (0 years)\\n- css (0 years)\\n- javascript (0 years)\\nCities:\\n- ha noi\\nCertifications:\\n- Basic English Certificate\\nAwards:\\n- Basic English Certificate\\n', metadata={'id': 648}), -289.2325055865506)]\n",
      "  warnings.warn(\n",
      " 62%|██████▏   | 24/39 [03:29<02:10,  8.70s/it]"
     ]
    },
    {
     "name": "stdout",
     "output_type": "stream",
     "text": [
      "End LLM\n",
      "New Query:  {'eduList': ['master', 'undergraduate', 'phd', 'diploma', 'certificate', 'bachelor'], 'roleList': ['front end developer', 'developer', 'full stack developer', 'back-end developer'], 'role_exp': 5.0}\n",
      "Extended Num Application:  6\n",
      "Not enough application\n",
      "New Query:  {'roleList': ['full stack developer', 'front end developer', 'developer', 'it developer', 'back-end developer'], 'role_exp': 4.5}\n",
      "[502, 708, 23]\n",
      "Less -> Sematic Search\n",
      "Using Sematic Search\n",
      "Num CV ok:  4\n",
      "Rerank\n",
      "[1953, 23, 502, 708]\n",
      "Time: 8.266287803649902\n",
      "Extracting Job Description\n"
     ]
    },
    {
     "name": "stderr",
     "output_type": "stream",
     "text": [
      "/home/quanghung20gg/anaconda3/lib/python3.11/site-packages/langchain_core/vectorstores.py:330: UserWarning: Relevance scores must be between 0 and 1, got [(Document(page_content='Languages:\\n- English\\nWork:\\n- dong tien service corporation (5 years)\\n- phu nhuan jewelry (1 years)\\n- fe credit (2 years)\\n- fe credit (2.5 years)\\n- sieuviet (1.5 years)\\n- sieu viet (1.5 years)\\nRoles:\\n- back end developer (5 years)\\n- java developer (1 years)\\n- technical team leader (1 years)\\n- solution architect (4.5 years)\\n- dataops engineer (1.5 years)\\n- devops engineer (5.5 years)\\nSkills:\\n- devops\\n- cloud architecture\\n- ci\\n- cd\\n- infrastructure as code\\n- security\\n- monitoring\\n- automation\\n- containerization\\nProgramming languages:\\n- java (5.5 years)\\n- python (5.5 years)\\n- groovy (5.5 years)\\n- typescript (5.5 years)\\n- sql (5.5 years)\\n- spring boot (5.5 years)\\n- linux bashshell (5.5 years)\\n', metadata={'id': 502}), -247.43179554100547), (Document(page_content='Languages:\\n- English\\nWork:\\n- onpoint e-commerce (0.5 years)\\n- techlist crypto (0.5 years)\\nRoles:\\n- data engineer (1.5 years)\\nSkills:\\n- data pipeline\\n- etl\\n- data crawling\\n- data quality\\n- process monitoring\\n- unit testing\\n- code flow flake8\\n- data analysis\\nProgramming languages:\\n- python (1.5 years)\\n- sql (1.5 years)\\n- scala (1.5 years)\\n- django (1.5 years)\\n- kafka (1.5 years)\\n- airflow (1.5 years)\\nCertifications:\\n- Hackerrank: SQL Intermediate Certificate\\nAwards:\\n- 1 Consecutive Semesters Excellent+\\n- Hackerrank: SQL Intermediate Certificate\\n', metadata={'id': 383}), -260.8006591856663), (Document(page_content='Languages:\\n- English\\nMajors:\\n- undergraduate, software development, ispace cyber security college, (GPA: 3.6)\\nRoles:\\n- backend developer (0 years)\\nSkills:\\n- role\\n- based access control\\n- authentication\\n- docker\\n- clean architecture\\n- api development\\n- database management\\n- middleware\\n- jwt\\nProgramming languages:\\n- c# (0 years)\\n- javascript (0 years)\\n- asp .net core (0 years)\\n- react (0 years)\\n- node (0 years)\\n- express (0 years)\\n- mysql (0 years)\\n- mongodb (0 years)\\nCertifications:\\n- AWS Academy Cloud Foundations\\nAwards:\\n- AWS Academy Cloud Foundations\\n', metadata={'id': 50}), -265.66496903585846), (Document(page_content='Languages:\\n- English\\nMajors:\\n- undergraduate, software development, ispace cyber security college, (GPA: 3.6)\\nRoles:\\n- developer (0.5 years)\\nSkills:\\n- docker\\n- reactjs\\n- api development\\n- database design\\n- clean architecture\\nProgramming languages:\\n- c# (0.5 years)\\n- node (0.5 years)\\n- react (0.5 years)\\n- sql (0.5 years)\\n- mongodb (0.5 years)\\n- mysql (0.5 years)\\n- express (0.5 years)\\nCertifications:\\n- AWS Academy Graduate - AWS Academy Cloud Foundations - Amazon Web Services (AWS)\\nAwards:\\n- AWS Academy Graduate - AWS Academy Cloud Foundations - Amazon Web Services (AWS)\\n', metadata={'id': 705}), -267.2879112728557)]\n",
      "  warnings.warn(\n",
      " 64%|██████▍   | 25/39 [03:37<01:59,  8.51s/it]"
     ]
    },
    {
     "name": "stdout",
     "output_type": "stream",
     "text": [
      "End LLM\n",
      "New Query:  {'languageList': ['English'], 'eduList': ['master', 'undergraduate', 'phd', 'diploma', 'certificate', 'bachelor'], 'roleList': ['devops', 'developer', 'dataops engineer'], 'role_exp': 1.0, 'suitableList': ['developer', 'devops', 'back-end developer', 'it developer', 'dataops engineer', 'software engineer']}\n",
      "Extended Num Application:  4\n",
      "Reduce CV  9  ->  4  CV\n",
      "New Query:  {'languageList': ['English'], 'eduList': ['master', 'undergraduate', 'phd', 'diploma', 'certificate', 'bachelor'], 'roleList': ['devops'], 'role_exp': 1.0, 'suitableList': ['developer', 'devops', 'it developer', 'dataops engineer', 'software engineer']}\n",
      "Risk:  True\n",
      "Not enough application\n",
      "Reduce Risk -> Get more CV\n",
      "New Query:  {'languageList': ['English'], 'eduList': ['master', 'undergraduate', 'phd', 'diploma', 'certificate', 'bachelor'], 'roleList': ['devops', 'dataops engineer'], 'role_exp': 1.0, 'suitableList': ['developer', 'devops', 'back-end developer', 'it developer', 'dataops engineer', 'software engineer']}\n",
      "[573, 502]\n",
      "Less -> Sematic Search\n",
      "Using Sematic Search\n",
      "Num CV ok:  3\n",
      "Rerank\n",
      "[383, 502, 573]\n",
      "Time: 8.067935943603516\n",
      "Extracting Job Description\n"
     ]
    },
    {
     "name": "stderr",
     "output_type": "stream",
     "text": [
      " 67%|██████▋   | 26/39 [03:46<01:53,  8.71s/it]"
     ]
    },
    {
     "name": "stdout",
     "output_type": "stream",
     "text": [
      "End LLM\n",
      "New Query:  {'languageList': ['English'], 'eduList': ['master', 'undergraduate', 'phd', 'diploma', 'certificate', 'bachelor'], 'roleList': [' web developer', 'php developer', 'developer', 'java developer'], 'role_exp': 2.5, 'suitableList': ['java developer', 'developer', 'python developer', 'it developer', 'software developer', 'software engineer']}\n",
      "Extended Num Application:  4\n",
      "Num CV ok:  3\n",
      "Rerank\n",
      "[1579, 2023, 587]\n",
      "Time: 9.182329893112183\n",
      "Extracting Job Description\n"
     ]
    },
    {
     "name": "stderr",
     "output_type": "stream",
     "text": [
      " 69%|██████▉   | 27/39 [03:55<01:44,  8.74s/it]"
     ]
    },
    {
     "name": "stdout",
     "output_type": "stream",
     "text": [
      "End LLM\n",
      "New Query:  {'cityList': ['ha noi'], 'eduList': ['master', 'undergraduate', 'phd', 'diploma', 'certificate', 'bachelor'], 'roleList': ['marketing manager', 'content writer', 'marketing assistant', 'marketing analyst', 'financial planner', 'production planner', 'content creator', 'content marketing', 'designer', 'strategic planning', 'marketing officer'], 'role_exp': 1.5, 'skillList': ['social media marketing', 'marketing strategy', 'content creation', 'content writing', 'marketing', 'content marketing', 'digital marketing', 'creative concept development', 'financial planning', 'email marketing', 'value creation', 'decision making', 'content management', 'planning', 'strategic planning', 'production planning', 'building'], 'suitableList': ['insurance advisor', 'marketing executive', 'event coordinator', 'marketing manager', 'content writer', 'marketing assistant', 'marketing analyst', 'content marketing manager', 'financial planner', 'production planner', 'content creator', 'content marketing', 'designer', 'strategic planning', 'marketing', 'marketing officer']}\n",
      "Extended Num Application:  6\n",
      "Num CV ok:  4\n",
      "Rerank\n",
      "[1371, 1513, 1749, 786]\n",
      "Time: 8.802695035934448\n",
      "Extracting Job Description\n"
     ]
    },
    {
     "name": "stderr",
     "output_type": "stream",
     "text": [
      " 72%|███████▏  | 28/39 [04:04<01:37,  8.90s/it]"
     ]
    },
    {
     "name": "stdout",
     "output_type": "stream",
     "text": [
      "End LLM\n",
      "New Query:  {'languageList': ['English'], 'cityList': ['ho chi minh'], 'eduList': ['master', 'undergraduate', 'phd', 'diploma', 'certificate', 'bachelor'], 'roleList': ['marketing manager', 'content writer', 'marketing assistant', 'marketing analyst', 'financial planner', 'production planner', 'content creator', 'content marketing', 'designer', 'strategic planning', 'marketing officer'], 'role_exp': 1.5, 'skillList': ['social media marketing', 'marketing strategy', 'content creation', 'content writing', 'marketing', 'content marketing', 'digital marketing', 'creative concept development', 'financial planning', 'email marketing', 'value creation', 'decision making', 'content management', 'planning', 'strategic planning', 'production planning', 'building'], 'suitableList': ['insurance advisor', 'marketing executive', 'event coordinator', 'marketing manager', 'content writer', 'marketing assistant', 'marketing analyst', 'content marketing manager', 'financial planner', 'production planner', 'content creator', 'content marketing', 'designer', 'strategic planning', 'marketing', 'marketing officer']}\n",
      "Extended Num Application:  4\n",
      "Num CV ok:  3\n",
      "Rerank\n",
      "[1629, 468, 841]\n",
      "Time: 9.293194770812988\n",
      "Extracting Job Description\n"
     ]
    },
    {
     "name": "stderr",
     "output_type": "stream",
     "text": [
      " 74%|███████▍  | 29/39 [04:13<01:27,  8.77s/it]"
     ]
    },
    {
     "name": "stdout",
     "output_type": "stream",
     "text": [
      "End LLM\n",
      "New Query:  {'institutionList': ['national economics university (neu)'], 'eduList': ['master', 'undergraduate', 'phd', 'diploma', 'certificate', 'bachelor']}\n",
      "Extended Num Application:  30\n",
      "Not enough application\n",
      "New Query:  {'institutionList': ['national economics university (neu)', 'university of economics']}\n",
      "[1214, 1274, 1690, 424, 463, 8, 1941, 2013, 495, 324, 227, 1783, 310, 561, 732, 406, 606, 280, 738, 124, 1761, 1993, 2109, 1722, 1291]\n",
      "Num CV ok:  25\n",
      "Rerank\n",
      "[1214, 124, 1274, 1291, 1690, 1722, 1761, 1783, 1941, 1993, 2013, 2109, 227, 280, 310, 324, 406, 424, 463, 495, 561, 606, 732, 738, 8]\n",
      "Time: 8.437975645065308\n",
      "Extracting Job Description\n"
     ]
    },
    {
     "name": "stderr",
     "output_type": "stream",
     "text": [
      " 77%|███████▋  | 30/39 [04:20<01:14,  8.30s/it]"
     ]
    },
    {
     "name": "stdout",
     "output_type": "stream",
     "text": [
      "End LLM\n",
      "New Query:  {'languageList': ['English'], 'institutionList': ['university of economics and law', 'university of economics'], 'eduList': ['master', 'undergraduate', 'phd', 'diploma', 'certificate', 'bachelor']}\n",
      "Extended Num Application:  4\n",
      "Num CV ok:  4\n",
      "Rerank\n",
      "Reranking\n",
      "[692, 443, 1901]\n",
      "Time: 7.216526508331299\n",
      "Extracting Job Description\n"
     ]
    },
    {
     "name": "stderr",
     "output_type": "stream",
     "text": [
      " 79%|███████▉  | 31/39 [04:29<01:09,  8.64s/it]"
     ]
    },
    {
     "name": "stdout",
     "output_type": "stream",
     "text": [
      "End LLM\n",
      "New Query:  {'institutionList': ['hcmc open university', 'ho chi minh city open university'], 'eduList': ['master', 'undergraduate', 'phd', 'diploma', 'certificate', 'bachelor']}\n",
      "Extended Num Application:  11\n",
      "Not enough application\n",
      "New Query:  {'institutionList': ['international university - ho chi minh city national university', 'hcmc open university', 'ho chi minh city open university']}\n",
      "[456, 618, 533, 548, 1669, 1604, 1240, 1193]\n",
      "Num CV ok:  8\n",
      "Rerank\n",
      "[1193, 1240, 1604, 1669, 456, 533, 548, 618]\n",
      "Time: 9.416627645492554\n",
      "Extracting Job Description\n"
     ]
    },
    {
     "name": "stderr",
     "output_type": "stream",
     "text": [
      " 82%|████████▏ | 32/39 [04:37<00:58,  8.33s/it]"
     ]
    },
    {
     "name": "stdout",
     "output_type": "stream",
     "text": [
      "End LLM\n",
      "New Query:  {'languageList': ['English'], 'institutionList': ['ho chi minh city university of technology and education', 'ho chi minh city university of technology'], 'eduList': ['master', 'undergraduate', 'phd', 'diploma', 'certificate', 'bachelor']}\n",
      "Extended Num Application:  4\n",
      "Reduce CV  6  ->  4  CV\n",
      "New Query:  {'languageList': ['English'], 'institutionList': ['ho chi minh city university of technology and education', 'ho chi minh city university of technology'], 'eduList': ['master', 'undergraduate', 'phd', 'diploma', 'certificate', 'bachelor']}\n",
      "Still more -> Reduce CV\n",
      "Risk:  True\n",
      "Num CV ok:  4\n",
      "Rerank\n",
      "Reranking\n",
      "[2027, 2103, 262]\n",
      "Time: 7.60503625869751\n",
      "Extracting Job Description\n"
     ]
    },
    {
     "name": "stderr",
     "output_type": "stream",
     "text": [
      " 85%|████████▍ | 33/39 [04:47<00:53,  8.94s/it]"
     ]
    },
    {
     "name": "stdout",
     "output_type": "stream",
     "text": [
      "End LLM\n",
      "New Query:  {'institutionList': ['university of economics and law', 'university of economics'], 'eduList': ['master', 'undergraduate', 'phd', 'diploma', 'certificate', 'bachelor']}\n",
      "Extended Num Application:  3\n",
      "Reduce CV  4  ->  3  CV\n",
      "New Query:  {'institutionList': ['university of economics and law'], 'eduList': ['master', 'undergraduate', 'phd', 'diploma', 'certificate', 'bachelor']}\n",
      "Risk:  True\n",
      "Num CV ok:  3\n",
      "Rerank\n",
      "Reranking\n",
      "[443, 692]\n",
      "Time: 10.356152057647705\n",
      "Extracting Job Description\n"
     ]
    },
    {
     "name": "stderr",
     "output_type": "stream",
     "text": [
      "/home/quanghung20gg/anaconda3/lib/python3.11/site-packages/langchain_core/vectorstores.py:330: UserWarning: Relevance scores must be between 0 and 1, got [(Document(page_content='Languages:\\n- English\\nMajors:\\n- bachelor, information security, ho chi minh city university of technology and food industry, (GPA: 2.9)\\nWork:\\n- công ty c ổ  ph ầ n công ngh ệ tam khoadeveloper .net (1 years)\\nRoles:\\n- tester (0 years)\\n- researcher (0.5 years)\\n- software developer (1 years)\\nSkills:\\n- software development\\n- machine learning\\n- sql\\n- technical support\\nProgramming languages:\\n- .net (1 years)\\n- python (0.5 years)\\n- c# (1 years)\\n- sql (1 years)\\nCities:\\n- ho chi minh\\n', metadata={'id': 1841}), -196.6845100857687), (Document(page_content='Languages:\\n- English\\nMajors:\\n- bachelor, information technology, vnu-hcm university of science, (GPA: 3.6)\\nRoles:\\n- software engineer (0.5 years)\\n- web developer (0.5 years)\\nSkills:\\n- cloud storage\\n- devops\\n- machine learning\\n- database management\\n- artificial intelligence\\nProgramming languages:\\n- node (0.5 years)\\n- python (0.5 years)\\n- go (0.5 years)\\n- java (0.5 years)\\n- c++ (0.5 years)\\n- html (0.5 years)\\n- css (0.5 years)\\n- javascript (0.5 years)\\nCities:\\n- ho chi minh\\n', metadata={'id': 1488}), -199.8605994832107), (Document(page_content='Languages:\\n- English\\nMajors:\\n- undergraduate, information technology, ho chi minh city open university, (GPA: 3.6)\\nWork:\\n- m q -h o use (1.5 years)\\n- healthy heart project (0.5 years)\\nRoles:\\n- mobile app developer (0.5 years)\\n- web developer (0 years)\\n- software developer (0 years)\\nSkills:\\n- web development\\n- mobile app development\\n- customer service\\n- marketing\\n- database design\\n- api development\\nProgramming languages:\\n- java (0 years)\\n- javascript (0 years)\\n- python (0 years)\\n- spring mvc (0 years)\\n- react (0 years)\\n- react native (0 years)\\n- mysql (0 years)\\n- html (0 years)\\n- css (0 years)\\nCities:\\n- ho chi minh\\n', metadata={'id': 1240}), -202.31395876848535), (Document(page_content='Languages:\\n- English\\n- Vietnamese\\nMajors:\\n- undergraduate, computer networking and communication, ho chi minh city university of technology, (GPA: 3.6)\\nWork:\\n- hung phat usa (0.5 years)\\n- private supermarket (0.5 years)\\n- mwg (0.5 years)\\n- etomil milk (0.5 years)\\n- ho chi minh city university of technology (6.5 years)\\nRoles:\\n- it support (0.5 years)\\n- inventory management staff (0.5 years)\\n- security camera supervisor (0.5 years)\\n- marketing staff (0.5 years)\\n- programmer (0.5 years)\\nSkills:\\n- system configuration\\n- management\\n- network administration\\n- project management\\n- web development\\n- mobile development\\n- game development\\n- security\\n- iot\\nProgramming languages:\\n- html (0.5 years)\\n- css (0.5 years)\\n- unity (0.5 years)\\n- wordpress (0.5 years)\\n- sql (0.5 years)\\nCities:\\n- thu duc\\n', metadata={'id': 1530}), -202.56783789692346)]\n",
      "  warnings.warn(\n",
      " 87%|████████▋ | 34/39 [04:55<00:42,  8.49s/it]"
     ]
    },
    {
     "name": "stdout",
     "output_type": "stream",
     "text": [
      "End LLM\n",
      "New Query:  {'languageList': ['English'], 'institutionList': ['ho chi minh city university of foreign languages and information technology', 'university of foreign languages - information technology'], 'eduList': ['master', 'undergraduate', 'phd', 'diploma', 'certificate', 'bachelor']}\n",
      "Extended Num Application:  4\n",
      "Not enough application\n",
      "New Query:  {'institutionList': ['ho chi minh city university of foreign languages and information technology', 'university of foreign languages - information technology']}\n",
      "[409, 555]\n",
      "Less -> Sematic Search\n",
      "Using Sematic Search\n",
      "Num CV ok:  3\n",
      "Rerank\n",
      "[1841, 409, 555]\n",
      "Time: 7.437647104263306\n",
      "Extracting Job Description\n"
     ]
    },
    {
     "name": "stderr",
     "output_type": "stream",
     "text": [
      " 90%|████████▉ | 35/39 [05:04<00:34,  8.64s/it]"
     ]
    },
    {
     "name": "stdout",
     "output_type": "stream",
     "text": [
      "End LLM\n",
      "New Query:  {'eduList': ['master', 'undergraduate', 'phd', 'diploma', 'certificate', 'bachelor'], 'roleList': ['sales analyst', 'analyst', 'finance analyst', 'business analyst']}\n",
      "Extended Num Application:  6\n",
      "Num CV ok:  6\n",
      "Rerank\n",
      "Reranking\n",
      "[548, 443, 1193, 1396]\n",
      "Time: 9.00951623916626\n",
      "Extracting Job Description\n"
     ]
    },
    {
     "name": "stderr",
     "output_type": "stream",
     "text": [
      " 92%|█████████▏| 36/39 [05:11<00:24,  8.28s/it]"
     ]
    },
    {
     "name": "stdout",
     "output_type": "stream",
     "text": [
      "End LLM\n",
      "New Query:  {'eduList': ['master', 'undergraduate', 'phd', 'diploma', 'certificate', 'bachelor'], 'roleList': ['legal consultant', 'financial consultant', 'investment consultant', 'consultant']}\n",
      "Extended Num Application:  6\n",
      "Not enough application\n",
      "New Query:  {'roleList': ['legal consultant', 'investment consultant', 'consultant', 'financial consultant', 'implementation consultant']}\n",
      "[669, 548, 1193, 456, 1783]\n",
      "Num CV ok:  5\n",
      "Rerank\n",
      "Reranking\n",
      "[1193, 1783, 669, 548, 456]\n",
      "Time: 7.425949573516846\n",
      "Extracting Job Description\n"
     ]
    },
    {
     "name": "stderr",
     "output_type": "stream",
     "text": [
      " 95%|█████████▍| 37/39 [05:21<00:17,  8.63s/it]"
     ]
    },
    {
     "name": "stdout",
     "output_type": "stream",
     "text": [
      "End LLM\n",
      "New Query:  {'institutionList': ['ho chi minh city university of industry and trade', 'ho chi minh city university of technology and food industry'], 'eduList': ['master', 'undergraduate', 'phd', 'diploma', 'certificate', 'bachelor']}\n",
      "Extended Num Application:  3\n",
      "Num CV ok:  3\n",
      "Rerank\n",
      "Reranking\n",
      "[1841, 178]\n",
      "Time: 9.458472728729248\n",
      "Extracting Job Description\n"
     ]
    },
    {
     "name": "stderr",
     "output_type": "stream",
     "text": [
      "/home/quanghung20gg/anaconda3/lib/python3.11/site-packages/langchain_core/vectorstores.py:330: UserWarning: Relevance scores must be between 0 and 1, got [(Document(page_content='Languages:\\n- English\\n- Vietnamese\\nMajors:\\n- undergraduate, computer networking and communication, ho chi minh city university of technology, (GPA: 3.6)\\nWork:\\n- hung phat usa (0.5 years)\\n- private supermarket (0.5 years)\\n- mwg (0.5 years)\\n- etomil milk (0.5 years)\\n- ho chi minh city university of technology (6.5 years)\\nRoles:\\n- it support (0.5 years)\\n- inventory management staff (0.5 years)\\n- security camera supervisor (0.5 years)\\n- marketing staff (0.5 years)\\n- programmer (0.5 years)\\nSkills:\\n- system configuration\\n- management\\n- network administration\\n- project management\\n- web development\\n- mobile development\\n- game development\\n- security\\n- iot\\nProgramming languages:\\n- html (0.5 years)\\n- css (0.5 years)\\n- unity (0.5 years)\\n- wordpress (0.5 years)\\n- sql (0.5 years)\\nCities:\\n- thu duc\\n', metadata={'id': 1530}), -181.48195166130873), (Document(page_content='Languages:\\n- English\\nMajors:\\n- bachelor, information technology, vnu-hcm university of science, (GPA: 3.6)\\nRoles:\\n- software engineer (0.5 years)\\n- web developer (0.5 years)\\nSkills:\\n- cloud storage\\n- devops\\n- machine learning\\n- database management\\n- artificial intelligence\\nProgramming languages:\\n- node (0.5 years)\\n- python (0.5 years)\\n- go (0.5 years)\\n- java (0.5 years)\\n- c++ (0.5 years)\\n- html (0.5 years)\\n- css (0.5 years)\\n- javascript (0.5 years)\\nCities:\\n- ho chi minh\\n', metadata={'id': 1488}), -182.2557381285874), (Document(page_content='Languages:\\n- English\\nMajors:\\n- undergraduate, information technology, ho chi minh city open university, (GPA: 3.6)\\nWork:\\n- m q -h o use (1.5 years)\\n- healthy heart project (0.5 years)\\nRoles:\\n- mobile app developer (0.5 years)\\n- web developer (0 years)\\n- software developer (0 years)\\nSkills:\\n- web development\\n- mobile app development\\n- customer service\\n- marketing\\n- database design\\n- api development\\nProgramming languages:\\n- java (0 years)\\n- javascript (0 years)\\n- python (0 years)\\n- spring mvc (0 years)\\n- react (0 years)\\n- react native (0 years)\\n- mysql (0 years)\\n- html (0 years)\\n- css (0 years)\\nCities:\\n- ho chi minh\\n', metadata={'id': 1240}), -184.03893419985664), (Document(page_content='Languages:\\n- English\\nMajors:\\n- bachelor, computer science, national economics university hanoi, (GPA: 3.43)\\nWork:\\n- lts group (0.5 years)\\n- viettel telecom (0.5 years)\\nRoles:\\n- software developer (0.5 years)\\nSkills:\\n- web development\\n- api development\\n- content management system\\n- user interface design\\n- artificial intelligence\\n- database management\\n- testing\\n- deployment\\n- english teaching\\nProgramming languages:\\n- java (0.5 years)\\n- javascript (0.5 years)\\n- typescript (0.5 years)\\n- php (0.5 years)\\n- spring boot (0.5 years)\\n- react (0.5 years)\\n- node (0.5 years)\\n- graphql (0.5 years)\\nCities:\\n- ha noi\\n', metadata={'id': 1593}), -184.49753507002805), (Document(page_content='Languages:\\n- English\\nMajors:\\n- bachelor, software engineer, ho chi minh city university of technology and education, (GPA: 3.4)\\nWork:\\n- fpt software academy hcm (0.5 years)\\nRoles:\\n- full-stack developer (0.5 years)\\n- team leader (0.5 years)\\n- software engineer (0.5 years)\\nSkills:\\n- agile methodologies\\n- team management\\n- ui\\n- ux design\\n- payment gateway integration\\n- security implementation\\n- api development\\n- data management\\n- communication\\nProgramming languages:\\n- java (0.5 years)\\n- spring boot (0.5 years)\\n- angular (0.5 years)\\n- sql (0.5 years)\\n- python (0.5 years)\\n- thymeleaf (0.5 years)\\n- javascript (0.5 years)\\n- html (0.5 years)\\nCities:\\n- ho chi minh\\nCertifications:\\n- TOEIC (L&R)\\nAwards:\\n- TOEIC (L&R) 825/990\\n', metadata={'id': 2027}), -186.06582402356543), (Document(page_content='Languages:\\n- English\\nMajors:\\n- bachelor, information technology, university of economics and finance, (GPA: 2.5)\\nWork:\\n- not specified (1 years)\\nRoles:\\n- developer (3 years)\\nSkills:\\n- web development\\n- mobile development\\n- database management\\n- mvc\\n- adobe photoshop\\n- adobe premiere\\nProgramming languages:\\n- html (3 years)\\n- css (3 years)\\n- javascript (3 years)\\n- php (3 years)\\n- mysqli (3 years)\\n- bootstrap (3 years)\\n- java (1 years)\\n- microsoft sql (1 years)\\nCities:\\n- ho chi minh\\n', metadata={'id': 587}), -187.02364358811542), (Document(page_content='Languages:\\n- English\\nMajors:\\n- bachelor, information security, ho chi minh city university of technology and food industry, (GPA: 2.9)\\nWork:\\n- công ty c ổ  ph ầ n công ngh ệ tam khoadeveloper .net (1 years)\\nRoles:\\n- tester (0 years)\\n- researcher (0.5 years)\\n- software developer (1 years)\\nSkills:\\n- software development\\n- machine learning\\n- sql\\n- technical support\\nProgramming languages:\\n- .net (1 years)\\n- python (0.5 years)\\n- c# (1 years)\\n- sql (1 years)\\nCities:\\n- ho chi minh\\n', metadata={'id': 1841}), -187.05820764945676), (Document(page_content='Languages:\\n- English\\nMajors:\\n- college, software engineer, university of science, (GPA: 2.86)\\nWork:\\n- fpt software company (1 years)\\n- hdviet company (4 years)\\n- mtrip.vn (1 years)\\n- yola company (3.5 years)\\n- fp logistics company (1.5 years)\\nRoles:\\n- net developer (1 years)\\n- it team leader (1.5 years)\\n- full-stack developer (3.5 years)\\n- backend developer (11.5 years)\\nSkills:\\n- microservices\\n- api development\\n- team management\\n- cloud computing\\n- ci\\n- cd\\n- data synchronization\\n- database management\\n- reporting\\nProgramming languages:\\n- python (11.5 years)\\n- javascript (11.5 years)\\n- php (4 years)\\n- c# (1 years)\\n- vb (1 years)\\n- sql (11.5 years)\\n- kafka (1.5 years)\\n- docker (1.5 years)\\nCities:\\n- ho chi minh\\n', metadata={'id': 708}), -187.70207506228195), (Document(page_content='Languages:\\n- English\\nMajors:\\n- bachelor, english language studies, hutech university, (GPA: 3.6)\\nRoles:\\n- web developer (0.5 years)\\nSkills:\\n- html\\n- css\\n- javascript\\n- react\\n- tailwindcss\\n- node.js\\n- mongodb\\n- git\\nProgramming languages:\\n- html (0.5 years)\\n- css (0.5 years)\\n- javascript (0.5 years)\\n- react (0.5 years)\\n- node (0.5 years)\\n- mongodb (0.5 years)\\nCities:\\n- ho chi minh\\nCertifications:\\n- TOEIC\\nAwards:\\n- TOEIC score of 970\\n', metadata={'id': 1388}), -188.52427599683935), (Document(page_content='Languages:\\n- English\\nMajors:\\n- bachelor, computer network, ho chi minh city university of industry and trade, (GPA: 3.6)\\nWork:\\n- alta media company (1.0 years)\\n- esuhai company (2.0 years)\\nRoles:\\n- project leader (2.0 years)\\n- it support (3.0 years)\\nSkills:\\n- network management\\n- server management\\n- equipment management\\n- software installation\\n- device error correction\\n- project management\\n- leadership\\n- communication\\nCities:\\n- ho chi minh\\nCertifications:\\n- IT applications\\nAwards:\\n- IT applications certification\\n', metadata={'id': 178}), -188.596997855134), (Document(page_content='Languages:\\n- English\\nMajors:\\n- undergraduate, information technology, ho chi minh city university of technology, (GPA: 3.6)\\nRoles:\\n- mobile developer (0.5 years)\\n- web developer (0.5 years)\\nSkills:\\n- react\\n- node js\\n- sql\\n- c#\\n- firebase\\n- jetpack compose\\nProgramming languages:\\n- java (0.5 years)\\n- kotlin (0.5 years)\\n- javascript (0.5 years)\\n- c# (0.5 years)\\n- python (0.5 years)\\nCities:\\n- ho chi minh\\nAwards:\\n- Provincial Encouragement Award for 12th Grade Informatics\\n- Provincial Encouragement Award for 11th Grade Informatics\\n', metadata={'id': 2103}), -189.244999244668)]\n",
      "  warnings.warn(\n",
      " 97%|█████████▋| 38/39 [05:31<00:09,  9.11s/it]"
     ]
    },
    {
     "name": "stdout",
     "output_type": "stream",
     "text": [
      "End LLM\n",
      "New Query:  {'institutionList': ['ho chi minh city university of economics'], 'eduList': ['master', 'undergraduate', 'phd', 'diploma', 'certificate', 'bachelor']}\n",
      "Extended Num Application:  11\n",
      "Not enough application\n",
      "New Query:  {'institutionList': ['ho chi minh city university of economics', 'ho chi minh city university of science']}\n",
      "[1253, 1428, 669, 468, 135, 1958]\n",
      "Less -> Sematic Search\n",
      "Using Sematic Search\n",
      "Num CV ok:  8\n",
      "Rerank\n",
      "[1253, 135, 1428, 1488, 1530, 1958, 468, 669]\n",
      "Time: 10.224083423614502\n",
      "Extracting Job Description\n"
     ]
    },
    {
     "name": "stderr",
     "output_type": "stream",
     "text": [
      "/home/quanghung20gg/anaconda3/lib/python3.11/site-packages/langchain_core/vectorstores.py:330: UserWarning: Relevance scores must be between 0 and 1, got [(Document(page_content='Languages:\\n- English\\nMajors:\\n- bachelor, software engineer, hanoi university of industry, (GPA: 3.5)\\nRoles:\\n- android developer (0 years)\\nSkills:\\n- user interface design\\n- api design\\n- firebase\\n- android development\\n- git\\n- postman\\n- mvvm architecture\\n- clean architecture\\nProgramming languages:\\n- kotlin (0 years)\\n- dart (0 years)\\nCities:\\n- ha noi\\nAwards:\\n- Second Prize in Japanese dubbing contest\\n- Consolation Prize in School-level Olympic Programming Contest\\n- Third Prize in School-level Olympic Programming Contest\\n', metadata={'id': 651}), -160.3873319785448), (Document(page_content='Languages:\\n- English\\nMajors:\\n- bachelor, computer science, national economics university hanoi, (GPA: 3.43)\\nWork:\\n- lts group (0.5 years)\\n- viettel telecom (0.5 years)\\nRoles:\\n- software developer (0.5 years)\\nSkills:\\n- web development\\n- api development\\n- content management system\\n- user interface design\\n- artificial intelligence\\n- database management\\n- testing\\n- deployment\\n- english teaching\\nProgramming languages:\\n- java (0.5 years)\\n- javascript (0.5 years)\\n- typescript (0.5 years)\\n- php (0.5 years)\\n- spring boot (0.5 years)\\n- react (0.5 years)\\n- node (0.5 years)\\n- graphql (0.5 years)\\nCities:\\n- ha noi\\n', metadata={'id': 1593}), -163.89970529407202), (Document(page_content='Languages:\\n- English\\nMajors:\\n- bachelor, computer engineer, hanoi university of science and technology, (GPA: 3.6)\\nRoles:\\n- data engineer (0 years)\\nSkills:\\n- data engineering\\n- cloud computing\\n- data visualization\\n- data modeling\\n- etl\\n- elt\\n- data pipelines\\n- distributed systems\\n- database\\nProgramming languages:\\n- python (0 years)\\n- sql (0 years)\\nCities:\\n- ha noi\\n', metadata={'id': 19}), -169.1314495707441), (Document(page_content='Languages:\\n- English\\n- Vietnamese\\nMajors:\\n- undergraduate, computer networking and communication, ho chi minh city university of technology, (GPA: 3.6)\\nWork:\\n- hung phat usa (0.5 years)\\n- private supermarket (0.5 years)\\n- mwg (0.5 years)\\n- etomil milk (0.5 years)\\n- ho chi minh city university of technology (6.5 years)\\nRoles:\\n- it support (0.5 years)\\n- inventory management staff (0.5 years)\\n- security camera supervisor (0.5 years)\\n- marketing staff (0.5 years)\\n- programmer (0.5 years)\\nSkills:\\n- system configuration\\n- management\\n- network administration\\n- project management\\n- web development\\n- mobile development\\n- game development\\n- security\\n- iot\\nProgramming languages:\\n- html (0.5 years)\\n- css (0.5 years)\\n- unity (0.5 years)\\n- wordpress (0.5 years)\\n- sql (0.5 years)\\nCities:\\n- thu duc\\n', metadata={'id': 1530}), -169.2110336103259), (Document(page_content='Languages:\\n- English\\nMajors:\\n- bachelor, information technology, hanoi university of business and technology, (GPA: 3.6)\\nRoles:\\n- web developer (0.5 years)\\nSkills:\\n- front\\n- end development\\n- back\\n- real\\n- time communication\\n- database management\\n- cloud computing\\n- user interface design\\n- e\\n- commerce\\n- api development\\nProgramming languages:\\n- javascript (0.5 years)\\n- typescript (0.5 years)\\n- react (0.5 years)\\n- node (0.5 years)\\n- mongodb (0.5 years)\\n- sql (0.5 years)\\n- asp.net mvc (0.5 years)\\n- firebase (0.5 years)\\nCities:\\n- ha noi\\n', metadata={'id': 222}), -171.39890711152543), (Document(page_content='Languages:\\n- English\\nMajors:\\n- bachelor, information technology, vnu-hcm university of science, (GPA: 3.6)\\nRoles:\\n- software engineer (0.5 years)\\n- web developer (0.5 years)\\nSkills:\\n- cloud storage\\n- devops\\n- machine learning\\n- database management\\n- artificial intelligence\\nProgramming languages:\\n- node (0.5 years)\\n- python (0.5 years)\\n- go (0.5 years)\\n- java (0.5 years)\\n- c++ (0.5 years)\\n- html (0.5 years)\\n- css (0.5 years)\\n- javascript (0.5 years)\\nCities:\\n- ho chi minh\\n', metadata={'id': 1488}), -175.9379673464781), (Document(page_content='Languages:\\n- English\\nMajors:\\n- bachelor, software technology, hanoi university of industry, (GPA: 3.6)\\nWork:\\n- vikoisoft joint stock company (1 years)\\nRoles:\\n-  (0 years)\\n- web developer (0.5 years)\\nSkills:\\n- web development\\n- frontend development\\n- backend development\\n- database management\\n- docker\\nProgramming languages:\\n- html (0.5 years)\\n- css (0.5 years)\\n- javascript (0.5 years)\\n- typescript (0.5 years)\\n- react (0.5 years)\\n- next (0.5 years)\\n- express (0.5 years)\\n- nest (0.5 years)\\nCities:\\n- ha noi\\n', metadata={'id': 2004}), -176.3398904834712), (Document(page_content='Languages:\\n- English\\n- Vietnamese\\nMajors:\\n- bachelor, information technology, can tho university, (GPA: 3.6)\\nRoles:\\n- web developer (0 years)\\nSkills:\\n- html\\n- css\\n- javascript\\n- reactjs\\n- php\\n- nodejs\\n- mysql\\n- mongodb\\nProgramming languages:\\n- html (0 years)\\n- css (0 years)\\n- javascript (0 years)\\n- php (0 years)\\n- node (0 years)\\n- react (0 years)\\n- mysql (0 years)\\n- mongodb (0 years)\\nCities:\\n- cần thơ\\n', metadata={'id': 1313}), -177.55520868444916), (Document(page_content='Languages:\\n- English\\nMajors:\\n- bachelor, system information, university of technology information - vnu, (GPA: 3.6)\\nRoles:\\n- backend developer (0 years)\\nSkills:\\n- database design\\n- api development\\n- authentication\\n- authorization\\n- ui\\n- ux design\\n- version control\\n- deployment\\nProgramming languages:\\n- java (0 years)\\n- javascript (0 years)\\n- c++ (0 years)\\n- spring boot (0 years)\\n- spring jpa (0 years)\\n- spring security (0 years)\\n- express (0 years)\\n- mysql (0 years)\\nCities:\\n- ho chi minh\\nAwards:\\n- TOEIC 615\\n', metadata={'id': 751}), -177.55835899774732), (Document(page_content='Languages:\\n- English\\nMajors:\\n- bachelor, computer engineer, vietnam national university - university of engineering and technology (uet), (GPA: 3.32)\\nWork:\\n- a software vietnam (0.5 years)\\n- a software vietnam (1.5 years)\\nRoles:\\n-  web developer (0.5 years)\\n- back-end developer (1.5 years)\\n- web developer (1.5 years)\\nSkills:\\n- ci\\n- cd\\n- docker\\n- database design\\n- api development\\n- performance optimization\\n- user interface design\\n- team collaboration\\n- problem solving\\nProgramming languages:\\n- node (1.5 years)\\n- nest (1.5 years)\\n- java (1.5 years)\\n- typescript (1.5 years)\\n- react (1.5 years)\\n- html (1.5 years)\\n- css (1.5 years)\\n- thymeleaf (1.5 years)\\nCities:\\n- ha noi\\nCertifications:\\n- AWS\\n- VSTEP\\n- TOEIC\\nAwards:\\n- AWS SSAPRIZES\\n- VSTEP B2\\n- TOEIC 755\\n', metadata={'id': 1616}), -177.73912809045663), (Document(page_content='Languages:\\n- Japanese\\n- English\\nMajors:\\n- bachelor, information technology, hanoi open university, (GPA: 3.6)\\nWork:\\n- zendvn programming training center (0.5 years)\\nRoles:\\n- back-end developer (0.5 years)\\n- web developer (0.5 years)\\nSkills:\\n- html\\n- css\\n- javascript\\n- sql\\n- git\\n- database design\\nProgramming languages:\\n- php (0.5 years)\\n- laravel (0.5 years)\\n- mysql (0.5 years)\\n- docker (0.5 years)\\nCities:\\n- ha noi\\n', metadata={'id': 666}), -179.37958668212258), (Document(page_content='Languages:\\n- English\\nMajors:\\n- bachelor, computer science, hanoi university of industry, (GPA: 3.6)\\nRoles:\\n- web developer (0.5 years)\\nSkills:\\n- front\\n- end development\\n- back\\n- database management\\n- version control\\nProgramming languages:\\n- react (0.5 years)\\n- next (0.5 years)\\n- php (0.5 years)\\n- laravel (0.5 years)\\n- javascript (0.5 years)\\n- typescript (0.5 years)\\n- node (0.5 years)\\n- python (0.5 years)\\nCities:\\n- ha noi\\nAwards:\\n- Research Award (Second Place)\\n- Research Award (Encouragement)\\n- Scholarship\\n', metadata={'id': 1896}), -180.24703955904548)]\n",
      "  warnings.warn(\n",
      "100%|██████████| 39/39 [05:39<00:00,  8.71s/it]"
     ]
    },
    {
     "name": "stdout",
     "output_type": "stream",
     "text": [
      "End LLM\n",
      "New Query:  {'institutionList': ['posts and telecommunications institute of technology', 'vnu-hcm university of science', 'fpt polytechnic hà nội', 'university of technology information - vnu', 'university of information technology'], 'eduList': ['master', 'undergraduate', 'phd', 'diploma', 'certificate', 'bachelor']}\n",
      "Extended Num Application:  12\n",
      "Not enough application\n",
      "New Query:  {'institutionList': ['posts and telecommunications institute of technology', 'vnu-hcm university of science', 'fpt polytechnic hà nội', 'university of technology information - vnu', 'university of information technology']}\n",
      "[363, 751, 1488, 2006, 2051]\n",
      "Less -> Sematic Search\n",
      "Using Sematic Search\n",
      "Num CV ok:  9\n",
      "Rerank\n",
      "[1488, 1530, 1593, 19, 2006, 2051, 363, 651, 751]\n",
      "Time: 8.397864580154419\n"
     ]
    },
    {
     "name": "stderr",
     "output_type": "stream",
     "text": [
      "\n"
     ]
    }
   ],
   "source": [
    "answers = []\n",
    "i = 0\n",
    "\n",
    "for question in tqdm(questions):\n",
    "    prompt = question['prompt']\n",
    "    answer = dict()\n",
    "    answer['prompt'] = prompt\n",
    "    answer['answer'] = question['answer']\n",
    "    try:\n",
    "        res = chat_agent.get_cv_from_jd(prompt)\n",
    "        ans = res['files']\n",
    "        answer['predict'] = [a.replace('data/raw/data/clean4.0/', '') for a in ans]\n",
    "    except:\n",
    "        answer['predict'] = []\n",
    "    answers.append(answer)\n",
    "    with open('data/benchmark/qa_cv_kg.json', 'w') as f:\n",
    "        f.write(json.dumps(answers))\n",
    "    i += 1\n"
   ]
  },
  {
   "cell_type": "code",
   "execution_count": 7,
   "metadata": {},
   "outputs": [],
   "source": [
    "recall = 0\n",
    "precision = 0\n",
    "long_recall = 0\n",
    "long_precision = 0\n",
    "len_long = 0\n",
    "short_recall = 0\n",
    "short_precision = 0\n",
    "len_short = 0\n",
    "\n",
    "for answer in answers:\n",
    "    num_ans = len(answer['answer'])\n",
    "    correct = 0\n",
    "    ans = set(answer['answer'])\n",
    "    for p in answer['predict']:\n",
    "        if p in ans:\n",
    "            correct += 1\n",
    "    recall += correct / num_ans\n",
    "    precision += correct / (len(answer['predict'])+1e-5)\n",
    "    if num_ans > 7:\n",
    "        long_recall += correct / num_ans\n",
    "        long_precision += correct / (len(answer['predict'])+1e-5)\n",
    "        len_long+= 1\n",
    "    else:\n",
    "        short_recall += correct / num_ans\n",
    "        short_precision += correct / (len(answer['predict'])+1e-5)\n",
    "        len_short += 1"
   ]
  },
  {
   "cell_type": "code",
   "execution_count": 8,
   "metadata": {},
   "outputs": [],
   "source": [
    "recall /= len(answers)\n",
    "precision /= len(answers)\n",
    "long_recall /= len_long\n",
    "long_precision /= len_long\n",
    "short_recall /= len_short\n",
    "short_precision /= len_short\n",
    "f1 = 2 * recall * precision / (recall + precision + 1e-5)\n",
    "short_f1 = 2 * short_recall * short_precision / (short_recall + short_precision + 1e-5)\n",
    "long_f1 = 2 * long_recall * long_precision / (long_recall + long_precision+1e-5)"
   ]
  },
  {
   "cell_type": "code",
   "execution_count": 9,
   "metadata": {},
   "outputs": [
    {
     "name": "stdout",
     "output_type": "stream",
     "text": [
      "Recall: 0.4582659932659932\n",
      "Precision: 0.45441863442709507\n",
      "F1: 0.45632920485280953\n",
      "=====================================\n",
      "Short Recall: 0.4209677419354839\n",
      "Short Precision: 0.42419216192259934\n",
      "Short F1: 0.4225688012224169\n",
      "=====================================\n",
      "Long Recall: 0.6027967171717171\n",
      "Long Precision: 0.5715462153820161\n",
      "Long F1: 0.5867506654834951\n",
      "=====================================\n"
     ]
    }
   ],
   "source": [
    "print(f\"Recall: {recall}\")\n",
    "print(f\"Precision: {precision}\")\n",
    "print(f\"F1: {f1}\")\n",
    "print(\"=====================================\")\n",
    "\n",
    "print(f\"Short Recall: {short_recall}\")\n",
    "print(f\"Short Precision: {short_precision}\")\n",
    "print(f\"Short F1: {short_f1}\")\n",
    "print(\"=====================================\")\n",
    "\n",
    "print(f\"Long Recall: {long_recall}\")\n",
    "print(f\"Long Precision: {long_precision}\")\n",
    "print(f\"Long F1: {long_f1}\")\n",
    "print(\"=====================================\")"
   ]
  },
  {
   "cell_type": "markdown",
   "metadata": {},
   "source": [
    "## Haiku\n",
    "\n",
    "Recall: 0.4582659932659932 \\\n",
    "Precision: 0.45441863442709507 \\\n",
    "F1: 0.45632920485280953\n",
    "\n",
    "=====================================\n",
    "\n",
    "Short Recall: 0.4209677419354839 \\\n",
    "Short Precision: 0.42419216192259934 \\\n",
    "Short F1: 0.4225688012224169\n",
    "\n",
    "=====================================\n",
    "\n",
    "Long Recall: 0.6027967171717171 \\\n",
    "Long Precision: 0.5715462153820161 \\\n",
    "Long F1: 0.5867506654834951\n",
    "\n",
    "====================================="
   ]
  },
  {
   "cell_type": "markdown",
   "metadata": {},
   "source": [
    "## Llama 3 8b"
   ]
  },
  {
   "cell_type": "markdown",
   "metadata": {},
   "source": [
    "## Llama 3 70b"
   ]
  },
  {
   "cell_type": "markdown",
   "metadata": {},
   "source": []
  },
  {
   "cell_type": "code",
   "execution_count": null,
   "metadata": {},
   "outputs": [],
   "source": []
  }
 ],
 "metadata": {
  "kernelspec": {
   "display_name": "base",
   "language": "python",
   "name": "python3"
  },
  "language_info": {
   "codemirror_mode": {
    "name": "ipython",
    "version": 3
   },
   "file_extension": ".py",
   "mimetype": "text/x-python",
   "name": "python",
   "nbconvert_exporter": "python",
   "pygments_lexer": "ipython3",
   "version": "3.11.5"
  }
 },
 "nbformat": 4,
 "nbformat_minor": 2
}
